{
 "cells": [
  {
   "cell_type": "code",
   "execution_count": 7,
   "metadata": {},
   "outputs": [],
   "source": [
    "import pandas as pd"
   ]
  },
  {
   "cell_type": "code",
   "execution_count": 8,
   "metadata": {},
   "outputs": [],
   "source": [
    "df=pd.read_csv('Shot_Creation.csv')"
   ]
  },
  {
   "cell_type": "code",
   "execution_count": 9,
   "metadata": {},
   "outputs": [],
   "source": [
    "df.drop(columns=['Matches'],inplace=True)"
   ]
  },
  {
   "cell_type": "code",
   "execution_count": 20,
   "metadata": {},
   "outputs": [
    {
     "data": {
      "text/html": [
       "<div>\n",
       "<style scoped>\n",
       "    .dataframe tbody tr th:only-of-type {\n",
       "        vertical-align: middle;\n",
       "    }\n",
       "\n",
       "    .dataframe tbody tr th {\n",
       "        vertical-align: top;\n",
       "    }\n",
       "\n",
       "    .dataframe thead th {\n",
       "        text-align: right;\n",
       "    }\n",
       "</style>\n",
       "<table border=\"1\" class=\"dataframe\">\n",
       "  <thead>\n",
       "    <tr style=\"text-align: right;\">\n",
       "      <th></th>\n",
       "      <th>Player</th>\n",
       "      <th>Nation</th>\n",
       "      <th>Pos</th>\n",
       "      <th>Age</th>\n",
       "      <th>90s</th>\n",
       "      <th>SCA</th>\n",
       "      <th>SCA90</th>\n",
       "      <th>PassLive</th>\n",
       "      <th>PassDead</th>\n",
       "      <th>TO</th>\n",
       "      <th>...</th>\n",
       "      <th>Fld</th>\n",
       "      <th>Def</th>\n",
       "      <th>GCA</th>\n",
       "      <th>GCA90</th>\n",
       "      <th>PassLive.1</th>\n",
       "      <th>PassDead.1</th>\n",
       "      <th>TO.1</th>\n",
       "      <th>Sh.1</th>\n",
       "      <th>Fld.1</th>\n",
       "      <th>Def.1</th>\n",
       "    </tr>\n",
       "  </thead>\n",
       "  <tbody>\n",
       "    <tr>\n",
       "      <th>0</th>\n",
       "      <td>Mohamed Salah</td>\n",
       "      <td>eg EGY</td>\n",
       "      <td>FW</td>\n",
       "      <td>32-342</td>\n",
       "      <td>36.5</td>\n",
       "      <td>164</td>\n",
       "      <td>4.50</td>\n",
       "      <td>119</td>\n",
       "      <td>2</td>\n",
       "      <td>22</td>\n",
       "      <td>...</td>\n",
       "      <td>5</td>\n",
       "      <td>2</td>\n",
       "      <td>27</td>\n",
       "      <td>0.74</td>\n",
       "      <td>20</td>\n",
       "      <td>0</td>\n",
       "      <td>5</td>\n",
       "      <td>2</td>\n",
       "      <td>0</td>\n",
       "      <td>0</td>\n",
       "    </tr>\n",
       "    <tr>\n",
       "      <th>1</th>\n",
       "      <td>Virgil van Dijk</td>\n",
       "      <td>nl NED</td>\n",
       "      <td>DF</td>\n",
       "      <td>33-319</td>\n",
       "      <td>36.0</td>\n",
       "      <td>48</td>\n",
       "      <td>1.33</td>\n",
       "      <td>41</td>\n",
       "      <td>0</td>\n",
       "      <td>1</td>\n",
       "      <td>...</td>\n",
       "      <td>1</td>\n",
       "      <td>2</td>\n",
       "      <td>4</td>\n",
       "      <td>0.11</td>\n",
       "      <td>4</td>\n",
       "      <td>0</td>\n",
       "      <td>0</td>\n",
       "      <td>0</td>\n",
       "      <td>0</td>\n",
       "      <td>0</td>\n",
       "    </tr>\n",
       "    <tr>\n",
       "      <th>2</th>\n",
       "      <td>Ryan Gravenberch</td>\n",
       "      <td>nl NED</td>\n",
       "      <td>MF</td>\n",
       "      <td>23-007</td>\n",
       "      <td>34.4</td>\n",
       "      <td>66</td>\n",
       "      <td>1.92</td>\n",
       "      <td>58</td>\n",
       "      <td>0</td>\n",
       "      <td>5</td>\n",
       "      <td>...</td>\n",
       "      <td>0</td>\n",
       "      <td>1</td>\n",
       "      <td>6</td>\n",
       "      <td>0.17</td>\n",
       "      <td>6</td>\n",
       "      <td>0</td>\n",
       "      <td>0</td>\n",
       "      <td>0</td>\n",
       "      <td>0</td>\n",
       "      <td>0</td>\n",
       "    </tr>\n",
       "    <tr>\n",
       "      <th>3</th>\n",
       "      <td>Alexis Mac Allister</td>\n",
       "      <td>ar ARG</td>\n",
       "      <td>MF</td>\n",
       "      <td>26-150</td>\n",
       "      <td>28.9</td>\n",
       "      <td>120</td>\n",
       "      <td>4.15</td>\n",
       "      <td>83</td>\n",
       "      <td>24</td>\n",
       "      <td>2</td>\n",
       "      <td>...</td>\n",
       "      <td>2</td>\n",
       "      <td>3</td>\n",
       "      <td>15</td>\n",
       "      <td>0.52</td>\n",
       "      <td>10</td>\n",
       "      <td>3</td>\n",
       "      <td>0</td>\n",
       "      <td>2</td>\n",
       "      <td>0</td>\n",
       "      <td>0</td>\n",
       "    </tr>\n",
       "    <tr>\n",
       "      <th>4</th>\n",
       "      <td>Ibrahima Konaté</td>\n",
       "      <td>fr FRA</td>\n",
       "      <td>DF</td>\n",
       "      <td>25-363</td>\n",
       "      <td>27.8</td>\n",
       "      <td>31</td>\n",
       "      <td>1.12</td>\n",
       "      <td>26</td>\n",
       "      <td>0</td>\n",
       "      <td>0</td>\n",
       "      <td>...</td>\n",
       "      <td>0</td>\n",
       "      <td>1</td>\n",
       "      <td>7</td>\n",
       "      <td>0.25</td>\n",
       "      <td>6</td>\n",
       "      <td>0</td>\n",
       "      <td>0</td>\n",
       "      <td>0</td>\n",
       "      <td>0</td>\n",
       "      <td>1</td>\n",
       "    </tr>\n",
       "  </tbody>\n",
       "</table>\n",
       "<p>5 rows × 21 columns</p>\n",
       "</div>"
      ],
      "text/plain": [
       "                Player  Nation Pos     Age   90s  SCA  SCA90  PassLive  \\\n",
       "0        Mohamed Salah  eg EGY  FW  32-342  36.5  164   4.50       119   \n",
       "1      Virgil van Dijk  nl NED  DF  33-319  36.0   48   1.33        41   \n",
       "2     Ryan Gravenberch  nl NED  MF  23-007  34.4   66   1.92        58   \n",
       "3  Alexis Mac Allister  ar ARG  MF  26-150  28.9  120   4.15        83   \n",
       "4      Ibrahima Konaté  fr FRA  DF  25-363  27.8   31   1.12        26   \n",
       "\n",
       "   PassDead  TO  ...  Fld  Def  GCA  GCA90  PassLive.1  PassDead.1  TO.1  \\\n",
       "0         2  22  ...    5    2   27   0.74          20           0     5   \n",
       "1         0   1  ...    1    2    4   0.11           4           0     0   \n",
       "2         0   5  ...    0    1    6   0.17           6           0     0   \n",
       "3        24   2  ...    2    3   15   0.52          10           3     0   \n",
       "4         0   0  ...    0    1    7   0.25           6           0     0   \n",
       "\n",
       "   Sh.1  Fld.1  Def.1  \n",
       "0     2      0      0  \n",
       "1     0      0      0  \n",
       "2     0      0      0  \n",
       "3     2      0      0  \n",
       "4     0      0      1  \n",
       "\n",
       "[5 rows x 21 columns]"
      ]
     },
     "execution_count": 20,
     "metadata": {},
     "output_type": "execute_result"
    }
   ],
   "source": [
    "df.head()"
   ]
  },
  {
   "cell_type": "code",
   "execution_count": 28,
   "metadata": {},
   "outputs": [
    {
     "data": {
      "text/html": [
       "<div>\n",
       "<style scoped>\n",
       "    .dataframe tbody tr th:only-of-type {\n",
       "        vertical-align: middle;\n",
       "    }\n",
       "\n",
       "    .dataframe tbody tr th {\n",
       "        vertical-align: top;\n",
       "    }\n",
       "\n",
       "    .dataframe thead th {\n",
       "        text-align: right;\n",
       "    }\n",
       "</style>\n",
       "<table border=\"1\" class=\"dataframe\">\n",
       "  <thead>\n",
       "    <tr style=\"text-align: right;\">\n",
       "      <th></th>\n",
       "      <th>Player</th>\n",
       "      <th>Nation</th>\n",
       "      <th>Pos</th>\n",
       "      <th>Age</th>\n",
       "      <th>90s</th>\n",
       "      <th>SCA</th>\n",
       "      <th>SCA90</th>\n",
       "      <th>PassLive</th>\n",
       "      <th>PassDead</th>\n",
       "      <th>TO</th>\n",
       "      <th>...</th>\n",
       "      <th>Fld</th>\n",
       "      <th>Def</th>\n",
       "      <th>GCA</th>\n",
       "      <th>GCA90</th>\n",
       "      <th>PassLive.1</th>\n",
       "      <th>PassDead.1</th>\n",
       "      <th>TO.1</th>\n",
       "      <th>Sh.1</th>\n",
       "      <th>Fld.1</th>\n",
       "      <th>Def.1</th>\n",
       "    </tr>\n",
       "  </thead>\n",
       "  <tbody>\n",
       "    <tr>\n",
       "      <th>606</th>\n",
       "      <td>Ronnie Edwards</td>\n",
       "      <td>eng ENG</td>\n",
       "      <td>DF</td>\n",
       "      <td>22-056</td>\n",
       "      <td>0.1</td>\n",
       "      <td>0</td>\n",
       "      <td>0.00</td>\n",
       "      <td>0</td>\n",
       "      <td>0</td>\n",
       "      <td>0</td>\n",
       "      <td>...</td>\n",
       "      <td>0</td>\n",
       "      <td>0</td>\n",
       "      <td>0</td>\n",
       "      <td>0.00</td>\n",
       "      <td>0</td>\n",
       "      <td>0</td>\n",
       "      <td>0</td>\n",
       "      <td>0</td>\n",
       "      <td>0</td>\n",
       "      <td>0</td>\n",
       "    </tr>\n",
       "    <tr>\n",
       "      <th>607</th>\n",
       "      <td>Carlos Alcaraz</td>\n",
       "      <td>ar ARG</td>\n",
       "      <td>MF</td>\n",
       "      <td>22-174</td>\n",
       "      <td>0.1</td>\n",
       "      <td>1</td>\n",
       "      <td>9.00</td>\n",
       "      <td>1</td>\n",
       "      <td>0</td>\n",
       "      <td>0</td>\n",
       "      <td>...</td>\n",
       "      <td>0</td>\n",
       "      <td>0</td>\n",
       "      <td>0</td>\n",
       "      <td>0.00</td>\n",
       "      <td>0</td>\n",
       "      <td>0</td>\n",
       "      <td>0</td>\n",
       "      <td>0</td>\n",
       "      <td>0</td>\n",
       "      <td>0</td>\n",
       "    </tr>\n",
       "    <tr>\n",
       "      <th>608</th>\n",
       "      <td>Joachim Kayi Sanda</td>\n",
       "      <td>fr FRA</td>\n",
       "      <td>DF</td>\n",
       "      <td>18-175</td>\n",
       "      <td>0.1</td>\n",
       "      <td>0</td>\n",
       "      <td>0.00</td>\n",
       "      <td>0</td>\n",
       "      <td>0</td>\n",
       "      <td>0</td>\n",
       "      <td>...</td>\n",
       "      <td>0</td>\n",
       "      <td>0</td>\n",
       "      <td>0</td>\n",
       "      <td>0.00</td>\n",
       "      <td>0</td>\n",
       "      <td>0</td>\n",
       "      <td>0</td>\n",
       "      <td>0</td>\n",
       "      <td>0</td>\n",
       "      <td>0</td>\n",
       "    </tr>\n",
       "    <tr>\n",
       "      <th>609</th>\n",
       "      <td>Squad Total</td>\n",
       "      <td>NaN</td>\n",
       "      <td>NaN</td>\n",
       "      <td>26.1</td>\n",
       "      <td>37.0</td>\n",
       "      <td>604</td>\n",
       "      <td>16.32</td>\n",
       "      <td>423</td>\n",
       "      <td>55</td>\n",
       "      <td>48</td>\n",
       "      <td>...</td>\n",
       "      <td>27</td>\n",
       "      <td>7</td>\n",
       "      <td>40</td>\n",
       "      <td>1.08</td>\n",
       "      <td>23</td>\n",
       "      <td>4</td>\n",
       "      <td>3</td>\n",
       "      <td>8</td>\n",
       "      <td>1</td>\n",
       "      <td>1</td>\n",
       "    </tr>\n",
       "    <tr>\n",
       "      <th>610</th>\n",
       "      <td>Opponent Total</td>\n",
       "      <td>NaN</td>\n",
       "      <td>NaN</td>\n",
       "      <td>27.1</td>\n",
       "      <td>37.0</td>\n",
       "      <td>1164</td>\n",
       "      <td>31.46</td>\n",
       "      <td>839</td>\n",
       "      <td>82</td>\n",
       "      <td>67</td>\n",
       "      <td>...</td>\n",
       "      <td>51</td>\n",
       "      <td>38</td>\n",
       "      <td>140</td>\n",
       "      <td>3.78</td>\n",
       "      <td>91</td>\n",
       "      <td>12</td>\n",
       "      <td>10</td>\n",
       "      <td>14</td>\n",
       "      <td>7</td>\n",
       "      <td>6</td>\n",
       "    </tr>\n",
       "  </tbody>\n",
       "</table>\n",
       "<p>5 rows × 21 columns</p>\n",
       "</div>"
      ],
      "text/plain": [
       "                 Player   Nation  Pos     Age   90s   SCA  SCA90  PassLive  \\\n",
       "606      Ronnie Edwards  eng ENG   DF  22-056   0.1     0   0.00         0   \n",
       "607      Carlos Alcaraz   ar ARG   MF  22-174   0.1     1   9.00         1   \n",
       "608  Joachim Kayi Sanda   fr FRA   DF  18-175   0.1     0   0.00         0   \n",
       "609         Squad Total      NaN  NaN    26.1  37.0   604  16.32       423   \n",
       "610      Opponent Total      NaN  NaN    27.1  37.0  1164  31.46       839   \n",
       "\n",
       "     PassDead  TO  ...  Fld  Def  GCA  GCA90  PassLive.1  PassDead.1  TO.1  \\\n",
       "606         0   0  ...    0    0    0   0.00           0           0     0   \n",
       "607         0   0  ...    0    0    0   0.00           0           0     0   \n",
       "608         0   0  ...    0    0    0   0.00           0           0     0   \n",
       "609        55  48  ...   27    7   40   1.08          23           4     3   \n",
       "610        82  67  ...   51   38  140   3.78          91          12    10   \n",
       "\n",
       "     Sh.1  Fld.1  Def.1  \n",
       "606     0      0      0  \n",
       "607     0      0      0  \n",
       "608     0      0      0  \n",
       "609     8      1      1  \n",
       "610    14      7      6  \n",
       "\n",
       "[5 rows x 21 columns]"
      ]
     },
     "execution_count": 28,
     "metadata": {},
     "output_type": "execute_result"
    }
   ],
   "source": [
    "df.tail()"
   ]
  },
  {
   "cell_type": "markdown",
   "metadata": {},
   "source": [
    "# Cleaning The Data of the Squad Total And Opponent Total"
   ]
  },
  {
   "cell_type": "code",
   "execution_count": 29,
   "metadata": {},
   "outputs": [],
   "source": [
    "df = df[df['Player'] != 'Squad Total']\n",
    "df = df[df['Player'] != 'Opponent Total']"
   ]
  },
  {
   "cell_type": "code",
   "execution_count": 30,
   "metadata": {},
   "outputs": [
    {
     "data": {
      "text/html": [
       "<div>\n",
       "<style scoped>\n",
       "    .dataframe tbody tr th:only-of-type {\n",
       "        vertical-align: middle;\n",
       "    }\n",
       "\n",
       "    .dataframe tbody tr th {\n",
       "        vertical-align: top;\n",
       "    }\n",
       "\n",
       "    .dataframe thead th {\n",
       "        text-align: right;\n",
       "    }\n",
       "</style>\n",
       "<table border=\"1\" class=\"dataframe\">\n",
       "  <thead>\n",
       "    <tr style=\"text-align: right;\">\n",
       "      <th></th>\n",
       "      <th>count</th>\n",
       "      <th>mean</th>\n",
       "      <th>std</th>\n",
       "      <th>min</th>\n",
       "      <th>25%</th>\n",
       "      <th>50%</th>\n",
       "      <th>75%</th>\n",
       "      <th>max</th>\n",
       "    </tr>\n",
       "  </thead>\n",
       "  <tbody>\n",
       "    <tr>\n",
       "      <th>90s</th>\n",
       "      <td>571.0</td>\n",
       "      <td>14.228897</td>\n",
       "      <td>11.430861</td>\n",
       "      <td>0.0</td>\n",
       "      <td>3.550</td>\n",
       "      <td>11.80</td>\n",
       "      <td>24.250</td>\n",
       "      <td>37.00</td>\n",
       "    </tr>\n",
       "    <tr>\n",
       "      <th>SCA</th>\n",
       "      <td>571.0</td>\n",
       "      <td>29.588441</td>\n",
       "      <td>33.700442</td>\n",
       "      <td>0.0</td>\n",
       "      <td>4.000</td>\n",
       "      <td>17.00</td>\n",
       "      <td>44.000</td>\n",
       "      <td>200.00</td>\n",
       "    </tr>\n",
       "    <tr>\n",
       "      <th>SCA90</th>\n",
       "      <td>571.0</td>\n",
       "      <td>2.158546</td>\n",
       "      <td>2.416471</td>\n",
       "      <td>0.0</td>\n",
       "      <td>0.805</td>\n",
       "      <td>1.74</td>\n",
       "      <td>2.995</td>\n",
       "      <td>32.73</td>\n",
       "    </tr>\n",
       "    <tr>\n",
       "      <th>PassLive</th>\n",
       "      <td>571.0</td>\n",
       "      <td>21.950963</td>\n",
       "      <td>24.581216</td>\n",
       "      <td>0.0</td>\n",
       "      <td>3.000</td>\n",
       "      <td>13.00</td>\n",
       "      <td>34.000</td>\n",
       "      <td>132.00</td>\n",
       "    </tr>\n",
       "    <tr>\n",
       "      <th>PassDead</th>\n",
       "      <td>571.0</td>\n",
       "      <td>2.355517</td>\n",
       "      <td>5.455213</td>\n",
       "      <td>0.0</td>\n",
       "      <td>0.000</td>\n",
       "      <td>0.00</td>\n",
       "      <td>2.000</td>\n",
       "      <td>41.00</td>\n",
       "    </tr>\n",
       "    <tr>\n",
       "      <th>TO</th>\n",
       "      <td>571.0</td>\n",
       "      <td>1.672504</td>\n",
       "      <td>3.115259</td>\n",
       "      <td>0.0</td>\n",
       "      <td>0.000</td>\n",
       "      <td>0.00</td>\n",
       "      <td>2.000</td>\n",
       "      <td>22.00</td>\n",
       "    </tr>\n",
       "    <tr>\n",
       "      <th>Sh</th>\n",
       "      <td>571.0</td>\n",
       "      <td>1.849387</td>\n",
       "      <td>2.671831</td>\n",
       "      <td>0.0</td>\n",
       "      <td>0.000</td>\n",
       "      <td>1.00</td>\n",
       "      <td>3.000</td>\n",
       "      <td>21.00</td>\n",
       "    </tr>\n",
       "    <tr>\n",
       "      <th>Fld</th>\n",
       "      <td>571.0</td>\n",
       "      <td>1.239930</td>\n",
       "      <td>2.106019</td>\n",
       "      <td>0.0</td>\n",
       "      <td>0.000</td>\n",
       "      <td>0.00</td>\n",
       "      <td>2.000</td>\n",
       "      <td>14.00</td>\n",
       "    </tr>\n",
       "    <tr>\n",
       "      <th>Def</th>\n",
       "      <td>571.0</td>\n",
       "      <td>0.520140</td>\n",
       "      <td>0.977392</td>\n",
       "      <td>0.0</td>\n",
       "      <td>0.000</td>\n",
       "      <td>0.00</td>\n",
       "      <td>1.000</td>\n",
       "      <td>7.00</td>\n",
       "    </tr>\n",
       "    <tr>\n",
       "      <th>GCA</th>\n",
       "      <td>571.0</td>\n",
       "      <td>3.218914</td>\n",
       "      <td>4.320420</td>\n",
       "      <td>0.0</td>\n",
       "      <td>0.000</td>\n",
       "      <td>2.00</td>\n",
       "      <td>4.000</td>\n",
       "      <td>27.00</td>\n",
       "    </tr>\n",
       "    <tr>\n",
       "      <th>GCA90</th>\n",
       "      <td>571.0</td>\n",
       "      <td>0.195464</td>\n",
       "      <td>0.258195</td>\n",
       "      <td>0.0</td>\n",
       "      <td>0.000</td>\n",
       "      <td>0.12</td>\n",
       "      <td>0.320</td>\n",
       "      <td>2.65</td>\n",
       "    </tr>\n",
       "    <tr>\n",
       "      <th>PassLive.1</th>\n",
       "      <td>571.0</td>\n",
       "      <td>2.323993</td>\n",
       "      <td>3.209378</td>\n",
       "      <td>0.0</td>\n",
       "      <td>0.000</td>\n",
       "      <td>1.00</td>\n",
       "      <td>3.000</td>\n",
       "      <td>20.00</td>\n",
       "    </tr>\n",
       "    <tr>\n",
       "      <th>PassDead.1</th>\n",
       "      <td>571.0</td>\n",
       "      <td>0.206655</td>\n",
       "      <td>0.606420</td>\n",
       "      <td>0.0</td>\n",
       "      <td>0.000</td>\n",
       "      <td>0.00</td>\n",
       "      <td>0.000</td>\n",
       "      <td>5.00</td>\n",
       "    </tr>\n",
       "    <tr>\n",
       "      <th>TO.1</th>\n",
       "      <td>571.0</td>\n",
       "      <td>0.210158</td>\n",
       "      <td>0.625175</td>\n",
       "      <td>0.0</td>\n",
       "      <td>0.000</td>\n",
       "      <td>0.00</td>\n",
       "      <td>0.000</td>\n",
       "      <td>5.00</td>\n",
       "    </tr>\n",
       "    <tr>\n",
       "      <th>Sh.1</th>\n",
       "      <td>571.0</td>\n",
       "      <td>0.236427</td>\n",
       "      <td>0.569830</td>\n",
       "      <td>0.0</td>\n",
       "      <td>0.000</td>\n",
       "      <td>0.00</td>\n",
       "      <td>0.000</td>\n",
       "      <td>4.00</td>\n",
       "    </tr>\n",
       "    <tr>\n",
       "      <th>Fld.1</th>\n",
       "      <td>571.0</td>\n",
       "      <td>0.173380</td>\n",
       "      <td>0.477264</td>\n",
       "      <td>0.0</td>\n",
       "      <td>0.000</td>\n",
       "      <td>0.00</td>\n",
       "      <td>0.000</td>\n",
       "      <td>4.00</td>\n",
       "    </tr>\n",
       "    <tr>\n",
       "      <th>Def.1</th>\n",
       "      <td>571.0</td>\n",
       "      <td>0.068301</td>\n",
       "      <td>0.291205</td>\n",
       "      <td>0.0</td>\n",
       "      <td>0.000</td>\n",
       "      <td>0.00</td>\n",
       "      <td>0.000</td>\n",
       "      <td>4.00</td>\n",
       "    </tr>\n",
       "  </tbody>\n",
       "</table>\n",
       "</div>"
      ],
      "text/plain": [
       "            count       mean        std  min    25%    50%     75%     max\n",
       "90s         571.0  14.228897  11.430861  0.0  3.550  11.80  24.250   37.00\n",
       "SCA         571.0  29.588441  33.700442  0.0  4.000  17.00  44.000  200.00\n",
       "SCA90       571.0   2.158546   2.416471  0.0  0.805   1.74   2.995   32.73\n",
       "PassLive    571.0  21.950963  24.581216  0.0  3.000  13.00  34.000  132.00\n",
       "PassDead    571.0   2.355517   5.455213  0.0  0.000   0.00   2.000   41.00\n",
       "TO          571.0   1.672504   3.115259  0.0  0.000   0.00   2.000   22.00\n",
       "Sh          571.0   1.849387   2.671831  0.0  0.000   1.00   3.000   21.00\n",
       "Fld         571.0   1.239930   2.106019  0.0  0.000   0.00   2.000   14.00\n",
       "Def         571.0   0.520140   0.977392  0.0  0.000   0.00   1.000    7.00\n",
       "GCA         571.0   3.218914   4.320420  0.0  0.000   2.00   4.000   27.00\n",
       "GCA90       571.0   0.195464   0.258195  0.0  0.000   0.12   0.320    2.65\n",
       "PassLive.1  571.0   2.323993   3.209378  0.0  0.000   1.00   3.000   20.00\n",
       "PassDead.1  571.0   0.206655   0.606420  0.0  0.000   0.00   0.000    5.00\n",
       "TO.1        571.0   0.210158   0.625175  0.0  0.000   0.00   0.000    5.00\n",
       "Sh.1        571.0   0.236427   0.569830  0.0  0.000   0.00   0.000    4.00\n",
       "Fld.1       571.0   0.173380   0.477264  0.0  0.000   0.00   0.000    4.00\n",
       "Def.1       571.0   0.068301   0.291205  0.0  0.000   0.00   0.000    4.00"
      ]
     },
     "execution_count": 30,
     "metadata": {},
     "output_type": "execute_result"
    }
   ],
   "source": [
    "df.describe().T"
   ]
  },
  {
   "cell_type": "code",
   "execution_count": 31,
   "metadata": {},
   "outputs": [],
   "source": [
    "df_dropped=df[df['Player'] !='Squad Total']\n",
    "df2=df_dropped[df_dropped['Player'] !='Opponent Total']"
   ]
  },
  {
   "cell_type": "code",
   "execution_count": 32,
   "metadata": {},
   "outputs": [
    {
     "data": {
      "text/plain": [
       "True"
      ]
     },
     "execution_count": 32,
     "metadata": {},
     "output_type": "execute_result"
    }
   ],
   "source": [
    "df2.isna().values.any()"
   ]
  },
  {
   "cell_type": "code",
   "execution_count": 33,
   "metadata": {},
   "outputs": [
    {
     "data": {
      "image/png": "[encoded data removed]",
      "text/plain": [
       "<Figure size 1000x800 with 1 Axes>"
      ]
     },
     "metadata": {},
     "output_type": "display_data"
    }
   ],
   "source": [
    "import matplotlib.pyplot as plt\n",
    "import seaborn as sns\n",
    "c=df2['Nation'].value_counts()\n",
    "f=c[c>8]\n",
    "explode = [0.05] * len(f)\n",
    "plt.figure(figsize=(10,8))\n",
    "sns.set_style('darkgrid')\n",
    "plt.pie(f,labels=f.index,autopct='%1.1f%%',startangle=90,explode=explode,labeldistance=1.1,pctdistance=0.85)\n",
    "plt.title('Nationalty Distrubtion')\n",
    "plt.axis('equal')\n",
    "plt.show()"
   ]
  },
  {
   "cell_type": "code",
   "execution_count": 34,
   "metadata": {},
   "outputs": [
    {
     "data": {
      "application/vnd.plotly.v1+json": {
       "config": {
        "plotlyServerURL": "https://plot.ly"
       },
       "data": [
        {
         "hovertemplate": "<b>%{hovertext}</b><br><br>SCA=%{x}<br>GCA=%{y}<extra></extra>",
         "hovertext": [
          "Mohamed Salah",
          "Virgil van Dijk",
          "Ryan Gravenberch",
          "Alexis Mac Allister",
          "Ibrahima Konaté",
          "Dominik Szoboszlai",
          "Andrew Robertson",
          "Trent Alexander-Arnold",
          "Luis Díaz",
          "Cody Gakpo",
          "Curtis Jones",
          "Diogo Jota",
          "Kostas Tsimikas",
          "Darwin Núñez",
          "Harvey Elliott",
          "William Saliba",
          "Declan Rice",
          "Thomas Partey",
          "Leandro Trossard",
          "Gabriel Magalhães",
          "Jurriën Timber",
          "Martin Ødegaard",
          "Gabriel Martinelli",
          "Kai Havertz",
          "Bukayo Saka",
          "Mikel Merino",
          "Myles Lewis-Skelly",
          "Ethan Nwaneri",
          "Joško Gvardiol",
          "Erling Haaland",
          "Bernardo Silva",
          "Mateo Kovačić",
          "Rúben Dias",
          "İlkay Gündoğan",
          "Manuel Akanji",
          "Rico Lewis",
          "Sávio",
          "Phil Foden",
          "Kevin De Bruyne",
          "Matheus Nunes",
          "Jeremy Doku",
          "Omar Marmoush",
          "Jack Grealish",
          "Bruno Guimarães",
          "Dan Burn",
          "Alexander Isak",
          "Fabian Schär",
          "Valentino Livramento",
          "Jacob Murphy",
          "Joelinton",
          "Sandro Tonali",
          "Anthony Gordon",
          "Lewis Hall",
          "Harvey Barnes",
          "Kieran Trippier",
          "Joe Willock",
          "Moisés Caicedo",
          "Cole Palmer",
          "Levi Colwill",
          "Marc Cucurella",
          "Enzo Fernández",
          "Nicolas Jackson",
          "Noni Madueke",
          "Pedro Neto",
          "Malo Gusto",
          "Jadon Sancho",
          "Christopher Nkunku",
          "Morgan Rogers",
          "Youri Tielemans",
          "Ezri Konsa",
          "Ollie Watkins",
          "Lucas Digne",
          "John McGinn",
          "Matty Cash",
          "Boubacar Kamara",
          "Jacob Ramsey",
          "Amadou Onana",
          "Leon Bailey",
          "Ian Maatsen",
          "Marco Asensio",
          "Marcus Rashford",
          "Murillo",
          "Ola Aina",
          "Chris Wood",
          "Morgan Gibbs-White",
          "Elliot Anderson",
          "Anthony Elanga",
          "Neco Williams",
          "Callum Hudson-Odoi",
          "Nicolás Domínguez",
          "Ryan Yates",
          "Jota Silva",
          "Jan Paul van Hecke",
          "Carlos Baleba",
          "Kaoru Mitoma",
          "Pervis Estupiñán",
          "Danny Welbeck",
          "João Pedro",
          "Yasin Ayari",
          "Jack Hinshelwood",
          "Yankuba Minteh",
          "Joël Veltman",
          "Georginio Rutter",
          "Simon Adingra",
          "Matt O'Riley",
          "Mats Wieffer",
          "Brajan Gruda",
          "Nathan Collins",
          "Bryan Mbeumo",
          "Keane Lewis-Potter",
          "Mikkel Damsgaard",
          "Yoane Wissa",
          "Christian Nørgaard",
          "Sepp van den Berg",
          "Vitaly Janelt",
          "Kevin Schade",
          "Ethan Pinnock",
          "Yehor Yarmoliuk",
          "Mads Roerslev",
          "Mathias Jensen",
          "Alex Iwobi",
          "Antonee Robinson",
          "Calvin Bassey",
          "Raúl Jiménez",
          "Joachim Andersen",
          "Saša Lukić",
          "Sander Berge",
          "Emile Smith Rowe",
          "Andreas Pereira",
          "Kenny Tete",
          "Adama Traoré",
          "Timothy Castagne",
          "Harry Wilson",
          "Ryan Sessegnon",
          "Reiss Nelson",
          "Tom Cairney",
          "Milos Kerkez",
          "Antoine Semenyo",
          "Illia Zabarnyi",
          "Lewis Cook",
          "Justin Kluivert",
          "Evanilson",
          "Ryan Christie",
          "Dean Huijsen",
          "Dango Ouattara",
          "Tyler Adams",
          "Marcus Tavernier",
          "Adam Smith",
          "David Brooks",
          "Alex Scott",
          "Daniel Muñoz",
          "Tyrick Mitchell",
          "Marc Guéhi",
          "Maxence Lacroix",
          "Jean-Philippe Mateta",
          "Eberechi Eze",
          "Ismaila Sarr",
          "Jefferson Lerma",
          "Will Hughes",
          "Adam Wharton",
          "Daichi Kamada",
          "Eddie Nketiah",
          "Vitaliy Mykolenko",
          "Idrissa Gana Gueye",
          "James Tarkowski",
          "Abdoulaye Doucouré",
          "Iliman Ndiaye",
          "Jack Harrison",
          "Dominic Calvert-Lewin",
          "Ashley Young",
          "James Garner",
          "Dwight McNeil",
          "Jesper Lindstrøm",
          "Beto",
          "Orel Mangala",
          "Carlos Alcaraz",
          "Rayan Aït-Nouri",
          "João Gomes",
          "Nélson Semedo",
          "Jørgen Strand Larsen",
          "André",
          "Toti Gomes",
          "Matheus Cunha",
          "Matt Doherty",
          "Jean-Ricner Bellegarde",
          "Mario Lemina",
          "Gonçalo Guedes",
          "Pablo Sarabia",
          "Rodrigo Gomes",
          "Max Kilman",
          "Aaron Wan-Bissaka",
          "Jarrod Bowen",
          "Mohammed Kudus",
          "Tomáš Souček",
          "Lucas Paquetá",
          "Emerson Palmieri",
          "Edson Álvarez",
          "Carlos Soler",
          "James Ward-Prowse",
          "Michail Antonio",
          "Crysencio Summerville",
          "Niclas Füllkrug",
          "Bruno Fernandes",
          "Noussair Mazraoui",
          "Diogo Dalot",
          "Alejandro Garnacho",
          "Rasmus Højlund",
          "Manuel Ugarte Ribeiro",
          "Lisandro Martínez",
          "Amad Diallo",
          "Kobbie Mainoo",
          "Casemiro",
          "Joshua Zirkzee",
          "Marcus Rashford",
          "Christian Eriksen",
          "Pedro Porro",
          "Dejan Kulusevski",
          "Dominic Solanke",
          "Son Heung-min",
          "Brennan Johnson",
          "Destiny Udogie",
          "Pape Matar Sarr",
          "James Maddison",
          "Rodrigo Bentancur",
          "Djed Spence",
          "Cristian Romero",
          "Lucas Bergvall",
          "Mathys Tel",
          "Jamie Vardy",
          "James Justin",
          "Victor Bernth Kristiansen",
          "Wilfred Ndidi",
          "Bilal El Khannouss",
          "Boubakary Soumaré",
          "Jordan Ayew",
          "Harry Winks",
          "Stephy Mavididi",
          "Facundo Buonanotte",
          "Kasey McAteer",
          "Dara O'Shea",
          "Liam Delap",
          "Leif Davis",
          "Sam Morsy",
          "Omari Hutchinson",
          "Jens Cajuste",
          "Ben Johnson",
          "Jack Clarke",
          "Julio Enciso",
          "Conor Chaplin",
          "Jack Taylor",
          "Kyle Walker-Peters",
          "Mateus Fernandes",
          "Taylor Harwood-Bellis",
          "Flynn Downes",
          "Joe Aribo",
          "Tyler Dibling",
          "Ryan Manning",
          "Lesley Ugochukwu",
          "Kamaldeen Sulemana",
          "Yukinari Sugawara",
          "Cameron Archer"
         ],
         "legendgroup": "",
         "marker": {
          "color": "#636efa",
          "symbol": "circle"
         },
         "mode": "markers",
         "name": "",
         "orientation": "v",
         "showlegend": false,
         "type": "scatter",
         "x": [
          164,
          48,
          66,
          120,
          31,
          117,
          78,
          95,
          117,
          76,
          49,
          35,
          31,
          30,
          21,
          27,
          106,
          61,
          92,
          35,
          52,
          123,
          67,
          41,
          112,
          41,
          29,
          22,
          73,
          68,
          88,
          73,
          25,
          78,
          37,
          31,
          111,
          88,
          113,
          40,
          74,
          36,
          47,
          129,
          24,
          91,
          34,
          43,
          82,
          61,
          73,
          100,
          63,
          61,
          50,
          44,
          96,
          200,
          38,
          50,
          146,
          69,
          78,
          89,
          58,
          68,
          34,
          105,
          119,
          24,
          53,
          66,
          76,
          24,
          27,
          51,
          31,
          38,
          52,
          34,
          27,
          41,
          61,
          44,
          112,
          83,
          100,
          51,
          94,
          37,
          38,
          29,
          51,
          64,
          85,
          58,
          53,
          72,
          60,
          34,
          57,
          22,
          64,
          45,
          39,
          29,
          35,
          30,
          141,
          70,
          117,
          66,
          54,
          22,
          32,
          55,
          21,
          25,
          21,
          40,
          121,
          79,
          23,
          65,
          32,
          55,
          45,
          71,
          103,
          36,
          81,
          25,
          41,
          20,
          31,
          31,
          78,
          128,
          28,
          89,
          99,
          58,
          85,
          43,
          72,
          39,
          90,
          20,
          39,
          29,
          85,
          71,
          44,
          28,
          65,
          133,
          108,
          46,
          66,
          59,
          50,
          31,
          40,
          58,
          38,
          58,
          63,
          56,
          25,
          44,
          37,
          71,
          46,
          23,
          24,
          29,
          88,
          64,
          55,
          40,
          46,
          21,
          127,
          24,
          57,
          26,
          25,
          28,
          22,
          32,
          90,
          106,
          106,
          44,
          82,
          41,
          28,
          51,
          31,
          22,
          35,
          20,
          181,
          52,
          74,
          83,
          33,
          31,
          26,
          93,
          31,
          49,
          31,
          29,
          52,
          107,
          128,
          37,
          117,
          46,
          35,
          44,
          95,
          45,
          29,
          20,
          22,
          25,
          47,
          33,
          41,
          31,
          78,
          35,
          39,
          39,
          50,
          51,
          20,
          24,
          62,
          90,
          50,
          78,
          33,
          24,
          48,
          29,
          21,
          22,
          63,
          73,
          37,
          31,
          37,
          56,
          50,
          23,
          28,
          39,
          20
         ],
         "xaxis": "x",
         "y": [
          27,
          4,
          6,
          15,
          7,
          16,
          4,
          10,
          16,
          7,
          8,
          9,
          2,
          4,
          3,
          1,
          10,
          13,
          7,
          6,
          9,
          17,
          6,
          3,
          23,
          4,
          0,
          3,
          7,
          9,
          8,
          8,
          1,
          12,
          3,
          3,
          15,
          9,
          11,
          7,
          13,
          2,
          2,
          18,
          4,
          14,
          4,
          2,
          15,
          9,
          9,
          12,
          6,
          9,
          6,
          4,
          9,
          15,
          3,
          5,
          16,
          10,
          8,
          8,
          4,
          10,
          4,
          16,
          12,
          3,
          12,
          5,
          8,
          4,
          2,
          8,
          4,
          4,
          7,
          3,
          3,
          2,
          4,
          5,
          19,
          10,
          18,
          6,
          11,
          0,
          3,
          3,
          3,
          4,
          9,
          4,
          8,
          9,
          6,
          3,
          11,
          1,
          8,
          7,
          5,
          6,
          5,
          8,
          20,
          8,
          21,
          9,
          12,
          2,
          3,
          9,
          0,
          2,
          2,
          5,
          16,
          11,
          3,
          7,
          2,
          4,
          2,
          12,
          8,
          4,
          10,
          3,
          3,
          4,
          1,
          3,
          9,
          13,
          0,
          5,
          11,
          8,
          9,
          3,
          6,
          4,
          11,
          2,
          2,
          2,
          11,
          6,
          5,
          4,
          10,
          10,
          12,
          3,
          6,
          6,
          3,
          3,
          3,
          4,
          4,
          3,
          7,
          4,
          4,
          6,
          5,
          10,
          1,
          1,
          1,
          6,
          12,
          4,
          6,
          5,
          3,
          1,
          16,
          3,
          11,
          5,
          8,
          5,
          1,
          5,
          9,
          13,
          9,
          3,
          6,
          2,
          2,
          2,
          1,
          4,
          1,
          2,
          12,
          1,
          5,
          6,
          1,
          4,
          2,
          17,
          2,
          3,
          3,
          1,
          7,
          8,
          9,
          8,
          15,
          7,
          3,
          6,
          18,
          3,
          5,
          4,
          4,
          1,
          10,
          2,
          3,
          4,
          7,
          3,
          2,
          3,
          7,
          5,
          2,
          4,
          7,
          4,
          2,
          6,
          1,
          5,
          5,
          4,
          1,
          2,
          7,
          6,
          2,
          2,
          1,
          4,
          3,
          1,
          3,
          1,
          0
         ],
         "yaxis": "y"
        }
       ],
       "layout": {
        "legend": {
         "tracegroupgap": 0
        },
        "template": {
         "data": {
          "bar": [
           {
            "error_x": {
             "color": "#2a3f5f"
            },
            "error_y": {
             "color": "#2a3f5f"
            },
            "marker": {
             "line": {
              "color": "#E5ECF6",
              "width": 0.5
             },
             "pattern": {
              "fillmode": "overlay",
              "size": 10,
              "solidity": 0.2
             }
            },
            "type": "bar"
           }
          ],
          "barpolar": [
           {
            "marker": {
             "line": {
              "color": "#E5ECF6",
              "width": 0.5
             },
             "pattern": {
              "fillmode": "overlay",
              "size": 10,
              "solidity": 0.2
             }
            },
            "type": "barpolar"
           }
          ],
          "carpet": [
           {
            "aaxis": {
             "endlinecolor": "#2a3f5f",
             "gridcolor": "white",
             "linecolor": "white",
             "minorgridcolor": "white",
             "startlinecolor": "#2a3f5f"
            },
            "baxis": {
             "endlinecolor": "#2a3f5f",
             "gridcolor": "white",
             "linecolor": "white",
             "minorgridcolor": "white",
             "startlinecolor": "#2a3f5f"
            },
            "type": "carpet"
           }
          ],
          "choropleth": [
           {
            "colorbar": {
             "outlinewidth": 0,
             "ticks": ""
            },
            "type": "choropleth"
           }
          ],
          "contour": [
           {
            "colorbar": {
             "outlinewidth": 0,
             "ticks": ""
            },
            "colorscale": [
             [
              0,
              "#0d0887"
             ],
             [
              0.1111111111111111,
              "#46039f"
             ],
             [
              0.2222222222222222,
              "#7201a8"
             ],
             [
              0.3333333333333333,
              "#9c179e"
             ],
             [
              0.4444444444444444,
              "#bd3786"
             ],
             [
              0.5555555555555556,
              "#d8576b"
             ],
             [
              0.6666666666666666,
              "#ed7953"
             ],
             [
              0.7777777777777778,
              "#fb9f3a"
             ],
             [
              0.8888888888888888,
              "#fdca26"
             ],
             [
              1,
              "#f0f921"
             ]
            ],
            "type": "contour"
           }
          ],
          "contourcarpet": [
           {
            "colorbar": {
             "outlinewidth": 0,
             "ticks": ""
            },
            "type": "contourcarpet"
           }
          ],
          "heatmap": [
           {
            "colorbar": {
             "outlinewidth": 0,
             "ticks": ""
            },
            "colorscale": [
             [
              0,
              "#0d0887"
             ],
             [
              0.1111111111111111,
              "#46039f"
             ],
             [
              0.2222222222222222,
              "#7201a8"
             ],
             [
              0.3333333333333333,
              "#9c179e"
             ],
             [
              0.4444444444444444,
              "#bd3786"
             ],
             [
              0.5555555555555556,
              "#d8576b"
             ],
             [
              0.6666666666666666,
              "#ed7953"
             ],
             [
              0.7777777777777778,
              "#fb9f3a"
             ],
             [
              0.8888888888888888,
              "#fdca26"
             ],
             [
              1,
              "#f0f921"
             ]
            ],
            "type": "heatmap"
           }
          ],
          "heatmapgl": [
           {
            "colorbar": {
             "outlinewidth": 0,
             "ticks": ""
            },
            "colorscale": [
             [
              0,
              "#0d0887"
             ],
             [
              0.1111111111111111,
              "#46039f"
             ],
             [
              0.2222222222222222,
              "#7201a8"
             ],
             [
              0.3333333333333333,
              "#9c179e"
             ],
             [
              0.4444444444444444,
              "#bd3786"
             ],
             [
              0.5555555555555556,
              "#d8576b"
             ],
             [
              0.6666666666666666,
              "#ed7953"
             ],
             [
              0.7777777777777778,
              "#fb9f3a"
             ],
             [
              0.8888888888888888,
              "#fdca26"
             ],
             [
              1,
              "#f0f921"
             ]
            ],
            "type": "heatmapgl"
           }
          ],
          "histogram": [
           {
            "marker": {
             "pattern": {
              "fillmode": "overlay",
              "size": 10,
              "solidity": 0.2
             }
            },
            "type": "histogram"
           }
          ],
          "histogram2d": [
           {
            "colorbar": {
             "outlinewidth": 0,
             "ticks": ""
            },
            "colorscale": [
             [
              0,
              "#0d0887"
             ],
             [
              0.1111111111111111,
              "#46039f"
             ],
             [
              0.2222222222222222,
              "#7201a8"
             ],
             [
              0.3333333333333333,
              "#9c179e"
             ],
             [
              0.4444444444444444,
              "#bd3786"
             ],
             [
              0.5555555555555556,
              "#d8576b"
             ],
             [
              0.6666666666666666,
              "#ed7953"
             ],
             [
              0.7777777777777778,
              "#fb9f3a"
             ],
             [
              0.8888888888888888,
              "#fdca26"
             ],
             [
              1,
              "#f0f921"
             ]
            ],
            "type": "histogram2d"
           }
          ],
          "histogram2dcontour": [
           {
            "colorbar": {
             "outlinewidth": 0,
             "ticks": ""
            },
            "colorscale": [
             [
              0,
              "#0d0887"
             ],
             [
              0.1111111111111111,
              "#46039f"
             ],
             [
              0.2222222222222222,
              "#7201a8"
             ],
             [
              0.3333333333333333,
              "#9c179e"
             ],
             [
              0.4444444444444444,
              "#bd3786"
             ],
             [
              0.5555555555555556,
              "#d8576b"
             ],
             [
              0.6666666666666666,
              "#ed7953"
             ],
             [
              0.7777777777777778,
              "#fb9f3a"
             ],
             [
              0.8888888888888888,
              "#fdca26"
             ],
             [
              1,
              "#f0f921"
             ]
            ],
            "type": "histogram2dcontour"
           }
          ],
          "mesh3d": [
           {
            "colorbar": {
             "outlinewidth": 0,
             "ticks": ""
            },
            "type": "mesh3d"
           }
          ],
          "parcoords": [
           {
            "line": {
             "colorbar": {
              "outlinewidth": 0,
              "ticks": ""
             }
            },
            "type": "parcoords"
           }
          ],
          "pie": [
           {
            "automargin": true,
            "type": "pie"
           }
          ],
          "scatter": [
           {
            "fillpattern": {
             "fillmode": "overlay",
             "size": 10,
             "solidity": 0.2
            },
            "type": "scatter"
           }
          ],
          "scatter3d": [
           {
            "line": {
             "colorbar": {
              "outlinewidth": 0,
              "ticks": ""
             }
            },
            "marker": {
             "colorbar": {
              "outlinewidth": 0,
              "ticks": ""
             }
            },
            "type": "scatter3d"
           }
          ],
          "scattercarpet": [
           {
            "marker": {
             "colorbar": {
              "outlinewidth": 0,
              "ticks": ""
             }
            },
            "type": "scattercarpet"
           }
          ],
          "scattergeo": [
           {
            "marker": {
             "colorbar": {
              "outlinewidth": 0,
              "ticks": ""
             }
            },
            "type": "scattergeo"
           }
          ],
          "scattergl": [
           {
            "marker": {
             "colorbar": {
              "outlinewidth": 0,
              "ticks": ""
             }
            },
            "type": "scattergl"
           }
          ],
          "scattermapbox": [
           {
            "marker": {
             "colorbar": {
              "outlinewidth": 0,
              "ticks": ""
             }
            },
            "type": "scattermapbox"
           }
          ],
          "scatterpolar": [
           {
            "marker": {
             "colorbar": {
              "outlinewidth": 0,
              "ticks": ""
             }
            },
            "type": "scatterpolar"
           }
          ],
          "scatterpolargl": [
           {
            "marker": {
             "colorbar": {
              "outlinewidth": 0,
              "ticks": ""
             }
            },
            "type": "scatterpolargl"
           }
          ],
          "scatterternary": [
           {
            "marker": {
             "colorbar": {
              "outlinewidth": 0,
              "ticks": ""
             }
            },
            "type": "scatterternary"
           }
          ],
          "surface": [
           {
            "colorbar": {
             "outlinewidth": 0,
             "ticks": ""
            },
            "colorscale": [
             [
              0,
              "#0d0887"
             ],
             [
              0.1111111111111111,
              "#46039f"
             ],
             [
              0.2222222222222222,
              "#7201a8"
             ],
             [
              0.3333333333333333,
              "#9c179e"
             ],
             [
              0.4444444444444444,
              "#bd3786"
             ],
             [
              0.5555555555555556,
              "#d8576b"
             ],
             [
              0.6666666666666666,
              "#ed7953"
             ],
             [
              0.7777777777777778,
              "#fb9f3a"
             ],
             [
              0.8888888888888888,
              "#fdca26"
             ],
             [
              1,
              "#f0f921"
             ]
            ],
            "type": "surface"
           }
          ],
          "table": [
           {
            "cells": {
             "fill": {
              "color": "#EBF0F8"
             },
             "line": {
              "color": "white"
             }
            },
            "header": {
             "fill": {
              "color": "#C8D4E3"
             },
             "line": {
              "color": "white"
             }
            },
            "type": "table"
           }
          ]
         },
         "layout": {
          "annotationdefaults": {
           "arrowcolor": "#2a3f5f",
           "arrowhead": 0,
           "arrowwidth": 1
          },
          "autotypenumbers": "strict",
          "coloraxis": {
           "colorbar": {
            "outlinewidth": 0,
            "ticks": ""
           }
          },
          "colorscale": {
           "diverging": [
            [
             0,
             "#8e0152"
            ],
            [
             0.1,
             "#c51b7d"
            ],
            [
             0.2,
             "#de77ae"
            ],
            [
             0.3,
             "#f1b6da"
            ],
            [
             0.4,
             "#fde0ef"
            ],
            [
             0.5,
             "#f7f7f7"
            ],
            [
             0.6,
             "#e6f5d0"
            ],
            [
             0.7,
             "#b8e186"
            ],
            [
             0.8,
             "#7fbc41"
            ],
            [
             0.9,
             "#4d9221"
            ],
            [
             1,
             "#276419"
            ]
           ],
           "sequential": [
            [
             0,
             "#0d0887"
            ],
            [
             0.1111111111111111,
             "#46039f"
            ],
            [
             0.2222222222222222,
             "#7201a8"
            ],
            [
             0.3333333333333333,
             "#9c179e"
            ],
            [
             0.4444444444444444,
             "#bd3786"
            ],
            [
             0.5555555555555556,
             "#d8576b"
            ],
            [
             0.6666666666666666,
             "#ed7953"
            ],
            [
             0.7777777777777778,
             "#fb9f3a"
            ],
            [
             0.8888888888888888,
             "#fdca26"
            ],
            [
             1,
             "#f0f921"
            ]
           ],
           "sequentialminus": [
            [
             0,
             "#0d0887"
            ],
            [
             0.1111111111111111,
             "#46039f"
            ],
            [
             0.2222222222222222,
             "#7201a8"
            ],
            [
             0.3333333333333333,
             "#9c179e"
            ],
            [
             0.4444444444444444,
             "#bd3786"
            ],
            [
             0.5555555555555556,
             "#d8576b"
            ],
            [
             0.6666666666666666,
             "#ed7953"
            ],
            [
             0.7777777777777778,
             "#fb9f3a"
            ],
            [
             0.8888888888888888,
             "#fdca26"
            ],
            [
             1,
             "#f0f921"
            ]
           ]
          },
          "colorway": [
           "#636efa",
           "#EF553B",
           "#00cc96",
           "#ab63fa",
           "#FFA15A",
           "#19d3f3",
           "#FF6692",
           "#B6E880",
           "#FF97FF",
           "#FECB52"
          ],
          "font": {
           "color": "#2a3f5f"
          },
          "geo": {
           "bgcolor": "white",
           "lakecolor": "white",
           "landcolor": "#E5ECF6",
           "showlakes": true,
           "showland": true,
           "subunitcolor": "white"
          },
          "hoverlabel": {
           "align": "left"
          },
          "hovermode": "closest",
          "mapbox": {
           "style": "light"
          },
          "paper_bgcolor": "white",
          "plot_bgcolor": "#E5ECF6",
          "polar": {
           "angularaxis": {
            "gridcolor": "white",
            "linecolor": "white",
            "ticks": ""
           },
           "bgcolor": "#E5ECF6",
           "radialaxis": {
            "gridcolor": "white",
            "linecolor": "white",
            "ticks": ""
           }
          },
          "scene": {
           "xaxis": {
            "backgroundcolor": "#E5ECF6",
            "gridcolor": "white",
            "gridwidth": 2,
            "linecolor": "white",
            "showbackground": true,
            "ticks": "",
            "zerolinecolor": "white"
           },
           "yaxis": {
            "backgroundcolor": "#E5ECF6",
            "gridcolor": "white",
            "gridwidth": 2,
            "linecolor": "white",
            "showbackground": true,
            "ticks": "",
            "zerolinecolor": "white"
           },
           "zaxis": {
            "backgroundcolor": "#E5ECF6",
            "gridcolor": "white",
            "gridwidth": 2,
            "linecolor": "white",
            "showbackground": true,
            "ticks": "",
            "zerolinecolor": "white"
           }
          },
          "shapedefaults": {
           "line": {
            "color": "#2a3f5f"
           }
          },
          "ternary": {
           "aaxis": {
            "gridcolor": "white",
            "linecolor": "white",
            "ticks": ""
           },
           "baxis": {
            "gridcolor": "white",
            "linecolor": "white",
            "ticks": ""
           },
           "bgcolor": "#E5ECF6",
           "caxis": {
            "gridcolor": "white",
            "linecolor": "white",
            "ticks": ""
           }
          },
          "title": {
           "x": 0.05
          },
          "xaxis": {
           "automargin": true,
           "gridcolor": "white",
           "linecolor": "white",
           "ticks": "",
           "title": {
            "standoff": 15
           },
           "zerolinecolor": "white",
           "zerolinewidth": 2
          },
          "yaxis": {
           "automargin": true,
           "gridcolor": "white",
           "linecolor": "white",
           "ticks": "",
           "title": {
            "standoff": 15
           },
           "zerolinecolor": "white",
           "zerolinewidth": 2
          }
         }
        },
        "title": {
         "text": "Goal Creating Actions vs Shot Creating Actions Live or Dead Balls"
        },
        "xaxis": {
         "anchor": "y",
         "domain": [
          0,
          1
         ],
         "showgrid": false,
         "title": {
          "text": "SCA"
         }
        },
        "yaxis": {
         "anchor": "x",
         "domain": [
          0,
          1
         ],
         "showgrid": false,
         "title": {
          "text": "GCA"
         }
        }
       }
      }
     },
     "metadata": {},
     "output_type": "display_data"
    }
   ],
   "source": [
    "min_sca=20\n",
    "scatter_df=df2[(df2['SCA'] >= min_sca)]\n",
    "import plotly.express as px\n",
    "fig=px.scatter(scatter_df,x='SCA',y='GCA',hover_name='Player',title='Goal Creating Actions vs Shot Creating Actions Live or Dead Balls')\n",
    "fig.update_layout(\n",
    "    xaxis=dict(showgrid=False),\n",
    "    yaxis=dict(showgrid=False)\n",
    ")\n",
    "fig.show()"
   ]
  },
  {
   "cell_type": "code",
   "execution_count": 35,
   "metadata": {},
   "outputs": [
    {
     "data": {
      "application/vnd.plotly.v1+json": {
       "config": {
        "plotlyServerURL": "https://plot.ly"
       },
       "data": [
        {
         "alignmentgroup": "True",
         "hovertemplate": "Player=%{x}<br>TO=%{y}<extra></extra>",
         "legendgroup": "",
         "marker": {
          "color": "#636efa",
          "pattern": {
           "shape": ""
          }
         },
         "name": "",
         "offsetgroup": "",
         "orientation": "v",
         "showlegend": false,
         "textposition": "auto",
         "type": "bar",
         "x": [
          "Mohamed Salah",
          "Luis Díaz",
          "Cody Gakpo",
          "Diogo Jota",
          "Leandro Trossard",
          "Gabriel Martinelli",
          "Bukayo Saka",
          "Erling Haaland",
          "Sávio",
          "Jeremy Doku",
          "Alexander Isak",
          "Anthony Gordon",
          "Harvey Barnes",
          "Cole Palmer",
          "Nicolas Jackson",
          "Noni Madueke",
          "Pedro Neto",
          "Morgan Rogers",
          "Leon Bailey",
          "Elliot Anderson",
          "Callum Hudson-Odoi",
          "Kaoru Mitoma",
          "Yankuba Minteh",
          "Georginio Rutter",
          "Simon Adingra",
          "Bryan Mbeumo",
          "Mikkel Damsgaard",
          "Kevin Schade",
          "Alex Iwobi",
          "Adama Traoré",
          "Antoine Semenyo",
          "Justin Kluivert",
          "Eberechi Eze",
          "Ismaila Sarr",
          "Iliman Ndiaye",
          "Dwight McNeil",
          "Rayan Aït-Nouri",
          "Nélson Semedo",
          "Matheus Cunha",
          "Aaron Wan-Bissaka",
          "Mohammed Kudus",
          "Diogo Dalot",
          "Amad Diallo",
          "Dejan Kulusevski",
          "Son Heung-min",
          "Brennan Johnson",
          "James Maddison",
          "Jamie Vardy",
          "Bilal El Khannouss",
          "Facundo Buonanotte",
          "Liam Delap",
          "Omari Hutchinson",
          "Julio Enciso",
          "Kyle Walker-Peters",
          "Tyler Dibling",
          "Kamaldeen Sulemana"
         ],
         "xaxis": "x",
         "y": [
          22,
          16,
          9,
          6,
          7,
          8,
          11,
          8,
          15,
          13,
          8,
          7,
          7,
          16,
          9,
          10,
          6,
          13,
          8,
          7,
          10,
          6,
          11,
          9,
          6,
          10,
          6,
          6,
          8,
          9,
          20,
          7,
          11,
          6,
          8,
          6,
          8,
          7,
          18,
          7,
          16,
          7,
          10,
          15,
          10,
          6,
          7,
          6,
          8,
          9,
          12,
          9,
          6,
          10,
          11,
          9
         ],
         "yaxis": "y"
        }
       ],
       "layout": {
        "barmode": "relative",
        "legend": {
         "tracegroupgap": 0
        },
        "template": {
         "data": {
          "bar": [
           {
            "error_x": {
             "color": "#2a3f5f"
            },
            "error_y": {
             "color": "#2a3f5f"
            },
            "marker": {
             "line": {
              "color": "#E5ECF6",
              "width": 0.5
             },
             "pattern": {
              "fillmode": "overlay",
              "size": 10,
              "solidity": 0.2
             }
            },
            "type": "bar"
           }
          ],
          "barpolar": [
           {
            "marker": {
             "line": {
              "color": "#E5ECF6",
              "width": 0.5
             },
             "pattern": {
              "fillmode": "overlay",
              "size": 10,
              "solidity": 0.2
             }
            },
            "type": "barpolar"
           }
          ],
          "carpet": [
           {
            "aaxis": {
             "endlinecolor": "#2a3f5f",
             "gridcolor": "white",
             "linecolor": "white",
             "minorgridcolor": "white",
             "startlinecolor": "#2a3f5f"
            },
            "baxis": {
             "endlinecolor": "#2a3f5f",
             "gridcolor": "white",
             "linecolor": "white",
             "minorgridcolor": "white",
             "startlinecolor": "#2a3f5f"
            },
            "type": "carpet"
           }
          ],
          "choropleth": [
           {
            "colorbar": {
             "outlinewidth": 0,
             "ticks": ""
            },
            "type": "choropleth"
           }
          ],
          "contour": [
           {
            "colorbar": {
             "outlinewidth": 0,
             "ticks": ""
            },
            "colorscale": [
             [
              0,
              "#0d0887"
             ],
             [
              0.1111111111111111,
              "#46039f"
             ],
             [
              0.2222222222222222,
              "#7201a8"
             ],
             [
              0.3333333333333333,
              "#9c179e"
             ],
             [
              0.4444444444444444,
              "#bd3786"
             ],
             [
              0.5555555555555556,
              "#d8576b"
             ],
             [
              0.6666666666666666,
              "#ed7953"
             ],
             [
              0.7777777777777778,
              "#fb9f3a"
             ],
             [
              0.8888888888888888,
              "#fdca26"
             ],
             [
              1,
              "#f0f921"
             ]
            ],
            "type": "contour"
           }
          ],
          "contourcarpet": [
           {
            "colorbar": {
             "outlinewidth": 0,
             "ticks": ""
            },
            "type": "contourcarpet"
           }
          ],
          "heatmap": [
           {
            "colorbar": {
             "outlinewidth": 0,
             "ticks": ""
            },
            "colorscale": [
             [
              0,
              "#0d0887"
             ],
             [
              0.1111111111111111,
              "#46039f"
             ],
             [
              0.2222222222222222,
              "#7201a8"
             ],
             [
              0.3333333333333333,
              "#9c179e"
             ],
             [
              0.4444444444444444,
              "#bd3786"
             ],
             [
              0.5555555555555556,
              "#d8576b"
             ],
             [
              0.6666666666666666,
              "#ed7953"
             ],
             [
              0.7777777777777778,
              "#fb9f3a"
             ],
             [
              0.8888888888888888,
              "#fdca26"
             ],
             [
              1,
              "#f0f921"
             ]
            ],
            "type": "heatmap"
           }
          ],
          "heatmapgl": [
           {
            "colorbar": {
             "outlinewidth": 0,
             "ticks": ""
            },
            "colorscale": [
             [
              0,
              "#0d0887"
             ],
             [
              0.1111111111111111,
              "#46039f"
             ],
             [
              0.2222222222222222,
              "#7201a8"
             ],
             [
              0.3333333333333333,
              "#9c179e"
             ],
             [
              0.4444444444444444,
              "#bd3786"
             ],
             [
              0.5555555555555556,
              "#d8576b"
             ],
             [
              0.6666666666666666,
              "#ed7953"
             ],
             [
              0.7777777777777778,
              "#fb9f3a"
             ],
             [
              0.8888888888888888,
              "#fdca26"
             ],
             [
              1,
              "#f0f921"
             ]
            ],
            "type": "heatmapgl"
           }
          ],
          "histogram": [
           {
            "marker": {
             "pattern": {
              "fillmode": "overlay",
              "size": 10,
              "solidity": 0.2
             }
            },
            "type": "histogram"
           }
          ],
          "histogram2d": [
           {
            "colorbar": {
             "outlinewidth": 0,
             "ticks": ""
            },
            "colorscale": [
             [
              0,
              "#0d0887"
             ],
             [
              0.1111111111111111,
              "#46039f"
             ],
             [
              0.2222222222222222,
              "#7201a8"
             ],
             [
              0.3333333333333333,
              "#9c179e"
             ],
             [
              0.4444444444444444,
              "#bd3786"
             ],
             [
              0.5555555555555556,
              "#d8576b"
             ],
             [
              0.6666666666666666,
              "#ed7953"
             ],
             [
              0.7777777777777778,
              "#fb9f3a"
             ],
             [
              0.8888888888888888,
              "#fdca26"
             ],
             [
              1,
              "#f0f921"
             ]
            ],
            "type": "histogram2d"
           }
          ],
          "histogram2dcontour": [
           {
            "colorbar": {
             "outlinewidth": 0,
             "ticks": ""
            },
            "colorscale": [
             [
              0,
              "#0d0887"
             ],
             [
              0.1111111111111111,
              "#46039f"
             ],
             [
              0.2222222222222222,
              "#7201a8"
             ],
             [
              0.3333333333333333,
              "#9c179e"
             ],
             [
              0.4444444444444444,
              "#bd3786"
             ],
             [
              0.5555555555555556,
              "#d8576b"
             ],
             [
              0.6666666666666666,
              "#ed7953"
             ],
             [
              0.7777777777777778,
              "#fb9f3a"
             ],
             [
              0.8888888888888888,
              "#fdca26"
             ],
             [
              1,
              "#f0f921"
             ]
            ],
            "type": "histogram2dcontour"
           }
          ],
          "mesh3d": [
           {
            "colorbar": {
             "outlinewidth": 0,
             "ticks": ""
            },
            "type": "mesh3d"
           }
          ],
          "parcoords": [
           {
            "line": {
             "colorbar": {
              "outlinewidth": 0,
              "ticks": ""
             }
            },
            "type": "parcoords"
           }
          ],
          "pie": [
           {
            "automargin": true,
            "type": "pie"
           }
          ],
          "scatter": [
           {
            "fillpattern": {
             "fillmode": "overlay",
             "size": 10,
             "solidity": 0.2
            },
            "type": "scatter"
           }
          ],
          "scatter3d": [
           {
            "line": {
             "colorbar": {
              "outlinewidth": 0,
              "ticks": ""
             }
            },
            "marker": {
             "colorbar": {
              "outlinewidth": 0,
              "ticks": ""
             }
            },
            "type": "scatter3d"
           }
          ],
          "scattercarpet": [
           {
            "marker": {
             "colorbar": {
              "outlinewidth": 0,
              "ticks": ""
             }
            },
            "type": "scattercarpet"
           }
          ],
          "scattergeo": [
           {
            "marker": {
             "colorbar": {
              "outlinewidth": 0,
              "ticks": ""
             }
            },
            "type": "scattergeo"
           }
          ],
          "scattergl": [
           {
            "marker": {
             "colorbar": {
              "outlinewidth": 0,
              "ticks": ""
             }
            },
            "type": "scattergl"
           }
          ],
          "scattermapbox": [
           {
            "marker": {
             "colorbar": {
              "outlinewidth": 0,
              "ticks": ""
             }
            },
            "type": "scattermapbox"
           }
          ],
          "scatterpolar": [
           {
            "marker": {
             "colorbar": {
              "outlinewidth": 0,
              "ticks": ""
             }
            },
            "type": "scatterpolar"
           }
          ],
          "scatterpolargl": [
           {
            "marker": {
             "colorbar": {
              "outlinewidth": 0,
              "ticks": ""
             }
            },
            "type": "scatterpolargl"
           }
          ],
          "scatterternary": [
           {
            "marker": {
             "colorbar": {
              "outlinewidth": 0,
              "ticks": ""
             }
            },
            "type": "scatterternary"
           }
          ],
          "surface": [
           {
            "colorbar": {
             "outlinewidth": 0,
             "ticks": ""
            },
            "colorscale": [
             [
              0,
              "#0d0887"
             ],
             [
              0.1111111111111111,
              "#46039f"
             ],
             [
              0.2222222222222222,
              "#7201a8"
             ],
             [
              0.3333333333333333,
              "#9c179e"
             ],
             [
              0.4444444444444444,
              "#bd3786"
             ],
             [
              0.5555555555555556,
              "#d8576b"
             ],
             [
              0.6666666666666666,
              "#ed7953"
             ],
             [
              0.7777777777777778,
              "#fb9f3a"
             ],
             [
              0.8888888888888888,
              "#fdca26"
             ],
             [
              1,
              "#f0f921"
             ]
            ],
            "type": "surface"
           }
          ],
          "table": [
           {
            "cells": {
             "fill": {
              "color": "#EBF0F8"
             },
             "line": {
              "color": "white"
             }
            },
            "header": {
             "fill": {
              "color": "#C8D4E3"
             },
             "line": {
              "color": "white"
             }
            },
            "type": "table"
           }
          ]
         },
         "layout": {
          "annotationdefaults": {
           "arrowcolor": "#2a3f5f",
           "arrowhead": 0,
           "arrowwidth": 1
          },
          "autotypenumbers": "strict",
          "coloraxis": {
           "colorbar": {
            "outlinewidth": 0,
            "ticks": ""
           }
          },
          "colorscale": {
           "diverging": [
            [
             0,
             "#8e0152"
            ],
            [
             0.1,
             "#c51b7d"
            ],
            [
             0.2,
             "#de77ae"
            ],
            [
             0.3,
             "#f1b6da"
            ],
            [
             0.4,
             "#fde0ef"
            ],
            [
             0.5,
             "#f7f7f7"
            ],
            [
             0.6,
             "#e6f5d0"
            ],
            [
             0.7,
             "#b8e186"
            ],
            [
             0.8,
             "#7fbc41"
            ],
            [
             0.9,
             "#4d9221"
            ],
            [
             1,
             "#276419"
            ]
           ],
           "sequential": [
            [
             0,
             "#0d0887"
            ],
            [
             0.1111111111111111,
             "#46039f"
            ],
            [
             0.2222222222222222,
             "#7201a8"
            ],
            [
             0.3333333333333333,
             "#9c179e"
            ],
            [
             0.4444444444444444,
             "#bd3786"
            ],
            [
             0.5555555555555556,
             "#d8576b"
            ],
            [
             0.6666666666666666,
             "#ed7953"
            ],
            [
             0.7777777777777778,
             "#fb9f3a"
            ],
            [
             0.8888888888888888,
             "#fdca26"
            ],
            [
             1,
             "#f0f921"
            ]
           ],
           "sequentialminus": [
            [
             0,
             "#0d0887"
            ],
            [
             0.1111111111111111,
             "#46039f"
            ],
            [
             0.2222222222222222,
             "#7201a8"
            ],
            [
             0.3333333333333333,
             "#9c179e"
            ],
            [
             0.4444444444444444,
             "#bd3786"
            ],
            [
             0.5555555555555556,
             "#d8576b"
            ],
            [
             0.6666666666666666,
             "#ed7953"
            ],
            [
             0.7777777777777778,
             "#fb9f3a"
            ],
            [
             0.8888888888888888,
             "#fdca26"
            ],
            [
             1,
             "#f0f921"
            ]
           ]
          },
          "colorway": [
           "#636efa",
           "#EF553B",
           "#00cc96",
           "#ab63fa",
           "#FFA15A",
           "#19d3f3",
           "#FF6692",
           "#B6E880",
           "#FF97FF",
           "#FECB52"
          ],
          "font": {
           "color": "#2a3f5f"
          },
          "geo": {
           "bgcolor": "white",
           "lakecolor": "white",
           "landcolor": "#E5ECF6",
           "showlakes": true,
           "showland": true,
           "subunitcolor": "white"
          },
          "hoverlabel": {
           "align": "left"
          },
          "hovermode": "closest",
          "mapbox": {
           "style": "light"
          },
          "paper_bgcolor": "white",
          "plot_bgcolor": "#E5ECF6",
          "polar": {
           "angularaxis": {
            "gridcolor": "white",
            "linecolor": "white",
            "ticks": ""
           },
           "bgcolor": "#E5ECF6",
           "radialaxis": {
            "gridcolor": "white",
            "linecolor": "white",
            "ticks": ""
           }
          },
          "scene": {
           "xaxis": {
            "backgroundcolor": "#E5ECF6",
            "gridcolor": "white",
            "gridwidth": 2,
            "linecolor": "white",
            "showbackground": true,
            "ticks": "",
            "zerolinecolor": "white"
           },
           "yaxis": {
            "backgroundcolor": "#E5ECF6",
            "gridcolor": "white",
            "gridwidth": 2,
            "linecolor": "white",
            "showbackground": true,
            "ticks": "",
            "zerolinecolor": "white"
           },
           "zaxis": {
            "backgroundcolor": "#E5ECF6",
            "gridcolor": "white",
            "gridwidth": 2,
            "linecolor": "white",
            "showbackground": true,
            "ticks": "",
            "zerolinecolor": "white"
           }
          },
          "shapedefaults": {
           "line": {
            "color": "#2a3f5f"
           }
          },
          "ternary": {
           "aaxis": {
            "gridcolor": "white",
            "linecolor": "white",
            "ticks": ""
           },
           "baxis": {
            "gridcolor": "white",
            "linecolor": "white",
            "ticks": ""
           },
           "bgcolor": "#E5ECF6",
           "caxis": {
            "gridcolor": "white",
            "linecolor": "white",
            "ticks": ""
           }
          },
          "title": {
           "x": 0.05
          },
          "xaxis": {
           "automargin": true,
           "gridcolor": "white",
           "linecolor": "white",
           "ticks": "",
           "title": {
            "standoff": 15
           },
           "zerolinecolor": "white",
           "zerolinewidth": 2
          },
          "yaxis": {
           "automargin": true,
           "gridcolor": "white",
           "linecolor": "white",
           "ticks": "",
           "title": {
            "standoff": 15
           },
           "zerolinecolor": "white",
           "zerolinewidth": 2
          }
         }
        },
        "title": {
         "text": "Successful Takeons that lead to a Shot"
        },
        "xaxis": {
         "anchor": "y",
         "domain": [
          0,
          1
         ],
         "title": {
          "text": "Player"
         }
        },
        "yaxis": {
         "anchor": "x",
         "domain": [
          0,
          1
         ],
         "title": {
          "text": "TO"
         }
        }
       }
      }
     },
     "metadata": {},
     "output_type": "display_data"
    }
   ],
   "source": [
    "min_take_ons=6\n",
    "bar_df=df2[df2['TO']>= min_take_ons]\n",
    "fig=px.bar(bar_df,x='Player',y='TO',title='Successful Takeons that lead to a Shot')\n",
    "fig.show()"
   ]
  },
  {
   "cell_type": "code",
   "execution_count": 47,
   "metadata": {},
   "outputs": [
    {
     "data": {
      "application/vnd.plotly.v1+json": {
       "config": {
        "plotlyServerURL": "https://plot.ly"
       },
       "data": [
        {
         "alignmentgroup": "True",
         "hovertemplate": "action_type=PassLive<br>count=%{text}<br>Player=%{y}<extra></extra>",
         "legendgroup": "PassLive",
         "marker": {
          "color": "#636efa",
          "pattern": {
           "shape": ""
          }
         },
         "name": "PassLive",
         "offsetgroup": "PassLive",
         "orientation": "h",
         "showlegend": true,
         "text": [
          82,
          127,
          116,
          96,
          132,
          95,
          70,
          115,
          72,
          119
         ],
         "textposition": "auto",
         "type": "bar",
         "x": [
          82,
          127,
          116,
          96,
          132,
          95,
          70,
          115,
          72,
          119
         ],
         "xaxis": "x",
         "y": [
          "Antoine Semenyo",
          "Bruno Fernandes",
          "Bruno Guimarães",
          "Bryan Mbeumo",
          "Cole Palmer",
          "Dejan Kulusevski",
          "Eberechi Eze",
          "Enzo Fernández",
          "Matheus Cunha",
          "Mohamed Salah"
         ],
         "yaxis": "y"
        },
        {
         "alignmentgroup": "True",
         "hovertemplate": "action_type=PassDead<br>count=%{text}<br>Player=%{y}<extra></extra>",
         "legendgroup": "PassDead",
         "marker": {
          "color": "#EF553B",
          "pattern": {
           "shape": ""
          }
         },
         "name": "PassDead",
         "offsetgroup": "PassDead",
         "orientation": "h",
         "showlegend": true,
         "text": [
          4,
          35,
          3,
          23,
          21,
          12,
          29,
          16,
          13,
          2
         ],
         "textposition": "auto",
         "type": "bar",
         "x": [
          4,
          35,
          3,
          23,
          21,
          12,
          29,
          16,
          13,
          2
         ],
         "xaxis": "x",
         "y": [
          "Antoine Semenyo",
          "Bruno Fernandes",
          "Bruno Guimarães",
          "Bryan Mbeumo",
          "Cole Palmer",
          "Dejan Kulusevski",
          "Eberechi Eze",
          "Enzo Fernández",
          "Matheus Cunha",
          "Mohamed Salah"
         ],
         "yaxis": "y"
        },
        {
         "alignmentgroup": "True",
         "hovertemplate": "action_type=TO<br>count=%{text}<br>Player=%{y}<extra></extra>",
         "legendgroup": "TO",
         "marker": {
          "color": "#00cc96",
          "pattern": {
           "shape": ""
          }
         },
         "name": "TO",
         "offsetgroup": "TO",
         "orientation": "h",
         "showlegend": true,
         "text": [
          20,
          5,
          3,
          10,
          16,
          15,
          11,
          2,
          18,
          22
         ],
         "textposition": "auto",
         "type": "bar",
         "x": [
          20,
          5,
          3,
          10,
          16,
          15,
          11,
          2,
          18,
          22
         ],
         "xaxis": "x",
         "y": [
          "Antoine Semenyo",
          "Bruno Fernandes",
          "Bruno Guimarães",
          "Bryan Mbeumo",
          "Cole Palmer",
          "Dejan Kulusevski",
          "Eberechi Eze",
          "Enzo Fernández",
          "Matheus Cunha",
          "Mohamed Salah"
         ],
         "yaxis": "y"
        },
        {
         "alignmentgroup": "True",
         "hovertemplate": "action_type=Shot<br>count=%{text}<br>Player=%{y}<extra></extra>",
         "legendgroup": "Shot",
         "marker": {
          "color": "#ab63fa",
          "pattern": {
           "shape": ""
          }
         },
         "name": "Shot",
         "offsetgroup": "Shot",
         "orientation": "h",
         "showlegend": true,
         "text": [
          15,
          6,
          0,
          8,
          21,
          3,
          13,
          4,
          9,
          14
         ],
         "textposition": "auto",
         "type": "bar",
         "x": [
          15,
          6,
          0,
          8,
          21,
          3,
          13,
          4,
          9,
          14
         ],
         "xaxis": "x",
         "y": [
          "Antoine Semenyo",
          "Bruno Fernandes",
          "Bruno Guimarães",
          "Bryan Mbeumo",
          "Cole Palmer",
          "Dejan Kulusevski",
          "Eberechi Eze",
          "Enzo Fernández",
          "Matheus Cunha",
          "Mohamed Salah"
         ],
         "yaxis": "y"
        },
        {
         "alignmentgroup": "True",
         "hovertemplate": "action_type=Foul<br>count=%{text}<br>Player=%{y}<extra></extra>",
         "legendgroup": "Foul",
         "marker": {
          "color": "#FFA15A",
          "pattern": {
           "shape": ""
          }
         },
         "name": "Foul",
         "offsetgroup": "Foul",
         "orientation": "h",
         "showlegend": true,
         "text": [
          5,
          6,
          4,
          4,
          8,
          3,
          9,
          4,
          12,
          5
         ],
         "textposition": "auto",
         "type": "bar",
         "x": [
          5,
          6,
          4,
          4,
          8,
          3,
          9,
          4,
          12,
          5
         ],
         "xaxis": "x",
         "y": [
          "Antoine Semenyo",
          "Bruno Fernandes",
          "Bruno Guimarães",
          "Bryan Mbeumo",
          "Cole Palmer",
          "Dejan Kulusevski",
          "Eberechi Eze",
          "Enzo Fernández",
          "Matheus Cunha",
          "Mohamed Salah"
         ],
         "yaxis": "y"
        },
        {
         "alignmentgroup": "True",
         "hovertemplate": "action_type=Def<br>count=%{text}<br>Player=%{y}<extra></extra>",
         "legendgroup": "Def",
         "marker": {
          "color": "#19d3f3",
          "pattern": {
           "shape": ""
          }
         },
         "name": "Def",
         "offsetgroup": "Def",
         "orientation": "h",
         "showlegend": true,
         "text": [
          2,
          2,
          3,
          0,
          2,
          0,
          1,
          5,
          3,
          2
         ],
         "textposition": "auto",
         "type": "bar",
         "x": [
          2,
          2,
          3,
          0,
          2,
          0,
          1,
          5,
          3,
          2
         ],
         "xaxis": "x",
         "y": [
          "Antoine Semenyo",
          "Bruno Fernandes",
          "Bruno Guimarães",
          "Bryan Mbeumo",
          "Cole Palmer",
          "Dejan Kulusevski",
          "Eberechi Eze",
          "Enzo Fernández",
          "Matheus Cunha",
          "Mohamed Salah"
         ],
         "yaxis": "y"
        }
       ],
       "layout": {
        "barmode": "stack",
        "legend": {
         "title": {
          "text": "action_type"
         },
         "tracegroupgap": 0
        },
        "template": {
         "data": {
          "bar": [
           {
            "error_x": {
             "color": "#2a3f5f"
            },
            "error_y": {
             "color": "#2a3f5f"
            },
            "marker": {
             "line": {
              "color": "#E5ECF6",
              "width": 0.5
             },
             "pattern": {
              "fillmode": "overlay",
              "size": 10,
              "solidity": 0.2
             }
            },
            "type": "bar"
           }
          ],
          "barpolar": [
           {
            "marker": {
             "line": {
              "color": "#E5ECF6",
              "width": 0.5
             },
             "pattern": {
              "fillmode": "overlay",
              "size": 10,
              "solidity": 0.2
             }
            },
            "type": "barpolar"
           }
          ],
          "carpet": [
           {
            "aaxis": {
             "endlinecolor": "#2a3f5f",
             "gridcolor": "white",
             "linecolor": "white",
             "minorgridcolor": "white",
             "startlinecolor": "#2a3f5f"
            },
            "baxis": {
             "endlinecolor": "#2a3f5f",
             "gridcolor": "white",
             "linecolor": "white",
             "minorgridcolor": "white",
             "startlinecolor": "#2a3f5f"
            },
            "type": "carpet"
           }
          ],
          "choropleth": [
           {
            "colorbar": {
             "outlinewidth": 0,
             "ticks": ""
            },
            "type": "choropleth"
           }
          ],
          "contour": [
           {
            "colorbar": {
             "outlinewidth": 0,
             "ticks": ""
            },
            "colorscale": [
             [
              0,
              "#0d0887"
             ],
             [
              0.1111111111111111,
              "#46039f"
             ],
             [
              0.2222222222222222,
              "#7201a8"
             ],
             [
              0.3333333333333333,
              "#9c179e"
             ],
             [
              0.4444444444444444,
              "#bd3786"
             ],
             [
              0.5555555555555556,
              "#d8576b"
             ],
             [
              0.6666666666666666,
              "#ed7953"
             ],
             [
              0.7777777777777778,
              "#fb9f3a"
             ],
             [
              0.8888888888888888,
              "#fdca26"
             ],
             [
              1,
              "#f0f921"
             ]
            ],
            "type": "contour"
           }
          ],
          "contourcarpet": [
           {
            "colorbar": {
             "outlinewidth": 0,
             "ticks": ""
            },
            "type": "contourcarpet"
           }
          ],
          "heatmap": [
           {
            "colorbar": {
             "outlinewidth": 0,
             "ticks": ""
            },
            "colorscale": [
             [
              0,
              "#0d0887"
             ],
             [
              0.1111111111111111,
              "#46039f"
             ],
             [
              0.2222222222222222,
              "#7201a8"
             ],
             [
              0.3333333333333333,
              "#9c179e"
             ],
             [
              0.4444444444444444,
              "#bd3786"
             ],
             [
              0.5555555555555556,
              "#d8576b"
             ],
             [
              0.6666666666666666,
              "#ed7953"
             ],
             [
              0.7777777777777778,
              "#fb9f3a"
             ],
             [
              0.8888888888888888,
              "#fdca26"
             ],
             [
              1,
              "#f0f921"
             ]
            ],
            "type": "heatmap"
           }
          ],
          "heatmapgl": [
           {
            "colorbar": {
             "outlinewidth": 0,
             "ticks": ""
            },
            "colorscale": [
             [
              0,
              "#0d0887"
             ],
             [
              0.1111111111111111,
              "#46039f"
             ],
             [
              0.2222222222222222,
              "#7201a8"
             ],
             [
              0.3333333333333333,
              "#9c179e"
             ],
             [
              0.4444444444444444,
              "#bd3786"
             ],
             [
              0.5555555555555556,
              "#d8576b"
             ],
             [
              0.6666666666666666,
              "#ed7953"
             ],
             [
              0.7777777777777778,
              "#fb9f3a"
             ],
             [
              0.8888888888888888,
              "#fdca26"
             ],
             [
              1,
              "#f0f921"
             ]
            ],
            "type": "heatmapgl"
           }
          ],
          "histogram": [
           {
            "marker": {
             "pattern": {
              "fillmode": "overlay",
              "size": 10,
              "solidity": 0.2
             }
            },
            "type": "histogram"
           }
          ],
          "histogram2d": [
           {
            "colorbar": {
             "outlinewidth": 0,
             "ticks": ""
            },
            "colorscale": [
             [
              0,
              "#0d0887"
             ],
             [
              0.1111111111111111,
              "#46039f"
             ],
             [
              0.2222222222222222,
              "#7201a8"
             ],
             [
              0.3333333333333333,
              "#9c179e"
             ],
             [
              0.4444444444444444,
              "#bd3786"
             ],
             [
              0.5555555555555556,
              "#d8576b"
             ],
             [
              0.6666666666666666,
              "#ed7953"
             ],
             [
              0.7777777777777778,
              "#fb9f3a"
             ],
             [
              0.8888888888888888,
              "#fdca26"
             ],
             [
              1,
              "#f0f921"
             ]
            ],
            "type": "histogram2d"
           }
          ],
          "histogram2dcontour": [
           {
            "colorbar": {
             "outlinewidth": 0,
             "ticks": ""
            },
            "colorscale": [
             [
              0,
              "#0d0887"
             ],
             [
              0.1111111111111111,
              "#46039f"
             ],
             [
              0.2222222222222222,
              "#7201a8"
             ],
             [
              0.3333333333333333,
              "#9c179e"
             ],
             [
              0.4444444444444444,
              "#bd3786"
             ],
             [
              0.5555555555555556,
              "#d8576b"
             ],
             [
              0.6666666666666666,
              "#ed7953"
             ],
             [
              0.7777777777777778,
              "#fb9f3a"
             ],
             [
              0.8888888888888888,
              "#fdca26"
             ],
             [
              1,
              "#f0f921"
             ]
            ],
            "type": "histogram2dcontour"
           }
          ],
          "mesh3d": [
           {
            "colorbar": {
             "outlinewidth": 0,
             "ticks": ""
            },
            "type": "mesh3d"
           }
          ],
          "parcoords": [
           {
            "line": {
             "colorbar": {
              "outlinewidth": 0,
              "ticks": ""
             }
            },
            "type": "parcoords"
           }
          ],
          "pie": [
           {
            "automargin": true,
            "type": "pie"
           }
          ],
          "scatter": [
           {
            "fillpattern": {
             "fillmode": "overlay",
             "size": 10,
             "solidity": 0.2
            },
            "type": "scatter"
           }
          ],
          "scatter3d": [
           {
            "line": {
             "colorbar": {
              "outlinewidth": 0,
              "ticks": ""
             }
            },
            "marker": {
             "colorbar": {
              "outlinewidth": 0,
              "ticks": ""
             }
            },
            "type": "scatter3d"
           }
          ],
          "scattercarpet": [
           {
            "marker": {
             "colorbar": {
              "outlinewidth": 0,
              "ticks": ""
             }
            },
            "type": "scattercarpet"
           }
          ],
          "scattergeo": [
           {
            "marker": {
             "colorbar": {
              "outlinewidth": 0,
              "ticks": ""
             }
            },
            "type": "scattergeo"
           }
          ],
          "scattergl": [
           {
            "marker": {
             "colorbar": {
              "outlinewidth": 0,
              "ticks": ""
             }
            },
            "type": "scattergl"
           }
          ],
          "scattermapbox": [
           {
            "marker": {
             "colorbar": {
              "outlinewidth": 0,
              "ticks": ""
             }
            },
            "type": "scattermapbox"
           }
          ],
          "scatterpolar": [
           {
            "marker": {
             "colorbar": {
              "outlinewidth": 0,
              "ticks": ""
             }
            },
            "type": "scatterpolar"
           }
          ],
          "scatterpolargl": [
           {
            "marker": {
             "colorbar": {
              "outlinewidth": 0,
              "ticks": ""
             }
            },
            "type": "scatterpolargl"
           }
          ],
          "scatterternary": [
           {
            "marker": {
             "colorbar": {
              "outlinewidth": 0,
              "ticks": ""
             }
            },
            "type": "scatterternary"
           }
          ],
          "surface": [
           {
            "colorbar": {
             "outlinewidth": 0,
             "ticks": ""
            },
            "colorscale": [
             [
              0,
              "#0d0887"
             ],
             [
              0.1111111111111111,
              "#46039f"
             ],
             [
              0.2222222222222222,
              "#7201a8"
             ],
             [
              0.3333333333333333,
              "#9c179e"
             ],
             [
              0.4444444444444444,
              "#bd3786"
             ],
             [
              0.5555555555555556,
              "#d8576b"
             ],
             [
              0.6666666666666666,
              "#ed7953"
             ],
             [
              0.7777777777777778,
              "#fb9f3a"
             ],
             [
              0.8888888888888888,
              "#fdca26"
             ],
             [
              1,
              "#f0f921"
             ]
            ],
            "type": "surface"
           }
          ],
          "table": [
           {
            "cells": {
             "fill": {
              "color": "#EBF0F8"
             },
             "line": {
              "color": "white"
             }
            },
            "header": {
             "fill": {
              "color": "#C8D4E3"
             },
             "line": {
              "color": "white"
             }
            },
            "type": "table"
           }
          ]
         },
         "layout": {
          "annotationdefaults": {
           "arrowcolor": "#2a3f5f",
           "arrowhead": 0,
           "arrowwidth": 1
          },
          "autotypenumbers": "strict",
          "coloraxis": {
           "colorbar": {
            "outlinewidth": 0,
            "ticks": ""
           }
          },
          "colorscale": {
           "diverging": [
            [
             0,
             "#8e0152"
            ],
            [
             0.1,
             "#c51b7d"
            ],
            [
             0.2,
             "#de77ae"
            ],
            [
             0.3,
             "#f1b6da"
            ],
            [
             0.4,
             "#fde0ef"
            ],
            [
             0.5,
             "#f7f7f7"
            ],
            [
             0.6,
             "#e6f5d0"
            ],
            [
             0.7,
             "#b8e186"
            ],
            [
             0.8,
             "#7fbc41"
            ],
            [
             0.9,
             "#4d9221"
            ],
            [
             1,
             "#276419"
            ]
           ],
           "sequential": [
            [
             0,
             "#0d0887"
            ],
            [
             0.1111111111111111,
             "#46039f"
            ],
            [
             0.2222222222222222,
             "#7201a8"
            ],
            [
             0.3333333333333333,
             "#9c179e"
            ],
            [
             0.4444444444444444,
             "#bd3786"
            ],
            [
             0.5555555555555556,
             "#d8576b"
            ],
            [
             0.6666666666666666,
             "#ed7953"
            ],
            [
             0.7777777777777778,
             "#fb9f3a"
            ],
            [
             0.8888888888888888,
             "#fdca26"
            ],
            [
             1,
             "#f0f921"
            ]
           ],
           "sequentialminus": [
            [
             0,
             "#0d0887"
            ],
            [
             0.1111111111111111,
             "#46039f"
            ],
            [
             0.2222222222222222,
             "#7201a8"
            ],
            [
             0.3333333333333333,
             "#9c179e"
            ],
            [
             0.4444444444444444,
             "#bd3786"
            ],
            [
             0.5555555555555556,
             "#d8576b"
            ],
            [
             0.6666666666666666,
             "#ed7953"
            ],
            [
             0.7777777777777778,
             "#fb9f3a"
            ],
            [
             0.8888888888888888,
             "#fdca26"
            ],
            [
             1,
             "#f0f921"
            ]
           ]
          },
          "colorway": [
           "#636efa",
           "#EF553B",
           "#00cc96",
           "#ab63fa",
           "#FFA15A",
           "#19d3f3",
           "#FF6692",
           "#B6E880",
           "#FF97FF",
           "#FECB52"
          ],
          "font": {
           "color": "#2a3f5f"
          },
          "geo": {
           "bgcolor": "white",
           "lakecolor": "white",
           "landcolor": "#E5ECF6",
           "showlakes": true,
           "showland": true,
           "subunitcolor": "white"
          },
          "hoverlabel": {
           "align": "left"
          },
          "hovermode": "closest",
          "mapbox": {
           "style": "light"
          },
          "paper_bgcolor": "white",
          "plot_bgcolor": "#E5ECF6",
          "polar": {
           "angularaxis": {
            "gridcolor": "white",
            "linecolor": "white",
            "ticks": ""
           },
           "bgcolor": "#E5ECF6",
           "radialaxis": {
            "gridcolor": "white",
            "linecolor": "white",
            "ticks": ""
           }
          },
          "scene": {
           "xaxis": {
            "backgroundcolor": "#E5ECF6",
            "gridcolor": "white",
            "gridwidth": 2,
            "linecolor": "white",
            "showbackground": true,
            "ticks": "",
            "zerolinecolor": "white"
           },
           "yaxis": {
            "backgroundcolor": "#E5ECF6",
            "gridcolor": "white",
            "gridwidth": 2,
            "linecolor": "white",
            "showbackground": true,
            "ticks": "",
            "zerolinecolor": "white"
           },
           "zaxis": {
            "backgroundcolor": "#E5ECF6",
            "gridcolor": "white",
            "gridwidth": 2,
            "linecolor": "white",
            "showbackground": true,
            "ticks": "",
            "zerolinecolor": "white"
           }
          },
          "shapedefaults": {
           "line": {
            "color": "#2a3f5f"
           }
          },
          "ternary": {
           "aaxis": {
            "gridcolor": "white",
            "linecolor": "white",
            "ticks": ""
           },
           "baxis": {
            "gridcolor": "white",
            "linecolor": "white",
            "ticks": ""
           },
           "bgcolor": "#E5ECF6",
           "caxis": {
            "gridcolor": "white",
            "linecolor": "white",
            "ticks": ""
           }
          },
          "title": {
           "x": 0.05
          },
          "xaxis": {
           "automargin": true,
           "gridcolor": "white",
           "linecolor": "white",
           "ticks": "",
           "title": {
            "standoff": 15
           },
           "zerolinecolor": "white",
           "zerolinewidth": 2
          },
          "yaxis": {
           "automargin": true,
           "gridcolor": "white",
           "linecolor": "white",
           "ticks": "",
           "title": {
            "standoff": 15
           },
           "zerolinecolor": "white",
           "zerolinewidth": 2
          }
         }
        },
        "title": {
         "text": "SCA Type Breakdown (Top 10 Players)"
        },
        "xaxis": {
         "anchor": "y",
         "domain": [
          0,
          1
         ],
         "title": {
          "text": "count"
         }
        },
        "yaxis": {
         "anchor": "x",
         "categoryorder": "total ascending",
         "domain": [
          0,
          1
         ],
         "title": {
          "text": "Player"
         }
        }
       }
      }
     },
     "metadata": {},
     "output_type": "display_data"
    }
   ],
   "source": [
    "sca_types = ['PassLive', 'PassDead', 'TO', 'Sh', 'Fld', 'Def']\n",
    "# Rename them for clarity in the graph\n",
    "rename_map = {\n",
    "    'PassLive': 'PassLive',\n",
    "    'PassDead': 'PassDead',\n",
    "    'TO': 'TO',\n",
    "    'Sh': 'Shot',\n",
    "    'Fld': 'Foul',\n",
    "    'Def': 'Def'\n",
    "}\n",
    "\n",
    "# Select top 10 players by total SCAs\n",
    "top_players = df.groupby('Player')[sca_types].sum().sum(axis=1).nlargest(10).index\n",
    "\n",
    "# Filter and rename\n",
    "df_top = df[df['Player'].isin(top_players)]\n",
    "df_grouped = df_top.groupby('Player')[sca_types].sum().reset_index()\n",
    "df_grouped = df_grouped.rename(columns=rename_map)\n",
    "\n",
    "# Melt into long format for stacked bar chart\n",
    "df_melted = df_grouped.melt(id_vars='Player', var_name='action_type', value_name='count')\n",
    "\n",
    "# Plot\n",
    "fig = px.bar(df_melted, x='count', y='Player', color='action_type',\n",
    "             title='SCA Type Breakdown (Top 10 Players)',\n",
    "             orientation='h', text='count')\n",
    "\n",
    "fig.update_layout(barmode='stack', yaxis={'categoryorder': 'total ascending'})\n",
    "fig.show()\n"
   ]
  }
 ],
 "metadata": {
  "kernelspec": {
   "display_name": "Python 3",
   "language": "python",
   "name": "python3"
  },
  "language_info": {
   "codemirror_mode": {
    "name": "ipython",
    "version": 3
   },
   "file_extension": ".py",
   "mimetype": "text/x-python",
   "name": "python",
   "nbconvert_exporter": "python",
   "pygments_lexer": "ipython3",
   "version": "3.9.0"
  }
 },
 "nbformat": 4,
 "nbformat_minor": 2
}
