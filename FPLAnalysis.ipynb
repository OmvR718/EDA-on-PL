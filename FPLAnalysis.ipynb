{
 "cells": [
  {
   "cell_type": "markdown",
   "id": "c555f26b",
   "metadata": {},
   "source": [
    "# Premier League Shot Creation & FPL Performance Analysis\n",
    "\n",
    "Welcome to an in-depth analysis of Premier League player creativity and efficiency, with a focus on shot and goal creation. This notebook explores:\n",
    "\n",
    "- **SCA90**: Shot creation actions per 90 minutes\n",
    "- **TO**: Take-ons for shot creation\n",
    "- **Age**: Player age\n",
    "- **Pos**: Player position\n",
    "\n",
    "**Key Objectives:**\n",
    "- Calculate take-on dependency ratios (TO/SCA) and SCA90 rankings\n",
    "- Visualize SCA90 vs take-on dependency (scatter plot, colored by position, sized by age)\n",
    "- Perform correlation and statistical analysis of creative output by position and age\n",
    "- Identify the most efficient creators using a composite score\n",
    "- Explore age-related trends and peak creative years\n",
    "- Use unsupervised clustering to reveal player creativity archetypes\n",
    "\n",
    "---\n"
   ]
  },
  {
   "cell_type": "code",
   "execution_count": 2,
   "id": "e3684bc1",
   "metadata": {},
   "outputs": [],
   "source": [
    "import pandas as pd\n",
    "import numpy as np\n",
    "import plotly.express as px\n",
    "import plotly.graph_objects as go\n",
    "import seaborn as sns\n",
    "import matplotlib.pyplot as plt\n",
    "from scipy.stats import f_oneway, kruskal\n",
    "from sklearn.preprocessing import LabelEncoder\n",
    "from numpy.polynomial.polynomial import Polynomial\n",
    "from sklearn.metrics import r2_score"
   ]
  },
  {
   "cell_type": "code",
   "execution_count": 3,
   "id": "c992298c",
   "metadata": {},
   "outputs": [
    {
     "data": {
      "application/vnd.microsoft.datawrangler.viewer.v0+json": {
       "columns": [
        {
         "name": "index",
         "rawType": "int64",
         "type": "integer"
        },
        {
         "name": "Player",
         "rawType": "object",
         "type": "string"
        },
        {
         "name": "Pos",
         "rawType": "object",
         "type": "string"
        },
        {
         "name": "Age",
         "rawType": "object",
         "type": "string"
        },
        {
         "name": "SCA",
         "rawType": "int64",
         "type": "integer"
        },
        {
         "name": "SCA90",
         "rawType": "float64",
         "type": "float"
        },
        {
         "name": "TO",
         "rawType": "int64",
         "type": "integer"
        }
       ],
       "ref": "88b1bab6-319c-4cad-9421-2907e9cb412e",
       "rows": [
        [
         "0",
         "Mohamed Salah",
         "FW",
         "32-342",
         "164",
         "4.5",
         "22"
        ],
        [
         "1",
         "Virgil van Dijk",
         "DF",
         "33-319",
         "48",
         "1.33",
         "1"
        ],
        [
         "2",
         "Ryan Gravenberch",
         "MF",
         "23-007",
         "66",
         "1.92",
         "5"
        ],
        [
         "3",
         "Alexis Mac Allister",
         "MF",
         "26-150",
         "120",
         "4.15",
         "2"
        ],
        [
         "4",
         "Ibrahima Konaté",
         "DF",
         "25-363",
         "31",
         "1.12",
         "0"
        ]
       ],
       "shape": {
        "columns": 6,
        "rows": 5
       }
      },
      "text/html": [
       "<div>\n",
       "<style scoped>\n",
       "    .dataframe tbody tr th:only-of-type {\n",
       "        vertical-align: middle;\n",
       "    }\n",
       "\n",
       "    .dataframe tbody tr th {\n",
       "        vertical-align: top;\n",
       "    }\n",
       "\n",
       "    .dataframe thead th {\n",
       "        text-align: right;\n",
       "    }\n",
       "</style>\n",
       "<table border=\"1\" class=\"dataframe\">\n",
       "  <thead>\n",
       "    <tr style=\"text-align: right;\">\n",
       "      <th></th>\n",
       "      <th>Player</th>\n",
       "      <th>Pos</th>\n",
       "      <th>Age</th>\n",
       "      <th>SCA</th>\n",
       "      <th>SCA90</th>\n",
       "      <th>TO</th>\n",
       "    </tr>\n",
       "  </thead>\n",
       "  <tbody>\n",
       "    <tr>\n",
       "      <th>0</th>\n",
       "      <td>Mohamed Salah</td>\n",
       "      <td>FW</td>\n",
       "      <td>32-342</td>\n",
       "      <td>164</td>\n",
       "      <td>4.50</td>\n",
       "      <td>22</td>\n",
       "    </tr>\n",
       "    <tr>\n",
       "      <th>1</th>\n",
       "      <td>Virgil van Dijk</td>\n",
       "      <td>DF</td>\n",
       "      <td>33-319</td>\n",
       "      <td>48</td>\n",
       "      <td>1.33</td>\n",
       "      <td>1</td>\n",
       "    </tr>\n",
       "    <tr>\n",
       "      <th>2</th>\n",
       "      <td>Ryan Gravenberch</td>\n",
       "      <td>MF</td>\n",
       "      <td>23-007</td>\n",
       "      <td>66</td>\n",
       "      <td>1.92</td>\n",
       "      <td>5</td>\n",
       "    </tr>\n",
       "    <tr>\n",
       "      <th>3</th>\n",
       "      <td>Alexis Mac Allister</td>\n",
       "      <td>MF</td>\n",
       "      <td>26-150</td>\n",
       "      <td>120</td>\n",
       "      <td>4.15</td>\n",
       "      <td>2</td>\n",
       "    </tr>\n",
       "    <tr>\n",
       "      <th>4</th>\n",
       "      <td>Ibrahima Konaté</td>\n",
       "      <td>DF</td>\n",
       "      <td>25-363</td>\n",
       "      <td>31</td>\n",
       "      <td>1.12</td>\n",
       "      <td>0</td>\n",
       "    </tr>\n",
       "  </tbody>\n",
       "</table>\n",
       "</div>"
      ],
      "text/plain": [
       "                Player Pos     Age  SCA  SCA90  TO\n",
       "0        Mohamed Salah  FW  32-342  164   4.50  22\n",
       "1      Virgil van Dijk  DF  33-319   48   1.33   1\n",
       "2     Ryan Gravenberch  MF  23-007   66   1.92   5\n",
       "3  Alexis Mac Allister  MF  26-150  120   4.15   2\n",
       "4      Ibrahima Konaté  DF  25-363   31   1.12   0"
      ]
     },
     "execution_count": 3,
     "metadata": {},
     "output_type": "execute_result"
    }
   ],
   "source": [
    "# Load dataset\n",
    "shot_df = pd.read_csv('Shot_Creation.csv')\n",
    "\n",
    "# Preview relevant columns\n",
    "shot_df[['Player', 'Pos', 'Age', 'SCA', 'SCA90', 'TO']].head()"
   ]
  },
  {
   "cell_type": "code",
   "execution_count": 4,
   "id": "fdb7750c",
   "metadata": {},
   "outputs": [
    {
     "data": {
      "application/vnd.microsoft.datawrangler.viewer.v0+json": {
       "columns": [
        {
         "name": "index",
         "rawType": "int64",
         "type": "integer"
        },
        {
         "name": "Player",
         "rawType": "object",
         "type": "string"
        },
        {
         "name": "Pos",
         "rawType": "object",
         "type": "string"
        },
        {
         "name": "Age",
         "rawType": "float64",
         "type": "float"
        },
        {
         "name": "SCA",
         "rawType": "int64",
         "type": "integer"
        },
        {
         "name": "SCA90",
         "rawType": "float64",
         "type": "float"
        },
        {
         "name": "TO",
         "rawType": "int64",
         "type": "integer"
        },
        {
         "name": "TO_SCA_ratio",
         "rawType": "float64",
         "type": "float"
        },
        {
         "name": "SCA90_rank",
         "rawType": "float64",
         "type": "float"
        }
       ],
       "ref": "eca7d621-ebbc-47c4-a7d4-931c82b29f86",
       "rows": [
        [
         "0",
         "Mohamed Salah",
         "FW",
         "32.0",
         "164",
         "4.5",
         "22",
         "0.13414634146341464",
         "90.0"
        ],
        [
         "1",
         "Virgil van Dijk",
         "DF",
         "33.0",
         "48",
         "1.33",
         "1",
         "0.020833333333333332",
         "396.0"
        ],
        [
         "2",
         "Ryan Gravenberch",
         "MF",
         "23.0",
         "66",
         "1.92",
         "5",
         "0.07575757575757576",
         "297.0"
        ],
        [
         "3",
         "Alexis Mac Allister",
         "MF",
         "26.0",
         "120",
         "4.15",
         "2",
         "0.016666666666666666",
         "103.0"
        ],
        [
         "4",
         "Ibrahima Konaté",
         "DF",
         "25.0",
         "31",
         "1.12",
         "0",
         "0.0",
         "429.0"
        ]
       ],
       "shape": {
        "columns": 8,
        "rows": 5
       }
      },
      "text/html": [
       "<div>\n",
       "<style scoped>\n",
       "    .dataframe tbody tr th:only-of-type {\n",
       "        vertical-align: middle;\n",
       "    }\n",
       "\n",
       "    .dataframe tbody tr th {\n",
       "        vertical-align: top;\n",
       "    }\n",
       "\n",
       "    .dataframe thead th {\n",
       "        text-align: right;\n",
       "    }\n",
       "</style>\n",
       "<table border=\"1\" class=\"dataframe\">\n",
       "  <thead>\n",
       "    <tr style=\"text-align: right;\">\n",
       "      <th></th>\n",
       "      <th>Player</th>\n",
       "      <th>Pos</th>\n",
       "      <th>Age</th>\n",
       "      <th>SCA</th>\n",
       "      <th>SCA90</th>\n",
       "      <th>TO</th>\n",
       "      <th>TO_SCA_ratio</th>\n",
       "      <th>SCA90_rank</th>\n",
       "    </tr>\n",
       "  </thead>\n",
       "  <tbody>\n",
       "    <tr>\n",
       "      <th>0</th>\n",
       "      <td>Mohamed Salah</td>\n",
       "      <td>FW</td>\n",
       "      <td>32.0</td>\n",
       "      <td>164</td>\n",
       "      <td>4.50</td>\n",
       "      <td>22</td>\n",
       "      <td>0.134146</td>\n",
       "      <td>90.0</td>\n",
       "    </tr>\n",
       "    <tr>\n",
       "      <th>1</th>\n",
       "      <td>Virgil van Dijk</td>\n",
       "      <td>DF</td>\n",
       "      <td>33.0</td>\n",
       "      <td>48</td>\n",
       "      <td>1.33</td>\n",
       "      <td>1</td>\n",
       "      <td>0.020833</td>\n",
       "      <td>396.0</td>\n",
       "    </tr>\n",
       "    <tr>\n",
       "      <th>2</th>\n",
       "      <td>Ryan Gravenberch</td>\n",
       "      <td>MF</td>\n",
       "      <td>23.0</td>\n",
       "      <td>66</td>\n",
       "      <td>1.92</td>\n",
       "      <td>5</td>\n",
       "      <td>0.075758</td>\n",
       "      <td>297.0</td>\n",
       "    </tr>\n",
       "    <tr>\n",
       "      <th>3</th>\n",
       "      <td>Alexis Mac Allister</td>\n",
       "      <td>MF</td>\n",
       "      <td>26.0</td>\n",
       "      <td>120</td>\n",
       "      <td>4.15</td>\n",
       "      <td>2</td>\n",
       "      <td>0.016667</td>\n",
       "      <td>103.0</td>\n",
       "    </tr>\n",
       "    <tr>\n",
       "      <th>4</th>\n",
       "      <td>Ibrahima Konaté</td>\n",
       "      <td>DF</td>\n",
       "      <td>25.0</td>\n",
       "      <td>31</td>\n",
       "      <td>1.12</td>\n",
       "      <td>0</td>\n",
       "      <td>0.000000</td>\n",
       "      <td>429.0</td>\n",
       "    </tr>\n",
       "  </tbody>\n",
       "</table>\n",
       "</div>"
      ],
      "text/plain": [
       "                Player Pos   Age  SCA  SCA90  TO  TO_SCA_ratio  SCA90_rank\n",
       "0        Mohamed Salah  FW  32.0  164   4.50  22      0.134146        90.0\n",
       "1      Virgil van Dijk  DF  33.0   48   1.33   1      0.020833       396.0\n",
       "2     Ryan Gravenberch  MF  23.0   66   1.92   5      0.075758       297.0\n",
       "3  Alexis Mac Allister  MF  26.0  120   4.15   2      0.016667       103.0\n",
       "4      Ibrahima Konaté  DF  25.0   31   1.12   0      0.000000       429.0"
      ]
     },
     "execution_count": 4,
     "metadata": {},
     "output_type": "execute_result"
    }
   ],
   "source": [
    "# Clean and convert columns\n",
    "shot_df['SCA'] = pd.to_numeric(shot_df['SCA'], errors='coerce')\n",
    "shot_df['SCA90'] = pd.to_numeric(shot_df['SCA90'], errors='coerce')\n",
    "shot_df['TO'] = pd.to_numeric(shot_df['TO'], errors='coerce')\n",
    "shot_df['Age'] = shot_df['Age'].str.extract(r'(\\d{2})').astype(float)\n",
    "\n",
    "# Calculate take-on dependency ratio\n",
    "shot_df['TO_SCA_ratio'] = shot_df['TO'] / shot_df['SCA']\n",
    "\n",
    "# SCA90 ranking\n",
    "shot_df['SCA90_rank'] = shot_df['SCA90'].rank(ascending=False, method='min')\n",
    "\n",
    "# Drop rows with missing values in key columns\n",
    "shot_df = shot_df.dropna(subset=['SCA', 'SCA90', 'TO', 'TO_SCA_ratio', 'Age'])\n",
    "\n",
    "# Remove 'Squad Total' and 'Opponent Total' rows from the data\n",
    "shot_df = shot_df[~shot_df['Player'].str.contains('Squad Total|Opponent Total', case=False, na=False)]\n",
    "\n",
    "# Preview new columns\n",
    "shot_df[['Player', 'Pos', 'Age', 'SCA', 'SCA90', 'TO', 'TO_SCA_ratio', 'SCA90_rank']].head()"
   ]
  },
  {
   "cell_type": "code",
   "execution_count": 5,
   "id": "8698952b",
   "metadata": {},
   "outputs": [
    {
     "data": {
      "application/vnd.plotly.v1+json": {
       "config": {
        "plotlyServerURL": "https://plot.ly"
       },
       "data": [
        {
         "customdata": [
          [
           "Mohamed Salah",
           164,
           22,
           32,
           "FW"
          ],
          [
           "Luis Díaz",
           117,
           16,
           28,
           "FW"
          ],
          [
           "Marcus Rashford",
           27,
           3,
           27,
           "FW"
          ],
          [
           "Reiss Nelson",
           31,
           3,
           25,
           "FW"
          ],
          [
           "Son Heung-min",
           117,
           10,
           32,
           "FW"
          ]
         ],
         "hovertemplate": "Pos=%{customdata[4]}<br>Take-on Dependency Ratio (TO/SCA)=%{x}<br>SCA per 90=%{y}<br>Age=%{customdata[3]}<br>Player=%{customdata[0]}<br>SCA=%{customdata[1]}<br>TO=%{customdata[2]}<extra></extra>",
         "legendgroup": "FW",
         "marker": {
          "color": "#636efa",
          "size": [
           32,
           28,
           27,
           25,
           32
          ],
          "sizemode": "area",
          "sizeref": 0.085,
          "symbol": "circle"
         },
         "mode": "markers",
         "name": "FW",
         "orientation": "v",
         "showlegend": true,
         "type": "scatter",
         "x": [
          0.13414634146341464,
          0.13675213675213677,
          0.1111111111111111,
          0.0967741935483871,
          0.08547008547008547
         ],
         "xaxis": "x",
         "y": [
          4.5,
          4.52,
          5.49,
          5.73,
          4.99
         ],
         "yaxis": "y"
        },
        {
         "customdata": [
          [
           "Alexis Mac Allister",
           120,
           2,
           26,
           "MF"
          ],
          [
           "Dominik Szoboszlai",
           117,
           5,
           24,
           "MF"
          ],
          [
           "Martin Ødegaard",
           123,
           2,
           26,
           "MF"
          ],
          [
           "Cole Palmer",
           200,
           16,
           23,
           "MF"
          ],
          [
           "Enzo Fernández",
           146,
           2,
           24,
           "MF"
          ],
          [
           "Marco Asensio",
           34,
           1,
           29,
           "MF"
          ],
          [
           "Mathias Jensen",
           40,
           1,
           29,
           "MF"
          ],
          [
           "Andreas Pereira",
           103,
           0,
           29,
           "MF"
          ],
          [
           "Tom Cairney",
           31,
           0,
           34,
           "MF"
          ],
          [
           "Adam Wharton",
           59,
           0,
           20,
           "MF"
          ],
          [
           "Bruno Fernandes",
           181,
           5,
           30,
           "MF"
          ],
          [
           "Christian Eriksen",
           52,
           0,
           33,
           "MF"
          ],
          [
           "James Maddison",
           95,
           7,
           28,
           "MF"
          ]
         ],
         "hovertemplate": "Pos=%{customdata[4]}<br>Take-on Dependency Ratio (TO/SCA)=%{x}<br>SCA per 90=%{y}<br>Age=%{customdata[3]}<br>Player=%{customdata[0]}<br>SCA=%{customdata[1]}<br>TO=%{customdata[2]}<extra></extra>",
         "legendgroup": "MF",
         "marker": {
          "color": "#EF553B",
          "size": [
           26,
           24,
           26,
           23,
           24,
           29,
           29,
           29,
           34,
           20,
           30,
           33,
           28
          ],
          "sizemode": "area",
          "sizeref": 0.085,
          "symbol": "circle"
         },
         "mode": "markers",
         "name": "MF",
         "orientation": "v",
         "showlegend": true,
         "type": "scatter",
         "x": [
          0.016666666666666666,
          0.042735042735042736,
          0.016260162601626018,
          0.08,
          0.0136986301369863,
          0.029411764705882353,
          0.025,
          0,
          0,
          0,
          0.027624309392265192,
          0,
          0.07368421052631578
         ],
         "xaxis": "x",
         "y": [
          4.15,
          4.33,
          4.8,
          5.81,
          4.6,
          4.38,
          4.23,
          4.75,
          5,
          4.03,
          5.56,
          4.51,
          4.73
         ],
         "yaxis": "y"
        },
        {
         "customdata": [
          [
           "Harvey Elliott",
           21,
           1,
           22,
           "MF,FW"
          ],
          [
           "Phil Foden",
           88,
           3,
           24,
           "MF,FW"
          ],
          [
           "Kevin De Bruyne",
           113,
           3,
           33,
           "MF,FW"
          ],
          [
           "Brajan Gruda",
           35,
           3,
           20,
           "MF,FW"
          ],
          [
           "Eberechi Eze",
           133,
           11,
           26,
           "MF,FW"
          ],
          [
           "Dwight McNeil",
           71,
           6,
           25,
           "MF,FW"
          ],
          [
           "Matheus Cunha",
           127,
           18,
           25,
           "MF,FW"
          ],
          [
           "Amad Diallo",
           93,
           10,
           22,
           "MF,FW"
          ],
          [
           "Dejan Kulusevski",
           128,
           15,
           25,
           "MF,FW"
          ]
         ],
         "hovertemplate": "Pos=%{customdata[4]}<br>Take-on Dependency Ratio (TO/SCA)=%{x}<br>SCA per 90=%{y}<br>Age=%{customdata[3]}<br>Player=%{customdata[0]}<br>SCA=%{customdata[1]}<br>TO=%{customdata[2]}<extra></extra>",
         "legendgroup": "MF,FW",
         "marker": {
          "color": "#00cc96",
          "size": [
           22,
           24,
           33,
           20,
           26,
           25,
           25,
           22,
           25
          ],
          "sizemode": "area",
          "sizeref": 0.085,
          "symbol": "circle"
         },
         "mode": "markers",
         "name": "MF,FW",
         "orientation": "v",
         "showlegend": true,
         "type": "scatter",
         "x": [
          0.047619047619047616,
          0.03409090909090909,
          0.02654867256637168,
          0.08571428571428572,
          0.08270676691729323,
          0.08450704225352113,
          0.14173228346456693,
          0.10752688172043011,
          0.1171875
         ],
         "xaxis": "x",
         "y": [
          5.18,
          4.48,
          5.99,
          5.14,
          4.74,
          4.71,
          4.56,
          4.62,
          4.82
         ],
         "yaxis": "y"
        },
        {
         "customdata": [
          [
           "Bukayo Saka",
           112,
           11,
           23,
           "FW,MF"
          ],
          [
           "Sávio",
           111,
           15,
           21,
           "FW,MF"
          ],
          [
           "Jeremy Doku",
           74,
           13,
           22,
           "FW,MF"
          ],
          [
           "Jack Grealish",
           47,
           3,
           29,
           "FW,MF"
          ],
          [
           "Adama Traoré",
           81,
           9,
           29,
           "FW,MF"
          ],
          [
           "Marcus Tavernier",
           90,
           3,
           26,
           "FW,MF"
          ],
          [
           "Crysencio Summerville",
           35,
           5,
           23,
           "FW,MF"
          ]
         ],
         "hovertemplate": "Pos=%{customdata[4]}<br>Take-on Dependency Ratio (TO/SCA)=%{x}<br>SCA per 90=%{y}<br>Age=%{customdata[3]}<br>Player=%{customdata[0]}<br>SCA=%{customdata[1]}<br>TO=%{customdata[2]}<extra></extra>",
         "legendgroup": "FW,MF",
         "marker": {
          "color": "#ab63fa",
          "size": [
           23,
           21,
           22,
           29,
           29,
           26,
           23
          ],
          "sizemode": "area",
          "sizeref": 0.085,
          "symbol": "circle"
         },
         "mode": "markers",
         "name": "FW,MF",
         "orientation": "v",
         "showlegend": true,
         "type": "scatter",
         "x": [
          0.09821428571428571,
          0.13513513513513514,
          0.17567567567567569,
          0.06382978723404255,
          0.1111111111111111,
          0.03333333333333333,
          0.14285714285714285
         ],
         "xaxis": "x",
         "y": [
          5.93,
          5.71,
          4.62,
          5.86,
          4.29,
          4.38,
          4.01
         ],
         "yaxis": "y"
        },
        {
         "customdata": [
          [
           "Ian Maatsen",
           52,
           5,
           23,
           "DF"
          ]
         ],
         "hovertemplate": "Pos=%{customdata[4]}<br>Take-on Dependency Ratio (TO/SCA)=%{x}<br>SCA per 90=%{y}<br>Age=%{customdata[3]}<br>Player=%{customdata[0]}<br>SCA=%{customdata[1]}<br>TO=%{customdata[2]}<extra></extra>",
         "legendgroup": "DF",
         "marker": {
          "color": "#FFA15A",
          "size": [
           23
          ],
          "sizemode": "area",
          "sizeref": 0.085,
          "symbol": "circle"
         },
         "mode": "markers",
         "name": "DF",
         "orientation": "v",
         "showlegend": true,
         "type": "scatter",
         "x": [
          0.09615384615384616
         ],
         "xaxis": "x",
         "y": [
          4.46
         ],
         "yaxis": "y"
        }
       ],
       "layout": {
        "height": 600,
        "legend": {
         "itemsizing": "constant",
         "title": {
          "text": "Pos"
         },
         "tracegroupgap": 0
        },
        "template": {
         "data": {
          "bar": [
           {
            "error_x": {
             "color": "#2a3f5f"
            },
            "error_y": {
             "color": "#2a3f5f"
            },
            "marker": {
             "line": {
              "color": "#E5ECF6",
              "width": 0.5
             },
             "pattern": {
              "fillmode": "overlay",
              "size": 10,
              "solidity": 0.2
             }
            },
            "type": "bar"
           }
          ],
          "barpolar": [
           {
            "marker": {
             "line": {
              "color": "#E5ECF6",
              "width": 0.5
             },
             "pattern": {
              "fillmode": "overlay",
              "size": 10,
              "solidity": 0.2
             }
            },
            "type": "barpolar"
           }
          ],
          "carpet": [
           {
            "aaxis": {
             "endlinecolor": "#2a3f5f",
             "gridcolor": "white",
             "linecolor": "white",
             "minorgridcolor": "white",
             "startlinecolor": "#2a3f5f"
            },
            "baxis": {
             "endlinecolor": "#2a3f5f",
             "gridcolor": "white",
             "linecolor": "white",
             "minorgridcolor": "white",
             "startlinecolor": "#2a3f5f"
            },
            "type": "carpet"
           }
          ],
          "choropleth": [
           {
            "colorbar": {
             "outlinewidth": 0,
             "ticks": ""
            },
            "type": "choropleth"
           }
          ],
          "contour": [
           {
            "colorbar": {
             "outlinewidth": 0,
             "ticks": ""
            },
            "colorscale": [
             [
              0,
              "#0d0887"
             ],
             [
              0.1111111111111111,
              "#46039f"
             ],
             [
              0.2222222222222222,
              "#7201a8"
             ],
             [
              0.3333333333333333,
              "#9c179e"
             ],
             [
              0.4444444444444444,
              "#bd3786"
             ],
             [
              0.5555555555555556,
              "#d8576b"
             ],
             [
              0.6666666666666666,
              "#ed7953"
             ],
             [
              0.7777777777777778,
              "#fb9f3a"
             ],
             [
              0.8888888888888888,
              "#fdca26"
             ],
             [
              1,
              "#f0f921"
             ]
            ],
            "type": "contour"
           }
          ],
          "contourcarpet": [
           {
            "colorbar": {
             "outlinewidth": 0,
             "ticks": ""
            },
            "type": "contourcarpet"
           }
          ],
          "heatmap": [
           {
            "colorbar": {
             "outlinewidth": 0,
             "ticks": ""
            },
            "colorscale": [
             [
              0,
              "#0d0887"
             ],
             [
              0.1111111111111111,
              "#46039f"
             ],
             [
              0.2222222222222222,
              "#7201a8"
             ],
             [
              0.3333333333333333,
              "#9c179e"
             ],
             [
              0.4444444444444444,
              "#bd3786"
             ],
             [
              0.5555555555555556,
              "#d8576b"
             ],
             [
              0.6666666666666666,
              "#ed7953"
             ],
             [
              0.7777777777777778,
              "#fb9f3a"
             ],
             [
              0.8888888888888888,
              "#fdca26"
             ],
             [
              1,
              "#f0f921"
             ]
            ],
            "type": "heatmap"
           }
          ],
          "heatmapgl": [
           {
            "colorbar": {
             "outlinewidth": 0,
             "ticks": ""
            },
            "colorscale": [
             [
              0,
              "#0d0887"
             ],
             [
              0.1111111111111111,
              "#46039f"
             ],
             [
              0.2222222222222222,
              "#7201a8"
             ],
             [
              0.3333333333333333,
              "#9c179e"
             ],
             [
              0.4444444444444444,
              "#bd3786"
             ],
             [
              0.5555555555555556,
              "#d8576b"
             ],
             [
              0.6666666666666666,
              "#ed7953"
             ],
             [
              0.7777777777777778,
              "#fb9f3a"
             ],
             [
              0.8888888888888888,
              "#fdca26"
             ],
             [
              1,
              "#f0f921"
             ]
            ],
            "type": "heatmapgl"
           }
          ],
          "histogram": [
           {
            "marker": {
             "pattern": {
              "fillmode": "overlay",
              "size": 10,
              "solidity": 0.2
             }
            },
            "type": "histogram"
           }
          ],
          "histogram2d": [
           {
            "colorbar": {
             "outlinewidth": 0,
             "ticks": ""
            },
            "colorscale": [
             [
              0,
              "#0d0887"
             ],
             [
              0.1111111111111111,
              "#46039f"
             ],
             [
              0.2222222222222222,
              "#7201a8"
             ],
             [
              0.3333333333333333,
              "#9c179e"
             ],
             [
              0.4444444444444444,
              "#bd3786"
             ],
             [
              0.5555555555555556,
              "#d8576b"
             ],
             [
              0.6666666666666666,
              "#ed7953"
             ],
             [
              0.7777777777777778,
              "#fb9f3a"
             ],
             [
              0.8888888888888888,
              "#fdca26"
             ],
             [
              1,
              "#f0f921"
             ]
            ],
            "type": "histogram2d"
           }
          ],
          "histogram2dcontour": [
           {
            "colorbar": {
             "outlinewidth": 0,
             "ticks": ""
            },
            "colorscale": [
             [
              0,
              "#0d0887"
             ],
             [
              0.1111111111111111,
              "#46039f"
             ],
             [
              0.2222222222222222,
              "#7201a8"
             ],
             [
              0.3333333333333333,
              "#9c179e"
             ],
             [
              0.4444444444444444,
              "#bd3786"
             ],
             [
              0.5555555555555556,
              "#d8576b"
             ],
             [
              0.6666666666666666,
              "#ed7953"
             ],
             [
              0.7777777777777778,
              "#fb9f3a"
             ],
             [
              0.8888888888888888,
              "#fdca26"
             ],
             [
              1,
              "#f0f921"
             ]
            ],
            "type": "histogram2dcontour"
           }
          ],
          "mesh3d": [
           {
            "colorbar": {
             "outlinewidth": 0,
             "ticks": ""
            },
            "type": "mesh3d"
           }
          ],
          "parcoords": [
           {
            "line": {
             "colorbar": {
              "outlinewidth": 0,
              "ticks": ""
             }
            },
            "type": "parcoords"
           }
          ],
          "pie": [
           {
            "automargin": true,
            "type": "pie"
           }
          ],
          "scatter": [
           {
            "fillpattern": {
             "fillmode": "overlay",
             "size": 10,
             "solidity": 0.2
            },
            "type": "scatter"
           }
          ],
          "scatter3d": [
           {
            "line": {
             "colorbar": {
              "outlinewidth": 0,
              "ticks": ""
             }
            },
            "marker": {
             "colorbar": {
              "outlinewidth": 0,
              "ticks": ""
             }
            },
            "type": "scatter3d"
           }
          ],
          "scattercarpet": [
           {
            "marker": {
             "colorbar": {
              "outlinewidth": 0,
              "ticks": ""
             }
            },
            "type": "scattercarpet"
           }
          ],
          "scattergeo": [
           {
            "marker": {
             "colorbar": {
              "outlinewidth": 0,
              "ticks": ""
             }
            },
            "type": "scattergeo"
           }
          ],
          "scattergl": [
           {
            "marker": {
             "colorbar": {
              "outlinewidth": 0,
              "ticks": ""
             }
            },
            "type": "scattergl"
           }
          ],
          "scattermapbox": [
           {
            "marker": {
             "colorbar": {
              "outlinewidth": 0,
              "ticks": ""
             }
            },
            "type": "scattermapbox"
           }
          ],
          "scatterpolar": [
           {
            "marker": {
             "colorbar": {
              "outlinewidth": 0,
              "ticks": ""
             }
            },
            "type": "scatterpolar"
           }
          ],
          "scatterpolargl": [
           {
            "marker": {
             "colorbar": {
              "outlinewidth": 0,
              "ticks": ""
             }
            },
            "type": "scatterpolargl"
           }
          ],
          "scatterternary": [
           {
            "marker": {
             "colorbar": {
              "outlinewidth": 0,
              "ticks": ""
             }
            },
            "type": "scatterternary"
           }
          ],
          "surface": [
           {
            "colorbar": {
             "outlinewidth": 0,
             "ticks": ""
            },
            "colorscale": [
             [
              0,
              "#0d0887"
             ],
             [
              0.1111111111111111,
              "#46039f"
             ],
             [
              0.2222222222222222,
              "#7201a8"
             ],
             [
              0.3333333333333333,
              "#9c179e"
             ],
             [
              0.4444444444444444,
              "#bd3786"
             ],
             [
              0.5555555555555556,
              "#d8576b"
             ],
             [
              0.6666666666666666,
              "#ed7953"
             ],
             [
              0.7777777777777778,
              "#fb9f3a"
             ],
             [
              0.8888888888888888,
              "#fdca26"
             ],
             [
              1,
              "#f0f921"
             ]
            ],
            "type": "surface"
           }
          ],
          "table": [
           {
            "cells": {
             "fill": {
              "color": "#EBF0F8"
             },
             "line": {
              "color": "white"
             }
            },
            "header": {
             "fill": {
              "color": "#C8D4E3"
             },
             "line": {
              "color": "white"
             }
            },
            "type": "table"
           }
          ]
         },
         "layout": {
          "annotationdefaults": {
           "arrowcolor": "#2a3f5f",
           "arrowhead": 0,
           "arrowwidth": 1
          },
          "autotypenumbers": "strict",
          "coloraxis": {
           "colorbar": {
            "outlinewidth": 0,
            "ticks": ""
           }
          },
          "colorscale": {
           "diverging": [
            [
             0,
             "#8e0152"
            ],
            [
             0.1,
             "#c51b7d"
            ],
            [
             0.2,
             "#de77ae"
            ],
            [
             0.3,
             "#f1b6da"
            ],
            [
             0.4,
             "#fde0ef"
            ],
            [
             0.5,
             "#f7f7f7"
            ],
            [
             0.6,
             "#e6f5d0"
            ],
            [
             0.7,
             "#b8e186"
            ],
            [
             0.8,
             "#7fbc41"
            ],
            [
             0.9,
             "#4d9221"
            ],
            [
             1,
             "#276419"
            ]
           ],
           "sequential": [
            [
             0,
             "#0d0887"
            ],
            [
             0.1111111111111111,
             "#46039f"
            ],
            [
             0.2222222222222222,
             "#7201a8"
            ],
            [
             0.3333333333333333,
             "#9c179e"
            ],
            [
             0.4444444444444444,
             "#bd3786"
            ],
            [
             0.5555555555555556,
             "#d8576b"
            ],
            [
             0.6666666666666666,
             "#ed7953"
            ],
            [
             0.7777777777777778,
             "#fb9f3a"
            ],
            [
             0.8888888888888888,
             "#fdca26"
            ],
            [
             1,
             "#f0f921"
            ]
           ],
           "sequentialminus": [
            [
             0,
             "#0d0887"
            ],
            [
             0.1111111111111111,
             "#46039f"
            ],
            [
             0.2222222222222222,
             "#7201a8"
            ],
            [
             0.3333333333333333,
             "#9c179e"
            ],
            [
             0.4444444444444444,
             "#bd3786"
            ],
            [
             0.5555555555555556,
             "#d8576b"
            ],
            [
             0.6666666666666666,
             "#ed7953"
            ],
            [
             0.7777777777777778,
             "#fb9f3a"
            ],
            [
             0.8888888888888888,
             "#fdca26"
            ],
            [
             1,
             "#f0f921"
            ]
           ]
          },
          "colorway": [
           "#636efa",
           "#EF553B",
           "#00cc96",
           "#ab63fa",
           "#FFA15A",
           "#19d3f3",
           "#FF6692",
           "#B6E880",
           "#FF97FF",
           "#FECB52"
          ],
          "font": {
           "color": "#2a3f5f"
          },
          "geo": {
           "bgcolor": "white",
           "lakecolor": "white",
           "landcolor": "#E5ECF6",
           "showlakes": true,
           "showland": true,
           "subunitcolor": "white"
          },
          "hoverlabel": {
           "align": "left"
          },
          "hovermode": "closest",
          "mapbox": {
           "style": "light"
          },
          "paper_bgcolor": "white",
          "plot_bgcolor": "#E5ECF6",
          "polar": {
           "angularaxis": {
            "gridcolor": "white",
            "linecolor": "white",
            "ticks": ""
           },
           "bgcolor": "#E5ECF6",
           "radialaxis": {
            "gridcolor": "white",
            "linecolor": "white",
            "ticks": ""
           }
          },
          "scene": {
           "xaxis": {
            "backgroundcolor": "#E5ECF6",
            "gridcolor": "white",
            "gridwidth": 2,
            "linecolor": "white",
            "showbackground": true,
            "ticks": "",
            "zerolinecolor": "white"
           },
           "yaxis": {
            "backgroundcolor": "#E5ECF6",
            "gridcolor": "white",
            "gridwidth": 2,
            "linecolor": "white",
            "showbackground": true,
            "ticks": "",
            "zerolinecolor": "white"
           },
           "zaxis": {
            "backgroundcolor": "#E5ECF6",
            "gridcolor": "white",
            "gridwidth": 2,
            "linecolor": "white",
            "showbackground": true,
            "ticks": "",
            "zerolinecolor": "white"
           }
          },
          "shapedefaults": {
           "line": {
            "color": "#2a3f5f"
           }
          },
          "ternary": {
           "aaxis": {
            "gridcolor": "white",
            "linecolor": "white",
            "ticks": ""
           },
           "baxis": {
            "gridcolor": "white",
            "linecolor": "white",
            "ticks": ""
           },
           "bgcolor": "#E5ECF6",
           "caxis": {
            "gridcolor": "white",
            "linecolor": "white",
            "ticks": ""
           }
          },
          "title": {
           "x": 0.05
          },
          "xaxis": {
           "automargin": true,
           "gridcolor": "white",
           "linecolor": "white",
           "ticks": "",
           "title": {
            "standoff": 15
           },
           "zerolinecolor": "white",
           "zerolinewidth": 2
          },
          "yaxis": {
           "automargin": true,
           "gridcolor": "white",
           "linecolor": "white",
           "ticks": "",
           "title": {
            "standoff": 15
           },
           "zerolinecolor": "white",
           "zerolinewidth": 2
          }
         }
        },
        "title": {
         "text": "SCA90 vs Take-on Dependency Ratio by Position and Age"
        },
        "xaxis": {
         "anchor": "y",
         "domain": [
          0,
          1
         ],
         "title": {
          "text": "Take-on Dependency Ratio (TO/SCA)"
         }
        },
        "yaxis": {
         "anchor": "x",
         "domain": [
          0,
          1
         ],
         "title": {
          "text": "SCA per 90"
         }
        }
       }
      }
     },
     "metadata": {},
     "output_type": "display_data"
    }
   ],
   "source": [
    "# Interactive scatter plot: SCA90 vs Take-on Dependency\n",
    "# Apply thresholding ONLY for this plot\n",
    "min_sca = 20  # Increase threshold\n",
    "min_sca90 = 4.0  # Increase threshold\n",
    "plot_df = shot_df[(shot_df['SCA'] >= min_sca) & (shot_df['SCA90'] >= min_sca90)]\n",
    "\n",
    "fig = px.scatter(\n",
    "    plot_df,\n",
    "    x='TO_SCA_ratio',\n",
    "    y='SCA90',\n",
    "    color='Pos',\n",
    "    size='Age',\n",
    "    hover_data=['Player', 'SCA', 'TO', 'SCA90', 'TO_SCA_ratio', 'Age', 'Pos'],\n",
    "    labels={'TO_SCA_ratio': 'Take-on Dependency Ratio (TO/SCA)', 'SCA90': 'SCA per 90'},\n",
    "    title='SCA90 vs Take-on Dependency Ratio by Position and Age',\n",
    "    height=600\n",
    ")\n",
    "fig.show()"
   ]
  },
  {
   "cell_type": "code",
   "execution_count": 6,
   "id": "43a30f6f",
   "metadata": {},
   "outputs": [
    {
     "data": {
      "image/png": "[encoded data removed]",
      "text/plain": [
       "<Figure size 600x400 with 2 Axes>"
      ]
     },
     "metadata": {},
     "output_type": "display_data"
    }
   ],
   "source": [
    "# Correlation analysis between SCA90, TO_SCA_ratio, Age, and position (encoded numerically)\n",
    "corr_df = shot_df.copy()\n",
    "corr_df['Pos_code'] = LabelEncoder().fit_transform(corr_df['Pos'])\n",
    "corr = corr_df[['SCA90', 'TO_SCA_ratio', 'Age', 'Pos_code']].corr()\n",
    "\n",
    "plt.figure(figsize=(6,4))\n",
    "sns.heatmap(corr, annot=True, cmap='coolwarm', fmt='.2f')\n",
    "plt.title('Correlation Heatmap: SCA90, Take-on Dependency, Age, Position')\n",
    "plt.show()"
   ]
  },
  {
   "cell_type": "code",
   "execution_count": 7,
   "id": "4b7c803b",
   "metadata": {},
   "outputs": [
    {
     "data": {
      "application/vnd.microsoft.datawrangler.viewer.v0+json": {
       "columns": [
        {
         "name": "index",
         "rawType": "int64",
         "type": "integer"
        },
        {
         "name": "Player",
         "rawType": "object",
         "type": "string"
        },
        {
         "name": "Pos",
         "rawType": "object",
         "type": "string"
        },
        {
         "name": "Age",
         "rawType": "float64",
         "type": "float"
        },
        {
         "name": "SCA90",
         "rawType": "float64",
         "type": "float"
        },
        {
         "name": "TO_SCA_ratio",
         "rawType": "float64",
         "type": "float"
        },
        {
         "name": "efficiency_score",
         "rawType": "float64",
         "type": "float"
        },
        {
         "name": "efficiency_rank",
         "rawType": "float64",
         "type": "float"
        }
       ],
       "ref": "bfc4cf86-042d-4985-9b5d-348bfbae262e",
       "rows": [
        [
         "225",
         "Jakub Moder",
         "MF",
         "26.0",
         "32.73",
         "0.0",
         "1.0",
         "1.0"
        ],
        [
         "405",
         "Chiquinho",
         "MF",
         "25.0",
         "25.71",
         "0.0",
         "0.8713107241063245",
         "2.0"
        ],
        [
         "347",
         "Asher Agbinone",
         "MF",
         "19.0",
         "15.0",
         "0.0",
         "0.6749770852428965",
         "3.0"
        ],
        [
         "49",
         "Takehiro Tomiyasu",
         "DF",
         "26.0",
         "12.86",
         "0.0",
         "0.6357470210815765",
         "4.0"
        ],
        [
         "607",
         "Carlos Alcaraz",
         "MF",
         "22.0",
         "9.0",
         "0.0",
         "0.5649862511457379",
         "5.0"
        ],
        [
         "310",
         "Philip Billing",
         "MF",
         "28.0",
         "7.83",
         "0.0",
         "0.5435380384967919",
         "6.0"
        ],
        [
         "605",
         "Samuel Amo-Ameyaw",
         "FW,DF",
         "18.0",
         "6.43",
         "0.0",
         "0.5178735105407883",
         "7.0"
        ],
        [
         "533",
         "Odsonne Édouard",
         "FW",
         "27.0",
         "6.21",
         "0.0",
         "0.5138405132905591",
         "8.0"
        ],
        [
         "280",
         "Willian",
         "FW,MF",
         "36.0",
         "5.93",
         "0.0",
         "0.5087076076993584",
         "9.0"
        ],
        [
         "603",
         "Samuel Edozie",
         "DF,FW",
         "22.0",
         "5.54",
         "0.0",
         "0.5015582034830431",
         "10.0"
        ],
        [
         "64",
         "Kevin De Bruyne",
         "MF,FW",
         "33.0",
         "5.99",
         "0.02654867256637168",
         "0.49918804701378133",
         "11.0"
        ],
        [
         "402",
         "Pedro Lima",
         "DF",
         "18.0",
         "5.14",
         "0.0",
         "0.4942254812098992",
         "12.0"
        ],
        [
         "21",
         "Federico Chiesa",
         "FW",
         "27.0",
         "5.0",
         "0.0",
         "0.49165902841429887",
         "13.0"
        ],
        [
         "279",
         "Tom Cairney",
         "MF",
         "34.0",
         "5.0",
         "0.0",
         "0.49165902841429887",
         "13.0"
        ],
        [
         "441",
         "Bruno Fernandes",
         "MF",
         "30.0",
         "5.56",
         "0.027624309392265192",
         "0.4908751158397942",
         "15.0"
        ],
        [
         "269",
         "Andreas Pereira",
         "MF",
         "29.0",
         "4.75",
         "0.0",
         "0.4870760769935839",
         "16.0"
        ],
        [
         "470",
         "Scott McTominay",
         "MF",
         "28.0",
         "4.74",
         "0.0",
         "0.4868927589367553",
         "17.0"
        ],
        [
         "456",
         "Christian Eriksen",
         "MF",
         "33.0",
         "4.51",
         "0.0",
         "0.4826764436296975",
         "18.0"
        ],
        [
         "224",
         "Eiran Cashin",
         "DF",
         "23.0",
         "4.5",
         "0.0",
         "0.48249312557286894",
         "19.0"
        ],
        [
         "72",
         "Jack Grealish",
         "FW,MF",
         "29.0",
         "5.86",
         "0.06382978723404255",
         "0.48189246640794126",
         "20.0"
        ]
       ],
       "shape": {
        "columns": 7,
        "rows": 20
       }
      },
      "text/html": [
       "<div>\n",
       "<style scoped>\n",
       "    .dataframe tbody tr th:only-of-type {\n",
       "        vertical-align: middle;\n",
       "    }\n",
       "\n",
       "    .dataframe tbody tr th {\n",
       "        vertical-align: top;\n",
       "    }\n",
       "\n",
       "    .dataframe thead th {\n",
       "        text-align: right;\n",
       "    }\n",
       "</style>\n",
       "<table border=\"1\" class=\"dataframe\">\n",
       "  <thead>\n",
       "    <tr style=\"text-align: right;\">\n",
       "      <th></th>\n",
       "      <th>Player</th>\n",
       "      <th>Pos</th>\n",
       "      <th>Age</th>\n",
       "      <th>SCA90</th>\n",
       "      <th>TO_SCA_ratio</th>\n",
       "      <th>efficiency_score</th>\n",
       "      <th>efficiency_rank</th>\n",
       "    </tr>\n",
       "  </thead>\n",
       "  <tbody>\n",
       "    <tr>\n",
       "      <th>225</th>\n",
       "      <td>Jakub Moder</td>\n",
       "      <td>MF</td>\n",
       "      <td>26.0</td>\n",
       "      <td>32.73</td>\n",
       "      <td>0.000000</td>\n",
       "      <td>1.000000</td>\n",
       "      <td>1.0</td>\n",
       "    </tr>\n",
       "    <tr>\n",
       "      <th>405</th>\n",
       "      <td>Chiquinho</td>\n",
       "      <td>MF</td>\n",
       "      <td>25.0</td>\n",
       "      <td>25.71</td>\n",
       "      <td>0.000000</td>\n",
       "      <td>0.871311</td>\n",
       "      <td>2.0</td>\n",
       "    </tr>\n",
       "    <tr>\n",
       "      <th>347</th>\n",
       "      <td>Asher Agbinone</td>\n",
       "      <td>MF</td>\n",
       "      <td>19.0</td>\n",
       "      <td>15.00</td>\n",
       "      <td>0.000000</td>\n",
       "      <td>0.674977</td>\n",
       "      <td>3.0</td>\n",
       "    </tr>\n",
       "    <tr>\n",
       "      <th>49</th>\n",
       "      <td>Takehiro Tomiyasu</td>\n",
       "      <td>DF</td>\n",
       "      <td>26.0</td>\n",
       "      <td>12.86</td>\n",
       "      <td>0.000000</td>\n",
       "      <td>0.635747</td>\n",
       "      <td>4.0</td>\n",
       "    </tr>\n",
       "    <tr>\n",
       "      <th>607</th>\n",
       "      <td>Carlos Alcaraz</td>\n",
       "      <td>MF</td>\n",
       "      <td>22.0</td>\n",
       "      <td>9.00</td>\n",
       "      <td>0.000000</td>\n",
       "      <td>0.564986</td>\n",
       "      <td>5.0</td>\n",
       "    </tr>\n",
       "    <tr>\n",
       "      <th>310</th>\n",
       "      <td>Philip Billing</td>\n",
       "      <td>MF</td>\n",
       "      <td>28.0</td>\n",
       "      <td>7.83</td>\n",
       "      <td>0.000000</td>\n",
       "      <td>0.543538</td>\n",
       "      <td>6.0</td>\n",
       "    </tr>\n",
       "    <tr>\n",
       "      <th>605</th>\n",
       "      <td>Samuel Amo-Ameyaw</td>\n",
       "      <td>FW,DF</td>\n",
       "      <td>18.0</td>\n",
       "      <td>6.43</td>\n",
       "      <td>0.000000</td>\n",
       "      <td>0.517874</td>\n",
       "      <td>7.0</td>\n",
       "    </tr>\n",
       "    <tr>\n",
       "      <th>533</th>\n",
       "      <td>Odsonne Édouard</td>\n",
       "      <td>FW</td>\n",
       "      <td>27.0</td>\n",
       "      <td>6.21</td>\n",
       "      <td>0.000000</td>\n",
       "      <td>0.513841</td>\n",
       "      <td>8.0</td>\n",
       "    </tr>\n",
       "    <tr>\n",
       "      <th>280</th>\n",
       "      <td>Willian</td>\n",
       "      <td>FW,MF</td>\n",
       "      <td>36.0</td>\n",
       "      <td>5.93</td>\n",
       "      <td>0.000000</td>\n",
       "      <td>0.508708</td>\n",
       "      <td>9.0</td>\n",
       "    </tr>\n",
       "    <tr>\n",
       "      <th>603</th>\n",
       "      <td>Samuel Edozie</td>\n",
       "      <td>DF,FW</td>\n",
       "      <td>22.0</td>\n",
       "      <td>5.54</td>\n",
       "      <td>0.000000</td>\n",
       "      <td>0.501558</td>\n",
       "      <td>10.0</td>\n",
       "    </tr>\n",
       "    <tr>\n",
       "      <th>64</th>\n",
       "      <td>Kevin De Bruyne</td>\n",
       "      <td>MF,FW</td>\n",
       "      <td>33.0</td>\n",
       "      <td>5.99</td>\n",
       "      <td>0.026549</td>\n",
       "      <td>0.499188</td>\n",
       "      <td>11.0</td>\n",
       "    </tr>\n",
       "    <tr>\n",
       "      <th>402</th>\n",
       "      <td>Pedro Lima</td>\n",
       "      <td>DF</td>\n",
       "      <td>18.0</td>\n",
       "      <td>5.14</td>\n",
       "      <td>0.000000</td>\n",
       "      <td>0.494225</td>\n",
       "      <td>12.0</td>\n",
       "    </tr>\n",
       "    <tr>\n",
       "      <th>21</th>\n",
       "      <td>Federico Chiesa</td>\n",
       "      <td>FW</td>\n",
       "      <td>27.0</td>\n",
       "      <td>5.00</td>\n",
       "      <td>0.000000</td>\n",
       "      <td>0.491659</td>\n",
       "      <td>13.0</td>\n",
       "    </tr>\n",
       "    <tr>\n",
       "      <th>279</th>\n",
       "      <td>Tom Cairney</td>\n",
       "      <td>MF</td>\n",
       "      <td>34.0</td>\n",
       "      <td>5.00</td>\n",
       "      <td>0.000000</td>\n",
       "      <td>0.491659</td>\n",
       "      <td>13.0</td>\n",
       "    </tr>\n",
       "    <tr>\n",
       "      <th>441</th>\n",
       "      <td>Bruno Fernandes</td>\n",
       "      <td>MF</td>\n",
       "      <td>30.0</td>\n",
       "      <td>5.56</td>\n",
       "      <td>0.027624</td>\n",
       "      <td>0.490875</td>\n",
       "      <td>15.0</td>\n",
       "    </tr>\n",
       "    <tr>\n",
       "      <th>269</th>\n",
       "      <td>Andreas Pereira</td>\n",
       "      <td>MF</td>\n",
       "      <td>29.0</td>\n",
       "      <td>4.75</td>\n",
       "      <td>0.000000</td>\n",
       "      <td>0.487076</td>\n",
       "      <td>16.0</td>\n",
       "    </tr>\n",
       "    <tr>\n",
       "      <th>470</th>\n",
       "      <td>Scott McTominay</td>\n",
       "      <td>MF</td>\n",
       "      <td>28.0</td>\n",
       "      <td>4.74</td>\n",
       "      <td>0.000000</td>\n",
       "      <td>0.486893</td>\n",
       "      <td>17.0</td>\n",
       "    </tr>\n",
       "    <tr>\n",
       "      <th>456</th>\n",
       "      <td>Christian Eriksen</td>\n",
       "      <td>MF</td>\n",
       "      <td>33.0</td>\n",
       "      <td>4.51</td>\n",
       "      <td>0.000000</td>\n",
       "      <td>0.482676</td>\n",
       "      <td>18.0</td>\n",
       "    </tr>\n",
       "    <tr>\n",
       "      <th>224</th>\n",
       "      <td>Eiran Cashin</td>\n",
       "      <td>DF</td>\n",
       "      <td>23.0</td>\n",
       "      <td>4.50</td>\n",
       "      <td>0.000000</td>\n",
       "      <td>0.482493</td>\n",
       "      <td>19.0</td>\n",
       "    </tr>\n",
       "    <tr>\n",
       "      <th>72</th>\n",
       "      <td>Jack Grealish</td>\n",
       "      <td>FW,MF</td>\n",
       "      <td>29.0</td>\n",
       "      <td>5.86</td>\n",
       "      <td>0.063830</td>\n",
       "      <td>0.481892</td>\n",
       "      <td>20.0</td>\n",
       "    </tr>\n",
       "  </tbody>\n",
       "</table>\n",
       "</div>"
      ],
      "text/plain": [
       "                Player    Pos   Age  SCA90  TO_SCA_ratio  efficiency_score  \\\n",
       "225        Jakub Moder     MF  26.0  32.73      0.000000          1.000000   \n",
       "405          Chiquinho     MF  25.0  25.71      0.000000          0.871311   \n",
       "347     Asher Agbinone     MF  19.0  15.00      0.000000          0.674977   \n",
       "49   Takehiro Tomiyasu     DF  26.0  12.86      0.000000          0.635747   \n",
       "607     Carlos Alcaraz     MF  22.0   9.00      0.000000          0.564986   \n",
       "310     Philip Billing     MF  28.0   7.83      0.000000          0.543538   \n",
       "605  Samuel Amo-Ameyaw  FW,DF  18.0   6.43      0.000000          0.517874   \n",
       "533    Odsonne Édouard     FW  27.0   6.21      0.000000          0.513841   \n",
       "280            Willian  FW,MF  36.0   5.93      0.000000          0.508708   \n",
       "603      Samuel Edozie  DF,FW  22.0   5.54      0.000000          0.501558   \n",
       "64     Kevin De Bruyne  MF,FW  33.0   5.99      0.026549          0.499188   \n",
       "402         Pedro Lima     DF  18.0   5.14      0.000000          0.494225   \n",
       "21     Federico Chiesa     FW  27.0   5.00      0.000000          0.491659   \n",
       "279        Tom Cairney     MF  34.0   5.00      0.000000          0.491659   \n",
       "441    Bruno Fernandes     MF  30.0   5.56      0.027624          0.490875   \n",
       "269    Andreas Pereira     MF  29.0   4.75      0.000000          0.487076   \n",
       "470    Scott McTominay     MF  28.0   4.74      0.000000          0.486893   \n",
       "456  Christian Eriksen     MF  33.0   4.51      0.000000          0.482676   \n",
       "224       Eiran Cashin     DF  23.0   4.50      0.000000          0.482493   \n",
       "72       Jack Grealish  FW,MF  29.0   5.86      0.063830          0.481892   \n",
       "\n",
       "     efficiency_rank  \n",
       "225              1.0  \n",
       "405              2.0  \n",
       "347              3.0  \n",
       "49               4.0  \n",
       "607              5.0  \n",
       "310              6.0  \n",
       "605              7.0  \n",
       "533              8.0  \n",
       "280              9.0  \n",
       "603             10.0  \n",
       "64              11.0  \n",
       "402             12.0  \n",
       "21              13.0  \n",
       "279             13.0  \n",
       "441             15.0  \n",
       "269             16.0  \n",
       "470             17.0  \n",
       "456             18.0  \n",
       "224             19.0  \n",
       "72              20.0  "
      ]
     },
     "metadata": {},
     "output_type": "display_data"
    }
   ],
   "source": [
    "# Composite efficiency score: high SCA90, low TO_SCA_ratio, and diversity (1-TO_SCA_ratio)\n",
    "shot_df['efficiency_score'] = (\n",
    "    (shot_df['SCA90'] / shot_df['SCA90'].max()) * 0.6 +\n",
    "    ((1 - shot_df['TO_SCA_ratio']) / (1 - shot_df['TO_SCA_ratio']).max()) * 0.4\n",
    ")\n",
    "# Rank by efficiency\n",
    "shot_df['efficiency_rank'] = shot_df['efficiency_score'].rank(ascending=False, method='min')\n",
    "\n",
    "top20 = shot_df.nsmallest(20, 'efficiency_rank')[['Player', 'Pos', 'Age', 'SCA90', 'TO_SCA_ratio', 'efficiency_score', 'efficiency_rank']]\n",
    "display(top20)"
   ]
  },
  {
   "cell_type": "code",
   "execution_count": 8,
   "id": "703fc13f",
   "metadata": {},
   "outputs": [
    {
     "data": {
      "application/vnd.microsoft.datawrangler.viewer.v0+json": {
       "columns": [
        {
         "name": "index",
         "rawType": "int64",
         "type": "integer"
        },
        {
         "name": "Pos",
         "rawType": "object",
         "type": "string"
        },
        {
         "name": "avg_SCA90",
         "rawType": "float64",
         "type": "float"
        },
        {
         "name": "avg_TO_SCA_ratio",
         "rawType": "float64",
         "type": "float"
        },
        {
         "name": "count",
         "rawType": "int64",
         "type": "integer"
        }
       ],
       "ref": "ebed1b5d-43fb-44d4-a702-f88a2bc6d5f2",
       "rows": [
        [
         "0",
         "DF",
         "1.4485975609756097",
         "0.025453775460659498",
         "164"
        ],
        [
         "1",
         "DF,FW",
         "3.084",
         "0.032467532467532464",
         "5"
        ],
        [
         "2",
         "DF,MF",
         "1.9052941176470588",
         "0.018746857717445952",
         "17"
        ],
        [
         "3",
         "FW",
         "2.8154054054054054",
         "0.100344348127769",
         "74"
        ],
        [
         "4",
         "FW,DF",
         "3.043333333333333",
         "0.028935185185185185",
         "6"
        ],
        [
         "5",
         "FW,MF",
         "3.3235087719298244",
         "0.08983210763857716",
         "57"
        ],
        [
         "6",
         "GK",
         "0.2513793103448276",
         "0.0",
         "29"
        ],
        [
         "7",
         "MF",
         "3.4715",
         "0.030195330130350598",
         "100"
        ],
        [
         "8",
         "MF,DF",
         "2.5533333333333332",
         "0.053699531926990944",
         "12"
        ],
        [
         "9",
         "MF,FW",
         "3.453809523809524",
         "0.08673316417277778",
         "42"
        ]
       ],
       "shape": {
        "columns": 4,
        "rows": 10
       }
      },
      "text/html": [
       "<div>\n",
       "<style scoped>\n",
       "    .dataframe tbody tr th:only-of-type {\n",
       "        vertical-align: middle;\n",
       "    }\n",
       "\n",
       "    .dataframe tbody tr th {\n",
       "        vertical-align: top;\n",
       "    }\n",
       "\n",
       "    .dataframe thead th {\n",
       "        text-align: right;\n",
       "    }\n",
       "</style>\n",
       "<table border=\"1\" class=\"dataframe\">\n",
       "  <thead>\n",
       "    <tr style=\"text-align: right;\">\n",
       "      <th></th>\n",
       "      <th>Pos</th>\n",
       "      <th>avg_SCA90</th>\n",
       "      <th>avg_TO_SCA_ratio</th>\n",
       "      <th>count</th>\n",
       "    </tr>\n",
       "  </thead>\n",
       "  <tbody>\n",
       "    <tr>\n",
       "      <th>0</th>\n",
       "      <td>DF</td>\n",
       "      <td>1.448598</td>\n",
       "      <td>0.025454</td>\n",
       "      <td>164</td>\n",
       "    </tr>\n",
       "    <tr>\n",
       "      <th>1</th>\n",
       "      <td>DF,FW</td>\n",
       "      <td>3.084000</td>\n",
       "      <td>0.032468</td>\n",
       "      <td>5</td>\n",
       "    </tr>\n",
       "    <tr>\n",
       "      <th>2</th>\n",
       "      <td>DF,MF</td>\n",
       "      <td>1.905294</td>\n",
       "      <td>0.018747</td>\n",
       "      <td>17</td>\n",
       "    </tr>\n",
       "    <tr>\n",
       "      <th>3</th>\n",
       "      <td>FW</td>\n",
       "      <td>2.815405</td>\n",
       "      <td>0.100344</td>\n",
       "      <td>74</td>\n",
       "    </tr>\n",
       "    <tr>\n",
       "      <th>4</th>\n",
       "      <td>FW,DF</td>\n",
       "      <td>3.043333</td>\n",
       "      <td>0.028935</td>\n",
       "      <td>6</td>\n",
       "    </tr>\n",
       "    <tr>\n",
       "      <th>5</th>\n",
       "      <td>FW,MF</td>\n",
       "      <td>3.323509</td>\n",
       "      <td>0.089832</td>\n",
       "      <td>57</td>\n",
       "    </tr>\n",
       "    <tr>\n",
       "      <th>6</th>\n",
       "      <td>GK</td>\n",
       "      <td>0.251379</td>\n",
       "      <td>0.000000</td>\n",
       "      <td>29</td>\n",
       "    </tr>\n",
       "    <tr>\n",
       "      <th>7</th>\n",
       "      <td>MF</td>\n",
       "      <td>3.471500</td>\n",
       "      <td>0.030195</td>\n",
       "      <td>100</td>\n",
       "    </tr>\n",
       "    <tr>\n",
       "      <th>8</th>\n",
       "      <td>MF,DF</td>\n",
       "      <td>2.553333</td>\n",
       "      <td>0.053700</td>\n",
       "      <td>12</td>\n",
       "    </tr>\n",
       "    <tr>\n",
       "      <th>9</th>\n",
       "      <td>MF,FW</td>\n",
       "      <td>3.453810</td>\n",
       "      <td>0.086733</td>\n",
       "      <td>42</td>\n",
       "    </tr>\n",
       "  </tbody>\n",
       "</table>\n",
       "</div>"
      ],
      "text/plain": [
       "     Pos  avg_SCA90  avg_TO_SCA_ratio  count\n",
       "0     DF   1.448598          0.025454    164\n",
       "1  DF,FW   3.084000          0.032468      5\n",
       "2  DF,MF   1.905294          0.018747     17\n",
       "3     FW   2.815405          0.100344     74\n",
       "4  FW,DF   3.043333          0.028935      6\n",
       "5  FW,MF   3.323509          0.089832     57\n",
       "6     GK   0.251379          0.000000     29\n",
       "7     MF   3.471500          0.030195    100\n",
       "8  MF,DF   2.553333          0.053700     12\n",
       "9  MF,FW   3.453810          0.086733     42"
      ]
     },
     "metadata": {},
     "output_type": "display_data"
    }
   ],
   "source": [
    "# Statistical summary by position\n",
    "pos_summary = shot_df.groupby('Pos').agg(\n",
    "    avg_SCA90=('SCA90', 'mean'),\n",
    "    avg_TO_SCA_ratio=('TO_SCA_ratio', 'mean'),\n",
    "    count=('Player', 'count')\n",
    ").reset_index()\n",
    "display(pos_summary)"
   ]
  },
  {
   "cell_type": "code",
   "execution_count": 9,
   "id": "9f4c0be7",
   "metadata": {},
   "outputs": [
    {
     "name": "stdout",
     "output_type": "stream",
     "text": [
      "ANOVA F-statistic: 11.434527451031009 p-value: 2.371292666056353e-16\n",
      "Significant difference in SCA90 between positions.\n",
      "Kruskal-Wallis H-statistic: 133.20461740897224 p-value: 2.5979314968909896e-24\n",
      "Significant difference in take-on dependency between positions.\n"
     ]
    }
   ],
   "source": [
    "# Significance testing for SCA90 by position\n",
    "anova = f_oneway(*[group['SCA90'].values for name, group in shot_df.groupby('Pos')])\n",
    "print('ANOVA F-statistic:', anova.statistic, 'p-value:', anova.pvalue)\n",
    "if anova.pvalue < 0.05:\n",
    "    print('Significant difference in SCA90 between positions.')\n",
    "else:\n",
    "    print('No significant difference in SCA90 between positions.')\n",
    "\n",
    "# Significance testing for TO_SCA_ratio by position\n",
    "kruskal_test = kruskal(*[group['TO_SCA_ratio'].values for name, group in shot_df.groupby('Pos')])\n",
    "print('Kruskal-Wallis H-statistic:', kruskal_test.statistic, 'p-value:', kruskal_test.pvalue)\n",
    "if kruskal_test.pvalue < 0.05:\n",
    "    print('Significant difference in take-on dependency between positions.')\n",
    "else:\n",
    "    print('No significant difference in take-on dependency between positions.')"
   ]
  },
  {
   "cell_type": "markdown",
   "id": "bf918dde",
   "metadata": {},
   "source": [
    "# Age-Related Trends in Shot and Goal Creation\n",
    "\n",
    "This section investigates how creative output (SCA90 and GCA90) varies with player age and position. We aim to:\n",
    "- Identify peak creative years for different positions\n",
    "- Understand how shot and goal creation efficiency evolves over a player's career\n",
    "- Visualize and statistically test age-related trends in creative performance"
   ]
  },
  {
   "cell_type": "markdown",
   "id": "fa89e143",
   "metadata": {},
   "source": [
    "## Data Preparation and Age Binning\n",
    "\n",
    "- Convert SCA90, GCA90, and Age columns to numeric types for analysis.\n",
    "- Bin players into age groups: 18-21, 22-25, 26-29, 30-33, and 34+.\n",
    "- These bins allow for grouped analysis of performance by age cohort."
   ]
  },
  {
   "cell_type": "code",
   "execution_count": 10,
   "id": "8385d32a",
   "metadata": {},
   "outputs": [],
   "source": [
    "# --- Data Preparation and Binning ---\n",
    "# Ensure numeric types for SCA90, GCA90, Age\n",
    "shot_df['SCA90'] = pd.to_numeric(shot_df['SCA90'], errors='coerce')\n",
    "shot_df['GCA90'] = pd.to_numeric(shot_df['GCA90'], errors='coerce')\n",
    "shot_df['Age'] = pd.to_numeric(shot_df['Age'], errors='coerce')\n",
    "\n",
    "# Define age bins and labels\n",
    "age_bins = [17, 21, 25, 29, 33, 100]\n",
    "age_labels = ['18-21', '22-25', '26-29', '30-33', '34+']\n",
    "shot_df['age_group'] = pd.cut(shot_df['Age'], bins=age_bins, labels=age_labels, right=True)"
   ]
  },
  {
   "cell_type": "markdown",
   "id": "ee2381ad",
   "metadata": {},
   "source": [
    "## Grouped Means by Age Group and Position\n",
    "\n",
    "- Calculate the mean SCA90 and GCA90 for each age group and position.\n",
    "- This provides a summary of creative output by both age and role on the pitch."
   ]
  },
  {
   "cell_type": "code",
   "execution_count": 11,
   "id": "289b3dca",
   "metadata": {},
   "outputs": [
    {
     "name": "stderr",
     "output_type": "stream",
     "text": [
      "C:\\Users\\omara\\AppData\\Local\\Temp\\ipykernel_11020\\433299929.py:2: FutureWarning:\n",
      "\n",
      "The default of observed=False is deprecated and will be changed to True in a future version of pandas. Pass observed=False to retain current behavior or observed=True to adopt the future default and silence this warning.\n",
      "\n"
     ]
    }
   ],
   "source": [
    "# --- Grouped Means by Age Group and Position ---\n",
    "age_pos_summary = shot_df.groupby(['age_group', 'Pos']).agg(\n",
    "    mean_SCA90=('SCA90', 'mean'),\n",
    "    mean_GCA90=('GCA90', 'mean'),\n",
    "    count=('Player', 'count')\n",
    ").reset_index()"
   ]
  },
  {
   "cell_type": "markdown",
   "id": "8d122e02",
   "metadata": {},
   "source": [
    "## Multi-Line Plots: Age Curves by Position\n",
    "\n",
    "- Visualize the mean SCA90 and GCA90 for each position across age groups.\n",
    "- These plots help identify trends and potential peak ages for creative output by position."
   ]
  },
  {
   "cell_type": "code",
   "execution_count": 12,
   "id": "d2af5cfb",
   "metadata": {},
   "outputs": [
    {
     "data": {
      "image/png": "[encoded data removed]",
      "text/plain": [
       "<Figure size 1200x600 with 1 Axes>"
      ]
     },
     "metadata": {},
     "output_type": "display_data"
    },
    {
     "data": {
      "image/png": "[encoded data removed]",
      "text/plain": [
       "<Figure size 1200x600 with 1 Axes>"
      ]
     },
     "metadata": {},
     "output_type": "display_data"
    }
   ],
   "source": [
    "# --- Multi-Line Plots: Age Curves by Position ---\n",
    "plt.figure(figsize=(12, 6))\n",
    "sns.lineplot(data=age_pos_summary, x='age_group', y='mean_SCA90', hue='Pos', marker='o')\n",
    "plt.title('Mean SCA90 by Age Group and Position')\n",
    "plt.ylabel('Mean SCA90')\n",
    "plt.xlabel('Age Group')\n",
    "plt.legend(title='Position')\n",
    "plt.show()\n",
    "\n",
    "plt.figure(figsize=(12, 6))\n",
    "sns.lineplot(data=age_pos_summary, x='age_group', y='mean_GCA90', hue='Pos', marker='o')\n",
    "plt.title('Mean GCA90 by Age Group and Position')\n",
    "plt.ylabel('Mean GCA90')\n",
    "plt.xlabel('Age Group')\n",
    "plt.legend(title='Position')\n",
    "plt.show()"
   ]
  },
  {
   "cell_type": "markdown",
   "id": "686cbda3",
   "metadata": {},
   "source": [
    "## SCA to GCA Conversion Efficiency by Age Group\n",
    "\n",
    "- Calculate the ratio of mean GCA90 to mean SCA90 for each age group and position.\n",
    "- This metric shows how efficiently shot creation actions are converted into goal creation actions as players age."
   ]
  },
  {
   "cell_type": "code",
   "execution_count": 13,
   "id": "713089c6",
   "metadata": {},
   "outputs": [
    {
     "data": {
      "application/vnd.microsoft.datawrangler.viewer.v0+json": {
       "columns": [
        {
         "name": "index",
         "rawType": "int64",
         "type": "integer"
        },
        {
         "name": "age_group",
         "rawType": "category",
         "type": "unknown"
        },
        {
         "name": "Pos",
         "rawType": "object",
         "type": "string"
        },
        {
         "name": "conversion_efficiency",
         "rawType": "float64",
         "type": "float"
        }
       ],
       "ref": "e9bfa23b-cfdc-4cc6-90b3-76c0126f008b",
       "rows": [
        [
         "0",
         "18-21",
         "DF",
         "0.06824555936428793"
        ],
        [
         "1",
         "18-21",
         "DF,FW",
         "0.04347826086956522"
        ],
        [
         "2",
         "18-21",
         "DF,MF",
         "0.08177172061328791"
        ],
        [
         "3",
         "18-21",
         "FW",
         "0.03497109826589595"
        ],
        [
         "4",
         "18-21",
         "FW,DF",
         "0.0"
        ],
        [
         "5",
         "18-21",
         "FW,MF",
         "0.17041912019397298"
        ],
        [
         "7",
         "18-21",
         "MF",
         "0.0967843631778058"
        ],
        [
         "9",
         "18-21",
         "MF,FW",
         "0.07017543859649121"
        ],
        [
         "10",
         "22-25",
         "DF",
         "0.08249288854409102"
        ],
        [
         "11",
         "22-25",
         "DF,FW",
         "0.061688311688311695"
        ],
        [
         "12",
         "22-25",
         "DF,MF",
         "0.07098976109215016"
        ],
        [
         "13",
         "22-25",
         "FW",
         "0.08858011289622232"
        ],
        [
         "14",
         "22-25",
         "FW,DF",
         "0.07264472190692395"
        ],
        [
         "15",
         "22-25",
         "FW,MF",
         "0.11529654224868331"
        ],
        [
         "16",
         "22-25",
         "GK",
         "0.01639344262295082"
        ],
        [
         "17",
         "22-25",
         "MF",
         "0.07383643955596293"
        ],
        [
         "18",
         "22-25",
         "MF,DF",
         "0.15081652257444764"
        ],
        [
         "19",
         "22-25",
         "MF,FW",
         "0.1473546130301705"
        ],
        [
         "20",
         "26-29",
         "DF",
         "0.08446996889207944"
        ],
        [
         "21",
         "26-29",
         "DF,FW",
         "0.0"
        ],
        [
         "22",
         "26-29",
         "DF,MF",
         "0.11425206124852767"
        ],
        [
         "23",
         "26-29",
         "FW",
         "0.12173086067522589"
        ],
        [
         "25",
         "26-29",
         "FW,MF",
         "0.10695511524464213"
        ],
        [
         "26",
         "26-29",
         "GK",
         "0.10795454545454546"
        ],
        [
         "27",
         "26-29",
         "MF",
         "0.057967613236329506"
        ],
        [
         "28",
         "26-29",
         "MF,DF",
         "0.029687500000000002"
        ],
        [
         "29",
         "26-29",
         "MF,FW",
         "0.10134128166915053"
        ],
        [
         "30",
         "30-33",
         "DF",
         "0.0837898807605543"
        ],
        [
         "32",
         "30-33",
         "DF,MF",
         "0.18439716312056736"
        ],
        [
         "33",
         "30-33",
         "FW",
         "0.10661128418137764"
        ],
        [
         "34",
         "30-33",
         "FW,DF",
         "0.033112582781456956"
        ],
        [
         "35",
         "30-33",
         "FW,MF",
         "0.13733183856502243"
        ],
        [
         "36",
         "30-33",
         "GK",
         "0.15918367346938775"
        ],
        [
         "37",
         "30-33",
         "MF",
         "0.09356014580801944"
        ],
        [
         "38",
         "30-33",
         "MF,DF",
         "0.0636297903109183"
        ],
        [
         "39",
         "30-33",
         "MF,FW",
         "0.06548739179525781"
        ],
        [
         "40",
         "34+",
         "DF",
         "0.10716925351071692"
        ],
        [
         "42",
         "34+",
         "DF,MF",
         "0.0"
        ],
        [
         "43",
         "34+",
         "FW",
         "0.15771028037383178"
        ],
        [
         "45",
         "34+",
         "FW,MF",
         "0.0"
        ],
        [
         "46",
         "34+",
         "GK",
         "0.4"
        ],
        [
         "47",
         "34+",
         "MF",
         "0.09673518742442565"
        ]
       ],
       "shape": {
        "columns": 3,
        "rows": 42
       }
      },
      "text/html": [
       "<div>\n",
       "<style scoped>\n",
       "    .dataframe tbody tr th:only-of-type {\n",
       "        vertical-align: middle;\n",
       "    }\n",
       "\n",
       "    .dataframe tbody tr th {\n",
       "        vertical-align: top;\n",
       "    }\n",
       "\n",
       "    .dataframe thead th {\n",
       "        text-align: right;\n",
       "    }\n",
       "</style>\n",
       "<table border=\"1\" class=\"dataframe\">\n",
       "  <thead>\n",
       "    <tr style=\"text-align: right;\">\n",
       "      <th></th>\n",
       "      <th>age_group</th>\n",
       "      <th>Pos</th>\n",
       "      <th>conversion_efficiency</th>\n",
       "    </tr>\n",
       "  </thead>\n",
       "  <tbody>\n",
       "    <tr>\n",
       "      <th>0</th>\n",
       "      <td>18-21</td>\n",
       "      <td>DF</td>\n",
       "      <td>0.068246</td>\n",
       "    </tr>\n",
       "    <tr>\n",
       "      <th>1</th>\n",
       "      <td>18-21</td>\n",
       "      <td>DF,FW</td>\n",
       "      <td>0.043478</td>\n",
       "    </tr>\n",
       "    <tr>\n",
       "      <th>2</th>\n",
       "      <td>18-21</td>\n",
       "      <td>DF,MF</td>\n",
       "      <td>0.081772</td>\n",
       "    </tr>\n",
       "    <tr>\n",
       "      <th>3</th>\n",
       "      <td>18-21</td>\n",
       "      <td>FW</td>\n",
       "      <td>0.034971</td>\n",
       "    </tr>\n",
       "    <tr>\n",
       "      <th>4</th>\n",
       "      <td>18-21</td>\n",
       "      <td>FW,DF</td>\n",
       "      <td>0.000000</td>\n",
       "    </tr>\n",
       "    <tr>\n",
       "      <th>5</th>\n",
       "      <td>18-21</td>\n",
       "      <td>FW,MF</td>\n",
       "      <td>0.170419</td>\n",
       "    </tr>\n",
       "    <tr>\n",
       "      <th>7</th>\n",
       "      <td>18-21</td>\n",
       "      <td>MF</td>\n",
       "      <td>0.096784</td>\n",
       "    </tr>\n",
       "    <tr>\n",
       "      <th>9</th>\n",
       "      <td>18-21</td>\n",
       "      <td>MF,FW</td>\n",
       "      <td>0.070175</td>\n",
       "    </tr>\n",
       "    <tr>\n",
       "      <th>10</th>\n",
       "      <td>22-25</td>\n",
       "      <td>DF</td>\n",
       "      <td>0.082493</td>\n",
       "    </tr>\n",
       "    <tr>\n",
       "      <th>11</th>\n",
       "      <td>22-25</td>\n",
       "      <td>DF,FW</td>\n",
       "      <td>0.061688</td>\n",
       "    </tr>\n",
       "    <tr>\n",
       "      <th>12</th>\n",
       "      <td>22-25</td>\n",
       "      <td>DF,MF</td>\n",
       "      <td>0.070990</td>\n",
       "    </tr>\n",
       "    <tr>\n",
       "      <th>13</th>\n",
       "      <td>22-25</td>\n",
       "      <td>FW</td>\n",
       "      <td>0.088580</td>\n",
       "    </tr>\n",
       "    <tr>\n",
       "      <th>14</th>\n",
       "      <td>22-25</td>\n",
       "      <td>FW,DF</td>\n",
       "      <td>0.072645</td>\n",
       "    </tr>\n",
       "    <tr>\n",
       "      <th>15</th>\n",
       "      <td>22-25</td>\n",
       "      <td>FW,MF</td>\n",
       "      <td>0.115297</td>\n",
       "    </tr>\n",
       "    <tr>\n",
       "      <th>16</th>\n",
       "      <td>22-25</td>\n",
       "      <td>GK</td>\n",
       "      <td>0.016393</td>\n",
       "    </tr>\n",
       "    <tr>\n",
       "      <th>17</th>\n",
       "      <td>22-25</td>\n",
       "      <td>MF</td>\n",
       "      <td>0.073836</td>\n",
       "    </tr>\n",
       "    <tr>\n",
       "      <th>18</th>\n",
       "      <td>22-25</td>\n",
       "      <td>MF,DF</td>\n",
       "      <td>0.150817</td>\n",
       "    </tr>\n",
       "    <tr>\n",
       "      <th>19</th>\n",
       "      <td>22-25</td>\n",
       "      <td>MF,FW</td>\n",
       "      <td>0.147355</td>\n",
       "    </tr>\n",
       "    <tr>\n",
       "      <th>20</th>\n",
       "      <td>26-29</td>\n",
       "      <td>DF</td>\n",
       "      <td>0.084470</td>\n",
       "    </tr>\n",
       "    <tr>\n",
       "      <th>21</th>\n",
       "      <td>26-29</td>\n",
       "      <td>DF,FW</td>\n",
       "      <td>0.000000</td>\n",
       "    </tr>\n",
       "    <tr>\n",
       "      <th>22</th>\n",
       "      <td>26-29</td>\n",
       "      <td>DF,MF</td>\n",
       "      <td>0.114252</td>\n",
       "    </tr>\n",
       "    <tr>\n",
       "      <th>23</th>\n",
       "      <td>26-29</td>\n",
       "      <td>FW</td>\n",
       "      <td>0.121731</td>\n",
       "    </tr>\n",
       "    <tr>\n",
       "      <th>25</th>\n",
       "      <td>26-29</td>\n",
       "      <td>FW,MF</td>\n",
       "      <td>0.106955</td>\n",
       "    </tr>\n",
       "    <tr>\n",
       "      <th>26</th>\n",
       "      <td>26-29</td>\n",
       "      <td>GK</td>\n",
       "      <td>0.107955</td>\n",
       "    </tr>\n",
       "    <tr>\n",
       "      <th>27</th>\n",
       "      <td>26-29</td>\n",
       "      <td>MF</td>\n",
       "      <td>0.057968</td>\n",
       "    </tr>\n",
       "    <tr>\n",
       "      <th>28</th>\n",
       "      <td>26-29</td>\n",
       "      <td>MF,DF</td>\n",
       "      <td>0.029688</td>\n",
       "    </tr>\n",
       "    <tr>\n",
       "      <th>29</th>\n",
       "      <td>26-29</td>\n",
       "      <td>MF,FW</td>\n",
       "      <td>0.101341</td>\n",
       "    </tr>\n",
       "    <tr>\n",
       "      <th>30</th>\n",
       "      <td>30-33</td>\n",
       "      <td>DF</td>\n",
       "      <td>0.083790</td>\n",
       "    </tr>\n",
       "    <tr>\n",
       "      <th>32</th>\n",
       "      <td>30-33</td>\n",
       "      <td>DF,MF</td>\n",
       "      <td>0.184397</td>\n",
       "    </tr>\n",
       "    <tr>\n",
       "      <th>33</th>\n",
       "      <td>30-33</td>\n",
       "      <td>FW</td>\n",
       "      <td>0.106611</td>\n",
       "    </tr>\n",
       "    <tr>\n",
       "      <th>34</th>\n",
       "      <td>30-33</td>\n",
       "      <td>FW,DF</td>\n",
       "      <td>0.033113</td>\n",
       "    </tr>\n",
       "    <tr>\n",
       "      <th>35</th>\n",
       "      <td>30-33</td>\n",
       "      <td>FW,MF</td>\n",
       "      <td>0.137332</td>\n",
       "    </tr>\n",
       "    <tr>\n",
       "      <th>36</th>\n",
       "      <td>30-33</td>\n",
       "      <td>GK</td>\n",
       "      <td>0.159184</td>\n",
       "    </tr>\n",
       "    <tr>\n",
       "      <th>37</th>\n",
       "      <td>30-33</td>\n",
       "      <td>MF</td>\n",
       "      <td>0.093560</td>\n",
       "    </tr>\n",
       "    <tr>\n",
       "      <th>38</th>\n",
       "      <td>30-33</td>\n",
       "      <td>MF,DF</td>\n",
       "      <td>0.063630</td>\n",
       "    </tr>\n",
       "    <tr>\n",
       "      <th>39</th>\n",
       "      <td>30-33</td>\n",
       "      <td>MF,FW</td>\n",
       "      <td>0.065487</td>\n",
       "    </tr>\n",
       "    <tr>\n",
       "      <th>40</th>\n",
       "      <td>34+</td>\n",
       "      <td>DF</td>\n",
       "      <td>0.107169</td>\n",
       "    </tr>\n",
       "    <tr>\n",
       "      <th>42</th>\n",
       "      <td>34+</td>\n",
       "      <td>DF,MF</td>\n",
       "      <td>0.000000</td>\n",
       "    </tr>\n",
       "    <tr>\n",
       "      <th>43</th>\n",
       "      <td>34+</td>\n",
       "      <td>FW</td>\n",
       "      <td>0.157710</td>\n",
       "    </tr>\n",
       "    <tr>\n",
       "      <th>45</th>\n",
       "      <td>34+</td>\n",
       "      <td>FW,MF</td>\n",
       "      <td>0.000000</td>\n",
       "    </tr>\n",
       "    <tr>\n",
       "      <th>46</th>\n",
       "      <td>34+</td>\n",
       "      <td>GK</td>\n",
       "      <td>0.400000</td>\n",
       "    </tr>\n",
       "    <tr>\n",
       "      <th>47</th>\n",
       "      <td>34+</td>\n",
       "      <td>MF</td>\n",
       "      <td>0.096735</td>\n",
       "    </tr>\n",
       "  </tbody>\n",
       "</table>\n",
       "</div>"
      ],
      "text/plain": [
       "   age_group    Pos  conversion_efficiency\n",
       "0      18-21     DF               0.068246\n",
       "1      18-21  DF,FW               0.043478\n",
       "2      18-21  DF,MF               0.081772\n",
       "3      18-21     FW               0.034971\n",
       "4      18-21  FW,DF               0.000000\n",
       "5      18-21  FW,MF               0.170419\n",
       "7      18-21     MF               0.096784\n",
       "9      18-21  MF,FW               0.070175\n",
       "10     22-25     DF               0.082493\n",
       "11     22-25  DF,FW               0.061688\n",
       "12     22-25  DF,MF               0.070990\n",
       "13     22-25     FW               0.088580\n",
       "14     22-25  FW,DF               0.072645\n",
       "15     22-25  FW,MF               0.115297\n",
       "16     22-25     GK               0.016393\n",
       "17     22-25     MF               0.073836\n",
       "18     22-25  MF,DF               0.150817\n",
       "19     22-25  MF,FW               0.147355\n",
       "20     26-29     DF               0.084470\n",
       "21     26-29  DF,FW               0.000000\n",
       "22     26-29  DF,MF               0.114252\n",
       "23     26-29     FW               0.121731\n",
       "25     26-29  FW,MF               0.106955\n",
       "26     26-29     GK               0.107955\n",
       "27     26-29     MF               0.057968\n",
       "28     26-29  MF,DF               0.029688\n",
       "29     26-29  MF,FW               0.101341\n",
       "30     30-33     DF               0.083790\n",
       "32     30-33  DF,MF               0.184397\n",
       "33     30-33     FW               0.106611\n",
       "34     30-33  FW,DF               0.033113\n",
       "35     30-33  FW,MF               0.137332\n",
       "36     30-33     GK               0.159184\n",
       "37     30-33     MF               0.093560\n",
       "38     30-33  MF,DF               0.063630\n",
       "39     30-33  MF,FW               0.065487\n",
       "40       34+     DF               0.107169\n",
       "42       34+  DF,MF               0.000000\n",
       "43       34+     FW               0.157710\n",
       "45       34+  FW,MF               0.000000\n",
       "46       34+     GK               0.400000\n",
       "47       34+     MF               0.096735"
      ]
     },
     "metadata": {},
     "output_type": "display_data"
    }
   ],
   "source": [
    "# --- SCA to GCA Conversion Efficiency by Age Group\n",
    "conv_eff = age_pos_summary.copy()\n",
    "# Filter out rows where mean_SCA90 is zero or NaN to avoid NaN/infinite conversion efficiency\n",
    "conv_eff = conv_eff[conv_eff['mean_SCA90'].notna() & (conv_eff['mean_SCA90'] > 0)]\n",
    "conv_eff['conversion_efficiency'] = conv_eff['mean_GCA90'] / conv_eff['mean_SCA90']\n",
    "display(conv_eff[['age_group', 'Pos', 'conversion_efficiency']])"
   ]
  },
  {
   "cell_type": "markdown",
   "id": "58acffce",
   "metadata": {},
   "source": [
    "## Statistical Testing: Age Effects\n",
    "\n",
    "- Perform ANOVA tests to determine if there are statistically significant differences in SCA90 and GCA90 across age groups.\n",
    "- Significant results indicate that age has a measurable effect on creative output."
   ]
  },
  {
   "cell_type": "code",
   "execution_count": 14,
   "id": "a1346de1",
   "metadata": {},
   "outputs": [
    {
     "name": "stdout",
     "output_type": "stream",
     "text": [
      "SCA90 ANOVA: F = 1.8531038376354363 p = 0.11745949341715274\n",
      "GCA90 ANOVA: F = 1.0776958400575571 p = 0.3668178216610143\n",
      "No significant age effect on SCA90\n",
      "No significant age effect on GCA90\n"
     ]
    },
    {
     "name": "stderr",
     "output_type": "stream",
     "text": [
      "C:\\Users\\omara\\AppData\\Local\\Temp\\ipykernel_11020\\1318204490.py:2: FutureWarning:\n",
      "\n",
      "The default of observed=False is deprecated and will be changed to True in a future version of pandas. Pass observed=False to retain current behavior or observed=True to adopt the future default and silence this warning.\n",
      "\n",
      "C:\\Users\\omara\\AppData\\Local\\Temp\\ipykernel_11020\\1318204490.py:3: FutureWarning:\n",
      "\n",
      "The default of observed=False is deprecated and will be changed to True in a future version of pandas. Pass observed=False to retain current behavior or observed=True to adopt the future default and silence this warning.\n",
      "\n"
     ]
    }
   ],
   "source": [
    "# --- Statistical Testing: Age Effects ---\n",
    "sca90_groups = [group['SCA90'].dropna().values for name, group in shot_df.groupby('age_group')]\n",
    "gca90_groups = [group['GCA90'].dropna().values for name, group in shot_df.groupby('age_group')]\n",
    "sca90_anova = f_oneway(*sca90_groups)\n",
    "gca90_anova = f_oneway(*gca90_groups)\n",
    "print('SCA90 ANOVA: F =', sca90_anova.statistic, 'p =', sca90_anova.pvalue)\n",
    "print('GCA90 ANOVA: F =', gca90_anova.statistic, 'p =', gca90_anova.pvalue)\n",
    "if sca90_anova.pvalue < 0.05:\n",
    "    print('Significant age effect on SCA90')\n",
    "else:\n",
    "    print('No significant age effect on SCA90')\n",
    "if(gca90_anova.pvalue < 0.05):\n",
    "    print('Significant age effect on GCA90')\n",
    "else:\n",
    "    print('No significant age effect on GCA90')"
   ]
  },
  {
   "cell_type": "markdown",
   "id": "ac74c71f",
   "metadata": {},
   "source": [
    "# Unsupervised Clustering: Player Creativity Archetypes\n",
    "\n",
    "In this section, we use unsupervised machine learning to uncover distinct creativity archetypes among Premier League players. By clustering players based on detailed shot and goal creation breakdowns, we:\n",
    "\n",
    "- Visualize player creativity profiles using t-SNE\n",
    "- Assign each cluster a unique archetype (Set-piece Specialists, Take-on Creators, Hybrid Creators)\n",
    "- Profile each archetype and provide real player examples\n",
    "\n",
    "This approach helps clubs, analysts, and fans understand the diversity of creative styles in the league."
   ]
  },
  {
   "cell_type": "code",
   "execution_count": 15,
   "id": "ffe3c595",
   "metadata": {},
   "outputs": [],
   "source": [
    "# --- Prepare Data for Clustering (Robust to Data Changes) ---\n",
    "from sklearn.preprocessing import StandardScaler\n",
    "from sklearn.cluster import KMeans\n",
    "from sklearn.metrics import silhouette_score\n",
    "from sklearn.manifold import TSNE\n",
    "\n",
    "# Define SCA and GCA breakdown columns (ensure columns exist in shot_df)\n",
    "sca_cols = [col for col in ['PassLive', 'PassDead', 'TO', 'Sh', 'Fld', 'Def'] if col in shot_df.columns]\n",
    "gca_cols = [col for col in ['PassLive.1', 'PassDead.1', 'TO.1', 'Sh.1', 'Fld.1', 'Def.1'] if col in shot_df.columns]\n",
    "\n",
    "# Filter out players with missing or zero creative actions across all selected variables\n",
    "clust_cols = sca_cols + gca_cols\n",
    "creativity_df = shot_df.dropna(subset=clust_cols)\n",
    "creativity_df = creativity_df[(creativity_df[clust_cols].sum(axis=1) > 0)]\n",
    "\n",
    "# Standardize the creative action variables\n",
    "scaler = StandardScaler()\n",
    "X = scaler.fit_transform(creativity_df[clust_cols])"
   ]
  },
  {
   "cell_type": "markdown",
   "id": "3b045613",
   "metadata": {},
   "source": [
    "## Determining Optimal Number of Clusters\n",
    "\n",
    "We use the elbow method (inertia plot) and silhouette analysis to select the optimal number of clusters for K-means."
   ]
  },
  {
   "cell_type": "code",
   "execution_count": 16,
   "id": "2b4c1a88",
   "metadata": {},
   "outputs": [
    {
     "data": {
      "image/png": "[encoded data removed]",
      "text/plain": [
       "<Figure size 1000x400 with 2 Axes>"
      ]
     },
     "metadata": {},
     "output_type": "display_data"
    },
    {
     "name": "stdout",
     "output_type": "stream",
     "text": [
      "Optimal K (for archetypes): 3\n"
     ]
    }
   ],
   "source": [
    "# --- Elbow and Silhouette Analysis (Robust) ---\n",
    "inertias = []\n",
    "silhouettes = []\n",
    "K_range = range(2, 7)\n",
    "for k in K_range:\n",
    "    kmeans = KMeans(n_clusters=k, random_state=42, n_init=20)\n",
    "    labels = kmeans.fit_predict(X)\n",
    "    inertias.append(kmeans.inertia_)\n",
    "    silhouettes.append(silhouette_score(X, labels))\n",
    "\n",
    "plt.figure(figsize=(10,4))\n",
    "plt.subplot(1,2,1)\n",
    "plt.plot(K_range, inertias, marker='o')\n",
    "plt.title('Elbow Method: Inertia vs K')\n",
    "plt.xlabel('Number of clusters (K)')\n",
    "plt.ylabel('Inertia')\n",
    "\n",
    "plt.subplot(1,2,2)\n",
    "plt.plot(K_range, silhouettes, marker='o', color='orange')\n",
    "plt.title('Silhouette Score vs K')\n",
    "plt.xlabel('Number of clusters (K)')\n",
    "plt.ylabel('Silhouette Score')\n",
    "plt.tight_layout()\n",
    "plt.show()\n",
    "\n",
    "optimal_k = 3\n",
    "print(f\"Optimal K (for archetypes): {optimal_k}\")"
   ]
  },
  {
   "cell_type": "markdown",
   "id": "955df922",
   "metadata": {},
   "source": [
    "## K-means Clustering and t-SNE Visualization\n",
    "\n",
    "We apply K-means clustering with K=3 and use t-SNE to visualize clusters in 2D space."
   ]
  },
  {
   "cell_type": "code",
   "execution_count": 17,
   "id": "c06baac9",
   "metadata": {},
   "outputs": [
    {
     "data": {
      "application/vnd.plotly.v1+json": {
       "config": {
        "plotlyServerURL": "https://plot.ly"
       },
       "data": [
        {
         "customdata": [
          [
           "Yasin Ayari",
           "MF",
           21
          ],
          [
           "Adam Wharton",
           "MF",
           20
          ],
          [
           "John McGinn",
           "MF,FW",
           30
          ],
          [
           "Bryan Mbeumo",
           "FW",
           25
          ],
          [
           "Bruno Guimarães",
           "MF",
           27
          ],
          [
           "Phil Foden",
           "MF,FW",
           24
          ],
          [
           "Dejan Kulusevski",
           "MF,FW",
           25
          ],
          [
           "Kieran Trippier",
           "DF",
           34
          ],
          [
           "Sandro Tonali",
           "MF",
           25
          ],
          [
           "Bruno Fernandes",
           "MF",
           30
          ],
          [
           "Kevin De Bruyne",
           "MF,FW",
           33
          ],
          [
           "Facundo Buonanotte",
           "FW,MF",
           20
          ],
          [
           "Thomas Partey",
           "MF,DF",
           31
          ],
          [
           "Declan Rice",
           "MF",
           26
          ],
          [
           "Leif Davis",
           "DF",
           25
          ]
         ],
         "hovertemplate": "Cluster=2<br>symbol=2<br>TSNE1=%{x}<br>TSNE2=%{y}<br>Player=%{customdata[0]}<br>Pos=%{customdata[1]}<br>Age=%{customdata[2]}<extra></extra>",
         "legendgroup": "2, 2",
         "marker": {
          "color": "#636efa",
          "line": {
           "color": "DarkSlateGrey",
           "width": 1
          },
          "size": 10,
          "symbol": "circle"
         },
         "mode": "markers",
         "name": "2, 2",
         "orientation": "v",
         "showlegend": true,
         "type": "scatter",
         "x": [
          4.858726501464844,
          3.586292028427124,
          5.0892653465271,
          9.653495788574219,
          9.078828811645508,
          14.984334945678711,
          11.939963340759277,
          3.4531137943267822,
          9.006147384643555,
          8.314567565917969,
          7.7795329093933105,
          11.219552040100098,
          27.358802795410156,
          7.682948589324951,
          2.281276226043701
         ],
         "xaxis": "x",
         "y": [
          -7.410632133483887,
          -8.665643692016602,
          -7.212025165557861,
          -9.76511287689209,
          -4.565946578979492,
          6.315837383270264,
          -4.59046745300293,
          -9.391465187072754,
          -2.7630388736724854,
          -7.875638961791992,
          -7.358617305755615,
          -3.5158166885375977,
          1.1819554567337036,
          -7.952539920806885,
          -3.6781458854675293
         ],
         "yaxis": "y"
        },
        {
         "customdata": [
          [
           "Paul Onuachu",
           "FW",
           30
          ],
          [
           "Axel Tuanzebe",
           "DF",
           27
          ],
          [
           "Jørgen Strand Larsen",
           "FW",
           25
          ],
          [
           "Ross Barkley",
           "MF",
           31
          ],
          [
           "Chiedozie Ogbene",
           "FW",
           28
          ],
          [
           "Charlie Taylor",
           "DF",
           31
          ],
          [
           "Calvin Bassey",
           "DF",
           25
          ],
          [
           "Kevin Danso",
           "DF",
           26
          ],
          [
           "Nick Pope",
           "GK",
           33
          ],
          [
           "Santiago Bueno",
           "DF",
           26
          ],
          [
           "Ali Al Hamadi",
           "FW",
           23
          ],
          [
           "Tyrell Malacia",
           "DF",
           25
          ],
          [
           "Sam Morsy",
           "MF",
           33
          ],
          [
           "Jefferson Lerma",
           "MF,DF",
           30
          ],
          [
           "Nathaniel Clyne",
           "DF,MF",
           34
          ],
          [
           "Albert Grønbaek",
           "FW,MF",
           24
          ],
          [
           "Marcus Harness",
           "MF",
           29
          ],
          [
           "Cameron Burgess",
           "DF",
           29
          ],
          [
           "Fabio Carvalho",
           "FW,MF",
           22
          ],
          [
           "Ryan Fraser",
           "FW,DF",
           31
          ],
          [
           "Harry Maguire",
           "DF",
           32
          ],
          [
           "Luis Guilherme",
           "MF,FW",
           19
          ],
          [
           "Jack Taylor",
           "MF",
           26
          ],
          [
           "Neco Williams",
           "DF",
           24
          ],
          [
           "Ryan Gravenberch",
           "MF",
           23
          ],
          [
           "Pedro Lima",
           "DF",
           18
          ],
          [
           "Mathias Jensen",
           "MF",
           29
          ],
          [
           "Fabian Schär",
           "DF",
           33
          ],
          [
           "Ben Brereton",
           "FW",
           26
          ],
          [
           "Carlos Alcaraz",
           "FW,MF",
           22
          ],
          [
           "Ethan Pinnock",
           "DF",
           31
          ],
          [
           "Rodri",
           "MF",
           28
          ],
          [
           "Miguel Almirón",
           "FW",
           31
          ],
          [
           "Ayden Heaven",
           "DF",
           18
          ],
          [
           "Mikel Merino",
           "MF,FW",
           28
          ],
          [
           "Conor Townsend",
           "DF",
           32
          ],
          [
           "Curtis Jones",
           "MF,DF",
           24
          ],
          [
           "Ben Chilwell",
           "DF",
           28
          ],
          [
           "David Raya",
           "GK",
           29
          ],
          [
           "Malo Gusto",
           "DF",
           22
          ],
          [
           "Jack Stephens",
           "DF",
           31
          ],
          [
           "Ricardo Pereira",
           "DF",
           31
          ],
          [
           "Jordan Pickford",
           "GK",
           31
          ],
          [
           "Sean Longstaff",
           "MF",
           27
          ],
          [
           "Jack Grealish",
           "FW,MF",
           29
          ],
          [
           "Harry Wilson",
           "FW,MF",
           28
          ],
          [
           "Jarell Quansah",
           "DF",
           22
          ],
          [
           "Łukasz Fabiański",
           "GK",
           40
          ],
          [
           "Michael Kayode",
           "DF",
           20
          ],
          [
           "Jorginho",
           "MF",
           33
          ],
          [
           "Kalvin Phillips",
           "MF",
           29
          ],
          [
           "Joe Aribo",
           "MF,DF",
           28
          ],
          [
           "Odsonne Édouard",
           "FW",
           27
          ],
          [
           "Aaron Cresswell",
           "DF",
           35
          ],
          [
           "Wesley Fofana",
           "DF",
           24
          ],
          [
           "Patrick Dorgu",
           "DF",
           20
          ],
          [
           "Cameron Archer",
           "FW",
           23
          ],
          [
           "Oscar Bobb",
           "FW",
           21
          ],
          [
           "Ben Davies",
           "DF",
           32
          ],
          [
           "Alex Scott",
           "MF",
           21
          ],
          [
           "Antony",
           "DF,MF",
           25
          ],
          [
           "Harrison Armstrong",
           "MF",
           18
          ],
          [
           "Tom Cairney",
           "MF",
           34
          ],
          [
           "Jack Clarke",
           "FW,MF",
           24
          ],
          [
           "Mario Lemina",
           "MF,DF",
           31
          ],
          [
           "Andrés García",
           "DF,MF",
           22
          ],
          [
           "Joël Veltman",
           "DF",
           33
          ],
          [
           "Richarlison",
           "FW",
           28
          ],
          [
           "Tyrone Mings",
           "DF",
           32
          ],
          [
           "Konstantinos Mavropanos",
           "DF",
           27
          ],
          [
           "Ian Maatsen",
           "DF",
           23
          ],
          [
           "Manuel Ugarte Ribeiro",
           "MF",
           24
          ],
          [
           "Mathys Tel",
           "FW",
           20
          ],
          [
           "Luke Thomas",
           "DF",
           23
          ],
          [
           "Micky van de Ven",
           "DF",
           24
          ],
          [
           "Lloyd Kelly",
           "DF",
           26
          ],
          [
           "Taylor Harwood-Bellis",
           "DF",
           23
          ],
          [
           "Darwin Núñez",
           "FW",
           25
          ],
          [
           "Hwang Hee-chan",
           "MF,FW",
           29
          ],
          [
           "Wout Faes",
           "DF",
           27
          ],
          [
           "Harvey Elliott",
           "MF,FW",
           22
          ],
          [
           "Emmanuel Agbadou",
           "DF",
           27
          ],
          [
           "Carlos Forbs",
           "MF,FW",
           21
          ],
          [
           "Oliver Skipp",
           "MF",
           24
          ],
          [
           "Radu Drăgușin",
           "DF",
           23
          ],
          [
           "Tommy Doyle",
           "MF",
           23
          ],
          [
           "Adam Webster",
           "DF",
           30
          ],
          [
           "Timothy Castagne",
           "DF",
           29
          ],
          [
           "Tariq Lamptey",
           "DF",
           24
          ],
          [
           "William Smallbone",
           "MF",
           25
          ],
          [
           "Martial Godo",
           "FW,DF",
           22
          ],
          [
           "Kepa Arrizabalaga",
           "GK",
           30
          ],
          [
           "Tyler Adams",
           "MF",
           26
          ],
          [
           "Mikey Moore",
           "FW",
           17
          ],
          [
           "Marc Guiu",
           "FW",
           19
          ],
          [
           "Oleksandr Zinchenko",
           "DF,MF",
           28
          ],
          [
           "Jean-Clair Todibo",
           "DF",
           25
          ],
          [
           "Mats Wieffer",
           "MF,DF",
           25
          ],
          [
           "Nicolás Domínguez",
           "MF,FW",
           26
          ],
          [
           "Cheick Doucouré",
           "MF",
           25
          ],
          [
           "Pau Torres",
           "DF",
           28
          ],
          [
           "Pablo Sarabia",
           "MF,FW",
           33
          ],
          [
           "Kai Havertz",
           "FW,MF",
           25
          ],
          [
           "Joshua Acheampong",
           "DF",
           19
          ],
          [
           "Ola Aina",
           "DF",
           28
          ],
          [
           "Stephy Mavididi",
           "FW",
           26
          ],
          [
           "Max Kilman",
           "DF",
           28
          ],
          [
           "Matheus Nunes",
           "DF,MF",
           26
          ],
          [
           "Nathan Collins",
           "DF",
           24
          ],
          [
           "Joe Gomez",
           "DF",
           28
          ],
          [
           "Abdukodir Khusanov",
           "DF",
           21
          ],
          [
           "Thiago",
           "FW,MF",
           23
          ],
          [
           "Djed Spence",
           "DF",
           24
          ],
          [
           "Levi Colwill",
           "DF",
           22
          ],
          [
           "Patson Daka",
           "FW,MF",
           26
          ],
          [
           "William Saliba",
           "DF",
           24
          ],
          [
           "Kenny Tete",
           "DF",
           29
          ],
          [
           "Jannik Vestergaard",
           "DF",
           32
          ]
         ],
         "hovertemplate": "Cluster=0<br>symbol=0<br>TSNE1=%{x}<br>TSNE2=%{y}<br>Player=%{customdata[0]}<br>Pos=%{customdata[1]}<br>Age=%{customdata[2]}<extra></extra>",
         "legendgroup": "0, 0",
         "marker": {
          "color": "#EF553B",
          "line": {
           "color": "DarkSlateGrey",
           "width": 1
          },
          "size": 10,
          "symbol": "diamond"
         },
         "mode": "markers",
         "name": "0, 0",
         "orientation": "v",
         "showlegend": true,
         "type": "scatter",
         "x": [
          -14.844162940979004,
          -12.501009941101074,
          4.360972881317139,
          -11.564593315124512,
          -27.343164443969727,
          -18.816871643066406,
          29.38472557067871,
          -13.776925086975098,
          -31.370267868041992,
          29.23056411743164,
          -23.258514404296875,
          -27.45579719543457,
          -5.1736249923706055,
          -1.0450630187988281,
          -30.53803062438965,
          -20.279504776000977,
          -32.7561149597168,
          -13.649825096130371,
          -12.620344161987305,
          -27.03521156311035,
          -13.737722396850586,
          -24.08712387084961,
          2.877166271209717,
          12.32339096069336,
          6.826282978057861,
          2.4097511768341064,
          2.3681514263153076,
          8.297812461853027,
          -25.6247501373291,
          14.291200637817383,
          -15.596280097961426,
          -32.94963836669922,
          -19.995622634887695,
          -26.194948196411133,
          12.406702995300293,
          -17.030536651611328,
          22.228132247924805,
          -18.13494300842285,
          -17.030536651611328,
          -3.581387758255005,
          -23.01738166809082,
          -30.15732192993164,
          -14.77016830444336,
          13.340045928955078,
          29.459917068481445,
          16.440492630004883,
          -29.19112777709961,
          -34.00938415527344,
          -9.253214836120605,
          -25.621286392211914,
          -10.375581741333008,
          -7.104605674743652,
          -32.732940673828125,
          -32.95840835571289,
          -21.013994216918945,
          17.658998489379883,
          -12.069052696228027,
          -27.377384185791016,
          -0.6798048615455627,
          3.1920619010925293,
          -25.762300491333008,
          -36.6505241394043,
          -6.782662391662598,
          3.431154489517212,
          -0.29214203357696533,
          -30.53803062438965,
          -2.91680908203125,
          -12.575204849243164,
          11.57341194152832,
          0.0872100293636322,
          9.766571044921875,
          7.9711503982543945,
          -8.532151222229004,
          -2.331078052520752,
          -12.145885467529297,
          -19.28582763671875,
          11.34842586517334,
          14.426118850708008,
          -14.844188690185547,
          -0.42434144020080566,
          -11.037131309509277,
          -14.836602210998535,
          -24.961366653442383,
          -27.238445281982422,
          -17.5810546875,
          -9.337815284729004,
          -1.4264507293701172,
          13.030802726745605,
          29.061307907104492,
          -16.55768394470215,
          -35.21236038208008,
          -33.717315673828125,
          26.336397171020508,
          11.996264457702637,
          -35.03438186645508,
          -11.261295318603516,
          -0.8144469261169434,
          18.20075225830078,
          2.870690107345581,
          22.299137115478516,
          12.625490188598633,
          -8.773808479309082,
          12.115246772766113,
          -32.20378875732422,
          29.527069091796875,
          9.041014671325684,
          28.047733306884766,
          14.471396446228027,
          21.256908416748047,
          -17.864389419555664,
          -27.32977867126465,
          -0.10488177835941315,
          -7.664107322692871,
          28.939186096191406,
          -10.374897003173828,
          -0.899990975856781,
          0.9893084764480591,
          -0.5394687652587891
         ],
         "xaxis": "x",
         "y": [
          0.18339161574840546,
          -5.664117336273193,
          4.096967697143555,
          -2.7998578548431396,
          -5.69210147857666,
          -8.106192588806152,
          5.559677600860596,
          -1.2416690587997437,
          -2.114508628845215,
          6.160966873168945,
          10.479584693908691,
          -5.481019020080566,
          -3.3373639583587646,
          -0.6264413595199585,
          2.3805341720581055,
          5.416474342346191,
          2.9207165241241455,
          -3.890028476715088,
          2.947294235229492,
          1.3544708490371704,
          4.589653968811035,
          -4.223799705505371,
          6.8283843994140625,
          6.983170032501221,
          0.4266888201236725,
          9.934496879577637,
          -10.508973121643066,
          8.373916625976562,
          -7.323451995849609,
          10.33016300201416,
          3.1546337604522705,
          4.538573265075684,
          8.142118453979492,
          -4.617277145385742,
          9.693197250366211,
          -8.233819007873535,
          -10.845000267028809,
          4.274271488189697,
          -8.233819007873535,
          -2.335089921951294,
          0.12530210614204407,
          3.521737813949585,
          -4.313772201538086,
          12.976877212524414,
          4.745218753814697,
          -13.174446105957031,
          3.6948609352111816,
          -2.0831668376922607,
          -2.684272527694702,
          -7.4234938621521,
          -2.823653221130371,
          0.54302579164505,
          4.979672431945801,
          -5.244773864746094,
          8.260225296020508,
          -15.090660095214844,
          5.030000686645508,
          9.216552734375,
          11.108111381530762,
          4.9530768394470215,
          -5.056816101074219,
          4.150834083557129,
          -2.3911776542663574,
          -0.1781819760799408,
          4.358033657073975,
          2.3805341720581055,
          -11.367646217346191,
          1.2121574878692627,
          12.190401077270508,
          8.59044361114502,
          1.483060598373413,
          8.059037208557129,
          -6.4318389892578125,
          10.924235343933105,
          0.9198006391525269,
          -7.670556545257568,
          11.133184432983398,
          -14.59133529663086,
          0.18339771032333374,
          9.331321716308594,
          -3.10502028465271,
          -3.7093582153320312,
          10.891379356384277,
          -7.577674388885498,
          -5.748616695404053,
          10.711791038513184,
          -11.391712188720703,
          11.648155212402344,
          5.999253273010254,
          2.070399761199951,
          5.621280670166016,
          -3.5210373401641846,
          4.744836330413818,
          13.78381061553955,
          3.384643077850342,
          0.5321210622787476,
          11.743431091308594,
          -13.254539489746094,
          4.347869873046875,
          -13.308404922485352,
          12.137581825256348,
          10.689579010009766,
          9.759475708007812,
          5.0420823097229,
          3.960414409637451,
          1.3309732675552368,
          6.224064350128174,
          9.180867195129395,
          -10.873706817626953,
          -7.034849166870117,
          0.6937557458877563,
          12.028125762939453,
          7.4761857986450195,
          5.168152332305908,
          10.422321319580078,
          7.802485466003418,
          3.959749937057495,
          11.303482055664062
         ],
         "yaxis": "y"
        },
        {
         "customdata": [
          [
           "Alexander Isak",
           "FW",
           25
          ],
          [
           "Joelinton",
           "MF,FW",
           28
          ],
          [
           "Luis Díaz",
           "FW",
           28
          ],
          [
           "Gabriel Martinelli",
           "FW,MF",
           23
          ],
          [
           "Jamie Vardy",
           "FW",
           38
          ],
          [
           "Anthony Gordon",
           "FW,MF",
           24
          ],
          [
           "João Pedro",
           "FW,MF",
           23
          ],
          [
           "Matheus Cunha",
           "MF,FW",
           25
          ],
          [
           "Mohamed Salah",
           "FW",
           32
          ],
          [
           "Jean-Philippe Mateta",
           "FW",
           27
          ],
          [
           "Justin Kluivert",
           "MF,FW",
           26
          ],
          [
           "Erling Haaland",
           "FW",
           24
          ],
          [
           "Brennan Johnson",
           "FW",
           24
          ],
          [
           "Kevin Schade",
           "FW",
           23
          ],
          [
           "Cole Palmer",
           "MF",
           23
          ],
          [
           "Jacob Murphy",
           "FW",
           30
          ],
          [
           "Jean-Ricner Bellegarde",
           "MF,FW",
           26
          ],
          [
           "Dominic Calvert-Lewin",
           "FW",
           28
          ],
          [
           "Callum Hudson-Odoi",
           "FW,MF",
           24
          ]
         ],
         "hovertemplate": "Cluster=1<br>symbol=1<br>TSNE1=%{x}<br>TSNE2=%{y}<br>Player=%{customdata[0]}<br>Pos=%{customdata[1]}<br>Age=%{customdata[2]}<extra></extra>",
         "legendgroup": "1, 1",
         "marker": {
          "color": "#00cc96",
          "line": {
           "color": "DarkSlateGrey",
           "width": 1
          },
          "size": 10,
          "symbol": "square"
         },
         "mode": "markers",
         "name": "1, 1",
         "orientation": "v",
         "showlegend": true,
         "type": "scatter",
         "x": [
          24.280437469482422,
          24.612930297851562,
          15.230072021484375,
          17.442468643188477,
          18.87181854248047,
          16.240291595458984,
          18.95587921142578,
          21.134695053100586,
          14.79095458984375,
          15.108631134033203,
          15.342181205749512,
          14.530243873596191,
          17.707225799560547,
          16.63823699951172,
          14.628470420837402,
          14.910661697387695,
          25.890729904174805,
          18.98860740661621,
          18.645532608032227
         ],
         "xaxis": "x",
         "y": [
          1.1425955295562744,
          4.382804870605469,
          -4.989336013793945,
          -4.2826385498046875,
          -5.124338626861572,
          -6.348995685577393,
          -7.814486980438232,
          -0.7300404906272888,
          -2.4359488487243652,
          0.6015449166297913,
          -6.866527080535889,
          1.011830449104309,
          -5.215877056121826,
          7.51448392868042,
          -3.6732232570648193,
          -7.839958190917969,
          -0.45522236824035645,
          -1.4276102781295776,
          -4.442908763885498
         ],
         "yaxis": "y"
        }
       ],
       "layout": {
        "legend": {
         "title": {
          "text": "Cluster, symbol"
         },
         "tracegroupgap": 0
        },
        "template": {
         "data": {
          "bar": [
           {
            "error_x": {
             "color": "#2a3f5f"
            },
            "error_y": {
             "color": "#2a3f5f"
            },
            "marker": {
             "line": {
              "color": "#E5ECF6",
              "width": 0.5
             },
             "pattern": {
              "fillmode": "overlay",
              "size": 10,
              "solidity": 0.2
             }
            },
            "type": "bar"
           }
          ],
          "barpolar": [
           {
            "marker": {
             "line": {
              "color": "#E5ECF6",
              "width": 0.5
             },
             "pattern": {
              "fillmode": "overlay",
              "size": 10,
              "solidity": 0.2
             }
            },
            "type": "barpolar"
           }
          ],
          "carpet": [
           {
            "aaxis": {
             "endlinecolor": "#2a3f5f",
             "gridcolor": "white",
             "linecolor": "white",
             "minorgridcolor": "white",
             "startlinecolor": "#2a3f5f"
            },
            "baxis": {
             "endlinecolor": "#2a3f5f",
             "gridcolor": "white",
             "linecolor": "white",
             "minorgridcolor": "white",
             "startlinecolor": "#2a3f5f"
            },
            "type": "carpet"
           }
          ],
          "choropleth": [
           {
            "colorbar": {
             "outlinewidth": 0,
             "ticks": ""
            },
            "type": "choropleth"
           }
          ],
          "contour": [
           {
            "colorbar": {
             "outlinewidth": 0,
             "ticks": ""
            },
            "colorscale": [
             [
              0,
              "#0d0887"
             ],
             [
              0.1111111111111111,
              "#46039f"
             ],
             [
              0.2222222222222222,
              "#7201a8"
             ],
             [
              0.3333333333333333,
              "#9c179e"
             ],
             [
              0.4444444444444444,
              "#bd3786"
             ],
             [
              0.5555555555555556,
              "#d8576b"
             ],
             [
              0.6666666666666666,
              "#ed7953"
             ],
             [
              0.7777777777777778,
              "#fb9f3a"
             ],
             [
              0.8888888888888888,
              "#fdca26"
             ],
             [
              1,
              "#f0f921"
             ]
            ],
            "type": "contour"
           }
          ],
          "contourcarpet": [
           {
            "colorbar": {
             "outlinewidth": 0,
             "ticks": ""
            },
            "type": "contourcarpet"
           }
          ],
          "heatmap": [
           {
            "colorbar": {
             "outlinewidth": 0,
             "ticks": ""
            },
            "colorscale": [
             [
              0,
              "#0d0887"
             ],
             [
              0.1111111111111111,
              "#46039f"
             ],
             [
              0.2222222222222222,
              "#7201a8"
             ],
             [
              0.3333333333333333,
              "#9c179e"
             ],
             [
              0.4444444444444444,
              "#bd3786"
             ],
             [
              0.5555555555555556,
              "#d8576b"
             ],
             [
              0.6666666666666666,
              "#ed7953"
             ],
             [
              0.7777777777777778,
              "#fb9f3a"
             ],
             [
              0.8888888888888888,
              "#fdca26"
             ],
             [
              1,
              "#f0f921"
             ]
            ],
            "type": "heatmap"
           }
          ],
          "heatmapgl": [
           {
            "colorbar": {
             "outlinewidth": 0,
             "ticks": ""
            },
            "colorscale": [
             [
              0,
              "#0d0887"
             ],
             [
              0.1111111111111111,
              "#46039f"
             ],
             [
              0.2222222222222222,
              "#7201a8"
             ],
             [
              0.3333333333333333,
              "#9c179e"
             ],
             [
              0.4444444444444444,
              "#bd3786"
             ],
             [
              0.5555555555555556,
              "#d8576b"
             ],
             [
              0.6666666666666666,
              "#ed7953"
             ],
             [
              0.7777777777777778,
              "#fb9f3a"
             ],
             [
              0.8888888888888888,
              "#fdca26"
             ],
             [
              1,
              "#f0f921"
             ]
            ],
            "type": "heatmapgl"
           }
          ],
          "histogram": [
           {
            "marker": {
             "pattern": {
              "fillmode": "overlay",
              "size": 10,
              "solidity": 0.2
             }
            },
            "type": "histogram"
           }
          ],
          "histogram2d": [
           {
            "colorbar": {
             "outlinewidth": 0,
             "ticks": ""
            },
            "colorscale": [
             [
              0,
              "#0d0887"
             ],
             [
              0.1111111111111111,
              "#46039f"
             ],
             [
              0.2222222222222222,
              "#7201a8"
             ],
             [
              0.3333333333333333,
              "#9c179e"
             ],
             [
              0.4444444444444444,
              "#bd3786"
             ],
             [
              0.5555555555555556,
              "#d8576b"
             ],
             [
              0.6666666666666666,
              "#ed7953"
             ],
             [
              0.7777777777777778,
              "#fb9f3a"
             ],
             [
              0.8888888888888888,
              "#fdca26"
             ],
             [
              1,
              "#f0f921"
             ]
            ],
            "type": "histogram2d"
           }
          ],
          "histogram2dcontour": [
           {
            "colorbar": {
             "outlinewidth": 0,
             "ticks": ""
            },
            "colorscale": [
             [
              0,
              "#0d0887"
             ],
             [
              0.1111111111111111,
              "#46039f"
             ],
             [
              0.2222222222222222,
              "#7201a8"
             ],
             [
              0.3333333333333333,
              "#9c179e"
             ],
             [
              0.4444444444444444,
              "#bd3786"
             ],
             [
              0.5555555555555556,
              "#d8576b"
             ],
             [
              0.6666666666666666,
              "#ed7953"
             ],
             [
              0.7777777777777778,
              "#fb9f3a"
             ],
             [
              0.8888888888888888,
              "#fdca26"
             ],
             [
              1,
              "#f0f921"
             ]
            ],
            "type": "histogram2dcontour"
           }
          ],
          "mesh3d": [
           {
            "colorbar": {
             "outlinewidth": 0,
             "ticks": ""
            },
            "type": "mesh3d"
           }
          ],
          "parcoords": [
           {
            "line": {
             "colorbar": {
              "outlinewidth": 0,
              "ticks": ""
             }
            },
            "type": "parcoords"
           }
          ],
          "pie": [
           {
            "automargin": true,
            "type": "pie"
           }
          ],
          "scatter": [
           {
            "fillpattern": {
             "fillmode": "overlay",
             "size": 10,
             "solidity": 0.2
            },
            "type": "scatter"
           }
          ],
          "scatter3d": [
           {
            "line": {
             "colorbar": {
              "outlinewidth": 0,
              "ticks": ""
             }
            },
            "marker": {
             "colorbar": {
              "outlinewidth": 0,
              "ticks": ""
             }
            },
            "type": "scatter3d"
           }
          ],
          "scattercarpet": [
           {
            "marker": {
             "colorbar": {
              "outlinewidth": 0,
              "ticks": ""
             }
            },
            "type": "scattercarpet"
           }
          ],
          "scattergeo": [
           {
            "marker": {
             "colorbar": {
              "outlinewidth": 0,
              "ticks": ""
             }
            },
            "type": "scattergeo"
           }
          ],
          "scattergl": [
           {
            "marker": {
             "colorbar": {
              "outlinewidth": 0,
              "ticks": ""
             }
            },
            "type": "scattergl"
           }
          ],
          "scattermapbox": [
           {
            "marker": {
             "colorbar": {
              "outlinewidth": 0,
              "ticks": ""
             }
            },
            "type": "scattermapbox"
           }
          ],
          "scatterpolar": [
           {
            "marker": {
             "colorbar": {
              "outlinewidth": 0,
              "ticks": ""
             }
            },
            "type": "scatterpolar"
           }
          ],
          "scatterpolargl": [
           {
            "marker": {
             "colorbar": {
              "outlinewidth": 0,
              "ticks": ""
             }
            },
            "type": "scatterpolargl"
           }
          ],
          "scatterternary": [
           {
            "marker": {
             "colorbar": {
              "outlinewidth": 0,
              "ticks": ""
             }
            },
            "type": "scatterternary"
           }
          ],
          "surface": [
           {
            "colorbar": {
             "outlinewidth": 0,
             "ticks": ""
            },
            "colorscale": [
             [
              0,
              "#0d0887"
             ],
             [
              0.1111111111111111,
              "#46039f"
             ],
             [
              0.2222222222222222,
              "#7201a8"
             ],
             [
              0.3333333333333333,
              "#9c179e"
             ],
             [
              0.4444444444444444,
              "#bd3786"
             ],
             [
              0.5555555555555556,
              "#d8576b"
             ],
             [
              0.6666666666666666,
              "#ed7953"
             ],
             [
              0.7777777777777778,
              "#fb9f3a"
             ],
             [
              0.8888888888888888,
              "#fdca26"
             ],
             [
              1,
              "#f0f921"
             ]
            ],
            "type": "surface"
           }
          ],
          "table": [
           {
            "cells": {
             "fill": {
              "color": "#EBF0F8"
             },
             "line": {
              "color": "white"
             }
            },
            "header": {
             "fill": {
              "color": "#C8D4E3"
             },
             "line": {
              "color": "white"
             }
            },
            "type": "table"
           }
          ]
         },
         "layout": {
          "annotationdefaults": {
           "arrowcolor": "#2a3f5f",
           "arrowhead": 0,
           "arrowwidth": 1
          },
          "autotypenumbers": "strict",
          "coloraxis": {
           "colorbar": {
            "outlinewidth": 0,
            "ticks": ""
           }
          },
          "colorscale": {
           "diverging": [
            [
             0,
             "#8e0152"
            ],
            [
             0.1,
             "#c51b7d"
            ],
            [
             0.2,
             "#de77ae"
            ],
            [
             0.3,
             "#f1b6da"
            ],
            [
             0.4,
             "#fde0ef"
            ],
            [
             0.5,
             "#f7f7f7"
            ],
            [
             0.6,
             "#e6f5d0"
            ],
            [
             0.7,
             "#b8e186"
            ],
            [
             0.8,
             "#7fbc41"
            ],
            [
             0.9,
             "#4d9221"
            ],
            [
             1,
             "#276419"
            ]
           ],
           "sequential": [
            [
             0,
             "#0d0887"
            ],
            [
             0.1111111111111111,
             "#46039f"
            ],
            [
             0.2222222222222222,
             "#7201a8"
            ],
            [
             0.3333333333333333,
             "#9c179e"
            ],
            [
             0.4444444444444444,
             "#bd3786"
            ],
            [
             0.5555555555555556,
             "#d8576b"
            ],
            [
             0.6666666666666666,
             "#ed7953"
            ],
            [
             0.7777777777777778,
             "#fb9f3a"
            ],
            [
             0.8888888888888888,
             "#fdca26"
            ],
            [
             1,
             "#f0f921"
            ]
           ],
           "sequentialminus": [
            [
             0,
             "#0d0887"
            ],
            [
             0.1111111111111111,
             "#46039f"
            ],
            [
             0.2222222222222222,
             "#7201a8"
            ],
            [
             0.3333333333333333,
             "#9c179e"
            ],
            [
             0.4444444444444444,
             "#bd3786"
            ],
            [
             0.5555555555555556,
             "#d8576b"
            ],
            [
             0.6666666666666666,
             "#ed7953"
            ],
            [
             0.7777777777777778,
             "#fb9f3a"
            ],
            [
             0.8888888888888888,
             "#fdca26"
            ],
            [
             1,
             "#f0f921"
            ]
           ]
          },
          "colorway": [
           "#636efa",
           "#EF553B",
           "#00cc96",
           "#ab63fa",
           "#FFA15A",
           "#19d3f3",
           "#FF6692",
           "#B6E880",
           "#FF97FF",
           "#FECB52"
          ],
          "font": {
           "color": "#2a3f5f"
          },
          "geo": {
           "bgcolor": "white",
           "lakecolor": "white",
           "landcolor": "#E5ECF6",
           "showlakes": true,
           "showland": true,
           "subunitcolor": "white"
          },
          "hoverlabel": {
           "align": "left"
          },
          "hovermode": "closest",
          "mapbox": {
           "style": "light"
          },
          "paper_bgcolor": "white",
          "plot_bgcolor": "#E5ECF6",
          "polar": {
           "angularaxis": {
            "gridcolor": "white",
            "linecolor": "white",
            "ticks": ""
           },
           "bgcolor": "#E5ECF6",
           "radialaxis": {
            "gridcolor": "white",
            "linecolor": "white",
            "ticks": ""
           }
          },
          "scene": {
           "xaxis": {
            "backgroundcolor": "#E5ECF6",
            "gridcolor": "white",
            "gridwidth": 2,
            "linecolor": "white",
            "showbackground": true,
            "ticks": "",
            "zerolinecolor": "white"
           },
           "yaxis": {
            "backgroundcolor": "#E5ECF6",
            "gridcolor": "white",
            "gridwidth": 2,
            "linecolor": "white",
            "showbackground": true,
            "ticks": "",
            "zerolinecolor": "white"
           },
           "zaxis": {
            "backgroundcolor": "#E5ECF6",
            "gridcolor": "white",
            "gridwidth": 2,
            "linecolor": "white",
            "showbackground": true,
            "ticks": "",
            "zerolinecolor": "white"
           }
          },
          "shapedefaults": {
           "line": {
            "color": "#2a3f5f"
           }
          },
          "ternary": {
           "aaxis": {
            "gridcolor": "white",
            "linecolor": "white",
            "ticks": ""
           },
           "baxis": {
            "gridcolor": "white",
            "linecolor": "white",
            "ticks": ""
           },
           "bgcolor": "#E5ECF6",
           "caxis": {
            "gridcolor": "white",
            "linecolor": "white",
            "ticks": ""
           }
          },
          "title": {
           "x": 0.05
          },
          "xaxis": {
           "automargin": true,
           "gridcolor": "white",
           "linecolor": "white",
           "ticks": "",
           "title": {
            "standoff": 15
           },
           "zerolinecolor": "white",
           "zerolinewidth": 2
          },
          "yaxis": {
           "automargin": true,
           "gridcolor": "white",
           "linecolor": "white",
           "ticks": "",
           "title": {
            "standoff": 15
           },
           "zerolinecolor": "white",
           "zerolinewidth": 2
          }
         }
        },
        "title": {
         "text": "t-SNE Scatter Plot of Player Creativity Clusters"
        },
        "xaxis": {
         "anchor": "y",
         "domain": [
          0,
          1
         ],
         "title": {
          "text": "TSNE1"
         }
        },
        "yaxis": {
         "anchor": "x",
         "domain": [
          0,
          1
         ],
         "title": {
          "text": "TSNE2"
         }
        }
       }
      }
     },
     "metadata": {},
     "output_type": "display_data"
    }
   ],
   "source": [
    "# --- K-means Clustering and t-SNE (Robust, Interactive, 10% Sample for Plot) ---\n",
    "kmeans = KMeans(n_clusters=optimal_k, random_state=42, n_init=20)\n",
    "creativity_df['cluster'] = kmeans.fit_predict(X)\n",
    "\n",
    "# t-SNE for 2D visualization\n",
    "X_tsne = TSNE(n_components=2, random_state=42, perplexity=30, n_iter=1000).fit_transform(X)\n",
    "creativity_df['TSNE1'] = X_tsne[:,0]\n",
    "creativity_df['TSNE2'] = X_tsne[:,1]\n",
    "\n",
    "# Take a 10% random sample for plotting only (do not affect rest of analysis)\n",
    "plot_sample = creativity_df.sample(frac=0.3, random_state=42) if len(creativity_df) > 20 else creativity_df\n",
    "\n",
    "# Interactive plot with player names on hover (10% sample)\n",
    "import plotly.express as px\n",
    "fig = px.scatter(\n",
    "    plot_sample,\n",
    "    x='TSNE1',\n",
    "    y='TSNE2',\n",
    "    color=plot_sample['cluster'].astype(str),\n",
    "    hover_data=['Player', 'Pos', 'Age'],\n",
    "    title='t-SNE Scatter Plot of Player Creativity Clusters',\n",
    "    labels={'color': 'Cluster'},\n",
    "    symbol=plot_sample['cluster'].astype(str)\n",
    ")\n",
    "fig.update_traces(marker=dict(size=10, line=dict(width=1, color='DarkSlateGrey')))\n",
    "fig.show()"
   ]
  },
  {
   "cell_type": "markdown",
   "id": "3e4bca84",
   "metadata": {},
   "source": [
    "## Cluster Profiling: Mean SCA and GCA Breakdown\n",
    "\n",
    "For each cluster, we compute the mean values of the six SCA and six GCA methods. This table reveals the creative signature of each archetype—look for which actions (e.g., set-pieces, take-ons) dominate in each group."
   ]
  },
  {
   "cell_type": "code",
   "execution_count": 18,
   "id": "825ec4e8",
   "metadata": {},
   "outputs": [
    {
     "data": {
      "application/vnd.microsoft.datawrangler.viewer.v0+json": {
       "columns": [
        {
         "name": "cluster",
         "rawType": "int32",
         "type": "integer"
        },
        {
         "name": "PassLive",
         "rawType": "float64",
         "type": "float"
        },
        {
         "name": "PassDead",
         "rawType": "float64",
         "type": "float"
        },
        {
         "name": "TO",
         "rawType": "float64",
         "type": "float"
        },
        {
         "name": "Sh",
         "rawType": "float64",
         "type": "float"
        },
        {
         "name": "Fld",
         "rawType": "float64",
         "type": "float"
        },
        {
         "name": "Def",
         "rawType": "float64",
         "type": "float"
        },
        {
         "name": "PassLive.1",
         "rawType": "float64",
         "type": "float"
        },
        {
         "name": "PassDead.1",
         "rawType": "float64",
         "type": "float"
        },
        {
         "name": "TO.1",
         "rawType": "float64",
         "type": "float"
        },
        {
         "name": "Sh.1",
         "rawType": "float64",
         "type": "float"
        },
        {
         "name": "Fld.1",
         "rawType": "float64",
         "type": "float"
        },
        {
         "name": "Def.1",
         "rawType": "float64",
         "type": "float"
        }
       ],
       "ref": "9b03e48e-127e-4264-b8fb-b12353e52d05",
       "rows": [
        [
         "0",
         "14.94",
         "1.16",
         "0.73",
         "1.14",
         "0.62",
         "0.37",
         "1.36",
         "0.09",
         "0.06",
         "0.15",
         "0.07",
         "0.04"
        ],
        [
         "1",
         "56.73",
         "2.23",
         "7.11",
         "5.84",
         "4.59",
         "1.41",
         "6.89",
         "0.06",
         "1.13",
         "0.7",
         "0.84",
         "0.23"
        ],
        [
         "2",
         "63.71",
         "17.38",
         "4.07",
         "4.67",
         "3.36",
         "1.21",
         "7.4",
         "1.9",
         "0.43",
         "0.67",
         "0.29",
         "0.14"
        ]
       ],
       "shape": {
        "columns": 12,
        "rows": 3
       }
      },
      "text/html": [
       "<div>\n",
       "<style scoped>\n",
       "    .dataframe tbody tr th:only-of-type {\n",
       "        vertical-align: middle;\n",
       "    }\n",
       "\n",
       "    .dataframe tbody tr th {\n",
       "        vertical-align: top;\n",
       "    }\n",
       "\n",
       "    .dataframe thead th {\n",
       "        text-align: right;\n",
       "    }\n",
       "</style>\n",
       "<table border=\"1\" class=\"dataframe\">\n",
       "  <thead>\n",
       "    <tr style=\"text-align: right;\">\n",
       "      <th></th>\n",
       "      <th>PassLive</th>\n",
       "      <th>PassDead</th>\n",
       "      <th>TO</th>\n",
       "      <th>Sh</th>\n",
       "      <th>Fld</th>\n",
       "      <th>Def</th>\n",
       "      <th>PassLive.1</th>\n",
       "      <th>PassDead.1</th>\n",
       "      <th>TO.1</th>\n",
       "      <th>Sh.1</th>\n",
       "      <th>Fld.1</th>\n",
       "      <th>Def.1</th>\n",
       "    </tr>\n",
       "    <tr>\n",
       "      <th>cluster</th>\n",
       "      <th></th>\n",
       "      <th></th>\n",
       "      <th></th>\n",
       "      <th></th>\n",
       "      <th></th>\n",
       "      <th></th>\n",
       "      <th></th>\n",
       "      <th></th>\n",
       "      <th></th>\n",
       "      <th></th>\n",
       "      <th></th>\n",
       "      <th></th>\n",
       "    </tr>\n",
       "  </thead>\n",
       "  <tbody>\n",
       "    <tr>\n",
       "      <th>0</th>\n",
       "      <td>14.94</td>\n",
       "      <td>1.16</td>\n",
       "      <td>0.73</td>\n",
       "      <td>1.14</td>\n",
       "      <td>0.62</td>\n",
       "      <td>0.37</td>\n",
       "      <td>1.36</td>\n",
       "      <td>0.09</td>\n",
       "      <td>0.06</td>\n",
       "      <td>0.15</td>\n",
       "      <td>0.07</td>\n",
       "      <td>0.04</td>\n",
       "    </tr>\n",
       "    <tr>\n",
       "      <th>1</th>\n",
       "      <td>56.73</td>\n",
       "      <td>2.23</td>\n",
       "      <td>7.11</td>\n",
       "      <td>5.84</td>\n",
       "      <td>4.59</td>\n",
       "      <td>1.41</td>\n",
       "      <td>6.89</td>\n",
       "      <td>0.06</td>\n",
       "      <td>1.13</td>\n",
       "      <td>0.70</td>\n",
       "      <td>0.84</td>\n",
       "      <td>0.23</td>\n",
       "    </tr>\n",
       "    <tr>\n",
       "      <th>2</th>\n",
       "      <td>63.71</td>\n",
       "      <td>17.38</td>\n",
       "      <td>4.07</td>\n",
       "      <td>4.67</td>\n",
       "      <td>3.36</td>\n",
       "      <td>1.21</td>\n",
       "      <td>7.40</td>\n",
       "      <td>1.90</td>\n",
       "      <td>0.43</td>\n",
       "      <td>0.67</td>\n",
       "      <td>0.29</td>\n",
       "      <td>0.14</td>\n",
       "    </tr>\n",
       "  </tbody>\n",
       "</table>\n",
       "</div>"
      ],
      "text/plain": [
       "         PassLive  PassDead    TO    Sh   Fld   Def  PassLive.1  PassDead.1  \\\n",
       "cluster                                                                       \n",
       "0           14.94      1.16  0.73  1.14  0.62  0.37        1.36        0.09   \n",
       "1           56.73      2.23  7.11  5.84  4.59  1.41        6.89        0.06   \n",
       "2           63.71     17.38  4.07  4.67  3.36  1.21        7.40        1.90   \n",
       "\n",
       "         TO.1  Sh.1  Fld.1  Def.1  \n",
       "cluster                            \n",
       "0        0.06  0.15   0.07   0.04  \n",
       "1        1.13  0.70   0.84   0.23  \n",
       "2        0.43  0.67   0.29   0.14  "
      ]
     },
     "metadata": {},
     "output_type": "display_data"
    }
   ],
   "source": [
    "# --- Cluster Profiling Table (Robust) ---\n",
    "cluster_profiles = creativity_df.groupby('cluster')[clust_cols].mean().round(2)\n",
    "display(cluster_profiles)"
   ]
  },
  {
   "cell_type": "markdown",
   "id": "04c94da8",
   "metadata": {},
   "source": [
    "## Assigning Unique Archetype Names to Clusters\n",
    "\n",
    "Each cluster is assigned a unique archetype label based on its dominant creative method:\n",
    "\n",
    "- **Set-piece Specialists**: Highest set-piece (PassDead) involvement\n",
    "- **Take-on Creators**: Highest take-on (TO) involvement\n",
    "- **Hybrid Creators**: Balanced or mixed creative profile\n",
    "\n",
    "This mapping provides actionable insight into player roles and creative tendencies."
   ]
  },
  {
   "cell_type": "code",
   "execution_count": 19,
   "id": "e2b11dad",
   "metadata": {},
   "outputs": [
    {
     "data": {
      "application/vnd.microsoft.datawrangler.viewer.v0+json": {
       "columns": [
        {
         "name": "cluster",
         "rawType": "int32",
         "type": "integer"
        },
        {
         "name": "Archetype",
         "rawType": "object",
         "type": "string"
        },
        {
         "name": "PassLive",
         "rawType": "float64",
         "type": "float"
        },
        {
         "name": "PassDead",
         "rawType": "float64",
         "type": "float"
        },
        {
         "name": "TO",
         "rawType": "float64",
         "type": "float"
        },
        {
         "name": "Sh",
         "rawType": "float64",
         "type": "float"
        },
        {
         "name": "Fld",
         "rawType": "float64",
         "type": "float"
        },
        {
         "name": "Def",
         "rawType": "float64",
         "type": "float"
        },
        {
         "name": "PassLive.1",
         "rawType": "float64",
         "type": "float"
        },
        {
         "name": "PassDead.1",
         "rawType": "float64",
         "type": "float"
        },
        {
         "name": "TO.1",
         "rawType": "float64",
         "type": "float"
        },
        {
         "name": "Sh.1",
         "rawType": "float64",
         "type": "float"
        },
        {
         "name": "Fld.1",
         "rawType": "float64",
         "type": "float"
        },
        {
         "name": "Def.1",
         "rawType": "float64",
         "type": "float"
        }
       ],
       "ref": "fec79ebb-55e4-4bae-a876-467952480677",
       "rows": [
        [
         "0",
         "Hybrid Creators",
         "14.94",
         "1.16",
         "0.73",
         "1.14",
         "0.62",
         "0.37",
         "1.36",
         "0.09",
         "0.06",
         "0.15",
         "0.07",
         "0.04"
        ],
        [
         "1",
         "Take-on Creators",
         "56.73",
         "2.23",
         "7.11",
         "5.84",
         "4.59",
         "1.41",
         "6.89",
         "0.06",
         "1.13",
         "0.7",
         "0.84",
         "0.23"
        ],
        [
         "2",
         "Set-piece Specialists",
         "63.71",
         "17.38",
         "4.07",
         "4.67",
         "3.36",
         "1.21",
         "7.4",
         "1.9",
         "0.43",
         "0.67",
         "0.29",
         "0.14"
        ]
       ],
       "shape": {
        "columns": 13,
        "rows": 3
       }
      },
      "text/html": [
       "<div>\n",
       "<style scoped>\n",
       "    .dataframe tbody tr th:only-of-type {\n",
       "        vertical-align: middle;\n",
       "    }\n",
       "\n",
       "    .dataframe tbody tr th {\n",
       "        vertical-align: top;\n",
       "    }\n",
       "\n",
       "    .dataframe thead th {\n",
       "        text-align: right;\n",
       "    }\n",
       "</style>\n",
       "<table border=\"1\" class=\"dataframe\">\n",
       "  <thead>\n",
       "    <tr style=\"text-align: right;\">\n",
       "      <th></th>\n",
       "      <th>Archetype</th>\n",
       "      <th>PassLive</th>\n",
       "      <th>PassDead</th>\n",
       "      <th>TO</th>\n",
       "      <th>Sh</th>\n",
       "      <th>Fld</th>\n",
       "      <th>Def</th>\n",
       "      <th>PassLive.1</th>\n",
       "      <th>PassDead.1</th>\n",
       "      <th>TO.1</th>\n",
       "      <th>Sh.1</th>\n",
       "      <th>Fld.1</th>\n",
       "      <th>Def.1</th>\n",
       "    </tr>\n",
       "    <tr>\n",
       "      <th>cluster</th>\n",
       "      <th></th>\n",
       "      <th></th>\n",
       "      <th></th>\n",
       "      <th></th>\n",
       "      <th></th>\n",
       "      <th></th>\n",
       "      <th></th>\n",
       "      <th></th>\n",
       "      <th></th>\n",
       "      <th></th>\n",
       "      <th></th>\n",
       "      <th></th>\n",
       "      <th></th>\n",
       "    </tr>\n",
       "  </thead>\n",
       "  <tbody>\n",
       "    <tr>\n",
       "      <th>0</th>\n",
       "      <td>Hybrid Creators</td>\n",
       "      <td>14.94</td>\n",
       "      <td>1.16</td>\n",
       "      <td>0.73</td>\n",
       "      <td>1.14</td>\n",
       "      <td>0.62</td>\n",
       "      <td>0.37</td>\n",
       "      <td>1.36</td>\n",
       "      <td>0.09</td>\n",
       "      <td>0.06</td>\n",
       "      <td>0.15</td>\n",
       "      <td>0.07</td>\n",
       "      <td>0.04</td>\n",
       "    </tr>\n",
       "    <tr>\n",
       "      <th>1</th>\n",
       "      <td>Take-on Creators</td>\n",
       "      <td>56.73</td>\n",
       "      <td>2.23</td>\n",
       "      <td>7.11</td>\n",
       "      <td>5.84</td>\n",
       "      <td>4.59</td>\n",
       "      <td>1.41</td>\n",
       "      <td>6.89</td>\n",
       "      <td>0.06</td>\n",
       "      <td>1.13</td>\n",
       "      <td>0.70</td>\n",
       "      <td>0.84</td>\n",
       "      <td>0.23</td>\n",
       "    </tr>\n",
       "    <tr>\n",
       "      <th>2</th>\n",
       "      <td>Set-piece Specialists</td>\n",
       "      <td>63.71</td>\n",
       "      <td>17.38</td>\n",
       "      <td>4.07</td>\n",
       "      <td>4.67</td>\n",
       "      <td>3.36</td>\n",
       "      <td>1.21</td>\n",
       "      <td>7.40</td>\n",
       "      <td>1.90</td>\n",
       "      <td>0.43</td>\n",
       "      <td>0.67</td>\n",
       "      <td>0.29</td>\n",
       "      <td>0.14</td>\n",
       "    </tr>\n",
       "  </tbody>\n",
       "</table>\n",
       "</div>"
      ],
      "text/plain": [
       "                     Archetype  PassLive  PassDead    TO    Sh   Fld   Def  \\\n",
       "cluster                                                                      \n",
       "0              Hybrid Creators     14.94      1.16  0.73  1.14  0.62  0.37   \n",
       "1             Take-on Creators     56.73      2.23  7.11  5.84  4.59  1.41   \n",
       "2        Set-piece Specialists     63.71     17.38  4.07  4.67  3.36  1.21   \n",
       "\n",
       "         PassLive.1  PassDead.1  TO.1  Sh.1  Fld.1  Def.1  \n",
       "cluster                                                    \n",
       "0              1.36        0.09  0.06  0.15   0.07   0.04  \n",
       "1              6.89        0.06  1.13  0.70   0.84   0.23  \n",
       "2              7.40        1.90  0.43  0.67   0.29   0.14  "
      ]
     },
     "metadata": {},
     "output_type": "display_data"
    }
   ],
   "source": [
    "# --- Assign Unique Archetype Names to Clusters (Robust) ---\n",
    "archetype_labels = ['Set-piece Specialists', 'Take-on Creators', 'Hybrid Creators']\n",
    "\n",
    "# Use PassDead/PassDead.1 for set-piece, TO/TO.1 for take-on, else hybrid\n",
    "means = cluster_profiles.copy()\n",
    "means['PassDead_total'] = means.get('PassDead', 0) + means.get('PassDead.1', 0)\n",
    "means['TO_total'] = means.get('TO', 0) + means.get('TO.1', 0)\n",
    "\n",
    "set_piece_idx = means['PassDead_total'].idxmax() if 'PassDead_total' in means else 0\n",
    "takeon_idx = means['TO_total'].idxmax() if 'TO_total' in means else 1\n",
    "hybrid_idx = list(set(range(optimal_k)) - {set_piece_idx, takeon_idx})[0]\n",
    "\n",
    "cluster_archetype_map = {\n",
    "    set_piece_idx: 'Set-piece Specialists',\n",
    "    takeon_idx: 'Take-on Creators',\n",
    "    hybrid_idx: 'Hybrid Creators'\n",
    "}\n",
    "\n",
    "cluster_profiles['Archetype'] = cluster_profiles.index.map(cluster_archetype_map)\n",
    "creativity_df['Archetype'] = creativity_df['cluster'].map(cluster_archetype_map)\n",
    "display(cluster_profiles[['Archetype'] + clust_cols])"
   ]
  },
  {
   "cell_type": "code",
   "execution_count": 20,
   "id": "b41b73cf",
   "metadata": {},
   "outputs": [
    {
     "data": {
      "application/vnd.microsoft.datawrangler.viewer.v0+json": {
       "columns": [
        {
         "name": "cluster",
         "rawType": "int32",
         "type": "integer"
        },
        {
         "name": "SCA_total",
         "rawType": "int64",
         "type": "integer"
        },
        {
         "name": "GCA_total",
         "rawType": "int64",
         "type": "integer"
        },
        {
         "name": "conversion_efficiency",
         "rawType": "float64",
         "type": "float"
        },
        {
         "name": "Archetype",
         "rawType": "object",
         "type": "string"
        }
       ],
       "ref": "bb1cbbf1-49e8-44dd-b43a-167f66d7a122",
       "rows": [
        [
         "0",
         "7475",
         "694",
         "0.0928428093645485",
         "Hybrid Creators"
        ],
        [
         "1",
         "5454",
         "689",
         "0.12632929959662634",
         "Take-on Creators"
        ],
        [
         "2",
         "3965",
         "455",
         "0.11475409836065574",
         "Set-piece Specialists"
        ]
       ],
       "shape": {
        "columns": 4,
        "rows": 3
       }
      },
      "text/html": [
       "<div>\n",
       "<style scoped>\n",
       "    .dataframe tbody tr th:only-of-type {\n",
       "        vertical-align: middle;\n",
       "    }\n",
       "\n",
       "    .dataframe tbody tr th {\n",
       "        vertical-align: top;\n",
       "    }\n",
       "\n",
       "    .dataframe thead th {\n",
       "        text-align: right;\n",
       "    }\n",
       "</style>\n",
       "<table border=\"1\" class=\"dataframe\">\n",
       "  <thead>\n",
       "    <tr style=\"text-align: right;\">\n",
       "      <th></th>\n",
       "      <th>SCA_total</th>\n",
       "      <th>GCA_total</th>\n",
       "      <th>conversion_efficiency</th>\n",
       "      <th>Archetype</th>\n",
       "    </tr>\n",
       "    <tr>\n",
       "      <th>cluster</th>\n",
       "      <th></th>\n",
       "      <th></th>\n",
       "      <th></th>\n",
       "      <th></th>\n",
       "    </tr>\n",
       "  </thead>\n",
       "  <tbody>\n",
       "    <tr>\n",
       "      <th>0</th>\n",
       "      <td>7475</td>\n",
       "      <td>694</td>\n",
       "      <td>0.092843</td>\n",
       "      <td>Hybrid Creators</td>\n",
       "    </tr>\n",
       "    <tr>\n",
       "      <th>1</th>\n",
       "      <td>5454</td>\n",
       "      <td>689</td>\n",
       "      <td>0.126329</td>\n",
       "      <td>Take-on Creators</td>\n",
       "    </tr>\n",
       "    <tr>\n",
       "      <th>2</th>\n",
       "      <td>3965</td>\n",
       "      <td>455</td>\n",
       "      <td>0.114754</td>\n",
       "      <td>Set-piece Specialists</td>\n",
       "    </tr>\n",
       "  </tbody>\n",
       "</table>\n",
       "</div>"
      ],
      "text/plain": [
       "         SCA_total  GCA_total  conversion_efficiency              Archetype\n",
       "cluster                                                                    \n",
       "0             7475        694               0.092843        Hybrid Creators\n",
       "1             5454        689               0.126329       Take-on Creators\n",
       "2             3965        455               0.114754  Set-piece Specialists"
      ]
     },
     "metadata": {},
     "output_type": "display_data"
    }
   ],
   "source": [
    "# --- SCA→GCA Conversion Efficiency by Cluster (Robust) ---\n",
    "cluster_totals = creativity_df.groupby('cluster')[clust_cols].sum()\n",
    "sca_total = cluster_totals[sca_cols].sum(axis=1)\n",
    "gca_total = cluster_totals[gca_cols].sum(axis=1)\n",
    "conversion_efficiency = gca_total / sca_total\n",
    "conversion_table = pd.DataFrame({\n",
    "    'SCA_total': sca_total,\n",
    "    'GCA_total': gca_total,\n",
    "    'conversion_efficiency': conversion_efficiency,\n",
    "    'Archetype': cluster_profiles['Archetype']\n",
    "})\n",
    "display(conversion_table)"
   ]
  },
  {
   "cell_type": "code",
   "execution_count": 21,
   "id": "5f2e1fc3",
   "metadata": {},
   "outputs": [
    {
     "data": {
      "application/vnd.microsoft.datawrangler.viewer.v0+json": {
       "columns": [
        {
         "name": "index",
         "rawType": "int64",
         "type": "integer"
        },
        {
         "name": "Player",
         "rawType": "object",
         "type": "string"
        },
        {
         "name": "Pos",
         "rawType": "object",
         "type": "string"
        },
        {
         "name": "Age",
         "rawType": "float64",
         "type": "float"
        },
        {
         "name": "PassLive",
         "rawType": "int64",
         "type": "integer"
        },
        {
         "name": "PassDead",
         "rawType": "int64",
         "type": "integer"
        },
        {
         "name": "TO",
         "rawType": "int64",
         "type": "integer"
        },
        {
         "name": "Sh",
         "rawType": "int64",
         "type": "integer"
        },
        {
         "name": "Fld",
         "rawType": "int64",
         "type": "integer"
        },
        {
         "name": "Def",
         "rawType": "int64",
         "type": "integer"
        },
        {
         "name": "PassLive.1",
         "rawType": "int64",
         "type": "integer"
        },
        {
         "name": "PassDead.1",
         "rawType": "int64",
         "type": "integer"
        },
        {
         "name": "TO.1",
         "rawType": "int64",
         "type": "integer"
        },
        {
         "name": "Sh.1",
         "rawType": "int64",
         "type": "integer"
        },
        {
         "name": "Fld.1",
         "rawType": "int64",
         "type": "integer"
        },
        {
         "name": "Def.1",
         "rawType": "int64",
         "type": "integer"
        },
        {
         "name": "Archetype",
         "rawType": "object",
         "type": "string"
        }
       ],
       "ref": "27481bab-49c2-41ec-89a3-f72b940d4d5f",
       "rows": [
        [
         "0",
         "Virgil van Dijk",
         "DF",
         "33.0",
         "41",
         "0",
         "1",
         "3",
         "1",
         "2",
         "4",
         "0",
         "0",
         "0",
         "0",
         "0",
         "Hybrid Creators"
        ],
        [
         "1",
         "Ryan Gravenberch",
         "MF",
         "23.0",
         "58",
         "0",
         "5",
         "2",
         "0",
         "1",
         "6",
         "0",
         "0",
         "0",
         "0",
         "0",
         "Hybrid Creators"
        ],
        [
         "2",
         "Ibrahima Konaté",
         "DF",
         "25.0",
         "26",
         "0",
         "0",
         "4",
         "0",
         "1",
         "6",
         "0",
         "0",
         "0",
         "0",
         "1",
         "Hybrid Creators"
        ],
        [
         "3",
         "Mohamed Salah",
         "FW",
         "32.0",
         "119",
         "2",
         "22",
         "14",
         "5",
         "2",
         "20",
         "0",
         "5",
         "2",
         "0",
         "0",
         "Take-on Creators"
        ],
        [
         "4",
         "Luis Díaz",
         "FW",
         "28.0",
         "88",
         "0",
         "16",
         "9",
         "4",
         "0",
         "13",
         "0",
         "1",
         "0",
         "2",
         "0",
         "Take-on Creators"
        ],
        [
         "5",
         "Cody Gakpo",
         "FW",
         "26.0",
         "55",
         "0",
         "9",
         "5",
         "5",
         "2",
         "3",
         "0",
         "3",
         "0",
         "1",
         "0",
         "Take-on Creators"
        ],
        [
         "6",
         "Alexis Mac Allister",
         "MF",
         "26.0",
         "83",
         "24",
         "2",
         "6",
         "2",
         "3",
         "10",
         "3",
         "0",
         "2",
         "0",
         "0",
         "Set-piece Specialists"
        ],
        [
         "7",
         "Dominik Szoboszlai",
         "MF",
         "24.0",
         "88",
         "7",
         "5",
         "13",
         "3",
         "1",
         "12",
         "1",
         "0",
         "3",
         "0",
         "0",
         "Set-piece Specialists"
        ],
        [
         "8",
         "Trent Alexander-Arnold",
         "DF",
         "26.0",
         "73",
         "14",
         "4",
         "4",
         "0",
         "0",
         "9",
         "1",
         "0",
         "0",
         "0",
         "0",
         "Set-piece Specialists"
        ]
       ],
       "shape": {
        "columns": 16,
        "rows": 9
       }
      },
      "text/html": [
       "<div>\n",
       "<style scoped>\n",
       "    .dataframe tbody tr th:only-of-type {\n",
       "        vertical-align: middle;\n",
       "    }\n",
       "\n",
       "    .dataframe tbody tr th {\n",
       "        vertical-align: top;\n",
       "    }\n",
       "\n",
       "    .dataframe thead th {\n",
       "        text-align: right;\n",
       "    }\n",
       "</style>\n",
       "<table border=\"1\" class=\"dataframe\">\n",
       "  <thead>\n",
       "    <tr style=\"text-align: right;\">\n",
       "      <th></th>\n",
       "      <th>Player</th>\n",
       "      <th>Pos</th>\n",
       "      <th>Age</th>\n",
       "      <th>PassLive</th>\n",
       "      <th>PassDead</th>\n",
       "      <th>TO</th>\n",
       "      <th>Sh</th>\n",
       "      <th>Fld</th>\n",
       "      <th>Def</th>\n",
       "      <th>PassLive.1</th>\n",
       "      <th>PassDead.1</th>\n",
       "      <th>TO.1</th>\n",
       "      <th>Sh.1</th>\n",
       "      <th>Fld.1</th>\n",
       "      <th>Def.1</th>\n",
       "      <th>Archetype</th>\n",
       "    </tr>\n",
       "  </thead>\n",
       "  <tbody>\n",
       "    <tr>\n",
       "      <th>0</th>\n",
       "      <td>Virgil van Dijk</td>\n",
       "      <td>DF</td>\n",
       "      <td>33.0</td>\n",
       "      <td>41</td>\n",
       "      <td>0</td>\n",
       "      <td>1</td>\n",
       "      <td>3</td>\n",
       "      <td>1</td>\n",
       "      <td>2</td>\n",
       "      <td>4</td>\n",
       "      <td>0</td>\n",
       "      <td>0</td>\n",
       "      <td>0</td>\n",
       "      <td>0</td>\n",
       "      <td>0</td>\n",
       "      <td>Hybrid Creators</td>\n",
       "    </tr>\n",
       "    <tr>\n",
       "      <th>1</th>\n",
       "      <td>Ryan Gravenberch</td>\n",
       "      <td>MF</td>\n",
       "      <td>23.0</td>\n",
       "      <td>58</td>\n",
       "      <td>0</td>\n",
       "      <td>5</td>\n",
       "      <td>2</td>\n",
       "      <td>0</td>\n",
       "      <td>1</td>\n",
       "      <td>6</td>\n",
       "      <td>0</td>\n",
       "      <td>0</td>\n",
       "      <td>0</td>\n",
       "      <td>0</td>\n",
       "      <td>0</td>\n",
       "      <td>Hybrid Creators</td>\n",
       "    </tr>\n",
       "    <tr>\n",
       "      <th>2</th>\n",
       "      <td>Ibrahima Konaté</td>\n",
       "      <td>DF</td>\n",
       "      <td>25.0</td>\n",
       "      <td>26</td>\n",
       "      <td>0</td>\n",
       "      <td>0</td>\n",
       "      <td>4</td>\n",
       "      <td>0</td>\n",
       "      <td>1</td>\n",
       "      <td>6</td>\n",
       "      <td>0</td>\n",
       "      <td>0</td>\n",
       "      <td>0</td>\n",
       "      <td>0</td>\n",
       "      <td>1</td>\n",
       "      <td>Hybrid Creators</td>\n",
       "    </tr>\n",
       "    <tr>\n",
       "      <th>3</th>\n",
       "      <td>Mohamed Salah</td>\n",
       "      <td>FW</td>\n",
       "      <td>32.0</td>\n",
       "      <td>119</td>\n",
       "      <td>2</td>\n",
       "      <td>22</td>\n",
       "      <td>14</td>\n",
       "      <td>5</td>\n",
       "      <td>2</td>\n",
       "      <td>20</td>\n",
       "      <td>0</td>\n",
       "      <td>5</td>\n",
       "      <td>2</td>\n",
       "      <td>0</td>\n",
       "      <td>0</td>\n",
       "      <td>Take-on Creators</td>\n",
       "    </tr>\n",
       "    <tr>\n",
       "      <th>4</th>\n",
       "      <td>Luis Díaz</td>\n",
       "      <td>FW</td>\n",
       "      <td>28.0</td>\n",
       "      <td>88</td>\n",
       "      <td>0</td>\n",
       "      <td>16</td>\n",
       "      <td>9</td>\n",
       "      <td>4</td>\n",
       "      <td>0</td>\n",
       "      <td>13</td>\n",
       "      <td>0</td>\n",
       "      <td>1</td>\n",
       "      <td>0</td>\n",
       "      <td>2</td>\n",
       "      <td>0</td>\n",
       "      <td>Take-on Creators</td>\n",
       "    </tr>\n",
       "    <tr>\n",
       "      <th>5</th>\n",
       "      <td>Cody Gakpo</td>\n",
       "      <td>FW</td>\n",
       "      <td>26.0</td>\n",
       "      <td>55</td>\n",
       "      <td>0</td>\n",
       "      <td>9</td>\n",
       "      <td>5</td>\n",
       "      <td>5</td>\n",
       "      <td>2</td>\n",
       "      <td>3</td>\n",
       "      <td>0</td>\n",
       "      <td>3</td>\n",
       "      <td>0</td>\n",
       "      <td>1</td>\n",
       "      <td>0</td>\n",
       "      <td>Take-on Creators</td>\n",
       "    </tr>\n",
       "    <tr>\n",
       "      <th>6</th>\n",
       "      <td>Alexis Mac Allister</td>\n",
       "      <td>MF</td>\n",
       "      <td>26.0</td>\n",
       "      <td>83</td>\n",
       "      <td>24</td>\n",
       "      <td>2</td>\n",
       "      <td>6</td>\n",
       "      <td>2</td>\n",
       "      <td>3</td>\n",
       "      <td>10</td>\n",
       "      <td>3</td>\n",
       "      <td>0</td>\n",
       "      <td>2</td>\n",
       "      <td>0</td>\n",
       "      <td>0</td>\n",
       "      <td>Set-piece Specialists</td>\n",
       "    </tr>\n",
       "    <tr>\n",
       "      <th>7</th>\n",
       "      <td>Dominik Szoboszlai</td>\n",
       "      <td>MF</td>\n",
       "      <td>24.0</td>\n",
       "      <td>88</td>\n",
       "      <td>7</td>\n",
       "      <td>5</td>\n",
       "      <td>13</td>\n",
       "      <td>3</td>\n",
       "      <td>1</td>\n",
       "      <td>12</td>\n",
       "      <td>1</td>\n",
       "      <td>0</td>\n",
       "      <td>3</td>\n",
       "      <td>0</td>\n",
       "      <td>0</td>\n",
       "      <td>Set-piece Specialists</td>\n",
       "    </tr>\n",
       "    <tr>\n",
       "      <th>8</th>\n",
       "      <td>Trent Alexander-Arnold</td>\n",
       "      <td>DF</td>\n",
       "      <td>26.0</td>\n",
       "      <td>73</td>\n",
       "      <td>14</td>\n",
       "      <td>4</td>\n",
       "      <td>4</td>\n",
       "      <td>0</td>\n",
       "      <td>0</td>\n",
       "      <td>9</td>\n",
       "      <td>1</td>\n",
       "      <td>0</td>\n",
       "      <td>0</td>\n",
       "      <td>0</td>\n",
       "      <td>0</td>\n",
       "      <td>Set-piece Specialists</td>\n",
       "    </tr>\n",
       "  </tbody>\n",
       "</table>\n",
       "</div>"
      ],
      "text/plain": [
       "                   Player Pos   Age  PassLive  PassDead  TO  Sh  Fld  Def  \\\n",
       "0         Virgil van Dijk  DF  33.0        41         0   1   3    1    2   \n",
       "1        Ryan Gravenberch  MF  23.0        58         0   5   2    0    1   \n",
       "2         Ibrahima Konaté  DF  25.0        26         0   0   4    0    1   \n",
       "3           Mohamed Salah  FW  32.0       119         2  22  14    5    2   \n",
       "4               Luis Díaz  FW  28.0        88         0  16   9    4    0   \n",
       "5              Cody Gakpo  FW  26.0        55         0   9   5    5    2   \n",
       "6     Alexis Mac Allister  MF  26.0        83        24   2   6    2    3   \n",
       "7      Dominik Szoboszlai  MF  24.0        88         7   5  13    3    1   \n",
       "8  Trent Alexander-Arnold  DF  26.0        73        14   4   4    0    0   \n",
       "\n",
       "   PassLive.1  PassDead.1  TO.1  Sh.1  Fld.1  Def.1              Archetype  \n",
       "0           4           0     0     0      0      0        Hybrid Creators  \n",
       "1           6           0     0     0      0      0        Hybrid Creators  \n",
       "2           6           0     0     0      0      1        Hybrid Creators  \n",
       "3          20           0     5     2      0      0       Take-on Creators  \n",
       "4          13           0     1     0      2      0       Take-on Creators  \n",
       "5           3           0     3     0      1      0       Take-on Creators  \n",
       "6          10           3     0     2      0      0  Set-piece Specialists  \n",
       "7          12           1     0     3      0      0  Set-piece Specialists  \n",
       "8           9           1     0     0      0      0  Set-piece Specialists  "
      ]
     },
     "metadata": {},
     "output_type": "display_data"
    }
   ],
   "source": [
    "## Player Examples by Archetype\n",
    "\n",
    "# --- Player Examples by Cluster (Robust) ---\n",
    "example_cols = ['Player', 'Pos', 'Age'] + clust_cols\n",
    "examples = []\n",
    "for i in range(optimal_k):\n",
    "    cluster_players = creativity_df[creativity_df['cluster']==i]\n",
    "    sample = cluster_players[example_cols].head(3).copy()\n",
    "    sample['Archetype'] = cluster_profiles.loc[i, 'Archetype']\n",
    "    examples.append(sample)\n",
    "example_df = pd.concat(examples, ignore_index=True)\n",
    "display(example_df)"
   ]
  },
  {
   "cell_type": "code",
   "execution_count": 22,
   "id": "b32e1155",
   "metadata": {},
   "outputs": [
    {
     "data": {
      "application/vnd.plotly.v1+json": {
       "config": {
        "plotlyServerURL": "https://plot.ly"
       },
       "data": [
        {
         "customdata": [
          [
           "Mohamed Salah",
           164,
           22,
           32,
           "FW"
          ],
          [
           "Luis Díaz",
           117,
           16,
           28,
           "FW"
          ],
          [
           "Marcus Rashford",
           27,
           3,
           27,
           "FW"
          ],
          [
           "Reiss Nelson",
           31,
           3,
           25,
           "FW"
          ],
          [
           "Son Heung-min",
           117,
           10,
           32,
           "FW"
          ]
         ],
         "hovertemplate": "Pos=%{customdata[4]}<br>Take-on Dependency Ratio (TO/SCA)=%{x}<br>SCA per 90=%{y}<br>Age=%{customdata[3]}<br>Player=%{customdata[0]}<br>SCA=%{customdata[1]}<br>TO=%{customdata[2]}<extra></extra>",
         "legendgroup": "FW",
         "marker": {
          "color": "#636efa",
          "size": [
           32,
           28,
           27,
           25,
           32
          ],
          "sizemode": "area",
          "sizeref": 0.085,
          "symbol": "circle"
         },
         "mode": "markers",
         "name": "FW",
         "orientation": "v",
         "showlegend": true,
         "type": "scatter",
         "x": [
          0.13414634146341464,
          0.13675213675213677,
          0.1111111111111111,
          0.0967741935483871,
          0.08547008547008547
         ],
         "xaxis": "x",
         "y": [
          4.5,
          4.52,
          5.49,
          5.73,
          4.99
         ],
         "yaxis": "y"
        },
        {
         "customdata": [
          [
           "Alexis Mac Allister",
           120,
           2,
           26,
           "MF"
          ],
          [
           "Dominik Szoboszlai",
           117,
           5,
           24,
           "MF"
          ],
          [
           "Martin Ødegaard",
           123,
           2,
           26,
           "MF"
          ],
          [
           "Cole Palmer",
           200,
           16,
           23,
           "MF"
          ],
          [
           "Enzo Fernández",
           146,
           2,
           24,
           "MF"
          ],
          [
           "Marco Asensio",
           34,
           1,
           29,
           "MF"
          ],
          [
           "Mathias Jensen",
           40,
           1,
           29,
           "MF"
          ],
          [
           "Andreas Pereira",
           103,
           0,
           29,
           "MF"
          ],
          [
           "Tom Cairney",
           31,
           0,
           34,
           "MF"
          ],
          [
           "Adam Wharton",
           59,
           0,
           20,
           "MF"
          ],
          [
           "Bruno Fernandes",
           181,
           5,
           30,
           "MF"
          ],
          [
           "Christian Eriksen",
           52,
           0,
           33,
           "MF"
          ],
          [
           "James Maddison",
           95,
           7,
           28,
           "MF"
          ]
         ],
         "hovertemplate": "Pos=%{customdata[4]}<br>Take-on Dependency Ratio (TO/SCA)=%{x}<br>SCA per 90=%{y}<br>Age=%{customdata[3]}<br>Player=%{customdata[0]}<br>SCA=%{customdata[1]}<br>TO=%{customdata[2]}<extra></extra>",
         "legendgroup": "MF",
         "marker": {
          "color": "#EF553B",
          "size": [
           26,
           24,
           26,
           23,
           24,
           29,
           29,
           29,
           34,
           20,
           30,
           33,
           28
          ],
          "sizemode": "area",
          "sizeref": 0.085,
          "symbol": "circle"
         },
         "mode": "markers",
         "name": "MF",
         "orientation": "v",
         "showlegend": true,
         "type": "scatter",
         "x": [
          0.016666666666666666,
          0.042735042735042736,
          0.016260162601626018,
          0.08,
          0.0136986301369863,
          0.029411764705882353,
          0.025,
          0,
          0,
          0,
          0.027624309392265192,
          0,
          0.07368421052631578
         ],
         "xaxis": "x",
         "y": [
          4.15,
          4.33,
          4.8,
          5.81,
          4.6,
          4.38,
          4.23,
          4.75,
          5,
          4.03,
          5.56,
          4.51,
          4.73
         ],
         "yaxis": "y"
        },
        {
         "customdata": [
          [
           "Harvey Elliott",
           21,
           1,
           22,
           "MF,FW"
          ],
          [
           "Phil Foden",
           88,
           3,
           24,
           "MF,FW"
          ],
          [
           "Kevin De Bruyne",
           113,
           3,
           33,
           "MF,FW"
          ],
          [
           "Brajan Gruda",
           35,
           3,
           20,
           "MF,FW"
          ],
          [
           "Eberechi Eze",
           133,
           11,
           26,
           "MF,FW"
          ],
          [
           "Dwight McNeil",
           71,
           6,
           25,
           "MF,FW"
          ],
          [
           "Matheus Cunha",
           127,
           18,
           25,
           "MF,FW"
          ],
          [
           "Amad Diallo",
           93,
           10,
           22,
           "MF,FW"
          ],
          [
           "Dejan Kulusevski",
           128,
           15,
           25,
           "MF,FW"
          ]
         ],
         "hovertemplate": "Pos=%{customdata[4]}<br>Take-on Dependency Ratio (TO/SCA)=%{x}<br>SCA per 90=%{y}<br>Age=%{customdata[3]}<br>Player=%{customdata[0]}<br>SCA=%{customdata[1]}<br>TO=%{customdata[2]}<extra></extra>",
         "legendgroup": "MF,FW",
         "marker": {
          "color": "#00cc96",
          "size": [
           22,
           24,
           33,
           20,
           26,
           25,
           25,
           22,
           25
          ],
          "sizemode": "area",
          "sizeref": 0.085,
          "symbol": "circle"
         },
         "mode": "markers",
         "name": "MF,FW",
         "orientation": "v",
         "showlegend": true,
         "type": "scatter",
         "x": [
          0.047619047619047616,
          0.03409090909090909,
          0.02654867256637168,
          0.08571428571428572,
          0.08270676691729323,
          0.08450704225352113,
          0.14173228346456693,
          0.10752688172043011,
          0.1171875
         ],
         "xaxis": "x",
         "y": [
          5.18,
          4.48,
          5.99,
          5.14,
          4.74,
          4.71,
          4.56,
          4.62,
          4.82
         ],
         "yaxis": "y"
        },
        {
         "customdata": [
          [
           "Bukayo Saka",
           112,
           11,
           23,
           "FW,MF"
          ],
          [
           "Sávio",
           111,
           15,
           21,
           "FW,MF"
          ],
          [
           "Jeremy Doku",
           74,
           13,
           22,
           "FW,MF"
          ],
          [
           "Jack Grealish",
           47,
           3,
           29,
           "FW,MF"
          ],
          [
           "Adama Traoré",
           81,
           9,
           29,
           "FW,MF"
          ],
          [
           "Marcus Tavernier",
           90,
           3,
           26,
           "FW,MF"
          ],
          [
           "Crysencio Summerville",
           35,
           5,
           23,
           "FW,MF"
          ]
         ],
         "hovertemplate": "Pos=%{customdata[4]}<br>Take-on Dependency Ratio (TO/SCA)=%{x}<br>SCA per 90=%{y}<br>Age=%{customdata[3]}<br>Player=%{customdata[0]}<br>SCA=%{customdata[1]}<br>TO=%{customdata[2]}<extra></extra>",
         "legendgroup": "FW,MF",
         "marker": {
          "color": "#ab63fa",
          "size": [
           23,
           21,
           22,
           29,
           29,
           26,
           23
          ],
          "sizemode": "area",
          "sizeref": 0.085,
          "symbol": "circle"
         },
         "mode": "markers",
         "name": "FW,MF",
         "orientation": "v",
         "showlegend": true,
         "type": "scatter",
         "x": [
          0.09821428571428571,
          0.13513513513513514,
          0.17567567567567569,
          0.06382978723404255,
          0.1111111111111111,
          0.03333333333333333,
          0.14285714285714285
         ],
         "xaxis": "x",
         "y": [
          5.93,
          5.71,
          4.62,
          5.86,
          4.29,
          4.38,
          4.01
         ],
         "yaxis": "y"
        },
        {
         "customdata": [
          [
           "Ian Maatsen",
           52,
           5,
           23,
           "DF"
          ]
         ],
         "hovertemplate": "Pos=%{customdata[4]}<br>Take-on Dependency Ratio (TO/SCA)=%{x}<br>SCA per 90=%{y}<br>Age=%{customdata[3]}<br>Player=%{customdata[0]}<br>SCA=%{customdata[1]}<br>TO=%{customdata[2]}<extra></extra>",
         "legendgroup": "DF",
         "marker": {
          "color": "#FFA15A",
          "size": [
           23
          ],
          "sizemode": "area",
          "sizeref": 0.085,
          "symbol": "circle"
         },
         "mode": "markers",
         "name": "DF",
         "orientation": "v",
         "showlegend": true,
         "type": "scatter",
         "x": [
          0.09615384615384616
         ],
         "xaxis": "x",
         "y": [
          4.46
         ],
         "yaxis": "y"
        }
       ],
       "layout": {
        "height": 600,
        "legend": {
         "itemsizing": "constant",
         "title": {
          "text": "Pos"
         },
         "tracegroupgap": 0
        },
        "template": {
         "data": {
          "bar": [
           {
            "error_x": {
             "color": "#2a3f5f"
            },
            "error_y": {
             "color": "#2a3f5f"
            },
            "marker": {
             "line": {
              "color": "#E5ECF6",
              "width": 0.5
             },
             "pattern": {
              "fillmode": "overlay",
              "size": 10,
              "solidity": 0.2
             }
            },
            "type": "bar"
           }
          ],
          "barpolar": [
           {
            "marker": {
             "line": {
              "color": "#E5ECF6",
              "width": 0.5
             },
             "pattern": {
              "fillmode": "overlay",
              "size": 10,
              "solidity": 0.2
             }
            },
            "type": "barpolar"
           }
          ],
          "carpet": [
           {
            "aaxis": {
             "endlinecolor": "#2a3f5f",
             "gridcolor": "white",
             "linecolor": "white",
             "minorgridcolor": "white",
             "startlinecolor": "#2a3f5f"
            },
            "baxis": {
             "endlinecolor": "#2a3f5f",
             "gridcolor": "white",
             "linecolor": "white",
             "minorgridcolor": "white",
             "startlinecolor": "#2a3f5f"
            },
            "type": "carpet"
           }
          ],
          "choropleth": [
           {
            "colorbar": {
             "outlinewidth": 0,
             "ticks": ""
            },
            "type": "choropleth"
           }
          ],
          "contour": [
           {
            "colorbar": {
             "outlinewidth": 0,
             "ticks": ""
            },
            "colorscale": [
             [
              0,
              "#0d0887"
             ],
             [
              0.1111111111111111,
              "#46039f"
             ],
             [
              0.2222222222222222,
              "#7201a8"
             ],
             [
              0.3333333333333333,
              "#9c179e"
             ],
             [
              0.4444444444444444,
              "#bd3786"
             ],
             [
              0.5555555555555556,
              "#d8576b"
             ],
             [
              0.6666666666666666,
              "#ed7953"
             ],
             [
              0.7777777777777778,
              "#fb9f3a"
             ],
             [
              0.8888888888888888,
              "#fdca26"
             ],
             [
              1,
              "#f0f921"
             ]
            ],
            "type": "contour"
           }
          ],
          "contourcarpet": [
           {
            "colorbar": {
             "outlinewidth": 0,
             "ticks": ""
            },
            "type": "contourcarpet"
           }
          ],
          "heatmap": [
           {
            "colorbar": {
             "outlinewidth": 0,
             "ticks": ""
            },
            "colorscale": [
             [
              0,
              "#0d0887"
             ],
             [
              0.1111111111111111,
              "#46039f"
             ],
             [
              0.2222222222222222,
              "#7201a8"
             ],
             [
              0.3333333333333333,
              "#9c179e"
             ],
             [
              0.4444444444444444,
              "#bd3786"
             ],
             [
              0.5555555555555556,
              "#d8576b"
             ],
             [
              0.6666666666666666,
              "#ed7953"
             ],
             [
              0.7777777777777778,
              "#fb9f3a"
             ],
             [
              0.8888888888888888,
              "#fdca26"
             ],
             [
              1,
              "#f0f921"
             ]
            ],
            "type": "heatmap"
           }
          ],
          "heatmapgl": [
           {
            "colorbar": {
             "outlinewidth": 0,
             "ticks": ""
            },
            "colorscale": [
             [
              0,
              "#0d0887"
             ],
             [
              0.1111111111111111,
              "#46039f"
             ],
             [
              0.2222222222222222,
              "#7201a8"
             ],
             [
              0.3333333333333333,
              "#9c179e"
             ],
             [
              0.4444444444444444,
              "#bd3786"
             ],
             [
              0.5555555555555556,
              "#d8576b"
             ],
             [
              0.6666666666666666,
              "#ed7953"
             ],
             [
              0.7777777777777778,
              "#fb9f3a"
             ],
             [
              0.8888888888888888,
              "#fdca26"
             ],
             [
              1,
              "#f0f921"
             ]
            ],
            "type": "heatmapgl"
           }
          ],
          "histogram": [
           {
            "marker": {
             "pattern": {
              "fillmode": "overlay",
              "size": 10,
              "solidity": 0.2
             }
            },
            "type": "histogram"
           }
          ],
          "histogram2d": [
           {
            "colorbar": {
             "outlinewidth": 0,
             "ticks": ""
            },
            "colorscale": [
             [
              0,
              "#0d0887"
             ],
             [
              0.1111111111111111,
              "#46039f"
             ],
             [
              0.2222222222222222,
              "#7201a8"
             ],
             [
              0.3333333333333333,
              "#9c179e"
             ],
             [
              0.4444444444444444,
              "#bd3786"
             ],
             [
              0.5555555555555556,
              "#d8576b"
             ],
             [
              0.6666666666666666,
              "#ed7953"
             ],
             [
              0.7777777777777778,
              "#fb9f3a"
             ],
             [
              0.8888888888888888,
              "#fdca26"
             ],
             [
              1,
              "#f0f921"
             ]
            ],
            "type": "histogram2d"
           }
          ],
          "histogram2dcontour": [
           {
            "colorbar": {
             "outlinewidth": 0,
             "ticks": ""
            },
            "colorscale": [
             [
              0,
              "#0d0887"
             ],
             [
              0.1111111111111111,
              "#46039f"
             ],
             [
              0.2222222222222222,
              "#7201a8"
             ],
             [
              0.3333333333333333,
              "#9c179e"
             ],
             [
              0.4444444444444444,
              "#bd3786"
             ],
             [
              0.5555555555555556,
              "#d8576b"
             ],
             [
              0.6666666666666666,
              "#ed7953"
             ],
             [
              0.7777777777777778,
              "#fb9f3a"
             ],
             [
              0.8888888888888888,
              "#fdca26"
             ],
             [
              1,
              "#f0f921"
             ]
            ],
            "type": "histogram2dcontour"
           }
          ],
          "mesh3d": [
           {
            "colorbar": {
             "outlinewidth": 0,
             "ticks": ""
            },
            "type": "mesh3d"
           }
          ],
          "parcoords": [
           {
            "line": {
             "colorbar": {
              "outlinewidth": 0,
              "ticks": ""
             }
            },
            "type": "parcoords"
           }
          ],
          "pie": [
           {
            "automargin": true,
            "type": "pie"
           }
          ],
          "scatter": [
           {
            "fillpattern": {
             "fillmode": "overlay",
             "size": 10,
             "solidity": 0.2
            },
            "type": "scatter"
           }
          ],
          "scatter3d": [
           {
            "line": {
             "colorbar": {
              "outlinewidth": 0,
              "ticks": ""
             }
            },
            "marker": {
             "colorbar": {
              "outlinewidth": 0,
              "ticks": ""
             }
            },
            "type": "scatter3d"
           }
          ],
          "scattercarpet": [
           {
            "marker": {
             "colorbar": {
              "outlinewidth": 0,
              "ticks": ""
             }
            },
            "type": "scattercarpet"
           }
          ],
          "scattergeo": [
           {
            "marker": {
             "colorbar": {
              "outlinewidth": 0,
              "ticks": ""
             }
            },
            "type": "scattergeo"
           }
          ],
          "scattergl": [
           {
            "marker": {
             "colorbar": {
              "outlinewidth": 0,
              "ticks": ""
             }
            },
            "type": "scattergl"
           }
          ],
          "scattermapbox": [
           {
            "marker": {
             "colorbar": {
              "outlinewidth": 0,
              "ticks": ""
             }
            },
            "type": "scattermapbox"
           }
          ],
          "scatterpolar": [
           {
            "marker": {
             "colorbar": {
              "outlinewidth": 0,
              "ticks": ""
             }
            },
            "type": "scatterpolar"
           }
          ],
          "scatterpolargl": [
           {
            "marker": {
             "colorbar": {
              "outlinewidth": 0,
              "ticks": ""
             }
            },
            "type": "scatterpolargl"
           }
          ],
          "scatterternary": [
           {
            "marker": {
             "colorbar": {
              "outlinewidth": 0,
              "ticks": ""
             }
            },
            "type": "scatterternary"
           }
          ],
          "surface": [
           {
            "colorbar": {
             "outlinewidth": 0,
             "ticks": ""
            },
            "colorscale": [
             [
              0,
              "#0d0887"
             ],
             [
              0.1111111111111111,
              "#46039f"
             ],
             [
              0.2222222222222222,
              "#7201a8"
             ],
             [
              0.3333333333333333,
              "#9c179e"
             ],
             [
              0.4444444444444444,
              "#bd3786"
             ],
             [
              0.5555555555555556,
              "#d8576b"
             ],
             [
              0.6666666666666666,
              "#ed7953"
             ],
             [
              0.7777777777777778,
              "#fb9f3a"
             ],
             [
              0.8888888888888888,
              "#fdca26"
             ],
             [
              1,
              "#f0f921"
             ]
            ],
            "type": "surface"
           }
          ],
          "table": [
           {
            "cells": {
             "fill": {
              "color": "#EBF0F8"
             },
             "line": {
              "color": "white"
             }
            },
            "header": {
             "fill": {
              "color": "#C8D4E3"
             },
             "line": {
              "color": "white"
             }
            },
            "type": "table"
           }
          ]
         },
         "layout": {
          "annotationdefaults": {
           "arrowcolor": "#2a3f5f",
           "arrowhead": 0,
           "arrowwidth": 1
          },
          "autotypenumbers": "strict",
          "coloraxis": {
           "colorbar": {
            "outlinewidth": 0,
            "ticks": ""
           }
          },
          "colorscale": {
           "diverging": [
            [
             0,
             "#8e0152"
            ],
            [
             0.1,
             "#c51b7d"
            ],
            [
             0.2,
             "#de77ae"
            ],
            [
             0.3,
             "#f1b6da"
            ],
            [
             0.4,
             "#fde0ef"
            ],
            [
             0.5,
             "#f7f7f7"
            ],
            [
             0.6,
             "#e6f5d0"
            ],
            [
             0.7,
             "#b8e186"
            ],
            [
             0.8,
             "#7fbc41"
            ],
            [
             0.9,
             "#4d9221"
            ],
            [
             1,
             "#276419"
            ]
           ],
           "sequential": [
            [
             0,
             "#0d0887"
            ],
            [
             0.1111111111111111,
             "#46039f"
            ],
            [
             0.2222222222222222,
             "#7201a8"
            ],
            [
             0.3333333333333333,
             "#9c179e"
            ],
            [
             0.4444444444444444,
             "#bd3786"
            ],
            [
             0.5555555555555556,
             "#d8576b"
            ],
            [
             0.6666666666666666,
             "#ed7953"
            ],
            [
             0.7777777777777778,
             "#fb9f3a"
            ],
            [
             0.8888888888888888,
             "#fdca26"
            ],
            [
             1,
             "#f0f921"
            ]
           ],
           "sequentialminus": [
            [
             0,
             "#0d0887"
            ],
            [
             0.1111111111111111,
             "#46039f"
            ],
            [
             0.2222222222222222,
             "#7201a8"
            ],
            [
             0.3333333333333333,
             "#9c179e"
            ],
            [
             0.4444444444444444,
             "#bd3786"
            ],
            [
             0.5555555555555556,
             "#d8576b"
            ],
            [
             0.6666666666666666,
             "#ed7953"
            ],
            [
             0.7777777777777778,
             "#fb9f3a"
            ],
            [
             0.8888888888888888,
             "#fdca26"
            ],
            [
             1,
             "#f0f921"
            ]
           ]
          },
          "colorway": [
           "#636efa",
           "#EF553B",
           "#00cc96",
           "#ab63fa",
           "#FFA15A",
           "#19d3f3",
           "#FF6692",
           "#B6E880",
           "#FF97FF",
           "#FECB52"
          ],
          "font": {
           "color": "#2a3f5f"
          },
          "geo": {
           "bgcolor": "white",
           "lakecolor": "white",
           "landcolor": "#E5ECF6",
           "showlakes": true,
           "showland": true,
           "subunitcolor": "white"
          },
          "hoverlabel": {
           "align": "left"
          },
          "hovermode": "closest",
          "mapbox": {
           "style": "light"
          },
          "paper_bgcolor": "white",
          "plot_bgcolor": "#E5ECF6",
          "polar": {
           "angularaxis": {
            "gridcolor": "white",
            "linecolor": "white",
            "ticks": ""
           },
           "bgcolor": "#E5ECF6",
           "radialaxis": {
            "gridcolor": "white",
            "linecolor": "white",
            "ticks": ""
           }
          },
          "scene": {
           "xaxis": {
            "backgroundcolor": "#E5ECF6",
            "gridcolor": "white",
            "gridwidth": 2,
            "linecolor": "white",
            "showbackground": true,
            "ticks": "",
            "zerolinecolor": "white"
           },
           "yaxis": {
            "backgroundcolor": "#E5ECF6",
            "gridcolor": "white",
            "gridwidth": 2,
            "linecolor": "white",
            "showbackground": true,
            "ticks": "",
            "zerolinecolor": "white"
           },
           "zaxis": {
            "backgroundcolor": "#E5ECF6",
            "gridcolor": "white",
            "gridwidth": 2,
            "linecolor": "white",
            "showbackground": true,
            "ticks": "",
            "zerolinecolor": "white"
           }
          },
          "shapedefaults": {
           "line": {
            "color": "#2a3f5f"
           }
          },
          "ternary": {
           "aaxis": {
            "gridcolor": "white",
            "linecolor": "white",
            "ticks": ""
           },
           "baxis": {
            "gridcolor": "white",
            "linecolor": "white",
            "ticks": ""
           },
           "bgcolor": "#E5ECF6",
           "caxis": {
            "gridcolor": "white",
            "linecolor": "white",
            "ticks": ""
           }
          },
          "title": {
           "x": 0.05
          },
          "xaxis": {
           "automargin": true,
           "gridcolor": "white",
           "linecolor": "white",
           "ticks": "",
           "title": {
            "standoff": 15
           },
           "zerolinecolor": "white",
           "zerolinewidth": 2
          },
          "yaxis": {
           "automargin": true,
           "gridcolor": "white",
           "linecolor": "white",
           "ticks": "",
           "title": {
            "standoff": 15
           },
           "zerolinecolor": "white",
           "zerolinewidth": 2
          }
         }
        },
        "title": {
         "text": "SCA90 vs Take-on Dependency Ratio by Position and Age"
        },
        "xaxis": {
         "anchor": "y",
         "domain": [
          0,
          1
         ],
         "title": {
          "text": "Take-on Dependency Ratio (TO/SCA)"
         }
        },
        "yaxis": {
         "anchor": "x",
         "domain": [
          0,
          1
         ],
         "title": {
          "text": "SCA per 90"
         }
        }
       }
      }
     },
     "metadata": {},
     "output_type": "display_data"
    }
   ],
   "source": [
    "# --- Interactive scatter plot: SCA90 vs Take-on Dependency\n",
    "fig = px.scatter(\n",
    "    plot_df,\n",
    "    x='TO_SCA_ratio',\n",
    "    y='SCA90',\n",
    "    color='Pos',\n",
    "    size='Age',\n",
    "    hover_data=['Player', 'SCA', 'TO', 'SCA90', 'TO_SCA_ratio', 'Age', 'Pos'],\n",
    "    labels={'TO_SCA_ratio': 'Take-on Dependency Ratio (TO/SCA)', 'SCA90': 'SCA per 90'},\n",
    "    title='SCA90 vs Take-on Dependency Ratio by Position and Age',\n",
    "    height=600\n",
    ")\n",
    "fig.show()"
   ]
  },
  {
   "cell_type": "markdown",
   "id": "2345dab1",
   "metadata": {},
   "source": [
    "# Tactical Flexibility Indices: Shot and Goal Creation\n",
    "\n",
    "This section introduces tactical flexibility indices for both shot creation (SCA) and goal creation (GCA), quantifying a player's method variety and adaptability using weighted Shannon entropy. We analyze the relationship between SCA and GCA flexibility, identify player specializations, and provide position-specific benchmarks and recommendations."
   ]
  },
  {
   "cell_type": "code",
   "execution_count": 40,
   "id": "527fda6b",
   "metadata": {},
   "outputs": [],
   "source": [
    "# --- Tactical Flexibility Indices: Volume-Adjusted (Favor High Volume) Weighted Shannon Entropy for SCA and GCA ---\n",
    "from scipy.stats import entropy\n",
    "\n",
    "# Define SCA and GCA method columns (robust to data changes)\n",
    "sca_cols = [col for col in ['PassLive', 'PassDead', 'TO', 'Sh', 'Fld', 'Def'] if col in shot_df.columns]\n",
    "gca_cols = [col for col in ['PassLive.1', 'PassDead.1', 'TO.1', 'Sh.1', 'Fld.1', 'Def.1'] if col in shot_df.columns]\n",
    "\n",
    "# Assign tactical weights (example: set-piece/pass dead = 1.3, take-on = 1.2, others = 1.0)\n",
    "sca_weights = np.array([\n",
    "    1.1 if 'PassLive' in c else 1.2 if 'TO' in c else 1.3 if 'PassDead' in c else 1.0 for c in sca_cols\n",
    "])\n",
    "gca_weights = np.array([\n",
    "    1.1 if 'PassLive.1' in c else 1.2 if 'TO.1' in c else 1.3 if 'PassDead.1' in c else 1.0 for c in gca_cols\n",
    "])\n",
    "\n",
    "def weighted_entropy_volume_favor_high(row, cols, weights, total_actions_col=None, alpha=0.2):\n",
    "    vals = row[cols].values.astype(float)\n",
    "    total = vals.sum()\n",
    "    if total == 0 or np.all(vals == 0):\n",
    "        return 0.0\n",
    "    # Weighted probabilities: multiply, then renormalize\n",
    "    probs = vals / total\n",
    "    weighted_probs = probs * weights\n",
    "    if weighted_probs.sum() == 0:\n",
    "        return 0.0\n",
    "    weighted_probs = weighted_probs / weighted_probs.sum()\n",
    "    weighted_probs = weighted_probs[weighted_probs > 0]\n",
    "    ent = entropy(weighted_probs, base=2)\n",
    "    # Volume adjustment: slightly boost entropy for high-volume players\n",
    "    if total_actions_col is not None:\n",
    "        total_actions = row[total_actions_col]\n",
    "        # Use log scale: higher boost for high volume, minimal for low volume\n",
    "        volume_factor = 1 + alpha * (np.log1p(total_actions) / (1 + np.log1p(total_actions)))\n",
    "        ent = ent * volume_factor\n",
    "    return ent\n",
    "\n",
    "# Calculate flexibility indices for each player (favor high volume slightly)\n",
    "shot_df['SCA_flex'] = shot_df.apply(\n",
    "    lambda r: weighted_entropy_volume_favor_high(r, sca_cols, sca_weights, total_actions_col='SCA', alpha=0.3), axis=1\n",
    ")\n",
    "shot_df['GCA_flex'] = shot_df.apply(\n",
    "    lambda r: weighted_entropy_volume_favor_high(r, gca_cols, gca_weights, total_actions_col='GCA', alpha=0.3) if 'GCA' in shot_df.columns else weighted_entropy_volume_favor_high(r, gca_cols, gca_weights, alpha=0.2), axis=1\n",
    ")"
   ]
  },
  {
   "cell_type": "markdown",
   "id": "a814b65f",
   "metadata": {},
   "source": [
    "## Dual Flexibility Ranking and Quadrant Analysis\n",
    "\n",
    "We rank players by both SCA and GCA flexibility, visualize their relationship, and highlight quadrant-based tactical archetypes (e.g., flexible in SCA but specialized in GCA)."
   ]
  },
  {
   "cell_type": "code",
   "execution_count": 41,
   "id": "c78b34f1",
   "metadata": {},
   "outputs": [
    {
     "data": {
      "application/vnd.plotly.v1+json": {
       "config": {
        "plotlyServerURL": "https://plot.ly"
       },
       "data": [
        {
         "customdata": [
          [
           "Mohamed Salah",
           83,
           84,
           4.5,
           0.74
          ],
          [
           "Luis Díaz",
           117,
           154,
           4.52,
           0.62
          ],
          [
           "Cody Gakpo",
           86,
           49,
           3.71,
           0.34
          ],
          [
           "Diogo Jota",
           40,
           16,
           2.7,
           0.7
          ],
          [
           "Darwin Núñez",
           45,
           170,
           2.44,
           0.33
          ],
          [
           "Gabriel Jesus",
           31,
           162,
           2.66,
           0.59
          ],
          [
           "Erling Haaland",
           99,
           72,
           2.31,
           0.31
          ],
          [
           "Alexander Isak",
           101,
           83,
           3.07,
           0.47
          ],
          [
           "Jacob Murphy",
           102,
           215,
           3.22,
           0.59
          ],
          [
           "Harvey Barnes",
           68,
           44,
           3.28,
           0.48
          ],
          [
           "Nicolas Jackson",
           26,
           78,
           2.8,
           0.41
          ],
          [
           "Noni Madueke",
           87,
           34,
           3.6,
           0.37
          ],
          [
           "Pedro Neto",
           61,
           60,
           3.65,
           0.33
          ],
          [
           "Jadon Sancho",
           206,
           212,
           3.59,
           0.53
          ],
          [
           "Christopher Nkunku",
           36,
           3,
           3.32,
           0.39
          ],
          [
           "Ollie Watkins",
           74,
           50,
           1.9,
           0.43
          ],
          [
           "Marcus Rashford",
           5,
           134,
           5.49,
           0.61
          ],
          [
           "Chris Wood",
           158,
           187,
           1.38,
           0.16
          ],
          [
           "Danny Welbeck",
           92,
           206,
           2.26,
           0.34
          ],
          [
           "Bryan Mbeumo",
           48,
           5,
           3.82,
           0.54
          ],
          [
           "Yoane Wissa",
           16,
           209,
           2.1,
           0.29
          ],
          [
           "Kevin Schade",
           7,
           56,
           2.24,
           0.37
          ],
          [
           "Raúl Jiménez",
           85,
           17,
           2.43,
           0.26
          ],
          [
           "Rodrigo Muniz",
           18,
           94,
           1.59,
           0.19
          ],
          [
           "Antoine Semenyo",
           32,
           4,
           3.7,
           0.38
          ],
          [
           "Evanilson",
           59,
           6,
           2.34,
           0.32
          ],
          [
           "Dango Ouattara",
           150,
           69,
           3.23,
           0.27
          ],
          [
           "Jean-Philippe Mateta",
           78,
           37,
           2.26,
           0.35
          ],
          [
           "Iliman Ndiaye",
           134,
           55,
           2.41,
           0.27
          ],
          [
           "Jack Harrison",
           41,
           35,
           2.54,
           0.18
          ],
          [
           "Dominic Calvert-Lewin",
           9,
           43,
           1.4,
           0.22
          ],
          [
           "Niclas Füllkrug",
           214,
           96,
           2.5,
           0.25
          ],
          [
           "Dominic Solanke",
           107,
           90,
           1.56,
           0.34
          ],
          [
           "Son Heung-min",
           79,
           192,
           4.99,
           0.64
          ],
          [
           "Brennan Johnson",
           39,
           79,
           1.98,
           0.3
          ],
          [
           "Mikey Moore",
           37,
           96,
           2.95,
           0.49
          ],
          [
           "Jamie Vardy",
           93,
           12,
           1.5,
           0.32
          ],
          [
           "Stephy Mavididi",
           100,
           193,
           2.78,
           0.39
          ],
          [
           "Bobby De Cordova-Reid",
           97,
           22,
           1.57,
           0.36
          ],
          [
           "Abdul Fatawu Issahaku",
           42,
           134,
           2.64,
           0.47
          ],
          [
           "Liam Delap",
           2,
           19,
           2.17,
           0.25
          ],
          [
           "George Hirst",
           211,
           134,
           1.21,
           0.45
          ]
         ],
         "hovertemplate": "Pos=FW<br>SCA Flexibility (Entropy)=%{x}<br>GCA Flexibility (Entropy)=%{y}<br>Player=%{customdata[0]}<br>SCA_flex_rank=%{customdata[1]}<br>GCA_flex_rank=%{customdata[2]}<br>SCA90=%{customdata[3]}<br>GCA90=%{customdata[4]}<extra></extra>",
         "legendgroup": "FW",
         "marker": {
          "color": "#636efa",
          "symbol": "circle"
         },
         "mode": "markers",
         "name": "FW",
         "orientation": "v",
         "showlegend": true,
         "type": "scatter",
         "x": [
          1.665591297170857,
          1.4268505585948774,
          1.6587974602607123,
          1.888455846679621,
          1.8576604371390604,
          2.0316972840808623,
          1.5679084295023693,
          1.511478463266935,
          1.5114332508559392,
          1.7373253991394682,
          2.06190435545421,
          1.6371074059541946,
          1.7699257744414427,
          0.7698013550785251,
          1.9845059802048317,
          1.7105201619686732,
          2.367728592849247,
          1.156956517667781,
          1.6089528069437633,
          1.8461868438128775,
          2.158243832988527,
          2.2793823263572404,
          1.6610226370520424,
          2.1417151588080285,
          2.0280793843109937,
          1.7936059890192004,
          1.2443244941021132,
          1.6941712688961457,
          1.351524757799331,
          1.8796424407013994,
          2.2264850303356285,
          0.5421354889276757,
          1.4849573186415275,
          1.6747779612864775,
          1.899900139868015,
          1.9557839052668833,
          1.6048045645653821,
          1.547368397641079,
          1.5784277535511912,
          1.875870257302771,
          2.4105424219278717,
          0.6207503753677988
         ],
         "xaxis": "x",
         "y": [
          1.2959583283425897,
          1.0516865136446099,
          1.7079234147787554,
          1.9768439105460798,
          0.9272218886583669,
          0.9942472582205902,
          1.4775625065936702,
          1.3046688486451252,
          0.40435154575888105,
          1.725566080278567,
          1.401426910490757,
          1.8045077532706364,
          1.626336136916531,
          0.5358927221505363,
          2.365036606525378,
          1.7003198492325333,
          1.0522016257876268,
          0.8243914331123217,
          0.6207503753677988,
          2.2714398837106384,
          0.5748739126095578,
          1.6453391563626618,
          1.9440630221677828,
          1.1554701371100922,
          2.300885836812407,
          2.1500129817590774,
          1.4972726230764117,
          1.786448307644569,
          1.6464241819029473,
          1.7904989186938682,
          1.733341042509243,
          1.1551550825927726,
          1.2242638842043212,
          0.8052355551086879,
          1.3795143339619154,
          1.1551550825927726,
          2.1128261810054854,
          0.7448564777615264,
          1.8594482212899157,
          1.0522016257876268,
          1.8679014467734563,
          1.0522016257876268
         ],
         "yaxis": "y"
        },
        {
         "customdata": [
          [
           "Alexis Mac Allister",
           70,
           64,
           4.15,
           0.52
          ],
          [
           "Dominik Szoboszlai",
           89,
           89,
           4.33,
           0.59
          ],
          [
           "Declan Rice",
           22,
           18,
           3.49,
           0.33
          ],
          [
           "Martin Ødegaard",
           151,
           133,
           4.8,
           0.66
          ],
          [
           "Mateo Kovačić",
           141,
           86,
           2.99,
           0.33
          ],
          [
           "İlkay Gündoğan",
           135,
           159,
           3.28,
           0.5
          ],
          [
           "Nicolás González",
           199,
           134,
           2.01,
           0.4
          ],
          [
           "Bruno Guimarães",
           193,
           214,
           3.65,
           0.51
          ],
          [
           "Sandro Tonali",
           34,
           201,
           2.58,
           0.32
          ],
          [
           "Sean Longstaff",
           187,
           96,
           1.58,
           0.23
          ],
          [
           "Cole Palmer",
           28,
           71,
           5.81,
           0.44
          ],
          [
           "Enzo Fernández",
           112,
           128,
           4.6,
           0.5
          ],
          [
           "Youri Tielemans",
           75,
           156,
           3.57,
           0.36
          ],
          [
           "Amadou Onana",
           132,
           38,
           1.79,
           0.23
          ],
          [
           "Marco Asensio",
           29,
           134,
           4.38,
           0.39
          ],
          [
           "Morgan Gibbs-White",
           152,
           65,
           3.71,
           0.63
          ],
          [
           "Elliot Anderson",
           1,
           1,
           2.83,
           0.34
          ],
          [
           "Ryan Yates",
           46,
           134,
           1.81,
           0.14
          ],
          [
           "James Ward-Prowse",
           154,
           110,
           2.25,
           0.45
          ],
          [
           "Carlos Baleba",
           167,
           42,
           2.24,
           0.14
          ],
          [
           "Yasin Ayari",
           15,
           118,
           2.81,
           0.28
          ],
          [
           "Matt O'Riley",
           30,
           187,
           3.81,
           0.49
          ],
          [
           "Diego Gómez",
           184,
           122,
           2.68,
           0.57
          ],
          [
           "Christian Nørgaard",
           169,
           169,
           1.78,
           0.4
          ],
          [
           "Mathias Jensen",
           146,
           33,
           4.23,
           0.53
          ],
          [
           "Saša Lukić",
           69,
           170,
           2.19,
           0.16
          ],
          [
           "Emile Smith Rowe",
           122,
           164,
           3.17,
           0.54
          ],
          [
           "Andreas Pereira",
           63,
           31,
           4.75,
           0.37
          ],
          [
           "Ryan Christie",
           166,
           201,
           3.62,
           0.38
          ],
          [
           "Tyler Adams",
           207,
           170,
           1.87,
           0.19
          ],
          [
           "Ismaila Sarr",
           109,
           88,
           3.71,
           0.41
          ],
          [
           "Will Hughes",
           57,
           53,
           2.93,
           0.27
          ],
          [
           "Adam Wharton",
           140,
           118,
           4.03,
           0.41
          ],
          [
           "Daichi Kamada",
           80,
           122,
           3.05,
           0.18
          ],
          [
           "Cheick Doucouré",
           38,
           22,
           1.79,
           0.6
          ],
          [
           "Romain Esse",
           142,
           26,
           5.63,
           2.11
          ],
          [
           "Abdoulaye Doucouré",
           204,
           134,
           2.05,
           0.11
          ],
          [
           "André",
           159,
           122,
           1.74,
           0.11
          ],
          [
           "Tommy Doyle",
           73,
           127,
           3.13,
           0.55
          ],
          [
           "Tomáš Souček",
           160,
           134,
           1.6,
           0.11
          ],
          [
           "Bruno Fernandes",
           72,
           85,
           5.56,
           0.37
          ],
          [
           "Manuel Ugarte Ribeiro",
           139,
           170,
           1.56,
           0.2
          ],
          [
           "Christian Eriksen",
           120,
           129,
           4.51,
           0.61
          ],
          [
           "Pape Matar Sarr",
           104,
           69,
           2.12,
           0.29
          ],
          [
           "James Maddison",
           54,
           41,
           4.73,
           0.9
          ],
          [
           "Lucas Bergvall",
           130,
           170,
           1.63,
           0.3
          ],
          [
           "Harry Winks",
           110,
           122,
           2.28,
           0.18
          ],
          [
           "Mateus Fernandes",
           6,
           66,
           2.33,
           0.19
          ],
          [
           "Flynn Downes",
           181,
           110,
           1.35,
           0.09
          ]
         ],
         "hovertemplate": "Pos=MF<br>SCA Flexibility (Entropy)=%{x}<br>GCA Flexibility (Entropy)=%{y}<br>Player=%{customdata[0]}<br>SCA_flex_rank=%{customdata[1]}<br>GCA_flex_rank=%{customdata[2]}<br>SCA90=%{customdata[3]}<br>GCA90=%{customdata[4]}<extra></extra>",
         "legendgroup": "MF",
         "marker": {
          "color": "#EF553B",
          "symbol": "circle"
         },
         "mode": "markers",
         "name": "MF",
         "orientation": "v",
         "showlegend": true,
         "type": "scatter",
         "x": [
          1.729443564408579,
          1.623268017794317,
          2.097194185160576,
          1.2290876766404004,
          1.2831603264094755,
          1.3414756733750697,
          0.8052355551086879,
          0.8475303641082235,
          1.9988533412033316,
          0.8944220382574105,
          2.0452614978160715,
          1.4607472456232933,
          1.7094681673110417,
          1.3592668273253847,
          2.0376138192487323,
          1.2241964881305767,
          2.5183083378434716,
          1.8537229294287818,
          1.1993773340123883,
          1.0986313992044834,
          2.179231767313182,
          2.036620816350925,
          0.9171861756105805,
          1.064734521458925,
          1.260580066100924,
          1.7353471290922464,
          1.4159077817747165,
          1.7591581154066502,
          1.0989333956506564,
          0.7521155331931064,
          1.4820276786595337,
          1.8088563202507377,
          1.2892489830082972,
          1.6736867632193295,
          1.9510068586530442,
          1.2782802260167425,
          0.7766184823082233,
          1.1553950923684229,
          1.7157114757302996,
          1.1538758693085038,
          1.7167746507379582,
          1.3153298789433532,
          1.4223836849827898,
          1.5051126145717693,
          1.8268454788174164,
          1.3705911367654418,
          1.4802328921173502,
          2.2893532550625237,
          0.9361734112350625
         ],
         "xaxis": "x",
         "y": [
          1.5326747051463268,
          1.2481924223508514,
          1.9299053313787482,
          1.0539783978856754,
          1.2782802260167425,
          1.0154427645472193,
          1.0522016257876268,
          0.4246855118283231,
          0.6697520079824277,
          1.1551550825927726,
          1.4925574465002467,
          1.0941758319436783,
          1.0443898020582287,
          1.7828394869593667,
          1.0522016257876268,
          1.5259358389205004,
          2.4092302499478606,
          1.0522016257876268,
          1.1512455961018735,
          1.7473949019229633,
          1.140367679484365,
          0.8243914331123217,
          1.117637839887963,
          0.9401276245190309,
          1.8101768402457095,
          0.9272218886583669,
          0.9917595237947915,
          1.814637704675822,
          0.6697520079824277,
          0.9272218886583669,
          1.2586711075931591,
          1.6736254145844442,
          1.140367679484365,
          1.117637839887963,
          1.8594482212899157,
          1.8565195608220846,
          1.0522016257876268,
          1.117637839887963,
          1.0999117071668043,
          1.0522016257876268,
          1.2935992971117471,
          0.9272218886583669,
          1.0888785459651478,
          1.4972726230764117,
          1.7625191136344567,
          0.9272218886583669,
          1.117637839887963,
          1.5180555505818503,
          1.1512455961018735
         ],
         "yaxis": "y"
        },
        {
         "customdata": [
          [
           "Ibrahima Konaté",
           189,
           200,
           1.12,
           0.25
          ],
          [
           "Trent Alexander-Arnold",
           125,
           204,
           3.68,
           0.39
          ],
          [
           "Kostas Tsimikas",
           138,
           110,
           3.33,
           0.21
          ],
          [
           "Conor Bradley",
           133,
           165,
           2.42,
           0.51
          ],
          [
           "Gabriel Magalhães",
           208,
           73,
           1.33,
           0.23
          ],
          [
           "Jurriën Timber",
           185,
           203,
           1.94,
           0.34
          ],
          [
           "Joško Gvardiol",
           202,
           193,
           2.06,
           0.2
          ],
          [
           "Dan Burn",
           131,
           158,
           0.67,
           0.11
          ],
          [
           "Fabian Schär",
           71,
           92,
           1.08,
           0.13
          ],
          [
           "Lewis Hall",
           149,
           186,
           2.59,
           0.25
          ],
          [
           "Kieran Trippier",
           114,
           118,
           3.51,
           0.42
          ],
          [
           "Levi Colwill",
           198,
           134,
           1.12,
           0.09
          ],
          [
           "Marc Cucurella",
           188,
           181,
           1.55,
           0.16
          ],
          [
           "Trevoh Chalobah",
           161,
           22,
           1.29,
           0.3
          ],
          [
           "Matty Cash",
           180,
           170,
           1.09,
           0.18
          ],
          [
           "Pau Torres",
           186,
           96,
           0.61,
           0.09
          ],
          [
           "Tyrone Mings",
           171,
           96,
           1.45,
           0.16
          ],
          [
           "Ian Maatsen",
           81,
           193,
           4.46,
           0.6
          ],
          [
           "Murillo",
           62,
           110,
           1.19,
           0.06
          ],
          [
           "Ola Aina",
           105,
           170,
           1.88,
           0.12
          ],
          [
           "Neco Williams",
           98,
           66,
           1.83,
           0.22
          ],
          [
           "Pervis Estupiñán",
           90,
           170,
           2.17,
           0.15
          ],
          [
           "Lewis Dunk",
           212,
           134,
           0.82,
           0.13
          ],
          [
           "Tariq Lamptey",
           157,
           134,
           1.78,
           0.31
          ],
          [
           "Adam Webster",
           192,
           122,
           1.36,
           0.34
          ],
          [
           "Nathan Collins",
           84,
           11,
           0.81,
           0.22
          ],
          [
           "Sepp van den Berg",
           197,
           96,
           0.79,
           0.07
          ],
          [
           "Calvin Bassey",
           155,
           134,
           0.67,
           0.09
          ],
          [
           "Joachim Andersen",
           156,
           110,
           1.16,
           0.07
          ],
          [
           "Timothy Castagne",
           172,
           134,
           1.36,
           0.16
          ],
          [
           "Milos Kerkez",
           126,
           91,
           2.16,
           0.25
          ],
          [
           "Adam Smith",
           94,
           96,
           1.2,
           0.12
          ],
          [
           "Daniel Muñoz",
           136,
           155,
           2.44,
           0.32
          ],
          [
           "Tyrick Mitchell",
           203,
           196,
           2.13,
           0.18
          ],
          [
           "Marc Guéhi",
           165,
           187,
           1.29,
           0.15
          ],
          [
           "Maxence Lacroix",
           175,
           38,
           0.83,
           0.12
          ],
          [
           "Vitaliy Mykolenko",
           213,
           134,
           1.2,
           0.09
          ],
          [
           "Jarrad Branthwaite",
           177,
           110,
           0.47,
           0.07
          ],
          [
           "Ashley Young",
           111,
           73,
           2.22,
           0.3
          ],
          [
           "Rayan Aït-Nouri",
           13,
           159,
           2.6,
           0.35
          ],
          [
           "Santiago Bueno",
           174,
           170,
           0.64,
           0.21
          ],
          [
           "Craig Dawson",
           209,
           96,
           0.65,
           0.19
          ],
          [
           "Max Kilman",
           196,
           58,
           0.88,
           0.14
          ],
          [
           "Aaron Wan-Bissaka",
           113,
           209,
           2.64,
           0.26
          ],
          [
           "Emerson Palmieri",
           51,
           110,
           1.75,
           0.09
          ],
          [
           "Diogo Dalot",
           103,
           58,
           2.39,
           0.16
          ],
          [
           "Pedro Porro",
           52,
           48,
           3.82,
           0.29
          ],
          [
           "Destiny Udogie",
           201,
           134,
           1.72,
           0.15
          ],
          [
           "Djed Spence",
           145,
           51,
           1.46,
           0.25
          ],
          [
           "Cristian Romero",
           194,
           170,
           1.27,
           0.25
          ],
          [
           "Leif Davis",
           53,
           165,
           3.05,
           0.14
          ],
          [
           "Kyle Walker-Peters",
           20,
           79,
           1.94,
           0.22
          ],
          [
           "Taylor Harwood-Bellis",
           190,
           96,
           1.18,
           0.06
          ]
         ],
         "hovertemplate": "Pos=DF<br>SCA Flexibility (Entropy)=%{x}<br>GCA Flexibility (Entropy)=%{y}<br>Player=%{customdata[0]}<br>SCA_flex_rank=%{customdata[1]}<br>GCA_flex_rank=%{customdata[2]}<br>SCA90=%{customdata[3]}<br>GCA90=%{customdata[4]}<extra></extra>",
         "legendgroup": "DF",
         "marker": {
          "color": "#00cc96",
          "symbol": "circle"
         },
         "mode": "markers",
         "name": "DF",
         "orientation": "v",
         "showlegend": true,
         "type": "scatter",
         "x": [
          0.8805835192364105,
          1.4012716236008602,
          1.3306213245491056,
          1.357181518927616,
          0.7034217130399449,
          0.9167074792397443,
          0.7897380862061786,
          1.3676414363822424,
          1.7244581016582654,
          1.2453620101939953,
          1.4383445800574293,
          0.8084662971777461,
          0.8872275262713138,
          1.1522668425971807,
          0.9452599709122026,
          0.912678001943083,
          1.0565357139665603,
          1.6690220827298654,
          1.7604327866652472,
          1.5008988113158348,
          1.5737061089410733,
          1.6191523697295773,
          0.5612380242308818,
          1.1616758992256646,
          0.8558666316706566,
          1.6642021868738426,
          0.8104878111126601,
          1.179249946934084,
          1.1635680844109122,
          1.0489030612528074,
          1.3863380690263403,
          1.5917504989535058,
          1.3339210077415777,
          0.7778313877193861,
          1.120467740204169,
          0.9901985260967225,
          0.5516604778300191,
          0.9635791077057163,
          1.4743771210139125,
          2.1930054193487383,
          1.0154427645472193,
          0.6755523042757261,
          0.8236078912437912,
          1.4515645113128892,
          1.83115118532816,
          1.510286670081568,
          1.829088961496743,
          0.7926878848367589,
          1.2660955905258364,
          0.847400823229164,
          1.8290763899735587,
          2.1148029457399087,
          0.8799520065701739
         ],
         "xaxis": "x",
         "y": [
          0.6755523042757261,
          0.6276196051207574,
          1.1512455961018735,
          0.9914466473912491,
          1.448026882210228,
          0.6400830786054251,
          0.7448564777615264,
          1.0179206278821498,
          1.1830936104949517,
          0.8434188030967202,
          1.140367679484365,
          1.0522016257876268,
          0.9237803156847071,
          1.8594482212899157,
          0.9272218886583669,
          1.1551550825927726,
          1.1551550825927726,
          0.7448564777615264,
          1.1512455961018735,
          0.9272218886583669,
          1.5180555505818503,
          0.9272218886583669,
          1.0522016257876268,
          1.0522016257876268,
          1.117637839887963,
          2.1150587317649023,
          1.1551550825927726,
          1.0522016257876268,
          1.1512455961018735,
          1.0522016257876268,
          1.1911456850871798,
          1.1551550825927726,
          1.0497582834930586,
          0.7421213860783448,
          0.8243914331123217,
          1.7828394869593667,
          1.0522016257876268,
          1.1512455961018735,
          1.448026882210228,
          1.0154427645472193,
          0.9272218886583669,
          1.1551550825927726,
          1.6320669493567297,
          0.5748739126095578,
          1.1512455961018735,
          1.6320669493567297,
          1.7111222864853135,
          1.0522016257876268,
          1.6895554398718404,
          0.9272218886583669,
          0.9914466473912491,
          1.3795143339619154,
          1.1551550825927726
         ],
         "yaxis": "y"
        },
        {
         "customdata": [
          [
           "Curtis Jones",
           178,
           21,
           2.72,
           0.44
          ],
          [
           "Thomas Partey",
           153,
           13,
           2.03,
           0.43
          ],
          [
           "Moisés Caicedo",
           191,
           76,
           2.65,
           0.25
          ],
          [
           "Mats Wieffer",
           195,
           196,
           2.82,
           0.58
          ],
          [
           "Lewis Cook",
           163,
           30,
           2.69,
           0.15
          ],
          [
           "James Garner",
           164,
           181,
           2.22,
           0.3
          ]
         ],
         "hovertemplate": "Pos=MF,DF<br>SCA Flexibility (Entropy)=%{x}<br>GCA Flexibility (Entropy)=%{y}<br>Player=%{customdata[0]}<br>SCA_flex_rank=%{customdata[1]}<br>GCA_flex_rank=%{customdata[2]}<br>SCA90=%{customdata[3]}<br>GCA90=%{customdata[4]}<extra></extra>",
         "legendgroup": "MF,DF",
         "marker": {
          "color": "#ab63fa",
          "symbol": "circle"
         },
         "mode": "markers",
         "name": "MF,DF",
         "orientation": "v",
         "showlegend": true,
         "type": "scatter",
         "x": [
          0.954058005668388,
          1.2218248466985,
          0.8629544349155862,
          0.8328360334704056,
          1.136070847300465,
          1.1343811056662252
         ],
         "xaxis": "x",
         "y": [
          1.8628578014810218,
          2.047615927120117,
          1.4304455953390438,
          0.7421213860783448,
          1.8500214252783802,
          0.9237803156847071
         ],
         "yaxis": "y"
        },
        {
         "customdata": [
          [
           "Gabriel Martinelli",
           106,
           10,
           2.71,
           0.24
          ],
          [
           "Kai Havertz",
           183,
           134,
           1.99,
           0.15
          ],
          [
           "Bukayo Saka",
           21,
           15,
           5.93,
           1.22
          ],
          [
           "Sávio",
           67,
           20,
           5.71,
           0.77
          ],
          [
           "Jeremy Doku",
           116,
           167,
           4.62,
           0.81
          ],
          [
           "Omar Marmoush",
           19,
           96,
           2.96,
           0.16
          ],
          [
           "Jack Grealish",
           176,
           96,
           5.86,
           0.25
          ],
          [
           "Anthony Gordon",
           65,
           68,
           3.77,
           0.45
          ],
          [
           "João Félix",
           76,
           26,
           4.38,
           0.73
          ],
          [
           "Morgan Rogers",
           124,
           191,
           3.12,
           0.48
          ],
          [
           "Jacob Ramsey",
           144,
           206,
           2.88,
           0.45
          ],
          [
           "Anthony Elanga",
           10,
           14,
           3.74,
           0.67
          ],
          [
           "Callum Hudson-Odoi",
           119,
           62,
           3.92,
           0.46
          ],
          [
           "Jota Silva",
           129,
           134,
           3.09,
           0.32
          ],
          [
           "Kaoru Mitoma",
           162,
           209,
           2.99,
           0.32
          ],
          [
           "João Pedro",
           137,
           130,
           3.32,
           0.42
          ],
          [
           "Yankuba Minteh",
           23,
           61,
           2.94,
           0.57
          ],
          [
           "Simon Adingra",
           108,
           79,
           3.85,
           0.6
          ],
          [
           "Alex Iwobi",
           182,
           132,
           3.69,
           0.49
          ],
          [
           "Adama Traoré",
           143,
           208,
           4.29,
           0.53
          ],
          [
           "Harry Wilson",
           77,
           134,
           3.35,
           0.25
          ],
          [
           "Marcus Tavernier",
           60,
           8,
           4.38,
           0.54
          ],
          [
           "David Brooks",
           168,
           96,
           3.91,
           0.2
          ],
          [
           "Enes Ünal",
           115,
           134,
           2.35,
           0.78
          ],
          [
           "Eddie Nketiah",
           58,
           134,
           2.77,
           0.27
          ],
          [
           "Carlos Alcaraz",
           127,
           196,
           3.79,
           0.78
          ],
          [
           "Jarrod Bowen",
           11,
           52,
           3.31,
           0.41
          ],
          [
           "Mohammed Kudus",
           64,
           56,
           3.71,
           0.32
          ],
          [
           "Danny Ings",
           44,
           93,
           3.8,
           0.63
          ],
          [
           "Joshua Zirkzee",
           210,
           22,
           1.99,
           0.19
          ],
          [
           "Jordan Ayew",
           25,
           96,
           2.27,
           0.12
          ],
          [
           "Facundo Buonanotte",
           14,
           36,
           3.05,
           0.3
          ],
          [
           "Kasey McAteer",
           214,
           96,
           2.35,
           0.23
          ],
          [
           "Jack Clarke",
           170,
           181,
           3.73,
           0.39
          ],
          [
           "Tyler Dibling",
           33,
           40,
           2.69,
           0.19
          ],
          [
           "Kamaldeen Sulemana",
           35,
           26,
           1.9,
           0.2
          ],
          [
           "Adam Armstrong",
           56,
           162,
           1.37,
           0.29
          ]
         ],
         "hovertemplate": "Pos=FW,MF<br>SCA Flexibility (Entropy)=%{x}<br>GCA Flexibility (Entropy)=%{y}<br>Player=%{customdata[0]}<br>SCA_flex_rank=%{customdata[1]}<br>GCA_flex_rank=%{customdata[2]}<br>SCA90=%{customdata[3]}<br>GCA90=%{customdata[4]}<extra></extra>",
         "legendgroup": "FW,MF",
         "marker": {
          "color": "#FFA15A",
          "symbol": "circle"
         },
         "mode": "markers",
         "name": "FW,MF",
         "orientation": "v",
         "showlegend": true,
         "type": "scatter",
         "x": [
          1.4942259103641997,
          0.9184407360465037,
          2.1028603575865414,
          1.7410288075944058,
          1.4274221627638721,
          2.117460396144044,
          0.9871824728489006,
          1.752848385987568,
          1.6995206064643391,
          1.4097596072169922,
          1.2699512731631684,
          2.22459974969777,
          1.42416074657323,
          1.375863654565878,
          1.1508196068975094,
          1.3312470683867628,
          2.095228626141712,
          1.484108669589317,
          0.9284071705939506,
          1.271128659733309,
          1.6985902683933798,
          1.7870805575734279,
          1.0961178126802589,
          1.4304455953390438,
          1.806680896392611,
          1.3856108204081266,
          2.2173510940564642,
          1.7588182656387286,
          1.870521774465264,
          0.633441185057581,
          2.0693605452099173,
          2.1835925596470105,
          0.5421354889276757,
          1.061314383912147,
          2.0072441185214327,
          1.992147157450015,
          1.8166095065598253
         ],
         "xaxis": "x",
         "y": [
          2.1296126452186903,
          1.0522016257876268,
          1.9950903549618824,
          1.8678688308513354,
          0.9811166884033231,
          1.1551550825927726,
          1.1551550825927726,
          1.5080598953451905,
          1.8565195608220846,
          0.8158980149478817,
          0.6207503753677988,
          1.9953643900552698,
          1.5867389799713358,
          1.0522016257876268,
          0.5748739126095578,
          1.0834554422861176,
          1.6034891075271578,
          1.3795143339619154,
          1.0674403127610468,
          0.5988064292400099,
          1.0522016257876268,
          2.139593081532978,
          1.1551550825927726,
          1.0522016257876268,
          1.0522016257876268,
          0.7421213860783448,
          1.6863242795856241,
          1.6453391563626618,
          1.1570483925878488,
          1.8594482212899157,
          1.1551550825927726,
          1.7882384611287718,
          1.1551550825927726,
          0.9237803156847071,
          1.7740118706564747,
          1.8565195608220846,
          0.9942472582205902
         ],
         "yaxis": "y"
        },
        {
         "customdata": [
          [
           "Mikel Merino",
           179,
           170,
           2.47,
           0.24
          ],
          [
           "Phil Foden",
           50,
           54,
           4.48,
           0.46
          ],
          [
           "Kevin De Bruyne",
           43,
           131,
           5.99,
           0.58
          ],
          [
           "Joelinton",
           96,
           121,
           2.29,
           0.34
          ],
          [
           "John McGinn",
           82,
           157,
           3.16,
           0.33
          ],
          [
           "Georginio Rutter",
           17,
           9,
           3.47,
           0.43
          ],
          [
           "Brajan Gruda",
           123,
           181,
           5.14,
           0.73
          ],
          [
           "Mikkel Damsgaard",
           95,
           47,
           3.72,
           0.67
          ],
          [
           "Justin Kluivert",
           49,
           213,
           3.96,
           0.44
          ],
          [
           "Eberechi Eze",
           4,
           204,
           4.74,
           0.36
          ],
          [
           "Dwight McNeil",
           24,
           7,
           4.71,
           0.66
          ],
          [
           "Matheus Cunha",
           3,
           46,
           4.56,
           0.57
          ],
          [
           "Jean-Ricner Bellegarde",
           8,
           63,
           3.07,
           0.59
          ],
          [
           "Gonçalo Guedes",
           200,
           199,
           2.42,
           0.77
          ],
          [
           "Pablo Sarabia",
           121,
           185,
           3.1,
           0.55
          ],
          [
           "Lucas Paquetá",
           147,
           45,
           3.12,
           0.23
          ],
          [
           "Alejandro Garnacho",
           118,
           73,
           3.4,
           0.25
          ],
          [
           "Amad Diallo",
           27,
           2,
           4.62,
           0.84
          ],
          [
           "Dejan Kulusevski",
           91,
           87,
           4.82,
           0.34
          ],
          [
           "Bilal El Khannouss",
           47,
           77,
           3.22,
           0.29
          ],
          [
           "Julio Enciso",
           12,
           32,
           3,
           0.41
          ],
          [
           "Nathan Broadhead",
           173,
           94,
           2.74,
           0.29
          ]
         ],
         "hovertemplate": "Pos=MF,FW<br>SCA Flexibility (Entropy)=%{x}<br>GCA Flexibility (Entropy)=%{y}<br>Player=%{customdata[0]}<br>SCA_flex_rank=%{customdata[1]}<br>GCA_flex_rank=%{customdata[2]}<br>SCA90=%{customdata[3]}<br>GCA90=%{customdata[4]}<extra></extra>",
         "legendgroup": "MF,FW",
         "marker": {
          "color": "#19d3f3",
          "symbol": "circle"
         },
         "mode": "markers",
         "name": "MF,FW",
         "orientation": "v",
         "showlegend": true,
         "type": "scatter",
         "x": [
          0.9457541543006182,
          1.8331455621758364,
          1.8734140560667851,
          1.5791106187925292,
          1.666758605595378,
          2.1514412273348458,
          1.4118941213908012,
          1.5796239319058751,
          1.8363040777072575,
          2.3707976130579054,
          2.0772396408716185,
          2.3983173968159743,
          2.2571344368070307,
          0.7944357914080389,
          1.4162164537328077,
          1.258880977589807,
          1.425114226192331,
          2.058602044223191,
          1.6120303435548233,
          1.8506633070117537,
          2.1938305091417782,
          1.0484820443022782
         ],
         "xaxis": "x",
         "y": [
          0.9272218886583669,
          1.6651191472656683,
          1.073803401459791,
          1.1369915491515972,
          1.0360759705140719,
          2.132064408111631,
          0.9237803156847071,
          1.7114725567688742,
          0.5023382667820102,
          0.6276196051207574,
          2.1472214167118646,
          1.7173926458218856,
          1.5470707114255895,
          0.6881688219032409,
          0.8939229919823952,
          1.7201408917767078,
          1.448026882210228,
          2.4019416726257004,
          1.2674810796035085,
          1.4024175253687667,
          1.8111564463041279,
          1.1554701371100922
         ],
         "yaxis": "y"
        },
        {
         "customdata": [
          [
           "Matheus Nunes",
           148,
           79,
           2.27,
           0.4
          ],
          [
           "Reece James",
           66,
           26,
           1.66,
           0.28
          ],
          [
           "Ryan Manning",
           88,
           161,
           3.08,
           0.18
          ]
         ],
         "hovertemplate": "Pos=DF,MF<br>SCA Flexibility (Entropy)=%{x}<br>GCA Flexibility (Entropy)=%{y}<br>Player=%{customdata[0]}<br>SCA_flex_rank=%{customdata[1]}<br>GCA_flex_rank=%{customdata[2]}<br>SCA90=%{customdata[3]}<br>GCA90=%{customdata[4]}<extra></extra>",
         "legendgroup": "DF,MF",
         "marker": {
          "color": "#FF6692",
          "symbol": "circle"
         },
         "mode": "markers",
         "name": "DF,MF",
         "orientation": "v",
         "showlegend": true,
         "type": "scatter",
         "x": [
          1.2528975166033407,
          1.7465690490811092,
          1.6345315863133445
         ],
         "xaxis": "x",
         "y": [
          1.3795143339619154,
          1.8565195608220846,
          1.0009641131804974
         ],
         "yaxis": "y"
        },
        {
         "customdata": [
          [
           "Robert Sánchez",
           205,
           110,
           0.23,
           0.06
          ]
         ],
         "hovertemplate": "Pos=GK<br>SCA Flexibility (Entropy)=%{x}<br>GCA Flexibility (Entropy)=%{y}<br>Player=%{customdata[0]}<br>SCA_flex_rank=%{customdata[1]}<br>GCA_flex_rank=%{customdata[2]}<br>SCA90=%{customdata[3]}<br>GCA90=%{customdata[4]}<extra></extra>",
         "legendgroup": "GK",
         "marker": {
          "color": "#B6E880",
          "symbol": "circle"
         },
         "mode": "markers",
         "name": "GK",
         "orientation": "v",
         "showlegend": true,
         "type": "scatter",
         "x": [
          0.7757849640742491
         ],
         "xaxis": "x",
         "y": [
          1.1512455961018735
         ],
         "yaxis": "y"
        },
        {
         "customdata": [
          [
           "Keane Lewis-Potter",
           128,
           168,
           2.1,
           0.24
          ],
          [
           "Ben Johnson",
           55,
           187,
           1.6,
           0.33
          ]
         ],
         "hovertemplate": "Pos=DF,FW<br>SCA Flexibility (Entropy)=%{x}<br>GCA Flexibility (Entropy)=%{y}<br>Player=%{customdata[0]}<br>SCA_flex_rank=%{customdata[1]}<br>GCA_flex_rank=%{customdata[2]}<br>SCA90=%{customdata[3]}<br>GCA90=%{customdata[4]}<extra></extra>",
         "legendgroup": "DF,FW",
         "marker": {
          "color": "#FF97FF",
          "symbol": "circle"
         },
         "mode": "markers",
         "name": "DF,FW",
         "orientation": "v",
         "showlegend": true,
         "type": "scatter",
         "x": [
          1.378253889324344,
          1.8203413087184064
         ],
         "xaxis": "x",
         "y": [
          0.9437595543891761,
          0.8243914331123217
         ],
         "yaxis": "y"
        }
       ],
       "layout": {
        "legend": {
         "title": {
          "text": "Pos"
         },
         "tracegroupgap": 0
        },
        "shapes": [
         {
          "line": {
           "color": "gray",
           "dash": "dash"
          },
          "type": "line",
          "x0": 1.484108669589317,
          "x1": 1.484108669589317,
          "y0": 0.40435154575888105,
          "y1": 2.4092302499478606
         },
         {
          "line": {
           "color": "gray",
           "dash": "dash"
          },
          "type": "line",
          "x0": 0.5421354889276757,
          "x1": 2.5183083378434716,
          "y0": 1.1551550825927726,
          "y1": 1.1551550825927726
         }
        ],
        "template": {
         "data": {
          "bar": [
           {
            "error_x": {
             "color": "#2a3f5f"
            },
            "error_y": {
             "color": "#2a3f5f"
            },
            "marker": {
             "line": {
              "color": "#E5ECF6",
              "width": 0.5
             },
             "pattern": {
              "fillmode": "overlay",
              "size": 10,
              "solidity": 0.2
             }
            },
            "type": "bar"
           }
          ],
          "barpolar": [
           {
            "marker": {
             "line": {
              "color": "#E5ECF6",
              "width": 0.5
             },
             "pattern": {
              "fillmode": "overlay",
              "size": 10,
              "solidity": 0.2
             }
            },
            "type": "barpolar"
           }
          ],
          "carpet": [
           {
            "aaxis": {
             "endlinecolor": "#2a3f5f",
             "gridcolor": "white",
             "linecolor": "white",
             "minorgridcolor": "white",
             "startlinecolor": "#2a3f5f"
            },
            "baxis": {
             "endlinecolor": "#2a3f5f",
             "gridcolor": "white",
             "linecolor": "white",
             "minorgridcolor": "white",
             "startlinecolor": "#2a3f5f"
            },
            "type": "carpet"
           }
          ],
          "choropleth": [
           {
            "colorbar": {
             "outlinewidth": 0,
             "ticks": ""
            },
            "type": "choropleth"
           }
          ],
          "contour": [
           {
            "colorbar": {
             "outlinewidth": 0,
             "ticks": ""
            },
            "colorscale": [
             [
              0,
              "#0d0887"
             ],
             [
              0.1111111111111111,
              "#46039f"
             ],
             [
              0.2222222222222222,
              "#7201a8"
             ],
             [
              0.3333333333333333,
              "#9c179e"
             ],
             [
              0.4444444444444444,
              "#bd3786"
             ],
             [
              0.5555555555555556,
              "#d8576b"
             ],
             [
              0.6666666666666666,
              "#ed7953"
             ],
             [
              0.7777777777777778,
              "#fb9f3a"
             ],
             [
              0.8888888888888888,
              "#fdca26"
             ],
             [
              1,
              "#f0f921"
             ]
            ],
            "type": "contour"
           }
          ],
          "contourcarpet": [
           {
            "colorbar": {
             "outlinewidth": 0,
             "ticks": ""
            },
            "type": "contourcarpet"
           }
          ],
          "heatmap": [
           {
            "colorbar": {
             "outlinewidth": 0,
             "ticks": ""
            },
            "colorscale": [
             [
              0,
              "#0d0887"
             ],
             [
              0.1111111111111111,
              "#46039f"
             ],
             [
              0.2222222222222222,
              "#7201a8"
             ],
             [
              0.3333333333333333,
              "#9c179e"
             ],
             [
              0.4444444444444444,
              "#bd3786"
             ],
             [
              0.5555555555555556,
              "#d8576b"
             ],
             [
              0.6666666666666666,
              "#ed7953"
             ],
             [
              0.7777777777777778,
              "#fb9f3a"
             ],
             [
              0.8888888888888888,
              "#fdca26"
             ],
             [
              1,
              "#f0f921"
             ]
            ],
            "type": "heatmap"
           }
          ],
          "heatmapgl": [
           {
            "colorbar": {
             "outlinewidth": 0,
             "ticks": ""
            },
            "colorscale": [
             [
              0,
              "#0d0887"
             ],
             [
              0.1111111111111111,
              "#46039f"
             ],
             [
              0.2222222222222222,
              "#7201a8"
             ],
             [
              0.3333333333333333,
              "#9c179e"
             ],
             [
              0.4444444444444444,
              "#bd3786"
             ],
             [
              0.5555555555555556,
              "#d8576b"
             ],
             [
              0.6666666666666666,
              "#ed7953"
             ],
             [
              0.7777777777777778,
              "#fb9f3a"
             ],
             [
              0.8888888888888888,
              "#fdca26"
             ],
             [
              1,
              "#f0f921"
             ]
            ],
            "type": "heatmapgl"
           }
          ],
          "histogram": [
           {
            "marker": {
             "pattern": {
              "fillmode": "overlay",
              "size": 10,
              "solidity": 0.2
             }
            },
            "type": "histogram"
           }
          ],
          "histogram2d": [
           {
            "colorbar": {
             "outlinewidth": 0,
             "ticks": ""
            },
            "colorscale": [
             [
              0,
              "#0d0887"
             ],
             [
              0.1111111111111111,
              "#46039f"
             ],
             [
              0.2222222222222222,
              "#7201a8"
             ],
             [
              0.3333333333333333,
              "#9c179e"
             ],
             [
              0.4444444444444444,
              "#bd3786"
             ],
             [
              0.5555555555555556,
              "#d8576b"
             ],
             [
              0.6666666666666666,
              "#ed7953"
             ],
             [
              0.7777777777777778,
              "#fb9f3a"
             ],
             [
              0.8888888888888888,
              "#fdca26"
             ],
             [
              1,
              "#f0f921"
             ]
            ],
            "type": "histogram2d"
           }
          ],
          "histogram2dcontour": [
           {
            "colorbar": {
             "outlinewidth": 0,
             "ticks": ""
            },
            "colorscale": [
             [
              0,
              "#0d0887"
             ],
             [
              0.1111111111111111,
              "#46039f"
             ],
             [
              0.2222222222222222,
              "#7201a8"
             ],
             [
              0.3333333333333333,
              "#9c179e"
             ],
             [
              0.4444444444444444,
              "#bd3786"
             ],
             [
              0.5555555555555556,
              "#d8576b"
             ],
             [
              0.6666666666666666,
              "#ed7953"
             ],
             [
              0.7777777777777778,
              "#fb9f3a"
             ],
             [
              0.8888888888888888,
              "#fdca26"
             ],
             [
              1,
              "#f0f921"
             ]
            ],
            "type": "histogram2dcontour"
           }
          ],
          "mesh3d": [
           {
            "colorbar": {
             "outlinewidth": 0,
             "ticks": ""
            },
            "type": "mesh3d"
           }
          ],
          "parcoords": [
           {
            "line": {
             "colorbar": {
              "outlinewidth": 0,
              "ticks": ""
             }
            },
            "type": "parcoords"
           }
          ],
          "pie": [
           {
            "automargin": true,
            "type": "pie"
           }
          ],
          "scatter": [
           {
            "fillpattern": {
             "fillmode": "overlay",
             "size": 10,
             "solidity": 0.2
            },
            "type": "scatter"
           }
          ],
          "scatter3d": [
           {
            "line": {
             "colorbar": {
              "outlinewidth": 0,
              "ticks": ""
             }
            },
            "marker": {
             "colorbar": {
              "outlinewidth": 0,
              "ticks": ""
             }
            },
            "type": "scatter3d"
           }
          ],
          "scattercarpet": [
           {
            "marker": {
             "colorbar": {
              "outlinewidth": 0,
              "ticks": ""
             }
            },
            "type": "scattercarpet"
           }
          ],
          "scattergeo": [
           {
            "marker": {
             "colorbar": {
              "outlinewidth": 0,
              "ticks": ""
             }
            },
            "type": "scattergeo"
           }
          ],
          "scattergl": [
           {
            "marker": {
             "colorbar": {
              "outlinewidth": 0,
              "ticks": ""
             }
            },
            "type": "scattergl"
           }
          ],
          "scattermapbox": [
           {
            "marker": {
             "colorbar": {
              "outlinewidth": 0,
              "ticks": ""
             }
            },
            "type": "scattermapbox"
           }
          ],
          "scatterpolar": [
           {
            "marker": {
             "colorbar": {
              "outlinewidth": 0,
              "ticks": ""
             }
            },
            "type": "scatterpolar"
           }
          ],
          "scatterpolargl": [
           {
            "marker": {
             "colorbar": {
              "outlinewidth": 0,
              "ticks": ""
             }
            },
            "type": "scatterpolargl"
           }
          ],
          "scatterternary": [
           {
            "marker": {
             "colorbar": {
              "outlinewidth": 0,
              "ticks": ""
             }
            },
            "type": "scatterternary"
           }
          ],
          "surface": [
           {
            "colorbar": {
             "outlinewidth": 0,
             "ticks": ""
            },
            "colorscale": [
             [
              0,
              "#0d0887"
             ],
             [
              0.1111111111111111,
              "#46039f"
             ],
             [
              0.2222222222222222,
              "#7201a8"
             ],
             [
              0.3333333333333333,
              "#9c179e"
             ],
             [
              0.4444444444444444,
              "#bd3786"
             ],
             [
              0.5555555555555556,
              "#d8576b"
             ],
             [
              0.6666666666666666,
              "#ed7953"
             ],
             [
              0.7777777777777778,
              "#fb9f3a"
             ],
             [
              0.8888888888888888,
              "#fdca26"
             ],
             [
              1,
              "#f0f921"
             ]
            ],
            "type": "surface"
           }
          ],
          "table": [
           {
            "cells": {
             "fill": {
              "color": "#EBF0F8"
             },
             "line": {
              "color": "white"
             }
            },
            "header": {
             "fill": {
              "color": "#C8D4E3"
             },
             "line": {
              "color": "white"
             }
            },
            "type": "table"
           }
          ]
         },
         "layout": {
          "annotationdefaults": {
           "arrowcolor": "#2a3f5f",
           "arrowhead": 0,
           "arrowwidth": 1
          },
          "autotypenumbers": "strict",
          "coloraxis": {
           "colorbar": {
            "outlinewidth": 0,
            "ticks": ""
           }
          },
          "colorscale": {
           "diverging": [
            [
             0,
             "#8e0152"
            ],
            [
             0.1,
             "#c51b7d"
            ],
            [
             0.2,
             "#de77ae"
            ],
            [
             0.3,
             "#f1b6da"
            ],
            [
             0.4,
             "#fde0ef"
            ],
            [
             0.5,
             "#f7f7f7"
            ],
            [
             0.6,
             "#e6f5d0"
            ],
            [
             0.7,
             "#b8e186"
            ],
            [
             0.8,
             "#7fbc41"
            ],
            [
             0.9,
             "#4d9221"
            ],
            [
             1,
             "#276419"
            ]
           ],
           "sequential": [
            [
             0,
             "#0d0887"
            ],
            [
             0.1111111111111111,
             "#46039f"
            ],
            [
             0.2222222222222222,
             "#7201a8"
            ],
            [
             0.3333333333333333,
             "#9c179e"
            ],
            [
             0.4444444444444444,
             "#bd3786"
            ],
            [
             0.5555555555555556,
             "#d8576b"
            ],
            [
             0.6666666666666666,
             "#ed7953"
            ],
            [
             0.7777777777777778,
             "#fb9f3a"
            ],
            [
             0.8888888888888888,
             "#fdca26"
            ],
            [
             1,
             "#f0f921"
            ]
           ],
           "sequentialminus": [
            [
             0,
             "#0d0887"
            ],
            [
             0.1111111111111111,
             "#46039f"
            ],
            [
             0.2222222222222222,
             "#7201a8"
            ],
            [
             0.3333333333333333,
             "#9c179e"
            ],
            [
             0.4444444444444444,
             "#bd3786"
            ],
            [
             0.5555555555555556,
             "#d8576b"
            ],
            [
             0.6666666666666666,
             "#ed7953"
            ],
            [
             0.7777777777777778,
             "#fb9f3a"
            ],
            [
             0.8888888888888888,
             "#fdca26"
            ],
            [
             1,
             "#f0f921"
            ]
           ]
          },
          "colorway": [
           "#636efa",
           "#EF553B",
           "#00cc96",
           "#ab63fa",
           "#FFA15A",
           "#19d3f3",
           "#FF6692",
           "#B6E880",
           "#FF97FF",
           "#FECB52"
          ],
          "font": {
           "color": "#2a3f5f"
          },
          "geo": {
           "bgcolor": "white",
           "lakecolor": "white",
           "landcolor": "#E5ECF6",
           "showlakes": true,
           "showland": true,
           "subunitcolor": "white"
          },
          "hoverlabel": {
           "align": "left"
          },
          "hovermode": "closest",
          "mapbox": {
           "style": "light"
          },
          "paper_bgcolor": "white",
          "plot_bgcolor": "#E5ECF6",
          "polar": {
           "angularaxis": {
            "gridcolor": "white",
            "linecolor": "white",
            "ticks": ""
           },
           "bgcolor": "#E5ECF6",
           "radialaxis": {
            "gridcolor": "white",
            "linecolor": "white",
            "ticks": ""
           }
          },
          "scene": {
           "xaxis": {
            "backgroundcolor": "#E5ECF6",
            "gridcolor": "white",
            "gridwidth": 2,
            "linecolor": "white",
            "showbackground": true,
            "ticks": "",
            "zerolinecolor": "white"
           },
           "yaxis": {
            "backgroundcolor": "#E5ECF6",
            "gridcolor": "white",
            "gridwidth": 2,
            "linecolor": "white",
            "showbackground": true,
            "ticks": "",
            "zerolinecolor": "white"
           },
           "zaxis": {
            "backgroundcolor": "#E5ECF6",
            "gridcolor": "white",
            "gridwidth": 2,
            "linecolor": "white",
            "showbackground": true,
            "ticks": "",
            "zerolinecolor": "white"
           }
          },
          "shapedefaults": {
           "line": {
            "color": "#2a3f5f"
           }
          },
          "ternary": {
           "aaxis": {
            "gridcolor": "white",
            "linecolor": "white",
            "ticks": ""
           },
           "baxis": {
            "gridcolor": "white",
            "linecolor": "white",
            "ticks": ""
           },
           "bgcolor": "#E5ECF6",
           "caxis": {
            "gridcolor": "white",
            "linecolor": "white",
            "ticks": ""
           }
          },
          "title": {
           "x": 0.05
          },
          "xaxis": {
           "automargin": true,
           "gridcolor": "white",
           "linecolor": "white",
           "ticks": "",
           "title": {
            "standoff": 15
           },
           "zerolinecolor": "white",
           "zerolinewidth": 2
          },
          "yaxis": {
           "automargin": true,
           "gridcolor": "white",
           "linecolor": "white",
           "ticks": "",
           "title": {
            "standoff": 15
           },
           "zerolinecolor": "white",
           "zerolinewidth": 2
          }
         }
        },
        "title": {
         "text": "SCA Flexibility vs GCA Flexibility (Quadrant Analysis)"
        },
        "xaxis": {
         "anchor": "y",
         "domain": [
          0,
          1
         ],
         "title": {
          "text": "SCA Flexibility (Entropy)"
         }
        },
        "yaxis": {
         "anchor": "x",
         "domain": [
          0,
          1
         ],
         "title": {
          "text": "GCA Flexibility (Entropy)"
         }
        }
       }
      }
     },
     "metadata": {},
     "output_type": "display_data"
    }
   ],
   "source": [
    "# --- Dual Flexibility Ranking and Quadrant Analysis ---\n",
    "# Remove players with no SCA or GCA actions\n",
    "flex_df = shot_df[(shot_df['SCA_flex'] > 0) & (shot_df['GCA_flex'] > 0)].copy()\n",
    "\n",
    "# Rank by flexibility\n",
    "flex_df['SCA_flex_rank'] = flex_df['SCA_flex'].rank(ascending=False, method='min')\n",
    "flex_df['GCA_flex_rank'] = flex_df['GCA_flex'].rank(ascending=False, method='min')\n",
    "\n",
    "# Scatter plot with quadrant analysis\n",
    "sca_med = flex_df['SCA_flex'].median()\n",
    "gca_med = flex_df['GCA_flex'].median()\n",
    "\n",
    "fig = px.scatter(\n",
    "    flex_df,\n",
    "    x='SCA_flex',\n",
    "    y='GCA_flex',\n",
    "    color='Pos',\n",
    "    hover_data=['Player', 'SCA_flex_rank', 'GCA_flex_rank', 'SCA90', 'GCA90'],\n",
    "    title='SCA Flexibility vs GCA Flexibility (Quadrant Analysis)',\n",
    "    labels={'SCA_flex': 'SCA Flexibility (Entropy)', 'GCA_flex': 'GCA Flexibility (Entropy)'}\n",
    ")\n",
    "# Add quadrant lines\n",
    "fig.add_shape(type='line', x0=sca_med, x1=sca_med, y0=flex_df['GCA_flex'].min(), y1=flex_df['GCA_flex'].max(), line=dict(dash='dash', color='gray'))\n",
    "fig.add_shape(type='line', y0=gca_med, y1=gca_med, x0=flex_df['SCA_flex'].min(), x1=flex_df['SCA_flex'].max(), line=dict(dash='dash', color='gray'))\n",
    "fig.show()"
   ]
  },
  {
   "cell_type": "markdown",
   "id": "7be0f2b2",
   "metadata": {},
   "source": [
    "## Tactical Adaptability Framework & Player Archetypes\n",
    "\n",
    "- **Quadrant I (Top-Right):** Q1: \"All-Phase Flex Stars\" (versatile)\n",
    "- **Quadrant II (Top-Left):** Q2: \"Flexible Build-Up, Limited Final Ball\"\n",
    "- **Quadrant III (Bottom-Left):** Q3: \"Low Flex in Both\"\n",
    "- **Quadrant IV (Bottom-Right):** Q4: \"Flexible Final Ball, Limited Build-Up\"\n",
    "\n",
    "We identify and recommend players for each archetype."
   ]
  },
  {
   "cell_type": "code",
   "execution_count": 38,
   "id": "5bcfc951",
   "metadata": {},
   "outputs": [
    {
     "name": "stderr",
     "output_type": "stream",
     "text": [
      "C:\\Users\\omara\\AppData\\Local\\Temp\\ipykernel_11020\\2677172647.py:15: DeprecationWarning:\n",
      "\n",
      "DataFrameGroupBy.apply operated on the grouping columns. This behavior is deprecated, and in a future version of pandas the grouping columns will be excluded from the operation. Either pass `include_groups=False` to exclude the groupings or explicitly select the grouping columns after groupby to silence this warning.\n",
      "\n"
     ]
    },
    {
     "data": {
      "application/vnd.microsoft.datawrangler.viewer.v0+json": {
       "columns": [
        {
         "name": "('Flex_Archetype', None)",
         "rawType": "object",
         "type": "unknown"
        },
        {
         "name": "Player",
         "rawType": "object",
         "type": "string"
        },
        {
         "name": "Pos",
         "rawType": "object",
         "type": "string"
        },
        {
         "name": "SCA_flex",
         "rawType": "float64",
         "type": "float"
        },
        {
         "name": "GCA_flex",
         "rawType": "float64",
         "type": "float"
        },
        {
         "name": "SCA90",
         "rawType": "float64",
         "type": "float"
        },
        {
         "name": "GCA90",
         "rawType": "float64",
         "type": "float"
        },
        {
         "name": "Flex_Archetype",
         "rawType": "object",
         "type": "string"
        }
       ],
       "ref": "844a2b26-547f-4eb3-8654-9564a1fda362",
       "rows": [
        [
         "('SCA-Flexible, GCA-Specialist', 64)",
         "Kevin De Bruyne",
         "MF,FW",
         "1.7494404796792877",
         "1.0107286406182294",
         "5.99",
         "0.58",
         "SCA-Flexible, GCA-Specialist"
        ],
        [
         "('SCA-Flexible, GCA-Specialist', 162)",
         "Marcus Rashford",
         "FW",
         "2.219754954758007",
         "1.0001471613699369",
         "5.49",
         "0.61",
         "SCA-Flexible, GCA-Specialist"
        ],
        [
         "('SCA-Flexible, GCA-Specialist', 476)",
         "Son Heung-min",
         "FW",
         "1.5638371185881528",
         "0.7567470696278956",
         "4.99",
         "0.64",
         "SCA-Flexible, GCA-Specialist"
        ],
        [
         "('SCA-Specialist, GCA-Flexible', 72)",
         "Jack Grealish",
         "FW,MF",
         "0.923833232156392",
         "1.102891279259786",
         "5.86",
         "0.25",
         "SCA-Specialist, GCA-Flexible"
        ],
        [
         "('SCA-Specialist, GCA-Flexible', 338)",
         "Romain Esse",
         "MF",
         "1.2054487097872857",
         "1.7646739211166542",
         "5.63",
         "2.11",
         "SCA-Specialist, GCA-Flexible"
        ],
        [
         "('SCA-Specialist, GCA-Flexible', 244)",
         "Mathias Jensen",
         "MF",
         "1.1802516319520104",
         "1.7127565459758527",
         "4.23",
         "0.53",
         "SCA-Specialist, GCA-Flexible"
        ],
        [
         "('Specialist', 215)",
         "Brajan Gruda",
         "MF,FW",
         "1.3224802731537852",
         "0.8740642060793662",
         "5.14",
         "0.73",
         "Specialist"
        ],
        [
         "('Specialist', 33)",
         "Martin Ødegaard",
         "MF",
         "1.1475538171919282",
         "0.9899447647225963",
         "4.8",
         "0.66",
         "Specialist"
        ],
        [
         "('Specialist', 66)",
         "Jeremy Doku",
         "FW,MF",
         "1.3342250417185302",
         "0.9226794293849705",
         "4.62",
         "0.81",
         "Specialist"
        ],
        [
         "('Versatile', 36)",
         "Bukayo Saka",
         "FW,MF",
         "1.9637393510166894",
         "1.8715291810708572",
         "5.93",
         "1.22",
         "Versatile"
        ],
        [
         "('Versatile', 111)",
         "Cole Palmer",
         "MF",
         "1.9078629911365301",
         "1.4026808264047677",
         "5.81",
         "0.44",
         "Versatile"
        ],
        [
         "('Versatile', 62)",
         "Sávio",
         "FW,MF",
         "1.6258762062924887",
         "1.755392264075127",
         "5.71",
         "0.77",
         "Versatile"
        ]
       ],
       "shape": {
        "columns": 7,
        "rows": 12
       }
      },
      "text/html": [
       "<div>\n",
       "<style scoped>\n",
       "    .dataframe tbody tr th:only-of-type {\n",
       "        vertical-align: middle;\n",
       "    }\n",
       "\n",
       "    .dataframe tbody tr th {\n",
       "        vertical-align: top;\n",
       "    }\n",
       "\n",
       "    .dataframe thead th {\n",
       "        text-align: right;\n",
       "    }\n",
       "</style>\n",
       "<table border=\"1\" class=\"dataframe\">\n",
       "  <thead>\n",
       "    <tr style=\"text-align: right;\">\n",
       "      <th></th>\n",
       "      <th></th>\n",
       "      <th>Player</th>\n",
       "      <th>Pos</th>\n",
       "      <th>SCA_flex</th>\n",
       "      <th>GCA_flex</th>\n",
       "      <th>SCA90</th>\n",
       "      <th>GCA90</th>\n",
       "      <th>Flex_Archetype</th>\n",
       "    </tr>\n",
       "    <tr>\n",
       "      <th>Flex_Archetype</th>\n",
       "      <th></th>\n",
       "      <th></th>\n",
       "      <th></th>\n",
       "      <th></th>\n",
       "      <th></th>\n",
       "      <th></th>\n",
       "      <th></th>\n",
       "      <th></th>\n",
       "    </tr>\n",
       "  </thead>\n",
       "  <tbody>\n",
       "    <tr>\n",
       "      <th rowspan=\"3\" valign=\"top\">SCA-Flexible, GCA-Specialist</th>\n",
       "      <th>64</th>\n",
       "      <td>Kevin De Bruyne</td>\n",
       "      <td>MF,FW</td>\n",
       "      <td>1.749440</td>\n",
       "      <td>1.010729</td>\n",
       "      <td>5.99</td>\n",
       "      <td>0.58</td>\n",
       "      <td>SCA-Flexible, GCA-Specialist</td>\n",
       "    </tr>\n",
       "    <tr>\n",
       "      <th>162</th>\n",
       "      <td>Marcus Rashford</td>\n",
       "      <td>FW</td>\n",
       "      <td>2.219755</td>\n",
       "      <td>1.000147</td>\n",
       "      <td>5.49</td>\n",
       "      <td>0.61</td>\n",
       "      <td>SCA-Flexible, GCA-Specialist</td>\n",
       "    </tr>\n",
       "    <tr>\n",
       "      <th>476</th>\n",
       "      <td>Son Heung-min</td>\n",
       "      <td>FW</td>\n",
       "      <td>1.563837</td>\n",
       "      <td>0.756747</td>\n",
       "      <td>4.99</td>\n",
       "      <td>0.64</td>\n",
       "      <td>SCA-Flexible, GCA-Specialist</td>\n",
       "    </tr>\n",
       "    <tr>\n",
       "      <th rowspan=\"3\" valign=\"top\">SCA-Specialist, GCA-Flexible</th>\n",
       "      <th>72</th>\n",
       "      <td>Jack Grealish</td>\n",
       "      <td>FW,MF</td>\n",
       "      <td>0.923833</td>\n",
       "      <td>1.102891</td>\n",
       "      <td>5.86</td>\n",
       "      <td>0.25</td>\n",
       "      <td>SCA-Specialist, GCA-Flexible</td>\n",
       "    </tr>\n",
       "    <tr>\n",
       "      <th>338</th>\n",
       "      <td>Romain Esse</td>\n",
       "      <td>MF</td>\n",
       "      <td>1.205449</td>\n",
       "      <td>1.764674</td>\n",
       "      <td>5.63</td>\n",
       "      <td>2.11</td>\n",
       "      <td>SCA-Specialist, GCA-Flexible</td>\n",
       "    </tr>\n",
       "    <tr>\n",
       "      <th>244</th>\n",
       "      <td>Mathias Jensen</td>\n",
       "      <td>MF</td>\n",
       "      <td>1.180252</td>\n",
       "      <td>1.712757</td>\n",
       "      <td>4.23</td>\n",
       "      <td>0.53</td>\n",
       "      <td>SCA-Specialist, GCA-Flexible</td>\n",
       "    </tr>\n",
       "    <tr>\n",
       "      <th rowspan=\"3\" valign=\"top\">Specialist</th>\n",
       "      <th>215</th>\n",
       "      <td>Brajan Gruda</td>\n",
       "      <td>MF,FW</td>\n",
       "      <td>1.322480</td>\n",
       "      <td>0.874064</td>\n",
       "      <td>5.14</td>\n",
       "      <td>0.73</td>\n",
       "      <td>Specialist</td>\n",
       "    </tr>\n",
       "    <tr>\n",
       "      <th>33</th>\n",
       "      <td>Martin Ødegaard</td>\n",
       "      <td>MF</td>\n",
       "      <td>1.147554</td>\n",
       "      <td>0.989945</td>\n",
       "      <td>4.80</td>\n",
       "      <td>0.66</td>\n",
       "      <td>Specialist</td>\n",
       "    </tr>\n",
       "    <tr>\n",
       "      <th>66</th>\n",
       "      <td>Jeremy Doku</td>\n",
       "      <td>FW,MF</td>\n",
       "      <td>1.334225</td>\n",
       "      <td>0.922679</td>\n",
       "      <td>4.62</td>\n",
       "      <td>0.81</td>\n",
       "      <td>Specialist</td>\n",
       "    </tr>\n",
       "    <tr>\n",
       "      <th rowspan=\"3\" valign=\"top\">Versatile</th>\n",
       "      <th>36</th>\n",
       "      <td>Bukayo Saka</td>\n",
       "      <td>FW,MF</td>\n",
       "      <td>1.963739</td>\n",
       "      <td>1.871529</td>\n",
       "      <td>5.93</td>\n",
       "      <td>1.22</td>\n",
       "      <td>Versatile</td>\n",
       "    </tr>\n",
       "    <tr>\n",
       "      <th>111</th>\n",
       "      <td>Cole Palmer</td>\n",
       "      <td>MF</td>\n",
       "      <td>1.907863</td>\n",
       "      <td>1.402681</td>\n",
       "      <td>5.81</td>\n",
       "      <td>0.44</td>\n",
       "      <td>Versatile</td>\n",
       "    </tr>\n",
       "    <tr>\n",
       "      <th>62</th>\n",
       "      <td>Sávio</td>\n",
       "      <td>FW,MF</td>\n",
       "      <td>1.625876</td>\n",
       "      <td>1.755392</td>\n",
       "      <td>5.71</td>\n",
       "      <td>0.77</td>\n",
       "      <td>Versatile</td>\n",
       "    </tr>\n",
       "  </tbody>\n",
       "</table>\n",
       "</div>"
      ],
      "text/plain": [
       "                                           Player    Pos  SCA_flex  GCA_flex  \\\n",
       "Flex_Archetype                                                                 \n",
       "SCA-Flexible, GCA-Specialist 64   Kevin De Bruyne  MF,FW  1.749440  1.010729   \n",
       "                             162  Marcus Rashford     FW  2.219755  1.000147   \n",
       "                             476    Son Heung-min     FW  1.563837  0.756747   \n",
       "SCA-Specialist, GCA-Flexible 72     Jack Grealish  FW,MF  0.923833  1.102891   \n",
       "                             338      Romain Esse     MF  1.205449  1.764674   \n",
       "                             244   Mathias Jensen     MF  1.180252  1.712757   \n",
       "Specialist                   215     Brajan Gruda  MF,FW  1.322480  0.874064   \n",
       "                             33   Martin Ødegaard     MF  1.147554  0.989945   \n",
       "                             66       Jeremy Doku  FW,MF  1.334225  0.922679   \n",
       "Versatile                    36       Bukayo Saka  FW,MF  1.963739  1.871529   \n",
       "                             111      Cole Palmer     MF  1.907863  1.402681   \n",
       "                             62             Sávio  FW,MF  1.625876  1.755392   \n",
       "\n",
       "                                  SCA90  GCA90                Flex_Archetype  \n",
       "Flex_Archetype                                                                \n",
       "SCA-Flexible, GCA-Specialist 64    5.99   0.58  SCA-Flexible, GCA-Specialist  \n",
       "                             162   5.49   0.61  SCA-Flexible, GCA-Specialist  \n",
       "                             476   4.99   0.64  SCA-Flexible, GCA-Specialist  \n",
       "SCA-Specialist, GCA-Flexible 72    5.86   0.25  SCA-Specialist, GCA-Flexible  \n",
       "                             338   5.63   2.11  SCA-Specialist, GCA-Flexible  \n",
       "                             244   4.23   0.53  SCA-Specialist, GCA-Flexible  \n",
       "Specialist                   215   5.14   0.73                    Specialist  \n",
       "                             33    4.80   0.66                    Specialist  \n",
       "                             66    4.62   0.81                    Specialist  \n",
       "Versatile                    36    5.93   1.22                     Versatile  \n",
       "                             111   5.81   0.44                     Versatile  \n",
       "                             62    5.71   0.77                     Versatile  "
      ]
     },
     "metadata": {},
     "output_type": "display_data"
    }
   ],
   "source": [
    "# --- Identify Player Archetypes by Flexibility Quadrant ---\n",
    "def quadrant(row):\n",
    "    if row['SCA_flex'] >= sca_med and row['GCA_flex'] >= gca_med:\n",
    "        return 'Versatile'\n",
    "    elif row['SCA_flex'] >= sca_med and row['GCA_flex'] < gca_med:\n",
    "        return 'SCA-Flexible, GCA-Specialist'\n",
    "    elif row['SCA_flex'] < sca_med and row['GCA_flex'] < gca_med:\n",
    "        return 'Specialist'\n",
    "    else:\n",
    "        return 'SCA-Specialist, GCA-Flexible'\n",
    "\n",
    "flex_df['Flex_Archetype'] = flex_df.apply(quadrant, axis=1)\n",
    "\n",
    "# Show top 3 players for each archetype\n",
    "archetype_examples = flex_df.groupby('Flex_Archetype').apply(lambda g: g.nlargest(3, 'SCA90'))\n",
    "archetype_examples = archetype_examples[['Player', 'Pos', 'SCA_flex', 'GCA_flex', 'SCA90', 'GCA90', 'Flex_Archetype']]\n",
    "display(archetype_examples)"
   ]
  },
  {
   "cell_type": "markdown",
   "id": "f292d214",
   "metadata": {},
   "source": [
    "## Position-Specific Flexibility Benchmarks\n",
    "\n",
    "We compute median flexibility for each position and creation type, providing tactical benchmarks for player evaluation."
   ]
  },
  {
   "cell_type": "code",
   "execution_count": 26,
   "id": "6b354c64",
   "metadata": {},
   "outputs": [
    {
     "data": {
      "application/vnd.microsoft.datawrangler.viewer.v0+json": {
       "columns": [
        {
         "name": "index",
         "rawType": "int64",
         "type": "integer"
        },
        {
         "name": "Pos",
         "rawType": "object",
         "type": "string"
        },
        {
         "name": "SCA_flex_median",
         "rawType": "float64",
         "type": "float"
        },
        {
         "name": "GCA_flex_median",
         "rawType": "float64",
         "type": "float"
        },
        {
         "name": "count",
         "rawType": "int64",
         "type": "integer"
        }
       ],
       "ref": "d9cf3764-9b5f-4b92-8330-ec88c01a666d",
       "rows": [
        [
         "0",
         "DF",
         "0.9869756019189792",
         "0.9182958340544894",
         "53"
        ],
        [
         "1",
         "DF,FW",
         "1.3286303691305728",
         "0.7666031096732475",
         "2"
        ],
        [
         "2",
         "DF,MF",
         "1.339624676686416",
         "1.171355031580455",
         "3"
        ],
        [
         "3",
         "FW",
         "1.41006621495477",
         "1.2111571333133173",
         "42"
        ],
        [
         "4",
         "FW,MF",
         "1.2349003083281376",
         "1.0",
         "37"
        ],
        [
         "5",
         "GK",
         "0.6500224216483541",
         "0.9940302114769566",
         "1"
        ],
        [
         "6",
         "MF",
         "1.185089503579326",
         "0.954434002924965",
         "49"
        ],
        [
         "7",
         "MF,DF",
         "0.8646904040652323",
         "1.3864875259644203",
         "6"
        ],
        [
         "8",
         "MF,FW",
         "1.4399145787485854",
         "1.122835931850965",
         "22"
        ]
       ],
       "shape": {
        "columns": 4,
        "rows": 9
       }
      },
      "text/html": [
       "<div>\n",
       "<style scoped>\n",
       "    .dataframe tbody tr th:only-of-type {\n",
       "        vertical-align: middle;\n",
       "    }\n",
       "\n",
       "    .dataframe tbody tr th {\n",
       "        vertical-align: top;\n",
       "    }\n",
       "\n",
       "    .dataframe thead th {\n",
       "        text-align: right;\n",
       "    }\n",
       "</style>\n",
       "<table border=\"1\" class=\"dataframe\">\n",
       "  <thead>\n",
       "    <tr style=\"text-align: right;\">\n",
       "      <th></th>\n",
       "      <th>Pos</th>\n",
       "      <th>SCA_flex_median</th>\n",
       "      <th>GCA_flex_median</th>\n",
       "      <th>count</th>\n",
       "    </tr>\n",
       "  </thead>\n",
       "  <tbody>\n",
       "    <tr>\n",
       "      <th>0</th>\n",
       "      <td>DF</td>\n",
       "      <td>0.986976</td>\n",
       "      <td>0.918296</td>\n",
       "      <td>53</td>\n",
       "    </tr>\n",
       "    <tr>\n",
       "      <th>1</th>\n",
       "      <td>DF,FW</td>\n",
       "      <td>1.328630</td>\n",
       "      <td>0.766603</td>\n",
       "      <td>2</td>\n",
       "    </tr>\n",
       "    <tr>\n",
       "      <th>2</th>\n",
       "      <td>DF,MF</td>\n",
       "      <td>1.339625</td>\n",
       "      <td>1.171355</td>\n",
       "      <td>3</td>\n",
       "    </tr>\n",
       "    <tr>\n",
       "      <th>3</th>\n",
       "      <td>FW</td>\n",
       "      <td>1.410066</td>\n",
       "      <td>1.211157</td>\n",
       "      <td>42</td>\n",
       "    </tr>\n",
       "    <tr>\n",
       "      <th>4</th>\n",
       "      <td>FW,MF</td>\n",
       "      <td>1.234900</td>\n",
       "      <td>1.000000</td>\n",
       "      <td>37</td>\n",
       "    </tr>\n",
       "    <tr>\n",
       "      <th>5</th>\n",
       "      <td>GK</td>\n",
       "      <td>0.650022</td>\n",
       "      <td>0.994030</td>\n",
       "      <td>1</td>\n",
       "    </tr>\n",
       "    <tr>\n",
       "      <th>6</th>\n",
       "      <td>MF</td>\n",
       "      <td>1.185090</td>\n",
       "      <td>0.954434</td>\n",
       "      <td>49</td>\n",
       "    </tr>\n",
       "    <tr>\n",
       "      <th>7</th>\n",
       "      <td>MF,DF</td>\n",
       "      <td>0.864690</td>\n",
       "      <td>1.386488</td>\n",
       "      <td>6</td>\n",
       "    </tr>\n",
       "    <tr>\n",
       "      <th>8</th>\n",
       "      <td>MF,FW</td>\n",
       "      <td>1.439915</td>\n",
       "      <td>1.122836</td>\n",
       "      <td>22</td>\n",
       "    </tr>\n",
       "  </tbody>\n",
       "</table>\n",
       "</div>"
      ],
      "text/plain": [
       "     Pos  SCA_flex_median  GCA_flex_median  count\n",
       "0     DF         0.986976         0.918296     53\n",
       "1  DF,FW         1.328630         0.766603      2\n",
       "2  DF,MF         1.339625         1.171355      3\n",
       "3     FW         1.410066         1.211157     42\n",
       "4  FW,MF         1.234900         1.000000     37\n",
       "5     GK         0.650022         0.994030      1\n",
       "6     MF         1.185090         0.954434     49\n",
       "7  MF,DF         0.864690         1.386488      6\n",
       "8  MF,FW         1.439915         1.122836     22"
      ]
     },
     "metadata": {},
     "output_type": "display_data"
    }
   ],
   "source": [
    "# --- Position-Specific Flexibility Benchmarks ---\n",
    "pos_benchmarks = flex_df.groupby('Pos').agg(\n",
    "    SCA_flex_median=('SCA_flex', 'median'),\n",
    "    GCA_flex_median=('GCA_flex', 'median'),\n",
    "    count=('Player', 'count')\n",
    ").reset_index()\n",
    "display(pos_benchmarks)"
   ]
  },
  {
   "cell_type": "markdown",
   "id": "f77fe3e7",
   "metadata": {},
   "source": [
    "## Correlation of Flexibility with Performance\n",
    "\n",
    "We analyze how SCA and GCA flexibility relate to overall creative output (SCA90, GCA90) and efficiency."
   ]
  },
  {
   "cell_type": "code",
   "execution_count": 27,
   "id": "6bfa1034",
   "metadata": {},
   "outputs": [
    {
     "data": {
      "image/png": "[encoded data removed]",
      "text/plain": [
       "<Figure size 600x400 with 2 Axes>"
      ]
     },
     "metadata": {},
     "output_type": "display_data"
    }
   ],
   "source": [
    "# --- Correlate Flexibility Indices with Performance Metrics ---\n",
    "perf_corr = flex_df[['SCA_flex', 'GCA_flex', 'SCA90', 'GCA90', 'efficiency_score']].corr()\n",
    "plt.figure(figsize=(6,4))\n",
    "sns.heatmap(perf_corr, annot=True, cmap='Blues', fmt='.2f')\n",
    "plt.title('Correlation: Flexibility Indices vs Performance Metrics')\n",
    "plt.show()"
   ]
  }
 ],
 "metadata": {
  "kernelspec": {
   "display_name": "Python 3",
   "language": "python",
   "name": "python3"
  },
  "language_info": {
   "codemirror_mode": {
    "name": "ipython",
    "version": 3
   },
   "file_extension": ".py",
   "mimetype": "text/x-python",
   "name": "python",
   "nbconvert_exporter": "python",
   "pygments_lexer": "ipython3",
   "version": "3.9.0"
  }
 },
 "nbformat": 4,
 "nbformat_minor": 5
}
