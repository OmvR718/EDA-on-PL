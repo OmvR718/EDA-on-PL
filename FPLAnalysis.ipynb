{
 "cells": [
  {
   "cell_type": "markdown",
   "id": "c555f26b",
   "metadata": {},
   "source": [
    "# Performance Efficiency Analysis: Shot Creation in Football\n",
    "\n",
    "This analysis focuses on evaluating player performance efficiency using the following dataset columns:\n",
    "- **SCA90**: Shot creation actions per 90 minutes\n",
    "- **TO**: Take-ons for shot creation\n",
    "- **Age**: Player age\n",
    "- **Pos**: Player position\n",
    "\n",
    "We will:\n",
    "- Calculate take-on dependency ratios (TO/SCA) and SCA90 rankings\n",
    "- Visualize SCA90 vs take-on dependency (scatter plot, colored by position, sized by age)\n",
    "- Perform correlation analysis between SCA90, take-on rates, age, and position\n",
    "- Identify the top 20 most efficient players using a composite efficiency score\n",
    "- Summarize statistics by position and test for significance in creation efficiency differences\n",
    "- Present interactive plots and tables for insights\n"
   ]
  },
  {
   "cell_type": "code",
   "execution_count": 435,
   "id": "e3684bc1",
   "metadata": {},
   "outputs": [],
   "source": [
    "import pandas as pd\n",
    "import numpy as np\n",
    "import plotly.express as px\n",
    "import plotly.graph_objects as go\n",
    "import seaborn as sns\n",
    "import matplotlib.pyplot as plt\n",
    "from scipy.stats import f_oneway, kruskal\n",
    "from sklearn.preprocessing import LabelEncoder\n",
    "from numpy.polynomial.polynomial import Polynomial\n",
    "from sklearn.metrics import r2_score"
   ]
  },
  {
   "cell_type": "code",
   "execution_count": 436,
   "id": "c992298c",
   "metadata": {},
   "outputs": [
    {
     "data": {
      "application/vnd.microsoft.datawrangler.viewer.v0+json": {
       "columns": [
        {
         "name": "index",
         "rawType": "int64",
         "type": "integer"
        },
        {
         "name": "Player",
         "rawType": "object",
         "type": "string"
        },
        {
         "name": "Pos",
         "rawType": "object",
         "type": "string"
        },
        {
         "name": "Age",
         "rawType": "object",
         "type": "string"
        },
        {
         "name": "SCA",
         "rawType": "int64",
         "type": "integer"
        },
        {
         "name": "SCA90",
         "rawType": "float64",
         "type": "float"
        },
        {
         "name": "TO",
         "rawType": "int64",
         "type": "integer"
        }
       ],
       "ref": "dc36bd7b-5fa4-4df6-8b72-14a7eea50919",
       "rows": [
        [
         "0",
         "Mohamed Salah",
         "FW",
         "32-342",
         "164",
         "4.5",
         "22"
        ],
        [
         "1",
         "Virgil van Dijk",
         "DF",
         "33-319",
         "48",
         "1.33",
         "1"
        ],
        [
         "2",
         "Ryan Gravenberch",
         "MF",
         "23-007",
         "66",
         "1.92",
         "5"
        ],
        [
         "3",
         "Alexis Mac Allister",
         "MF",
         "26-150",
         "120",
         "4.15",
         "2"
        ],
        [
         "4",
         "Ibrahima Konaté",
         "DF",
         "25-363",
         "31",
         "1.12",
         "0"
        ]
       ],
       "shape": {
        "columns": 6,
        "rows": 5
       }
      },
      "text/html": [
       "<div>\n",
       "<style scoped>\n",
       "    .dataframe tbody tr th:only-of-type {\n",
       "        vertical-align: middle;\n",
       "    }\n",
       "\n",
       "    .dataframe tbody tr th {\n",
       "        vertical-align: top;\n",
       "    }\n",
       "\n",
       "    .dataframe thead th {\n",
       "        text-align: right;\n",
       "    }\n",
       "</style>\n",
       "<table border=\"1\" class=\"dataframe\">\n",
       "  <thead>\n",
       "    <tr style=\"text-align: right;\">\n",
       "      <th></th>\n",
       "      <th>Player</th>\n",
       "      <th>Pos</th>\n",
       "      <th>Age</th>\n",
       "      <th>SCA</th>\n",
       "      <th>SCA90</th>\n",
       "      <th>TO</th>\n",
       "    </tr>\n",
       "  </thead>\n",
       "  <tbody>\n",
       "    <tr>\n",
       "      <th>0</th>\n",
       "      <td>Mohamed Salah</td>\n",
       "      <td>FW</td>\n",
       "      <td>32-342</td>\n",
       "      <td>164</td>\n",
       "      <td>4.50</td>\n",
       "      <td>22</td>\n",
       "    </tr>\n",
       "    <tr>\n",
       "      <th>1</th>\n",
       "      <td>Virgil van Dijk</td>\n",
       "      <td>DF</td>\n",
       "      <td>33-319</td>\n",
       "      <td>48</td>\n",
       "      <td>1.33</td>\n",
       "      <td>1</td>\n",
       "    </tr>\n",
       "    <tr>\n",
       "      <th>2</th>\n",
       "      <td>Ryan Gravenberch</td>\n",
       "      <td>MF</td>\n",
       "      <td>23-007</td>\n",
       "      <td>66</td>\n",
       "      <td>1.92</td>\n",
       "      <td>5</td>\n",
       "    </tr>\n",
       "    <tr>\n",
       "      <th>3</th>\n",
       "      <td>Alexis Mac Allister</td>\n",
       "      <td>MF</td>\n",
       "      <td>26-150</td>\n",
       "      <td>120</td>\n",
       "      <td>4.15</td>\n",
       "      <td>2</td>\n",
       "    </tr>\n",
       "    <tr>\n",
       "      <th>4</th>\n",
       "      <td>Ibrahima Konaté</td>\n",
       "      <td>DF</td>\n",
       "      <td>25-363</td>\n",
       "      <td>31</td>\n",
       "      <td>1.12</td>\n",
       "      <td>0</td>\n",
       "    </tr>\n",
       "  </tbody>\n",
       "</table>\n",
       "</div>"
      ],
      "text/plain": [
       "                Player Pos     Age  SCA  SCA90  TO\n",
       "0        Mohamed Salah  FW  32-342  164   4.50  22\n",
       "1      Virgil van Dijk  DF  33-319   48   1.33   1\n",
       "2     Ryan Gravenberch  MF  23-007   66   1.92   5\n",
       "3  Alexis Mac Allister  MF  26-150  120   4.15   2\n",
       "4      Ibrahima Konaté  DF  25-363   31   1.12   0"
      ]
     },
     "execution_count": 436,
     "metadata": {},
     "output_type": "execute_result"
    }
   ],
   "source": [
    "# Load dataset\n",
    "shot_df = pd.read_csv('Shot_Creation.csv')\n",
    "\n",
    "# Preview relevant columns\n",
    "shot_df[['Player', 'Pos', 'Age', 'SCA', 'SCA90', 'TO']].head()"
   ]
  },
  {
   "cell_type": "code",
   "execution_count": 437,
   "id": "fdb7750c",
   "metadata": {},
   "outputs": [
    {
     "data": {
      "application/vnd.microsoft.datawrangler.viewer.v0+json": {
       "columns": [
        {
         "name": "index",
         "rawType": "int64",
         "type": "integer"
        },
        {
         "name": "Player",
         "rawType": "object",
         "type": "string"
        },
        {
         "name": "Pos",
         "rawType": "object",
         "type": "string"
        },
        {
         "name": "Age",
         "rawType": "float64",
         "type": "float"
        },
        {
         "name": "SCA",
         "rawType": "int64",
         "type": "integer"
        },
        {
         "name": "SCA90",
         "rawType": "float64",
         "type": "float"
        },
        {
         "name": "TO",
         "rawType": "int64",
         "type": "integer"
        },
        {
         "name": "TO_SCA_ratio",
         "rawType": "float64",
         "type": "float"
        },
        {
         "name": "SCA90_rank",
         "rawType": "float64",
         "type": "float"
        }
       ],
       "ref": "518520bb-15ed-4711-948a-ab534784fac3",
       "rows": [
        [
         "0",
         "Mohamed Salah",
         "FW",
         "32.0",
         "164",
         "4.5",
         "22",
         "0.13414634146341464",
         "90.0"
        ],
        [
         "3",
         "Alexis Mac Allister",
         "MF",
         "26.0",
         "120",
         "4.15",
         "2",
         "0.016666666666666666",
         "103.0"
        ],
        [
         "5",
         "Dominik Szoboszlai",
         "MF",
         "24.0",
         "117",
         "4.33",
         "5",
         "0.042735042735042736",
         "97.0"
        ],
        [
         "9",
         "Luis Díaz",
         "FW",
         "28.0",
         "117",
         "4.52",
         "16",
         "0.13675213675213677",
         "88.0"
        ],
        [
         "19",
         "Harvey Elliott",
         "MF,FW",
         "22.0",
         "21",
         "5.18",
         "1",
         "0.047619047619047616",
         "68.0"
        ]
       ],
       "shape": {
        "columns": 8,
        "rows": 5
       }
      },
      "text/html": [
       "<div>\n",
       "<style scoped>\n",
       "    .dataframe tbody tr th:only-of-type {\n",
       "        vertical-align: middle;\n",
       "    }\n",
       "\n",
       "    .dataframe tbody tr th {\n",
       "        vertical-align: top;\n",
       "    }\n",
       "\n",
       "    .dataframe thead th {\n",
       "        text-align: right;\n",
       "    }\n",
       "</style>\n",
       "<table border=\"1\" class=\"dataframe\">\n",
       "  <thead>\n",
       "    <tr style=\"text-align: right;\">\n",
       "      <th></th>\n",
       "      <th>Player</th>\n",
       "      <th>Pos</th>\n",
       "      <th>Age</th>\n",
       "      <th>SCA</th>\n",
       "      <th>SCA90</th>\n",
       "      <th>TO</th>\n",
       "      <th>TO_SCA_ratio</th>\n",
       "      <th>SCA90_rank</th>\n",
       "    </tr>\n",
       "  </thead>\n",
       "  <tbody>\n",
       "    <tr>\n",
       "      <th>0</th>\n",
       "      <td>Mohamed Salah</td>\n",
       "      <td>FW</td>\n",
       "      <td>32.0</td>\n",
       "      <td>164</td>\n",
       "      <td>4.50</td>\n",
       "      <td>22</td>\n",
       "      <td>0.134146</td>\n",
       "      <td>90.0</td>\n",
       "    </tr>\n",
       "    <tr>\n",
       "      <th>3</th>\n",
       "      <td>Alexis Mac Allister</td>\n",
       "      <td>MF</td>\n",
       "      <td>26.0</td>\n",
       "      <td>120</td>\n",
       "      <td>4.15</td>\n",
       "      <td>2</td>\n",
       "      <td>0.016667</td>\n",
       "      <td>103.0</td>\n",
       "    </tr>\n",
       "    <tr>\n",
       "      <th>5</th>\n",
       "      <td>Dominik Szoboszlai</td>\n",
       "      <td>MF</td>\n",
       "      <td>24.0</td>\n",
       "      <td>117</td>\n",
       "      <td>4.33</td>\n",
       "      <td>5</td>\n",
       "      <td>0.042735</td>\n",
       "      <td>97.0</td>\n",
       "    </tr>\n",
       "    <tr>\n",
       "      <th>9</th>\n",
       "      <td>Luis Díaz</td>\n",
       "      <td>FW</td>\n",
       "      <td>28.0</td>\n",
       "      <td>117</td>\n",
       "      <td>4.52</td>\n",
       "      <td>16</td>\n",
       "      <td>0.136752</td>\n",
       "      <td>88.0</td>\n",
       "    </tr>\n",
       "    <tr>\n",
       "      <th>19</th>\n",
       "      <td>Harvey Elliott</td>\n",
       "      <td>MF,FW</td>\n",
       "      <td>22.0</td>\n",
       "      <td>21</td>\n",
       "      <td>5.18</td>\n",
       "      <td>1</td>\n",
       "      <td>0.047619</td>\n",
       "      <td>68.0</td>\n",
       "    </tr>\n",
       "  </tbody>\n",
       "</table>\n",
       "</div>"
      ],
      "text/plain": [
       "                 Player    Pos   Age  SCA  SCA90  TO  TO_SCA_ratio  SCA90_rank\n",
       "0         Mohamed Salah     FW  32.0  164   4.50  22      0.134146        90.0\n",
       "3   Alexis Mac Allister     MF  26.0  120   4.15   2      0.016667       103.0\n",
       "5    Dominik Szoboszlai     MF  24.0  117   4.33   5      0.042735        97.0\n",
       "9             Luis Díaz     FW  28.0  117   4.52  16      0.136752        88.0\n",
       "19       Harvey Elliott  MF,FW  22.0   21   5.18   1      0.047619        68.0"
      ]
     },
     "execution_count": 437,
     "metadata": {},
     "output_type": "execute_result"
    }
   ],
   "source": [
    "# Clean and convert columns\n",
    "shot_df['SCA'] = pd.to_numeric(shot_df['SCA'], errors='coerce')\n",
    "shot_df['SCA90'] = pd.to_numeric(shot_df['SCA90'], errors='coerce')\n",
    "shot_df['TO'] = pd.to_numeric(shot_df['TO'], errors='coerce')\n",
    "shot_df['Age'] = shot_df['Age'].str.extract(r'(\\d{2})').astype(float)\n",
    "\n",
    "# Calculate take-on dependency ratio\n",
    "shot_df['TO_SCA_ratio'] = shot_df['TO'] / shot_df['SCA']\n",
    "\n",
    "# SCA90 ranking\n",
    "shot_df['SCA90_rank'] = shot_df['SCA90'].rank(ascending=False, method='min')\n",
    "\n",
    "# Drop rows with missing values in key columns\n",
    "shot_df = shot_df.dropna(subset=['SCA', 'SCA90', 'TO', 'TO_SCA_ratio', 'Age'])\n",
    "\n",
    "# Remove 'Squad Total' and 'Opponent Total' rows from the data\n",
    "shot_df = shot_df[~shot_df['Player'].str.contains('Squad Total|Opponent Total', case=False, na=False)]\n",
    "\n",
    "# Filter out players with very low SCA or SCA90 to reduce plot crowding\n",
    "min_sca = 20  # Increase threshold\n",
    "min_sca90 = 4.0  # Increase threshold\n",
    "shot_df = shot_df[(shot_df['SCA'] >= min_sca) & (shot_df['SCA90'] >= min_sca90)]\n",
    "\n",
    "# Preview new columns\n",
    "shot_df[['Player', 'Pos', 'Age', 'SCA', 'SCA90', 'TO', 'TO_SCA_ratio', 'SCA90_rank']].head()"
   ]
  },
  {
   "cell_type": "code",
   "execution_count": 438,
   "id": "8698952b",
   "metadata": {},
   "outputs": [
    {
     "data": {
      "application/vnd.plotly.v1+json": {
       "config": {
        "plotlyServerURL": "https://plot.ly"
       },
       "data": [
        {
         "customdata": [
          [
           "Mohamed Salah",
           164,
           22,
           32,
           "FW"
          ],
          [
           "Luis Díaz",
           117,
           16,
           28,
           "FW"
          ],
          [
           "Marcus Rashford",
           27,
           3,
           27,
           "FW"
          ],
          [
           "Reiss Nelson",
           31,
           3,
           25,
           "FW"
          ],
          [
           "Son Heung-min",
           117,
           10,
           32,
           "FW"
          ]
         ],
         "hovertemplate": "Pos=%{customdata[4]}<br>Take-on Dependency Ratio (TO/SCA)=%{x}<br>SCA per 90=%{y}<br>Age=%{customdata[3]}<br>Player=%{customdata[0]}<br>SCA=%{customdata[1]}<br>TO=%{customdata[2]}<extra></extra>",
         "legendgroup": "FW",
         "marker": {
          "color": "#636efa",
          "size": [
           32,
           28,
           27,
           25,
           32
          ],
          "sizemode": "area",
          "sizeref": 0.085,
          "symbol": "circle"
         },
         "mode": "markers",
         "name": "FW",
         "orientation": "v",
         "showlegend": true,
         "type": "scatter",
         "x": [
          0.13414634146341464,
          0.13675213675213677,
          0.1111111111111111,
          0.0967741935483871,
          0.08547008547008547
         ],
         "xaxis": "x",
         "y": [
          4.5,
          4.52,
          5.49,
          5.73,
          4.99
         ],
         "yaxis": "y"
        },
        {
         "customdata": [
          [
           "Alexis Mac Allister",
           120,
           2,
           26,
           "MF"
          ],
          [
           "Dominik Szoboszlai",
           117,
           5,
           24,
           "MF"
          ],
          [
           "Martin Ødegaard",
           123,
           2,
           26,
           "MF"
          ],
          [
           "Cole Palmer",
           200,
           16,
           23,
           "MF"
          ],
          [
           "Enzo Fernández",
           146,
           2,
           24,
           "MF"
          ],
          [
           "Marco Asensio",
           34,
           1,
           29,
           "MF"
          ],
          [
           "Mathias Jensen",
           40,
           1,
           29,
           "MF"
          ],
          [
           "Andreas Pereira",
           103,
           0,
           29,
           "MF"
          ],
          [
           "Tom Cairney",
           31,
           0,
           34,
           "MF"
          ],
          [
           "Adam Wharton",
           59,
           0,
           20,
           "MF"
          ],
          [
           "Bruno Fernandes",
           181,
           5,
           30,
           "MF"
          ],
          [
           "Christian Eriksen",
           52,
           0,
           33,
           "MF"
          ],
          [
           "James Maddison",
           95,
           7,
           28,
           "MF"
          ]
         ],
         "hovertemplate": "Pos=%{customdata[4]}<br>Take-on Dependency Ratio (TO/SCA)=%{x}<br>SCA per 90=%{y}<br>Age=%{customdata[3]}<br>Player=%{customdata[0]}<br>SCA=%{customdata[1]}<br>TO=%{customdata[2]}<extra></extra>",
         "legendgroup": "MF",
         "marker": {
          "color": "#EF553B",
          "size": [
           26,
           24,
           26,
           23,
           24,
           29,
           29,
           29,
           34,
           20,
           30,
           33,
           28
          ],
          "sizemode": "area",
          "sizeref": 0.085,
          "symbol": "circle"
         },
         "mode": "markers",
         "name": "MF",
         "orientation": "v",
         "showlegend": true,
         "type": "scatter",
         "x": [
          0.016666666666666666,
          0.042735042735042736,
          0.016260162601626018,
          0.08,
          0.0136986301369863,
          0.029411764705882353,
          0.025,
          0,
          0,
          0,
          0.027624309392265192,
          0,
          0.07368421052631578
         ],
         "xaxis": "x",
         "y": [
          4.15,
          4.33,
          4.8,
          5.81,
          4.6,
          4.38,
          4.23,
          4.75,
          5,
          4.03,
          5.56,
          4.51,
          4.73
         ],
         "yaxis": "y"
        },
        {
         "customdata": [
          [
           "Harvey Elliott",
           21,
           1,
           22,
           "MF,FW"
          ],
          [
           "Phil Foden",
           88,
           3,
           24,
           "MF,FW"
          ],
          [
           "Kevin De Bruyne",
           113,
           3,
           33,
           "MF,FW"
          ],
          [
           "Brajan Gruda",
           35,
           3,
           20,
           "MF,FW"
          ],
          [
           "Eberechi Eze",
           133,
           11,
           26,
           "MF,FW"
          ],
          [
           "Dwight McNeil",
           71,
           6,
           25,
           "MF,FW"
          ],
          [
           "Matheus Cunha",
           127,
           18,
           25,
           "MF,FW"
          ],
          [
           "Amad Diallo",
           93,
           10,
           22,
           "MF,FW"
          ],
          [
           "Dejan Kulusevski",
           128,
           15,
           25,
           "MF,FW"
          ]
         ],
         "hovertemplate": "Pos=%{customdata[4]}<br>Take-on Dependency Ratio (TO/SCA)=%{x}<br>SCA per 90=%{y}<br>Age=%{customdata[3]}<br>Player=%{customdata[0]}<br>SCA=%{customdata[1]}<br>TO=%{customdata[2]}<extra></extra>",
         "legendgroup": "MF,FW",
         "marker": {
          "color": "#00cc96",
          "size": [
           22,
           24,
           33,
           20,
           26,
           25,
           25,
           22,
           25
          ],
          "sizemode": "area",
          "sizeref": 0.085,
          "symbol": "circle"
         },
         "mode": "markers",
         "name": "MF,FW",
         "orientation": "v",
         "showlegend": true,
         "type": "scatter",
         "x": [
          0.047619047619047616,
          0.03409090909090909,
          0.02654867256637168,
          0.08571428571428572,
          0.08270676691729323,
          0.08450704225352113,
          0.14173228346456693,
          0.10752688172043011,
          0.1171875
         ],
         "xaxis": "x",
         "y": [
          5.18,
          4.48,
          5.99,
          5.14,
          4.74,
          4.71,
          4.56,
          4.62,
          4.82
         ],
         "yaxis": "y"
        },
        {
         "customdata": [
          [
           "Bukayo Saka",
           112,
           11,
           23,
           "FW,MF"
          ],
          [
           "Sávio",
           111,
           15,
           21,
           "FW,MF"
          ],
          [
           "Jeremy Doku",
           74,
           13,
           22,
           "FW,MF"
          ],
          [
           "Jack Grealish",
           47,
           3,
           29,
           "FW,MF"
          ],
          [
           "Adama Traoré",
           81,
           9,
           29,
           "FW,MF"
          ],
          [
           "Marcus Tavernier",
           90,
           3,
           26,
           "FW,MF"
          ],
          [
           "Crysencio Summerville",
           35,
           5,
           23,
           "FW,MF"
          ]
         ],
         "hovertemplate": "Pos=%{customdata[4]}<br>Take-on Dependency Ratio (TO/SCA)=%{x}<br>SCA per 90=%{y}<br>Age=%{customdata[3]}<br>Player=%{customdata[0]}<br>SCA=%{customdata[1]}<br>TO=%{customdata[2]}<extra></extra>",
         "legendgroup": "FW,MF",
         "marker": {
          "color": "#ab63fa",
          "size": [
           23,
           21,
           22,
           29,
           29,
           26,
           23
          ],
          "sizemode": "area",
          "sizeref": 0.085,
          "symbol": "circle"
         },
         "mode": "markers",
         "name": "FW,MF",
         "orientation": "v",
         "showlegend": true,
         "type": "scatter",
         "x": [
          0.09821428571428571,
          0.13513513513513514,
          0.17567567567567569,
          0.06382978723404255,
          0.1111111111111111,
          0.03333333333333333,
          0.14285714285714285
         ],
         "xaxis": "x",
         "y": [
          5.93,
          5.71,
          4.62,
          5.86,
          4.29,
          4.38,
          4.01
         ],
         "yaxis": "y"
        },
        {
         "customdata": [
          [
           "Ian Maatsen",
           52,
           5,
           23,
           "DF"
          ]
         ],
         "hovertemplate": "Pos=%{customdata[4]}<br>Take-on Dependency Ratio (TO/SCA)=%{x}<br>SCA per 90=%{y}<br>Age=%{customdata[3]}<br>Player=%{customdata[0]}<br>SCA=%{customdata[1]}<br>TO=%{customdata[2]}<extra></extra>",
         "legendgroup": "DF",
         "marker": {
          "color": "#FFA15A",
          "size": [
           23
          ],
          "sizemode": "area",
          "sizeref": 0.085,
          "symbol": "circle"
         },
         "mode": "markers",
         "name": "DF",
         "orientation": "v",
         "showlegend": true,
         "type": "scatter",
         "x": [
          0.09615384615384616
         ],
         "xaxis": "x",
         "y": [
          4.46
         ],
         "yaxis": "y"
        }
       ],
       "layout": {
        "height": 600,
        "legend": {
         "itemsizing": "constant",
         "title": {
          "text": "Pos"
         },
         "tracegroupgap": 0
        },
        "template": {
         "data": {
          "bar": [
           {
            "error_x": {
             "color": "#2a3f5f"
            },
            "error_y": {
             "color": "#2a3f5f"
            },
            "marker": {
             "line": {
              "color": "#E5ECF6",
              "width": 0.5
             },
             "pattern": {
              "fillmode": "overlay",
              "size": 10,
              "solidity": 0.2
             }
            },
            "type": "bar"
           }
          ],
          "barpolar": [
           {
            "marker": {
             "line": {
              "color": "#E5ECF6",
              "width": 0.5
             },
             "pattern": {
              "fillmode": "overlay",
              "size": 10,
              "solidity": 0.2
             }
            },
            "type": "barpolar"
           }
          ],
          "carpet": [
           {
            "aaxis": {
             "endlinecolor": "#2a3f5f",
             "gridcolor": "white",
             "linecolor": "white",
             "minorgridcolor": "white",
             "startlinecolor": "#2a3f5f"
            },
            "baxis": {
             "endlinecolor": "#2a3f5f",
             "gridcolor": "white",
             "linecolor": "white",
             "minorgridcolor": "white",
             "startlinecolor": "#2a3f5f"
            },
            "type": "carpet"
           }
          ],
          "choropleth": [
           {
            "colorbar": {
             "outlinewidth": 0,
             "ticks": ""
            },
            "type": "choropleth"
           }
          ],
          "contour": [
           {
            "colorbar": {
             "outlinewidth": 0,
             "ticks": ""
            },
            "colorscale": [
             [
              0,
              "#0d0887"
             ],
             [
              0.1111111111111111,
              "#46039f"
             ],
             [
              0.2222222222222222,
              "#7201a8"
             ],
             [
              0.3333333333333333,
              "#9c179e"
             ],
             [
              0.4444444444444444,
              "#bd3786"
             ],
             [
              0.5555555555555556,
              "#d8576b"
             ],
             [
              0.6666666666666666,
              "#ed7953"
             ],
             [
              0.7777777777777778,
              "#fb9f3a"
             ],
             [
              0.8888888888888888,
              "#fdca26"
             ],
             [
              1,
              "#f0f921"
             ]
            ],
            "type": "contour"
           }
          ],
          "contourcarpet": [
           {
            "colorbar": {
             "outlinewidth": 0,
             "ticks": ""
            },
            "type": "contourcarpet"
           }
          ],
          "heatmap": [
           {
            "colorbar": {
             "outlinewidth": 0,
             "ticks": ""
            },
            "colorscale": [
             [
              0,
              "#0d0887"
             ],
             [
              0.1111111111111111,
              "#46039f"
             ],
             [
              0.2222222222222222,
              "#7201a8"
             ],
             [
              0.3333333333333333,
              "#9c179e"
             ],
             [
              0.4444444444444444,
              "#bd3786"
             ],
             [
              0.5555555555555556,
              "#d8576b"
             ],
             [
              0.6666666666666666,
              "#ed7953"
             ],
             [
              0.7777777777777778,
              "#fb9f3a"
             ],
             [
              0.8888888888888888,
              "#fdca26"
             ],
             [
              1,
              "#f0f921"
             ]
            ],
            "type": "heatmap"
           }
          ],
          "heatmapgl": [
           {
            "colorbar": {
             "outlinewidth": 0,
             "ticks": ""
            },
            "colorscale": [
             [
              0,
              "#0d0887"
             ],
             [
              0.1111111111111111,
              "#46039f"
             ],
             [
              0.2222222222222222,
              "#7201a8"
             ],
             [
              0.3333333333333333,
              "#9c179e"
             ],
             [
              0.4444444444444444,
              "#bd3786"
             ],
             [
              0.5555555555555556,
              "#d8576b"
             ],
             [
              0.6666666666666666,
              "#ed7953"
             ],
             [
              0.7777777777777778,
              "#fb9f3a"
             ],
             [
              0.8888888888888888,
              "#fdca26"
             ],
             [
              1,
              "#f0f921"
             ]
            ],
            "type": "heatmapgl"
           }
          ],
          "histogram": [
           {
            "marker": {
             "pattern": {
              "fillmode": "overlay",
              "size": 10,
              "solidity": 0.2
             }
            },
            "type": "histogram"
           }
          ],
          "histogram2d": [
           {
            "colorbar": {
             "outlinewidth": 0,
             "ticks": ""
            },
            "colorscale": [
             [
              0,
              "#0d0887"
             ],
             [
              0.1111111111111111,
              "#46039f"
             ],
             [
              0.2222222222222222,
              "#7201a8"
             ],
             [
              0.3333333333333333,
              "#9c179e"
             ],
             [
              0.4444444444444444,
              "#bd3786"
             ],
             [
              0.5555555555555556,
              "#d8576b"
             ],
             [
              0.6666666666666666,
              "#ed7953"
             ],
             [
              0.7777777777777778,
              "#fb9f3a"
             ],
             [
              0.8888888888888888,
              "#fdca26"
             ],
             [
              1,
              "#f0f921"
             ]
            ],
            "type": "histogram2d"
           }
          ],
          "histogram2dcontour": [
           {
            "colorbar": {
             "outlinewidth": 0,
             "ticks": ""
            },
            "colorscale": [
             [
              0,
              "#0d0887"
             ],
             [
              0.1111111111111111,
              "#46039f"
             ],
             [
              0.2222222222222222,
              "#7201a8"
             ],
             [
              0.3333333333333333,
              "#9c179e"
             ],
             [
              0.4444444444444444,
              "#bd3786"
             ],
             [
              0.5555555555555556,
              "#d8576b"
             ],
             [
              0.6666666666666666,
              "#ed7953"
             ],
             [
              0.7777777777777778,
              "#fb9f3a"
             ],
             [
              0.8888888888888888,
              "#fdca26"
             ],
             [
              1,
              "#f0f921"
             ]
            ],
            "type": "histogram2dcontour"
           }
          ],
          "mesh3d": [
           {
            "colorbar": {
             "outlinewidth": 0,
             "ticks": ""
            },
            "type": "mesh3d"
           }
          ],
          "parcoords": [
           {
            "line": {
             "colorbar": {
              "outlinewidth": 0,
              "ticks": ""
             }
            },
            "type": "parcoords"
           }
          ],
          "pie": [
           {
            "automargin": true,
            "type": "pie"
           }
          ],
          "scatter": [
           {
            "fillpattern": {
             "fillmode": "overlay",
             "size": 10,
             "solidity": 0.2
            },
            "type": "scatter"
           }
          ],
          "scatter3d": [
           {
            "line": {
             "colorbar": {
              "outlinewidth": 0,
              "ticks": ""
             }
            },
            "marker": {
             "colorbar": {
              "outlinewidth": 0,
              "ticks": ""
             }
            },
            "type": "scatter3d"
           }
          ],
          "scattercarpet": [
           {
            "marker": {
             "colorbar": {
              "outlinewidth": 0,
              "ticks": ""
             }
            },
            "type": "scattercarpet"
           }
          ],
          "scattergeo": [
           {
            "marker": {
             "colorbar": {
              "outlinewidth": 0,
              "ticks": ""
             }
            },
            "type": "scattergeo"
           }
          ],
          "scattergl": [
           {
            "marker": {
             "colorbar": {
              "outlinewidth": 0,
              "ticks": ""
             }
            },
            "type": "scattergl"
           }
          ],
          "scattermapbox": [
           {
            "marker": {
             "colorbar": {
              "outlinewidth": 0,
              "ticks": ""
             }
            },
            "type": "scattermapbox"
           }
          ],
          "scatterpolar": [
           {
            "marker": {
             "colorbar": {
              "outlinewidth": 0,
              "ticks": ""
             }
            },
            "type": "scatterpolar"
           }
          ],
          "scatterpolargl": [
           {
            "marker": {
             "colorbar": {
              "outlinewidth": 0,
              "ticks": ""
             }
            },
            "type": "scatterpolargl"
           }
          ],
          "scatterternary": [
           {
            "marker": {
             "colorbar": {
              "outlinewidth": 0,
              "ticks": ""
             }
            },
            "type": "scatterternary"
           }
          ],
          "surface": [
           {
            "colorbar": {
             "outlinewidth": 0,
             "ticks": ""
            },
            "colorscale": [
             [
              0,
              "#0d0887"
             ],
             [
              0.1111111111111111,
              "#46039f"
             ],
             [
              0.2222222222222222,
              "#7201a8"
             ],
             [
              0.3333333333333333,
              "#9c179e"
             ],
             [
              0.4444444444444444,
              "#bd3786"
             ],
             [
              0.5555555555555556,
              "#d8576b"
             ],
             [
              0.6666666666666666,
              "#ed7953"
             ],
             [
              0.7777777777777778,
              "#fb9f3a"
             ],
             [
              0.8888888888888888,
              "#fdca26"
             ],
             [
              1,
              "#f0f921"
             ]
            ],
            "type": "surface"
           }
          ],
          "table": [
           {
            "cells": {
             "fill": {
              "color": "#EBF0F8"
             },
             "line": {
              "color": "white"
             }
            },
            "header": {
             "fill": {
              "color": "#C8D4E3"
             },
             "line": {
              "color": "white"
             }
            },
            "type": "table"
           }
          ]
         },
         "layout": {
          "annotationdefaults": {
           "arrowcolor": "#2a3f5f",
           "arrowhead": 0,
           "arrowwidth": 1
          },
          "autotypenumbers": "strict",
          "coloraxis": {
           "colorbar": {
            "outlinewidth": 0,
            "ticks": ""
           }
          },
          "colorscale": {
           "diverging": [
            [
             0,
             "#8e0152"
            ],
            [
             0.1,
             "#c51b7d"
            ],
            [
             0.2,
             "#de77ae"
            ],
            [
             0.3,
             "#f1b6da"
            ],
            [
             0.4,
             "#fde0ef"
            ],
            [
             0.5,
             "#f7f7f7"
            ],
            [
             0.6,
             "#e6f5d0"
            ],
            [
             0.7,
             "#b8e186"
            ],
            [
             0.8,
             "#7fbc41"
            ],
            [
             0.9,
             "#4d9221"
            ],
            [
             1,
             "#276419"
            ]
           ],
           "sequential": [
            [
             0,
             "#0d0887"
            ],
            [
             0.1111111111111111,
             "#46039f"
            ],
            [
             0.2222222222222222,
             "#7201a8"
            ],
            [
             0.3333333333333333,
             "#9c179e"
            ],
            [
             0.4444444444444444,
             "#bd3786"
            ],
            [
             0.5555555555555556,
             "#d8576b"
            ],
            [
             0.6666666666666666,
             "#ed7953"
            ],
            [
             0.7777777777777778,
             "#fb9f3a"
            ],
            [
             0.8888888888888888,
             "#fdca26"
            ],
            [
             1,
             "#f0f921"
            ]
           ],
           "sequentialminus": [
            [
             0,
             "#0d0887"
            ],
            [
             0.1111111111111111,
             "#46039f"
            ],
            [
             0.2222222222222222,
             "#7201a8"
            ],
            [
             0.3333333333333333,
             "#9c179e"
            ],
            [
             0.4444444444444444,
             "#bd3786"
            ],
            [
             0.5555555555555556,
             "#d8576b"
            ],
            [
             0.6666666666666666,
             "#ed7953"
            ],
            [
             0.7777777777777778,
             "#fb9f3a"
            ],
            [
             0.8888888888888888,
             "#fdca26"
            ],
            [
             1,
             "#f0f921"
            ]
           ]
          },
          "colorway": [
           "#636efa",
           "#EF553B",
           "#00cc96",
           "#ab63fa",
           "#FFA15A",
           "#19d3f3",
           "#FF6692",
           "#B6E880",
           "#FF97FF",
           "#FECB52"
          ],
          "font": {
           "color": "#2a3f5f"
          },
          "geo": {
           "bgcolor": "white",
           "lakecolor": "white",
           "landcolor": "#E5ECF6",
           "showlakes": true,
           "showland": true,
           "subunitcolor": "white"
          },
          "hoverlabel": {
           "align": "left"
          },
          "hovermode": "closest",
          "mapbox": {
           "style": "light"
          },
          "paper_bgcolor": "white",
          "plot_bgcolor": "#E5ECF6",
          "polar": {
           "angularaxis": {
            "gridcolor": "white",
            "linecolor": "white",
            "ticks": ""
           },
           "bgcolor": "#E5ECF6",
           "radialaxis": {
            "gridcolor": "white",
            "linecolor": "white",
            "ticks": ""
           }
          },
          "scene": {
           "xaxis": {
            "backgroundcolor": "#E5ECF6",
            "gridcolor": "white",
            "gridwidth": 2,
            "linecolor": "white",
            "showbackground": true,
            "ticks": "",
            "zerolinecolor": "white"
           },
           "yaxis": {
            "backgroundcolor": "#E5ECF6",
            "gridcolor": "white",
            "gridwidth": 2,
            "linecolor": "white",
            "showbackground": true,
            "ticks": "",
            "zerolinecolor": "white"
           },
           "zaxis": {
            "backgroundcolor": "#E5ECF6",
            "gridcolor": "white",
            "gridwidth": 2,
            "linecolor": "white",
            "showbackground": true,
            "ticks": "",
            "zerolinecolor": "white"
           }
          },
          "shapedefaults": {
           "line": {
            "color": "#2a3f5f"
           }
          },
          "ternary": {
           "aaxis": {
            "gridcolor": "white",
            "linecolor": "white",
            "ticks": ""
           },
           "baxis": {
            "gridcolor": "white",
            "linecolor": "white",
            "ticks": ""
           },
           "bgcolor": "#E5ECF6",
           "caxis": {
            "gridcolor": "white",
            "linecolor": "white",
            "ticks": ""
           }
          },
          "title": {
           "x": 0.05
          },
          "xaxis": {
           "automargin": true,
           "gridcolor": "white",
           "linecolor": "white",
           "ticks": "",
           "title": {
            "standoff": 15
           },
           "zerolinecolor": "white",
           "zerolinewidth": 2
          },
          "yaxis": {
           "automargin": true,
           "gridcolor": "white",
           "linecolor": "white",
           "ticks": "",
           "title": {
            "standoff": 15
           },
           "zerolinecolor": "white",
           "zerolinewidth": 2
          }
         }
        },
        "title": {
         "text": "SCA90 vs Take-on Dependency Ratio by Position and Age"
        },
        "xaxis": {
         "anchor": "y",
         "domain": [
          0,
          1
         ],
         "title": {
          "text": "Take-on Dependency Ratio (TO/SCA)"
         }
        },
        "yaxis": {
         "anchor": "x",
         "domain": [
          0,
          1
         ],
         "title": {
          "text": "SCA per 90"
         }
        }
       }
      }
     },
     "metadata": {},
     "output_type": "display_data"
    }
   ],
   "source": [
    "# Interactive scatter plot: SCA90 vs Take-on Dependency\n",
    "fig = px.scatter(\n",
    "    shot_df,\n",
    "    x='TO_SCA_ratio',\n",
    "    y='SCA90',\n",
    "    color='Pos',\n",
    "    size='Age',\n",
    "    hover_data=['Player', 'SCA', 'TO', 'SCA90', 'TO_SCA_ratio', 'Age', 'Pos'],\n",
    "    labels={'TO_SCA_ratio': 'Take-on Dependency Ratio (TO/SCA)', 'SCA90': 'SCA per 90'},\n",
    "    title='SCA90 vs Take-on Dependency Ratio by Position and Age',\n",
    "    height=600\n",
    ")\n",
    "fig.show()"
   ]
  },
  {
   "cell_type": "code",
   "execution_count": 439,
   "id": "43a30f6f",
   "metadata": {},
   "outputs": [
    {
     "data": {
      "image/png": "[encoded data removed]",
      "text/plain": [
       "<Figure size 600x400 with 2 Axes>"
      ]
     },
     "metadata": {},
     "output_type": "display_data"
    }
   ],
   "source": [
    "# Correlation analysis between SCA90, TO_SCA_ratio, Age, and position (encoded numerically)\n",
    "corr_df = shot_df.copy()\n",
    "corr_df['Pos_code'] = LabelEncoder().fit_transform(corr_df['Pos'])\n",
    "corr = corr_df[['SCA90', 'TO_SCA_ratio', 'Age', 'Pos_code']].corr()\n",
    "\n",
    "plt.figure(figsize=(6,4))\n",
    "sns.heatmap(corr, annot=True, cmap='coolwarm', fmt='.2f')\n",
    "plt.title('Correlation Heatmap: SCA90, Take-on Dependency, Age, Position')\n",
    "plt.show()"
   ]
  },
  {
   "cell_type": "code",
   "execution_count": 440,
   "id": "4b7c803b",
   "metadata": {},
   "outputs": [
    {
     "data": {
      "application/vnd.microsoft.datawrangler.viewer.v0+json": {
       "columns": [
        {
         "name": "index",
         "rawType": "int64",
         "type": "integer"
        },
        {
         "name": "Player",
         "rawType": "object",
         "type": "string"
        },
        {
         "name": "Pos",
         "rawType": "object",
         "type": "string"
        },
        {
         "name": "Age",
         "rawType": "float64",
         "type": "float"
        },
        {
         "name": "SCA90",
         "rawType": "float64",
         "type": "float"
        },
        {
         "name": "TO_SCA_ratio",
         "rawType": "float64",
         "type": "float"
        },
        {
         "name": "efficiency_score",
         "rawType": "float64",
         "type": "float"
        },
        {
         "name": "efficiency_rank",
         "rawType": "float64",
         "type": "float"
        }
       ],
       "ref": "06c1bee3-590e-46ab-af79-06a236441594",
       "rows": [
        [
         "64",
         "Kevin De Bruyne",
         "MF,FW",
         "33.0",
         "5.99",
         "0.02654867256637168",
         "0.9893805309734514",
         "1.0"
        ],
        [
         "72",
         "Jack Grealish",
         "FW,MF",
         "29.0",
         "5.86",
         "0.06382978723404255",
         "0.9614463822683195",
         "2.0"
        ],
        [
         "36",
         "Bukayo Saka",
         "FW,MF",
         "23.0",
         "5.93",
         "0.09821428571428571",
         "0.9547042690197949",
         "3.0"
        ],
        [
         "111",
         "Cole Palmer",
         "MF",
         "23.0",
         "5.81",
         "0.08",
         "0.9499699499165275",
         "4.0"
        ],
        [
         "441",
         "Bruno Fernandes",
         "MF",
         "30.0",
         "5.56",
         "0.027624309392265192",
         "0.9458784899325763",
         "5.0"
        ],
        [
         "277",
         "Reiss Nelson",
         "FW",
         "25.0",
         "5.73",
         "0.0967741935483871",
         "0.9352469169045183",
         "6.0"
        ],
        [
         "62",
         "Sávio",
         "FW,MF",
         "21.0",
         "5.71",
         "0.13513513513513514",
         "0.9178992013716555",
         "7.0"
        ],
        [
         "162",
         "Marcus Rashford",
         "FW",
         "27.0",
         "5.49",
         "0.1111111111111111",
         "0.9054720831014653",
         "8.0"
        ],
        [
         "279",
         "Tom Cairney",
         "MF",
         "34.0",
         "5.0",
         "0.0",
         "0.9008347245409015",
         "9.0"
        ],
        [
         "19",
         "Harvey Elliott",
         "MF,FW",
         "22.0",
         "5.18",
         "0.047619047619047616",
         "0.8998171555767548",
         "10.0"
        ],
        [
         "215",
         "Brajan Gruda",
         "MF,FW",
         "20.0",
         "5.14",
         "0.08571428571428572",
         "0.8805723825423324",
         "11.0"
        ],
        [
         "269",
         "Andreas Pereira",
         "MF",
         "29.0",
         "4.75",
         "0.0",
         "0.8757929883138564",
         "12.0"
        ],
        [
         "33",
         "Martin Ødegaard",
         "MF",
         "26.0",
         "4.8",
         "0.016260162601626018",
         "0.8742972705186149",
         "13.0"
        ],
        [
         "476",
         "Son Heung-min",
         "FW",
         "32.0",
         "4.99",
         "0.08547008547008547",
         "0.8656450209037856",
         "14.0"
        ],
        [
         "114",
         "Enzo Fernández",
         "MF",
         "24.0",
         "4.6",
         "0.0136986301369863",
         "0.8552884945228347",
         "15.0"
        ],
        [
         "456",
         "Christian Eriksen",
         "MF",
         "33.0",
         "4.51",
         "0.0",
         "0.8517529215358932",
         "16.0"
        ],
        [
         "481",
         "James Maddison",
         "MF",
         "28.0",
         "4.73",
         "0.07368421052631578",
         "0.8443159652051666",
         "17.0"
        ],
        [
         "325",
         "Eberechi Eze",
         "MF,FW",
         "26.0",
         "4.74",
         "0.08270676691729323",
         "0.8417086120978574",
         "18.0"
        ],
        [
         "362",
         "Dwight McNeil",
         "MF,FW",
         "25.0",
         "4.71",
         "0.08450704225352113",
         "0.8379834936161208",
         "19.0"
        ],
        [
         "474",
         "Dejan Kulusevski",
         "MF,FW",
         "25.0",
         "4.82",
         "0.1171875",
         "0.835929674457429",
         "20.0"
        ]
       ],
       "shape": {
        "columns": 7,
        "rows": 20
       }
      },
      "text/html": [
       "<div>\n",
       "<style scoped>\n",
       "    .dataframe tbody tr th:only-of-type {\n",
       "        vertical-align: middle;\n",
       "    }\n",
       "\n",
       "    .dataframe tbody tr th {\n",
       "        vertical-align: top;\n",
       "    }\n",
       "\n",
       "    .dataframe thead th {\n",
       "        text-align: right;\n",
       "    }\n",
       "</style>\n",
       "<table border=\"1\" class=\"dataframe\">\n",
       "  <thead>\n",
       "    <tr style=\"text-align: right;\">\n",
       "      <th></th>\n",
       "      <th>Player</th>\n",
       "      <th>Pos</th>\n",
       "      <th>Age</th>\n",
       "      <th>SCA90</th>\n",
       "      <th>TO_SCA_ratio</th>\n",
       "      <th>efficiency_score</th>\n",
       "      <th>efficiency_rank</th>\n",
       "    </tr>\n",
       "  </thead>\n",
       "  <tbody>\n",
       "    <tr>\n",
       "      <th>64</th>\n",
       "      <td>Kevin De Bruyne</td>\n",
       "      <td>MF,FW</td>\n",
       "      <td>33.0</td>\n",
       "      <td>5.99</td>\n",
       "      <td>0.026549</td>\n",
       "      <td>0.989381</td>\n",
       "      <td>1.0</td>\n",
       "    </tr>\n",
       "    <tr>\n",
       "      <th>72</th>\n",
       "      <td>Jack Grealish</td>\n",
       "      <td>FW,MF</td>\n",
       "      <td>29.0</td>\n",
       "      <td>5.86</td>\n",
       "      <td>0.063830</td>\n",
       "      <td>0.961446</td>\n",
       "      <td>2.0</td>\n",
       "    </tr>\n",
       "    <tr>\n",
       "      <th>36</th>\n",
       "      <td>Bukayo Saka</td>\n",
       "      <td>FW,MF</td>\n",
       "      <td>23.0</td>\n",
       "      <td>5.93</td>\n",
       "      <td>0.098214</td>\n",
       "      <td>0.954704</td>\n",
       "      <td>3.0</td>\n",
       "    </tr>\n",
       "    <tr>\n",
       "      <th>111</th>\n",
       "      <td>Cole Palmer</td>\n",
       "      <td>MF</td>\n",
       "      <td>23.0</td>\n",
       "      <td>5.81</td>\n",
       "      <td>0.080000</td>\n",
       "      <td>0.949970</td>\n",
       "      <td>4.0</td>\n",
       "    </tr>\n",
       "    <tr>\n",
       "      <th>441</th>\n",
       "      <td>Bruno Fernandes</td>\n",
       "      <td>MF</td>\n",
       "      <td>30.0</td>\n",
       "      <td>5.56</td>\n",
       "      <td>0.027624</td>\n",
       "      <td>0.945878</td>\n",
       "      <td>5.0</td>\n",
       "    </tr>\n",
       "    <tr>\n",
       "      <th>277</th>\n",
       "      <td>Reiss Nelson</td>\n",
       "      <td>FW</td>\n",
       "      <td>25.0</td>\n",
       "      <td>5.73</td>\n",
       "      <td>0.096774</td>\n",
       "      <td>0.935247</td>\n",
       "      <td>6.0</td>\n",
       "    </tr>\n",
       "    <tr>\n",
       "      <th>62</th>\n",
       "      <td>Sávio</td>\n",
       "      <td>FW,MF</td>\n",
       "      <td>21.0</td>\n",
       "      <td>5.71</td>\n",
       "      <td>0.135135</td>\n",
       "      <td>0.917899</td>\n",
       "      <td>7.0</td>\n",
       "    </tr>\n",
       "    <tr>\n",
       "      <th>162</th>\n",
       "      <td>Marcus Rashford</td>\n",
       "      <td>FW</td>\n",
       "      <td>27.0</td>\n",
       "      <td>5.49</td>\n",
       "      <td>0.111111</td>\n",
       "      <td>0.905472</td>\n",
       "      <td>8.0</td>\n",
       "    </tr>\n",
       "    <tr>\n",
       "      <th>279</th>\n",
       "      <td>Tom Cairney</td>\n",
       "      <td>MF</td>\n",
       "      <td>34.0</td>\n",
       "      <td>5.00</td>\n",
       "      <td>0.000000</td>\n",
       "      <td>0.900835</td>\n",
       "      <td>9.0</td>\n",
       "    </tr>\n",
       "    <tr>\n",
       "      <th>19</th>\n",
       "      <td>Harvey Elliott</td>\n",
       "      <td>MF,FW</td>\n",
       "      <td>22.0</td>\n",
       "      <td>5.18</td>\n",
       "      <td>0.047619</td>\n",
       "      <td>0.899817</td>\n",
       "      <td>10.0</td>\n",
       "    </tr>\n",
       "    <tr>\n",
       "      <th>215</th>\n",
       "      <td>Brajan Gruda</td>\n",
       "      <td>MF,FW</td>\n",
       "      <td>20.0</td>\n",
       "      <td>5.14</td>\n",
       "      <td>0.085714</td>\n",
       "      <td>0.880572</td>\n",
       "      <td>11.0</td>\n",
       "    </tr>\n",
       "    <tr>\n",
       "      <th>269</th>\n",
       "      <td>Andreas Pereira</td>\n",
       "      <td>MF</td>\n",
       "      <td>29.0</td>\n",
       "      <td>4.75</td>\n",
       "      <td>0.000000</td>\n",
       "      <td>0.875793</td>\n",
       "      <td>12.0</td>\n",
       "    </tr>\n",
       "    <tr>\n",
       "      <th>33</th>\n",
       "      <td>Martin Ødegaard</td>\n",
       "      <td>MF</td>\n",
       "      <td>26.0</td>\n",
       "      <td>4.80</td>\n",
       "      <td>0.016260</td>\n",
       "      <td>0.874297</td>\n",
       "      <td>13.0</td>\n",
       "    </tr>\n",
       "    <tr>\n",
       "      <th>476</th>\n",
       "      <td>Son Heung-min</td>\n",
       "      <td>FW</td>\n",
       "      <td>32.0</td>\n",
       "      <td>4.99</td>\n",
       "      <td>0.085470</td>\n",
       "      <td>0.865645</td>\n",
       "      <td>14.0</td>\n",
       "    </tr>\n",
       "    <tr>\n",
       "      <th>114</th>\n",
       "      <td>Enzo Fernández</td>\n",
       "      <td>MF</td>\n",
       "      <td>24.0</td>\n",
       "      <td>4.60</td>\n",
       "      <td>0.013699</td>\n",
       "      <td>0.855288</td>\n",
       "      <td>15.0</td>\n",
       "    </tr>\n",
       "    <tr>\n",
       "      <th>456</th>\n",
       "      <td>Christian Eriksen</td>\n",
       "      <td>MF</td>\n",
       "      <td>33.0</td>\n",
       "      <td>4.51</td>\n",
       "      <td>0.000000</td>\n",
       "      <td>0.851753</td>\n",
       "      <td>16.0</td>\n",
       "    </tr>\n",
       "    <tr>\n",
       "      <th>481</th>\n",
       "      <td>James Maddison</td>\n",
       "      <td>MF</td>\n",
       "      <td>28.0</td>\n",
       "      <td>4.73</td>\n",
       "      <td>0.073684</td>\n",
       "      <td>0.844316</td>\n",
       "      <td>17.0</td>\n",
       "    </tr>\n",
       "    <tr>\n",
       "      <th>325</th>\n",
       "      <td>Eberechi Eze</td>\n",
       "      <td>MF,FW</td>\n",
       "      <td>26.0</td>\n",
       "      <td>4.74</td>\n",
       "      <td>0.082707</td>\n",
       "      <td>0.841709</td>\n",
       "      <td>18.0</td>\n",
       "    </tr>\n",
       "    <tr>\n",
       "      <th>362</th>\n",
       "      <td>Dwight McNeil</td>\n",
       "      <td>MF,FW</td>\n",
       "      <td>25.0</td>\n",
       "      <td>4.71</td>\n",
       "      <td>0.084507</td>\n",
       "      <td>0.837983</td>\n",
       "      <td>19.0</td>\n",
       "    </tr>\n",
       "    <tr>\n",
       "      <th>474</th>\n",
       "      <td>Dejan Kulusevski</td>\n",
       "      <td>MF,FW</td>\n",
       "      <td>25.0</td>\n",
       "      <td>4.82</td>\n",
       "      <td>0.117188</td>\n",
       "      <td>0.835930</td>\n",
       "      <td>20.0</td>\n",
       "    </tr>\n",
       "  </tbody>\n",
       "</table>\n",
       "</div>"
      ],
      "text/plain": [
       "                Player    Pos   Age  SCA90  TO_SCA_ratio  efficiency_score  \\\n",
       "64     Kevin De Bruyne  MF,FW  33.0   5.99      0.026549          0.989381   \n",
       "72       Jack Grealish  FW,MF  29.0   5.86      0.063830          0.961446   \n",
       "36         Bukayo Saka  FW,MF  23.0   5.93      0.098214          0.954704   \n",
       "111        Cole Palmer     MF  23.0   5.81      0.080000          0.949970   \n",
       "441    Bruno Fernandes     MF  30.0   5.56      0.027624          0.945878   \n",
       "277       Reiss Nelson     FW  25.0   5.73      0.096774          0.935247   \n",
       "62               Sávio  FW,MF  21.0   5.71      0.135135          0.917899   \n",
       "162    Marcus Rashford     FW  27.0   5.49      0.111111          0.905472   \n",
       "279        Tom Cairney     MF  34.0   5.00      0.000000          0.900835   \n",
       "19      Harvey Elliott  MF,FW  22.0   5.18      0.047619          0.899817   \n",
       "215       Brajan Gruda  MF,FW  20.0   5.14      0.085714          0.880572   \n",
       "269    Andreas Pereira     MF  29.0   4.75      0.000000          0.875793   \n",
       "33     Martin Ødegaard     MF  26.0   4.80      0.016260          0.874297   \n",
       "476      Son Heung-min     FW  32.0   4.99      0.085470          0.865645   \n",
       "114     Enzo Fernández     MF  24.0   4.60      0.013699          0.855288   \n",
       "456  Christian Eriksen     MF  33.0   4.51      0.000000          0.851753   \n",
       "481     James Maddison     MF  28.0   4.73      0.073684          0.844316   \n",
       "325       Eberechi Eze  MF,FW  26.0   4.74      0.082707          0.841709   \n",
       "362      Dwight McNeil  MF,FW  25.0   4.71      0.084507          0.837983   \n",
       "474   Dejan Kulusevski  MF,FW  25.0   4.82      0.117188          0.835930   \n",
       "\n",
       "     efficiency_rank  \n",
       "64               1.0  \n",
       "72               2.0  \n",
       "36               3.0  \n",
       "111              4.0  \n",
       "441              5.0  \n",
       "277              6.0  \n",
       "62               7.0  \n",
       "162              8.0  \n",
       "279              9.0  \n",
       "19              10.0  \n",
       "215             11.0  \n",
       "269             12.0  \n",
       "33              13.0  \n",
       "476             14.0  \n",
       "114             15.0  \n",
       "456             16.0  \n",
       "481             17.0  \n",
       "325             18.0  \n",
       "362             19.0  \n",
       "474             20.0  "
      ]
     },
     "metadata": {},
     "output_type": "display_data"
    }
   ],
   "source": [
    "# Composite efficiency score: high SCA90, low TO_SCA_ratio, and diversity (1-TO_SCA_ratio)\n",
    "shot_df['efficiency_score'] = (\n",
    "    (shot_df['SCA90'] / shot_df['SCA90'].max()) * 0.6 +\n",
    "    ((1 - shot_df['TO_SCA_ratio']) / (1 - shot_df['TO_SCA_ratio']).max()) * 0.4\n",
    ")\n",
    "# Rank by efficiency\n",
    "shot_df['efficiency_rank'] = shot_df['efficiency_score'].rank(ascending=False, method='min')\n",
    "\n",
    "top20 = shot_df.nsmallest(20, 'efficiency_rank')[['Player', 'Pos', 'Age', 'SCA90', 'TO_SCA_ratio', 'efficiency_score', 'efficiency_rank']]\n",
    "display(top20)"
   ]
  },
  {
   "cell_type": "code",
   "execution_count": 441,
   "id": "703fc13f",
   "metadata": {},
   "outputs": [
    {
     "data": {
      "application/vnd.microsoft.datawrangler.viewer.v0+json": {
       "columns": [
        {
         "name": "index",
         "rawType": "int64",
         "type": "integer"
        },
        {
         "name": "Pos",
         "rawType": "object",
         "type": "string"
        },
        {
         "name": "avg_SCA90",
         "rawType": "float64",
         "type": "float"
        },
        {
         "name": "avg_TO_SCA_ratio",
         "rawType": "float64",
         "type": "float"
        },
        {
         "name": "count",
         "rawType": "int64",
         "type": "integer"
        }
       ],
       "ref": "1aa10605-2d20-44f4-99cb-58a0e806d4f0",
       "rows": [
        [
         "0",
         "DF",
         "4.46",
         "0.09615384615384616",
         "1"
        ],
        [
         "1",
         "FW",
         "5.046",
         "0.112850773669027",
         "5"
        ],
        [
         "2",
         "FW,MF",
         "4.971428571428571",
         "0.10859378158010377",
         "7"
        ],
        [
         "3",
         "MF",
         "4.683076923076923",
         "0.025006214366521926",
         "13"
        ],
        [
         "4",
         "MF,FW",
         "4.915555555555556",
         "0.08084815437182506",
         "9"
        ]
       ],
       "shape": {
        "columns": 4,
        "rows": 5
       }
      },
      "text/html": [
       "<div>\n",
       "<style scoped>\n",
       "    .dataframe tbody tr th:only-of-type {\n",
       "        vertical-align: middle;\n",
       "    }\n",
       "\n",
       "    .dataframe tbody tr th {\n",
       "        vertical-align: top;\n",
       "    }\n",
       "\n",
       "    .dataframe thead th {\n",
       "        text-align: right;\n",
       "    }\n",
       "</style>\n",
       "<table border=\"1\" class=\"dataframe\">\n",
       "  <thead>\n",
       "    <tr style=\"text-align: right;\">\n",
       "      <th></th>\n",
       "      <th>Pos</th>\n",
       "      <th>avg_SCA90</th>\n",
       "      <th>avg_TO_SCA_ratio</th>\n",
       "      <th>count</th>\n",
       "    </tr>\n",
       "  </thead>\n",
       "  <tbody>\n",
       "    <tr>\n",
       "      <th>0</th>\n",
       "      <td>DF</td>\n",
       "      <td>4.460000</td>\n",
       "      <td>0.096154</td>\n",
       "      <td>1</td>\n",
       "    </tr>\n",
       "    <tr>\n",
       "      <th>1</th>\n",
       "      <td>FW</td>\n",
       "      <td>5.046000</td>\n",
       "      <td>0.112851</td>\n",
       "      <td>5</td>\n",
       "    </tr>\n",
       "    <tr>\n",
       "      <th>2</th>\n",
       "      <td>FW,MF</td>\n",
       "      <td>4.971429</td>\n",
       "      <td>0.108594</td>\n",
       "      <td>7</td>\n",
       "    </tr>\n",
       "    <tr>\n",
       "      <th>3</th>\n",
       "      <td>MF</td>\n",
       "      <td>4.683077</td>\n",
       "      <td>0.025006</td>\n",
       "      <td>13</td>\n",
       "    </tr>\n",
       "    <tr>\n",
       "      <th>4</th>\n",
       "      <td>MF,FW</td>\n",
       "      <td>4.915556</td>\n",
       "      <td>0.080848</td>\n",
       "      <td>9</td>\n",
       "    </tr>\n",
       "  </tbody>\n",
       "</table>\n",
       "</div>"
      ],
      "text/plain": [
       "     Pos  avg_SCA90  avg_TO_SCA_ratio  count\n",
       "0     DF   4.460000          0.096154      1\n",
       "1     FW   5.046000          0.112851      5\n",
       "2  FW,MF   4.971429          0.108594      7\n",
       "3     MF   4.683077          0.025006     13\n",
       "4  MF,FW   4.915556          0.080848      9"
      ]
     },
     "metadata": {},
     "output_type": "display_data"
    }
   ],
   "source": [
    "# Statistical summary by position\n",
    "pos_summary = shot_df.groupby('Pos').agg(\n",
    "    avg_SCA90=('SCA90', 'mean'),\n",
    "    avg_TO_SCA_ratio=('TO_SCA_ratio', 'mean'),\n",
    "    count=('Player', 'count')\n",
    ").reset_index()\n",
    "display(pos_summary)"
   ]
  },
  {
   "cell_type": "code",
   "execution_count": 442,
   "id": "9f4c0be7",
   "metadata": {},
   "outputs": [
    {
     "name": "stdout",
     "output_type": "stream",
     "text": [
      "ANOVA F-statistic: 0.6085210604551767 p-value: 0.6596256603393853\n",
      "No significant difference in SCA90 between positions.\n",
      "Kruskal-Wallis H-statistic: 20.69549449007999 p-value: 0.00036386486784985956\n",
      "Significant difference in take-on dependency between positions.\n"
     ]
    }
   ],
   "source": [
    "# Significance testing for SCA90 by position\n",
    "anova = f_oneway(*[group['SCA90'].values for name, group in shot_df.groupby('Pos')])\n",
    "print('ANOVA F-statistic:', anova.statistic, 'p-value:', anova.pvalue)\n",
    "if anova.pvalue < 0.05:\n",
    "    print('Significant difference in SCA90 between positions.')\n",
    "else:\n",
    "    print('No significant difference in SCA90 between positions.')\n",
    "\n",
    "# Significance testing for TO_SCA_ratio by position\n",
    "kruskal_test = kruskal(*[group['TO_SCA_ratio'].values for name, group in shot_df.groupby('Pos')])\n",
    "print('Kruskal-Wallis H-statistic:', kruskal_test.statistic, 'p-value:', kruskal_test.pvalue)\n",
    "if kruskal_test.pvalue < 0.05:\n",
    "    print('Significant difference in take-on dependency between positions.')\n",
    "else:\n",
    "    print('No significant difference in take-on dependency between positions.')"
   ]
  },
  {
   "cell_type": "markdown",
   "id": "bf918dde",
   "metadata": {},
   "source": [
    "# Age-Related Shot and Goal Creation Analysis\n",
    "\n",
    "This section analyzes how shot creation (SCA90) and goal creation (GCA90) output varies with age across different positions. The goal is to identify peak performance ages and understand age-related trends in creative output for football players."
   ]
  },
  {
   "cell_type": "markdown",
   "id": "fa89e143",
   "metadata": {},
   "source": [
    "## Data Preparation and Age Binning\n",
    "\n",
    "- Convert SCA90, GCA90, and Age columns to numeric types for analysis.\n",
    "- Bin players into age groups: 18-21, 22-25, 26-29, 30-33, and 34+.\n",
    "- These bins allow for grouped analysis of performance by age cohort."
   ]
  },
  {
   "cell_type": "code",
   "execution_count": 443,
   "id": "8385d32a",
   "metadata": {},
   "outputs": [],
   "source": [
    "# --- Data Preparation and Binning ---\n",
    "# Ensure numeric types for SCA90, GCA90, Age\n",
    "shot_df['SCA90'] = pd.to_numeric(shot_df['SCA90'], errors='coerce')\n",
    "shot_df['GCA90'] = pd.to_numeric(shot_df['GCA90'], errors='coerce')\n",
    "shot_df['Age'] = pd.to_numeric(shot_df['Age'], errors='coerce')\n",
    "\n",
    "# Define age bins and labels\n",
    "age_bins = [17, 21, 25, 29, 33, 100]\n",
    "age_labels = ['18-21', '22-25', '26-29', '30-33', '34+']\n",
    "shot_df['age_group'] = pd.cut(shot_df['Age'], bins=age_bins, labels=age_labels, right=True)"
   ]
  },
  {
   "cell_type": "markdown",
   "id": "ee2381ad",
   "metadata": {},
   "source": [
    "## Grouped Means by Age Group and Position\n",
    "\n",
    "- Calculate the mean SCA90 and GCA90 for each age group and position.\n",
    "- This provides a summary of creative output by both age and role on the pitch."
   ]
  },
  {
   "cell_type": "code",
   "execution_count": 444,
   "id": "289b3dca",
   "metadata": {},
   "outputs": [
    {
     "name": "stderr",
     "output_type": "stream",
     "text": [
      "C:\\Users\\omara\\AppData\\Local\\Temp\\ipykernel_12300\\433299929.py:2: FutureWarning:\n",
      "\n",
      "The default of observed=False is deprecated and will be changed to True in a future version of pandas. Pass observed=False to retain current behavior or observed=True to adopt the future default and silence this warning.\n",
      "\n"
     ]
    }
   ],
   "source": [
    "# --- Grouped Means by Age Group and Position ---\n",
    "age_pos_summary = shot_df.groupby(['age_group', 'Pos']).agg(\n",
    "    mean_SCA90=('SCA90', 'mean'),\n",
    "    mean_GCA90=('GCA90', 'mean'),\n",
    "    count=('Player', 'count')\n",
    ").reset_index()"
   ]
  },
  {
   "cell_type": "markdown",
   "id": "8d122e02",
   "metadata": {},
   "source": [
    "## Multi-Line Plots: Age Curves by Position\n",
    "\n",
    "- Visualize the mean SCA90 and GCA90 for each position across age groups.\n",
    "- These plots help identify trends and potential peak ages for creative output by position."
   ]
  },
  {
   "cell_type": "code",
   "execution_count": 445,
   "id": "d2af5cfb",
   "metadata": {},
   "outputs": [
    {
     "data": {
      "image/png": "[encoded data removed]",
      "text/plain": [
       "<Figure size 1200x600 with 1 Axes>"
      ]
     },
     "metadata": {},
     "output_type": "display_data"
    },
    {
     "data": {
      "image/png": "[encoded data removed]",
      "text/plain": [
       "<Figure size 1200x600 with 1 Axes>"
      ]
     },
     "metadata": {},
     "output_type": "display_data"
    }
   ],
   "source": [
    "# --- Multi-Line Plots: Age Curves by Position ---\n",
    "plt.figure(figsize=(12, 6))\n",
    "sns.lineplot(data=age_pos_summary, x='age_group', y='mean_SCA90', hue='Pos', marker='o')\n",
    "plt.title('Mean SCA90 by Age Group and Position')\n",
    "plt.ylabel('Mean SCA90')\n",
    "plt.xlabel('Age Group')\n",
    "plt.legend(title='Position')\n",
    "plt.show()\n",
    "\n",
    "plt.figure(figsize=(12, 6))\n",
    "sns.lineplot(data=age_pos_summary, x='age_group', y='mean_GCA90', hue='Pos', marker='o')\n",
    "plt.title('Mean GCA90 by Age Group and Position')\n",
    "plt.ylabel('Mean GCA90')\n",
    "plt.xlabel('Age Group')\n",
    "plt.legend(title='Position')\n",
    "plt.show()"
   ]
  },
  {
   "cell_type": "markdown",
   "id": "686cbda3",
   "metadata": {},
   "source": [
    "## SCA to GCA Conversion Efficiency by Age Group\n",
    "\n",
    "- Calculate the ratio of mean GCA90 to mean SCA90 for each age group and position.\n",
    "- This metric shows how efficiently shot creation actions are converted into goal creation actions as players age."
   ]
  },
  {
   "cell_type": "code",
   "execution_count": 446,
   "id": "713089c6",
   "metadata": {},
   "outputs": [
    {
     "data": {
      "application/vnd.microsoft.datawrangler.viewer.v0+json": {
       "columns": [
        {
         "name": "index",
         "rawType": "int64",
         "type": "integer"
        },
        {
         "name": "age_group",
         "rawType": "category",
         "type": "unknown"
        },
        {
         "name": "Pos",
         "rawType": "object",
         "type": "string"
        },
        {
         "name": "conversion_efficiency",
         "rawType": "float64",
         "type": "float"
        }
       ],
       "ref": "1ccb7de6-b48c-409a-af57-6514794e4bfe",
       "rows": [
        [
         "2",
         "18-21",
         "FW,MF",
         "0.13485113835376533"
        ],
        [
         "3",
         "18-21",
         "MF",
         "0.10173697270471463"
        ],
        [
         "4",
         "18-21",
         "MF,FW",
         "0.14202334630350194"
        ],
        [
         "5",
         "22-25",
         "DF",
         "0.13452914798206278"
        ],
        [
         "6",
         "22-25",
         "FW",
         "0.031413612565445025"
        ],
        [
         "7",
         "22-25",
         "FW,MF",
         "0.146978021978022"
        ],
        [
         "8",
         "22-25",
         "MF",
         "0.10379918588873814"
        ],
        [
         "9",
         "22-25",
         "MF,FW",
         "0.12724709199859005"
        ],
        [
         "11",
         "26-29",
         "FW",
         "0.12287712287712288"
        ],
        [
         "12",
         "26-29",
         "FW,MF",
         "0.09084652443220921"
        ],
        [
         "13",
         "26-29",
         "MF",
         "0.1246301775147929"
        ],
        [
         "14",
         "26-29",
         "MF,FW",
         "0.07594936708860758"
        ],
        [
         "16",
         "30-33",
         "FW",
         "0.1454162276080084"
        ],
        [
         "18",
         "30-33",
         "MF",
         "0.09731876861966236"
        ],
        [
         "19",
         "30-33",
         "MF,FW",
         "0.09682804674457428"
        ],
        [
         "23",
         "34+",
         "MF",
         "0.096"
        ]
       ],
       "shape": {
        "columns": 3,
        "rows": 16
       }
      },
      "text/html": [
       "<div>\n",
       "<style scoped>\n",
       "    .dataframe tbody tr th:only-of-type {\n",
       "        vertical-align: middle;\n",
       "    }\n",
       "\n",
       "    .dataframe tbody tr th {\n",
       "        vertical-align: top;\n",
       "    }\n",
       "\n",
       "    .dataframe thead th {\n",
       "        text-align: right;\n",
       "    }\n",
       "</style>\n",
       "<table border=\"1\" class=\"dataframe\">\n",
       "  <thead>\n",
       "    <tr style=\"text-align: right;\">\n",
       "      <th></th>\n",
       "      <th>age_group</th>\n",
       "      <th>Pos</th>\n",
       "      <th>conversion_efficiency</th>\n",
       "    </tr>\n",
       "  </thead>\n",
       "  <tbody>\n",
       "    <tr>\n",
       "      <th>2</th>\n",
       "      <td>18-21</td>\n",
       "      <td>FW,MF</td>\n",
       "      <td>0.134851</td>\n",
       "    </tr>\n",
       "    <tr>\n",
       "      <th>3</th>\n",
       "      <td>18-21</td>\n",
       "      <td>MF</td>\n",
       "      <td>0.101737</td>\n",
       "    </tr>\n",
       "    <tr>\n",
       "      <th>4</th>\n",
       "      <td>18-21</td>\n",
       "      <td>MF,FW</td>\n",
       "      <td>0.142023</td>\n",
       "    </tr>\n",
       "    <tr>\n",
       "      <th>5</th>\n",
       "      <td>22-25</td>\n",
       "      <td>DF</td>\n",
       "      <td>0.134529</td>\n",
       "    </tr>\n",
       "    <tr>\n",
       "      <th>6</th>\n",
       "      <td>22-25</td>\n",
       "      <td>FW</td>\n",
       "      <td>0.031414</td>\n",
       "    </tr>\n",
       "    <tr>\n",
       "      <th>7</th>\n",
       "      <td>22-25</td>\n",
       "      <td>FW,MF</td>\n",
       "      <td>0.146978</td>\n",
       "    </tr>\n",
       "    <tr>\n",
       "      <th>8</th>\n",
       "      <td>22-25</td>\n",
       "      <td>MF</td>\n",
       "      <td>0.103799</td>\n",
       "    </tr>\n",
       "    <tr>\n",
       "      <th>9</th>\n",
       "      <td>22-25</td>\n",
       "      <td>MF,FW</td>\n",
       "      <td>0.127247</td>\n",
       "    </tr>\n",
       "    <tr>\n",
       "      <th>11</th>\n",
       "      <td>26-29</td>\n",
       "      <td>FW</td>\n",
       "      <td>0.122877</td>\n",
       "    </tr>\n",
       "    <tr>\n",
       "      <th>12</th>\n",
       "      <td>26-29</td>\n",
       "      <td>FW,MF</td>\n",
       "      <td>0.090847</td>\n",
       "    </tr>\n",
       "    <tr>\n",
       "      <th>13</th>\n",
       "      <td>26-29</td>\n",
       "      <td>MF</td>\n",
       "      <td>0.124630</td>\n",
       "    </tr>\n",
       "    <tr>\n",
       "      <th>14</th>\n",
       "      <td>26-29</td>\n",
       "      <td>MF,FW</td>\n",
       "      <td>0.075949</td>\n",
       "    </tr>\n",
       "    <tr>\n",
       "      <th>16</th>\n",
       "      <td>30-33</td>\n",
       "      <td>FW</td>\n",
       "      <td>0.145416</td>\n",
       "    </tr>\n",
       "    <tr>\n",
       "      <th>18</th>\n",
       "      <td>30-33</td>\n",
       "      <td>MF</td>\n",
       "      <td>0.097319</td>\n",
       "    </tr>\n",
       "    <tr>\n",
       "      <th>19</th>\n",
       "      <td>30-33</td>\n",
       "      <td>MF,FW</td>\n",
       "      <td>0.096828</td>\n",
       "    </tr>\n",
       "    <tr>\n",
       "      <th>23</th>\n",
       "      <td>34+</td>\n",
       "      <td>MF</td>\n",
       "      <td>0.096000</td>\n",
       "    </tr>\n",
       "  </tbody>\n",
       "</table>\n",
       "</div>"
      ],
      "text/plain": [
       "   age_group    Pos  conversion_efficiency\n",
       "2      18-21  FW,MF               0.134851\n",
       "3      18-21     MF               0.101737\n",
       "4      18-21  MF,FW               0.142023\n",
       "5      22-25     DF               0.134529\n",
       "6      22-25     FW               0.031414\n",
       "7      22-25  FW,MF               0.146978\n",
       "8      22-25     MF               0.103799\n",
       "9      22-25  MF,FW               0.127247\n",
       "11     26-29     FW               0.122877\n",
       "12     26-29  FW,MF               0.090847\n",
       "13     26-29     MF               0.124630\n",
       "14     26-29  MF,FW               0.075949\n",
       "16     30-33     FW               0.145416\n",
       "18     30-33     MF               0.097319\n",
       "19     30-33  MF,FW               0.096828\n",
       "23       34+     MF               0.096000"
      ]
     },
     "metadata": {},
     "output_type": "display_data"
    }
   ],
   "source": [
    "# --- SCA to GCA Conversion Efficiency by Age Group (Robust, filter out zero/NaN means) ---\n",
    "conv_eff = age_pos_summary.copy()\n",
    "# Filter out rows where mean_SCA90 is zero or NaN to avoid NaN/infinite conversion efficiency\n",
    "conv_eff = conv_eff[conv_eff['mean_SCA90'].notna() & (conv_eff['mean_SCA90'] > 0)]\n",
    "conv_eff['conversion_efficiency'] = conv_eff['mean_GCA90'] / conv_eff['mean_SCA90']\n",
    "display(conv_eff[['age_group', 'Pos', 'conversion_efficiency']])"
   ]
  },
  {
   "cell_type": "markdown",
   "id": "58acffce",
   "metadata": {},
   "source": [
    "## Statistical Testing: Age Effects\n",
    "\n",
    "- Perform ANOVA tests to determine if there are statistically significant differences in SCA90 and GCA90 across age groups.\n",
    "- Significant results indicate that age has a measurable effect on creative output."
   ]
  },
  {
   "cell_type": "code",
   "execution_count": 447,
   "id": "a1346de1",
   "metadata": {},
   "outputs": [
    {
     "name": "stdout",
     "output_type": "stream",
     "text": [
      "SCA90 ANOVA: F = 0.4885980848482452 p = 0.7440115136585874\n",
      "GCA90 ANOVA: F = 0.2348961826892703 p = 0.9164767365036771\n",
      "No significant age effect on SCA90\n",
      "No significant age effect on GCA90\n"
     ]
    },
    {
     "name": "stderr",
     "output_type": "stream",
     "text": [
      "C:\\Users\\omara\\AppData\\Local\\Temp\\ipykernel_12300\\1318204490.py:2: FutureWarning:\n",
      "\n",
      "The default of observed=False is deprecated and will be changed to True in a future version of pandas. Pass observed=False to retain current behavior or observed=True to adopt the future default and silence this warning.\n",
      "\n",
      "C:\\Users\\omara\\AppData\\Local\\Temp\\ipykernel_12300\\1318204490.py:3: FutureWarning:\n",
      "\n",
      "The default of observed=False is deprecated and will be changed to True in a future version of pandas. Pass observed=False to retain current behavior or observed=True to adopt the future default and silence this warning.\n",
      "\n"
     ]
    }
   ],
   "source": [
    "# --- Statistical Testing: Age Effects ---\n",
    "sca90_groups = [group['SCA90'].dropna().values for name, group in shot_df.groupby('age_group')]\n",
    "gca90_groups = [group['GCA90'].dropna().values for name, group in shot_df.groupby('age_group')]\n",
    "sca90_anova = f_oneway(*sca90_groups)\n",
    "gca90_anova = f_oneway(*gca90_groups)\n",
    "print('SCA90 ANOVA: F =', sca90_anova.statistic, 'p =', sca90_anova.pvalue)\n",
    "print('GCA90 ANOVA: F =', gca90_anova.statistic, 'p =', gca90_anova.pvalue)\n",
    "if sca90_anova.pvalue < 0.05:\n",
    "    print('Significant age effect on SCA90')\n",
    "else:\n",
    "    print('No significant age effect on SCA90')\n",
    "if(gca90_anova.pvalue < 0.05):\n",
    "    print('Significant age effect on GCA90')\n",
    "else:\n",
    "    print('No significant age effect on GCA90')"
   ]
  },
  {
   "cell_type": "markdown",
   "id": "ac74c71f",
   "metadata": {},
   "source": [
    "# Unsupervised Clustering: Player Creativity Archetypes (t-SNE Visualization)\n",
    "\n",
    "In this section, we use unsupervised learning to identify player creativity archetypes using t-SNE for visualization instead of PCA. We cluster players based on detailed shot and goal creation breakdowns, and assign each cluster one of three archetypes: Set-piece Specialists, Take-on Creators, or Hybrid Creators."
   ]
  },
  {
   "cell_type": "code",
   "execution_count": 448,
   "id": "ffe3c595",
   "metadata": {},
   "outputs": [],
   "source": [
    "# --- Prepare Data for Clustering ---\n",
    "from sklearn.preprocessing import StandardScaler\n",
    "from sklearn.cluster import KMeans\n",
    "from sklearn.metrics import silhouette_score\n",
    "from sklearn.manifold import TSNE\n",
    "\n",
    "# Define SCA and GCA breakdown columns\n",
    "sca_cols = ['PassLive', 'PassDead', 'TO', 'Sh', 'Fld', 'Def']\n",
    "gca_cols = ['PassLive.1', 'PassDead.1', 'TO.1', 'Sh.1', 'Fld.1', 'Def.1']\n",
    "\n",
    "# Filter out players with missing or zero creative actions across all 12 variables\n",
    "creativity_df = shot_df.dropna(subset=sca_cols + gca_cols)\n",
    "creativity_df = creativity_df[(creativity_df[sca_cols + gca_cols].sum(axis=1) > 0)]\n",
    "\n",
    "# Standardize the 12 creative action variables\n",
    "scaler = StandardScaler()\n",
    "X = scaler.fit_transform(creativity_df[sca_cols + gca_cols])"
   ]
  },
  {
   "cell_type": "markdown",
   "id": "3b045613",
   "metadata": {},
   "source": [
    "## Determining Optimal Number of Clusters\n",
    "\n",
    "We use the elbow method (inertia plot) and silhouette analysis to select the optimal number of clusters for K-means."
   ]
  },
  {
   "cell_type": "code",
   "execution_count": 449,
   "id": "2b4c1a88",
   "metadata": {},
   "outputs": [
    {
     "data": {
      "image/png": "[encoded data removed]",
      "text/plain": [
       "<Figure size 1000x400 with 2 Axes>"
      ]
     },
     "metadata": {},
     "output_type": "display_data"
    },
    {
     "name": "stdout",
     "output_type": "stream",
     "text": [
      "Optimal K (forced): 3\n"
     ]
    }
   ],
   "source": [
    "# --- Elbow and Silhouette Analysis ---\n",
    "inertias = []\n",
    "silhouettes = []\n",
    "K_range = range(2, 9)\n",
    "for k in K_range:\n",
    "    kmeans = KMeans(n_clusters=k, random_state=42, n_init=20)\n",
    "    labels = kmeans.fit_predict(X)\n",
    "    inertias.append(kmeans.inertia_)\n",
    "    silhouettes.append(silhouette_score(X, labels))\n",
    "\n",
    "plt.figure(figsize=(10,4))\n",
    "plt.subplot(1,2,1)\n",
    "plt.plot(K_range, inertias, marker='o')\n",
    "plt.title('Elbow Method: Inertia vs K')\n",
    "plt.xlabel('Number of clusters (K)')\n",
    "plt.ylabel('Inertia')\n",
    "\n",
    "plt.subplot(1,2,2)\n",
    "plt.plot(K_range, silhouettes, marker='o', color='orange')\n",
    "plt.title('Silhouette Score vs K')\n",
    "plt.xlabel('Number of clusters (K)')\n",
    "plt.ylabel('Silhouette Score')\n",
    "plt.tight_layout()\n",
    "plt.show()\n",
    "\n",
    "# Choose K with high silhouette and elbow \"bend\"\n",
    "optimal_k = 3  # Force 3 clusters for 3 archetypes\n",
    "print(f\"Optimal K (forced): {optimal_k}\")"
   ]
  },
  {
   "cell_type": "markdown",
   "id": "955df922",
   "metadata": {},
   "source": [
    "## K-means Clustering and t-SNE Visualization\n",
    "\n",
    "We apply K-means clustering with K=3 and use t-SNE to visualize clusters in 2D space."
   ]
  },
  {
   "cell_type": "code",
   "execution_count": 450,
   "id": "c06baac9",
   "metadata": {},
   "outputs": [
    {
     "data": {
      "application/vnd.plotly.v1+json": {
       "config": {
        "plotlyServerURL": "https://plot.ly"
       },
       "data": [
        {
         "customdata": [
          [
           "Mohamed Salah",
           "FW",
           32
          ],
          [
           "Luis Díaz",
           "FW",
           28
          ],
          [
           "Sávio",
           "FW,MF",
           21
          ],
          [
           "Cole Palmer",
           "MF",
           23
          ],
          [
           "Matheus Cunha",
           "MF,FW",
           25
          ],
          [
           "Amad Diallo",
           "MF,FW",
           22
          ]
         ],
         "hovertemplate": "Cluster=2<br>symbol=2<br>TSNE1=%{x}<br>TSNE2=%{y}<br>Player=%{customdata[0]}<br>Pos=%{customdata[1]}<br>Age=%{customdata[2]}<extra></extra>",
         "legendgroup": "2, 2",
         "marker": {
          "color": "#636efa",
          "line": {
           "color": "DarkSlateGrey",
           "width": 1
          },
          "size": 10,
          "symbol": "circle"
         },
         "mode": "markers",
         "name": "2, 2",
         "orientation": "v",
         "showlegend": true,
         "type": "scatter",
         "x": [
          9.599081039428711,
          9.62437629699707,
          9.544699668884277,
          9.806659698486328,
          9.374405860900879,
          8.998820304870605
         ],
         "xaxis": "x",
         "y": [
          -5.673892974853516,
          -5.062766075134277,
          -5.0005340576171875,
          -5.639338970184326,
          -5.271120071411133,
          -4.810689926147461
         ],
         "yaxis": "y"
        },
        {
         "customdata": [
          [
           "Alexis Mac Allister",
           "MF",
           26
          ],
          [
           "Dominik Szoboszlai",
           "MF",
           24
          ],
          [
           "Martin Ødegaard",
           "MF",
           26
          ],
          [
           "Bukayo Saka",
           "FW,MF",
           23
          ],
          [
           "Phil Foden",
           "MF,FW",
           24
          ],
          [
           "Kevin De Bruyne",
           "MF,FW",
           33
          ],
          [
           "Enzo Fernández",
           "MF",
           24
          ],
          [
           "Andreas Pereira",
           "MF",
           29
          ],
          [
           "Marcus Tavernier",
           "FW,MF",
           26
          ],
          [
           "Eberechi Eze",
           "MF,FW",
           26
          ],
          [
           "Bruno Fernandes",
           "MF",
           30
          ],
          [
           "Son Heung-min",
           "FW",
           32
          ],
          [
           "James Maddison",
           "MF",
           28
          ]
         ],
         "hovertemplate": "Cluster=0<br>symbol=0<br>TSNE1=%{x}<br>TSNE2=%{y}<br>Player=%{customdata[0]}<br>Pos=%{customdata[1]}<br>Age=%{customdata[2]}<extra></extra>",
         "legendgroup": "0, 0",
         "marker": {
          "color": "#EF553B",
          "line": {
           "color": "DarkSlateGrey",
           "width": 1
          },
          "size": 10,
          "symbol": "diamond"
         },
         "mode": "markers",
         "name": "0, 0",
         "orientation": "v",
         "showlegend": true,
         "type": "scatter",
         "x": [
          10.86732006072998,
          10.605178833007812,
          10.55958080291748,
          10.665879249572754,
          10.869582176208496,
          10.60959529876709,
          10.778721809387207,
          11.28745174407959,
          10.856690406799316,
          10.253430366516113,
          10.684106826782227,
          10.015000343322754,
          10.220003128051758
         ],
         "xaxis": "x",
         "y": [
          -5.0518693923950195,
          -5.20478630065918,
          -4.8872246742248535,
          -5.39222526550293,
          -4.695594310760498,
          -4.855556964874268,
          -5.309558391571045,
          -4.543262004852295,
          -4.8143792152404785,
          -5.3106536865234375,
          -5.235929012298584,
          -4.985798358917236,
          -4.887470245361328
         ],
         "yaxis": "y"
        },
        {
         "customdata": [
          [
           "Harvey Elliott",
           "MF,FW",
           22
          ],
          [
           "Jeremy Doku",
           "FW,MF",
           22
          ],
          [
           "Jack Grealish",
           "FW,MF",
           29
          ],
          [
           "Ian Maatsen",
           "DF",
           23
          ],
          [
           "Marco Asensio",
           "MF",
           29
          ],
          [
           "Marcus Rashford",
           "FW",
           27
          ],
          [
           "Brajan Gruda",
           "MF,FW",
           20
          ],
          [
           "Mathias Jensen",
           "MF",
           29
          ],
          [
           "Adama Traoré",
           "FW,MF",
           29
          ],
          [
           "Reiss Nelson",
           "FW",
           25
          ],
          [
           "Tom Cairney",
           "MF",
           34
          ],
          [
           "Adam Wharton",
           "MF",
           20
          ],
          [
           "Dwight McNeil",
           "MF,FW",
           25
          ],
          [
           "Crysencio Summerville",
           "FW,MF",
           23
          ],
          [
           "Christian Eriksen",
           "MF",
           33
          ],
          [
           "Dejan Kulusevski",
           "MF,FW",
           25
          ]
         ],
         "hovertemplate": "Cluster=1<br>symbol=1<br>TSNE1=%{x}<br>TSNE2=%{y}<br>Player=%{customdata[0]}<br>Pos=%{customdata[1]}<br>Age=%{customdata[2]}<extra></extra>",
         "legendgroup": "1, 1",
         "marker": {
          "color": "#00cc96",
          "line": {
           "color": "DarkSlateGrey",
           "width": 1
          },
          "size": 10,
          "symbol": "square"
         },
         "mode": "markers",
         "name": "1, 1",
         "orientation": "v",
         "showlegend": true,
         "type": "scatter",
         "x": [
          10.366082191467285,
          9.800210952758789,
          10.1268310546875,
          10.106145858764648,
          10.43539810180664,
          10.417618751525879,
          10.401939392089844,
          10.617234230041504,
          9.954736709594727,
          10.28619384765625,
          10.349568367004395,
          10.63399600982666,
          10.407629013061523,
          10.148580551147461,
          10.679727554321289,
          10.051044464111328
         ],
         "xaxis": "x",
         "y": [
          -3.859978437423706,
          -4.4496378898620605,
          -3.9292807579040527,
          -4.207616806030273,
          -4.069038391113281,
          -4.028839588165283,
          -4.048587322235107,
          -4.041721343994141,
          -4.421648025512695,
          -3.9135799407958984,
          -3.9223287105560303,
          -4.217553615570068,
          -4.397695064544678,
          -3.978341579437256,
          -4.2042412757873535,
          -4.657172679901123
         ],
         "yaxis": "y"
        }
       ],
       "layout": {
        "legend": {
         "title": {
          "text": "Cluster, symbol"
         },
         "tracegroupgap": 0
        },
        "template": {
         "data": {
          "bar": [
           {
            "error_x": {
             "color": "#2a3f5f"
            },
            "error_y": {
             "color": "#2a3f5f"
            },
            "marker": {
             "line": {
              "color": "#E5ECF6",
              "width": 0.5
             },
             "pattern": {
              "fillmode": "overlay",
              "size": 10,
              "solidity": 0.2
             }
            },
            "type": "bar"
           }
          ],
          "barpolar": [
           {
            "marker": {
             "line": {
              "color": "#E5ECF6",
              "width": 0.5
             },
             "pattern": {
              "fillmode": "overlay",
              "size": 10,
              "solidity": 0.2
             }
            },
            "type": "barpolar"
           }
          ],
          "carpet": [
           {
            "aaxis": {
             "endlinecolor": "#2a3f5f",
             "gridcolor": "white",
             "linecolor": "white",
             "minorgridcolor": "white",
             "startlinecolor": "#2a3f5f"
            },
            "baxis": {
             "endlinecolor": "#2a3f5f",
             "gridcolor": "white",
             "linecolor": "white",
             "minorgridcolor": "white",
             "startlinecolor": "#2a3f5f"
            },
            "type": "carpet"
           }
          ],
          "choropleth": [
           {
            "colorbar": {
             "outlinewidth": 0,
             "ticks": ""
            },
            "type": "choropleth"
           }
          ],
          "contour": [
           {
            "colorbar": {
             "outlinewidth": 0,
             "ticks": ""
            },
            "colorscale": [
             [
              0,
              "#0d0887"
             ],
             [
              0.1111111111111111,
              "#46039f"
             ],
             [
              0.2222222222222222,
              "#7201a8"
             ],
             [
              0.3333333333333333,
              "#9c179e"
             ],
             [
              0.4444444444444444,
              "#bd3786"
             ],
             [
              0.5555555555555556,
              "#d8576b"
             ],
             [
              0.6666666666666666,
              "#ed7953"
             ],
             [
              0.7777777777777778,
              "#fb9f3a"
             ],
             [
              0.8888888888888888,
              "#fdca26"
             ],
             [
              1,
              "#f0f921"
             ]
            ],
            "type": "contour"
           }
          ],
          "contourcarpet": [
           {
            "colorbar": {
             "outlinewidth": 0,
             "ticks": ""
            },
            "type": "contourcarpet"
           }
          ],
          "heatmap": [
           {
            "colorbar": {
             "outlinewidth": 0,
             "ticks": ""
            },
            "colorscale": [
             [
              0,
              "#0d0887"
             ],
             [
              0.1111111111111111,
              "#46039f"
             ],
             [
              0.2222222222222222,
              "#7201a8"
             ],
             [
              0.3333333333333333,
              "#9c179e"
             ],
             [
              0.4444444444444444,
              "#bd3786"
             ],
             [
              0.5555555555555556,
              "#d8576b"
             ],
             [
              0.6666666666666666,
              "#ed7953"
             ],
             [
              0.7777777777777778,
              "#fb9f3a"
             ],
             [
              0.8888888888888888,
              "#fdca26"
             ],
             [
              1,
              "#f0f921"
             ]
            ],
            "type": "heatmap"
           }
          ],
          "heatmapgl": [
           {
            "colorbar": {
             "outlinewidth": 0,
             "ticks": ""
            },
            "colorscale": [
             [
              0,
              "#0d0887"
             ],
             [
              0.1111111111111111,
              "#46039f"
             ],
             [
              0.2222222222222222,
              "#7201a8"
             ],
             [
              0.3333333333333333,
              "#9c179e"
             ],
             [
              0.4444444444444444,
              "#bd3786"
             ],
             [
              0.5555555555555556,
              "#d8576b"
             ],
             [
              0.6666666666666666,
              "#ed7953"
             ],
             [
              0.7777777777777778,
              "#fb9f3a"
             ],
             [
              0.8888888888888888,
              "#fdca26"
             ],
             [
              1,
              "#f0f921"
             ]
            ],
            "type": "heatmapgl"
           }
          ],
          "histogram": [
           {
            "marker": {
             "pattern": {
              "fillmode": "overlay",
              "size": 10,
              "solidity": 0.2
             }
            },
            "type": "histogram"
           }
          ],
          "histogram2d": [
           {
            "colorbar": {
             "outlinewidth": 0,
             "ticks": ""
            },
            "colorscale": [
             [
              0,
              "#0d0887"
             ],
             [
              0.1111111111111111,
              "#46039f"
             ],
             [
              0.2222222222222222,
              "#7201a8"
             ],
             [
              0.3333333333333333,
              "#9c179e"
             ],
             [
              0.4444444444444444,
              "#bd3786"
             ],
             [
              0.5555555555555556,
              "#d8576b"
             ],
             [
              0.6666666666666666,
              "#ed7953"
             ],
             [
              0.7777777777777778,
              "#fb9f3a"
             ],
             [
              0.8888888888888888,
              "#fdca26"
             ],
             [
              1,
              "#f0f921"
             ]
            ],
            "type": "histogram2d"
           }
          ],
          "histogram2dcontour": [
           {
            "colorbar": {
             "outlinewidth": 0,
             "ticks": ""
            },
            "colorscale": [
             [
              0,
              "#0d0887"
             ],
             [
              0.1111111111111111,
              "#46039f"
             ],
             [
              0.2222222222222222,
              "#7201a8"
             ],
             [
              0.3333333333333333,
              "#9c179e"
             ],
             [
              0.4444444444444444,
              "#bd3786"
             ],
             [
              0.5555555555555556,
              "#d8576b"
             ],
             [
              0.6666666666666666,
              "#ed7953"
             ],
             [
              0.7777777777777778,
              "#fb9f3a"
             ],
             [
              0.8888888888888888,
              "#fdca26"
             ],
             [
              1,
              "#f0f921"
             ]
            ],
            "type": "histogram2dcontour"
           }
          ],
          "mesh3d": [
           {
            "colorbar": {
             "outlinewidth": 0,
             "ticks": ""
            },
            "type": "mesh3d"
           }
          ],
          "parcoords": [
           {
            "line": {
             "colorbar": {
              "outlinewidth": 0,
              "ticks": ""
             }
            },
            "type": "parcoords"
           }
          ],
          "pie": [
           {
            "automargin": true,
            "type": "pie"
           }
          ],
          "scatter": [
           {
            "fillpattern": {
             "fillmode": "overlay",
             "size": 10,
             "solidity": 0.2
            },
            "type": "scatter"
           }
          ],
          "scatter3d": [
           {
            "line": {
             "colorbar": {
              "outlinewidth": 0,
              "ticks": ""
             }
            },
            "marker": {
             "colorbar": {
              "outlinewidth": 0,
              "ticks": ""
             }
            },
            "type": "scatter3d"
           }
          ],
          "scattercarpet": [
           {
            "marker": {
             "colorbar": {
              "outlinewidth": 0,
              "ticks": ""
             }
            },
            "type": "scattercarpet"
           }
          ],
          "scattergeo": [
           {
            "marker": {
             "colorbar": {
              "outlinewidth": 0,
              "ticks": ""
             }
            },
            "type": "scattergeo"
           }
          ],
          "scattergl": [
           {
            "marker": {
             "colorbar": {
              "outlinewidth": 0,
              "ticks": ""
             }
            },
            "type": "scattergl"
           }
          ],
          "scattermapbox": [
           {
            "marker": {
             "colorbar": {
              "outlinewidth": 0,
              "ticks": ""
             }
            },
            "type": "scattermapbox"
           }
          ],
          "scatterpolar": [
           {
            "marker": {
             "colorbar": {
              "outlinewidth": 0,
              "ticks": ""
             }
            },
            "type": "scatterpolar"
           }
          ],
          "scatterpolargl": [
           {
            "marker": {
             "colorbar": {
              "outlinewidth": 0,
              "ticks": ""
             }
            },
            "type": "scatterpolargl"
           }
          ],
          "scatterternary": [
           {
            "marker": {
             "colorbar": {
              "outlinewidth": 0,
              "ticks": ""
             }
            },
            "type": "scatterternary"
           }
          ],
          "surface": [
           {
            "colorbar": {
             "outlinewidth": 0,
             "ticks": ""
            },
            "colorscale": [
             [
              0,
              "#0d0887"
             ],
             [
              0.1111111111111111,
              "#46039f"
             ],
             [
              0.2222222222222222,
              "#7201a8"
             ],
             [
              0.3333333333333333,
              "#9c179e"
             ],
             [
              0.4444444444444444,
              "#bd3786"
             ],
             [
              0.5555555555555556,
              "#d8576b"
             ],
             [
              0.6666666666666666,
              "#ed7953"
             ],
             [
              0.7777777777777778,
              "#fb9f3a"
             ],
             [
              0.8888888888888888,
              "#fdca26"
             ],
             [
              1,
              "#f0f921"
             ]
            ],
            "type": "surface"
           }
          ],
          "table": [
           {
            "cells": {
             "fill": {
              "color": "#EBF0F8"
             },
             "line": {
              "color": "white"
             }
            },
            "header": {
             "fill": {
              "color": "#C8D4E3"
             },
             "line": {
              "color": "white"
             }
            },
            "type": "table"
           }
          ]
         },
         "layout": {
          "annotationdefaults": {
           "arrowcolor": "#2a3f5f",
           "arrowhead": 0,
           "arrowwidth": 1
          },
          "autotypenumbers": "strict",
          "coloraxis": {
           "colorbar": {
            "outlinewidth": 0,
            "ticks": ""
           }
          },
          "colorscale": {
           "diverging": [
            [
             0,
             "#8e0152"
            ],
            [
             0.1,
             "#c51b7d"
            ],
            [
             0.2,
             "#de77ae"
            ],
            [
             0.3,
             "#f1b6da"
            ],
            [
             0.4,
             "#fde0ef"
            ],
            [
             0.5,
             "#f7f7f7"
            ],
            [
             0.6,
             "#e6f5d0"
            ],
            [
             0.7,
             "#b8e186"
            ],
            [
             0.8,
             "#7fbc41"
            ],
            [
             0.9,
             "#4d9221"
            ],
            [
             1,
             "#276419"
            ]
           ],
           "sequential": [
            [
             0,
             "#0d0887"
            ],
            [
             0.1111111111111111,
             "#46039f"
            ],
            [
             0.2222222222222222,
             "#7201a8"
            ],
            [
             0.3333333333333333,
             "#9c179e"
            ],
            [
             0.4444444444444444,
             "#bd3786"
            ],
            [
             0.5555555555555556,
             "#d8576b"
            ],
            [
             0.6666666666666666,
             "#ed7953"
            ],
            [
             0.7777777777777778,
             "#fb9f3a"
            ],
            [
             0.8888888888888888,
             "#fdca26"
            ],
            [
             1,
             "#f0f921"
            ]
           ],
           "sequentialminus": [
            [
             0,
             "#0d0887"
            ],
            [
             0.1111111111111111,
             "#46039f"
            ],
            [
             0.2222222222222222,
             "#7201a8"
            ],
            [
             0.3333333333333333,
             "#9c179e"
            ],
            [
             0.4444444444444444,
             "#bd3786"
            ],
            [
             0.5555555555555556,
             "#d8576b"
            ],
            [
             0.6666666666666666,
             "#ed7953"
            ],
            [
             0.7777777777777778,
             "#fb9f3a"
            ],
            [
             0.8888888888888888,
             "#fdca26"
            ],
            [
             1,
             "#f0f921"
            ]
           ]
          },
          "colorway": [
           "#636efa",
           "#EF553B",
           "#00cc96",
           "#ab63fa",
           "#FFA15A",
           "#19d3f3",
           "#FF6692",
           "#B6E880",
           "#FF97FF",
           "#FECB52"
          ],
          "font": {
           "color": "#2a3f5f"
          },
          "geo": {
           "bgcolor": "white",
           "lakecolor": "white",
           "landcolor": "#E5ECF6",
           "showlakes": true,
           "showland": true,
           "subunitcolor": "white"
          },
          "hoverlabel": {
           "align": "left"
          },
          "hovermode": "closest",
          "mapbox": {
           "style": "light"
          },
          "paper_bgcolor": "white",
          "plot_bgcolor": "#E5ECF6",
          "polar": {
           "angularaxis": {
            "gridcolor": "white",
            "linecolor": "white",
            "ticks": ""
           },
           "bgcolor": "#E5ECF6",
           "radialaxis": {
            "gridcolor": "white",
            "linecolor": "white",
            "ticks": ""
           }
          },
          "scene": {
           "xaxis": {
            "backgroundcolor": "#E5ECF6",
            "gridcolor": "white",
            "gridwidth": 2,
            "linecolor": "white",
            "showbackground": true,
            "ticks": "",
            "zerolinecolor": "white"
           },
           "yaxis": {
            "backgroundcolor": "#E5ECF6",
            "gridcolor": "white",
            "gridwidth": 2,
            "linecolor": "white",
            "showbackground": true,
            "ticks": "",
            "zerolinecolor": "white"
           },
           "zaxis": {
            "backgroundcolor": "#E5ECF6",
            "gridcolor": "white",
            "gridwidth": 2,
            "linecolor": "white",
            "showbackground": true,
            "ticks": "",
            "zerolinecolor": "white"
           }
          },
          "shapedefaults": {
           "line": {
            "color": "#2a3f5f"
           }
          },
          "ternary": {
           "aaxis": {
            "gridcolor": "white",
            "linecolor": "white",
            "ticks": ""
           },
           "baxis": {
            "gridcolor": "white",
            "linecolor": "white",
            "ticks": ""
           },
           "bgcolor": "#E5ECF6",
           "caxis": {
            "gridcolor": "white",
            "linecolor": "white",
            "ticks": ""
           }
          },
          "title": {
           "x": 0.05
          },
          "xaxis": {
           "automargin": true,
           "gridcolor": "white",
           "linecolor": "white",
           "ticks": "",
           "title": {
            "standoff": 15
           },
           "zerolinecolor": "white",
           "zerolinewidth": 2
          },
          "yaxis": {
           "automargin": true,
           "gridcolor": "white",
           "linecolor": "white",
           "ticks": "",
           "title": {
            "standoff": 15
           },
           "zerolinecolor": "white",
           "zerolinewidth": 2
          }
         }
        },
        "title": {
         "text": "t-SNE Scatter Plot of Player Creativity Clusters (Interactive)"
        },
        "xaxis": {
         "anchor": "y",
         "domain": [
          0,
          1
         ],
         "title": {
          "text": "TSNE1"
         }
        },
        "yaxis": {
         "anchor": "x",
         "domain": [
          0,
          1
         ],
         "title": {
          "text": "TSNE2"
         }
        }
       }
      }
     },
     "metadata": {},
     "output_type": "display_data"
    }
   ],
   "source": [
    "# --- K-means Clustering and t-SNE (Interactive Plot with Player Names) ---\n",
    "kmeans = KMeans(n_clusters=optimal_k, random_state=42, n_init=20)\n",
    "creativity_df['cluster'] = kmeans.fit_predict(X)\n",
    "\n",
    "# t-SNE for 2D visualization\n",
    "X_tsne = TSNE(n_components=2, random_state=42, perplexity=30, n_iter=1000).fit_transform(X)\n",
    "creativity_df['TSNE1'] = X_tsne[:,0]\n",
    "creativity_df['TSNE2'] = X_tsne[:,1]\n",
    "\n",
    "# Interactive plot with player names on hover\n",
    "import plotly.express as px\n",
    "fig = px.scatter(\n",
    "    creativity_df,\n",
    "    x='TSNE1',\n",
    "    y='TSNE2',\n",
    "    color=creativity_df['cluster'].astype(str),\n",
    "    hover_data=['Player', 'Pos', 'Age'],\n",
    "    title='t-SNE Scatter Plot of Player Creativity Clusters (Interactive)',\n",
    "    labels={'color': 'Cluster'},\n",
    "    symbol=creativity_df['cluster'].astype(str)\n",
    ")\n",
    "fig.update_traces(marker=dict(size=10, line=dict(width=1, color='DarkSlateGrey')))\n",
    "fig.show()"
   ]
  },
  {
   "cell_type": "markdown",
   "id": "3e4bca84",
   "metadata": {},
   "source": [
    "## Cluster Profiling: Mean SCA and GCA Breakdown\n",
    "\n",
    "For each cluster, we compute the mean values of the 6 SCA and 6 GCA methods. This reveals the creative signature of each archetype."
   ]
  },
  {
   "cell_type": "code",
   "execution_count": 451,
   "id": "825ec4e8",
   "metadata": {},
   "outputs": [
    {
     "data": {
      "application/vnd.microsoft.datawrangler.viewer.v0+json": {
       "columns": [
        {
         "name": "cluster",
         "rawType": "int32",
         "type": "integer"
        },
        {
         "name": "PassLive",
         "rawType": "float64",
         "type": "float"
        },
        {
         "name": "PassDead",
         "rawType": "float64",
         "type": "float"
        },
        {
         "name": "TO",
         "rawType": "float64",
         "type": "float"
        },
        {
         "name": "Sh",
         "rawType": "float64",
         "type": "float"
        },
        {
         "name": "Fld",
         "rawType": "float64",
         "type": "float"
        },
        {
         "name": "Def",
         "rawType": "float64",
         "type": "float"
        },
        {
         "name": "PassLive.1",
         "rawType": "float64",
         "type": "float"
        },
        {
         "name": "PassDead.1",
         "rawType": "float64",
         "type": "float"
        },
        {
         "name": "TO.1",
         "rawType": "float64",
         "type": "float"
        },
        {
         "name": "Sh.1",
         "rawType": "float64",
         "type": "float"
        },
        {
         "name": "Fld.1",
         "rawType": "float64",
         "type": "float"
        },
        {
         "name": "Def.1",
         "rawType": "float64",
         "type": "float"
        }
       ],
       "ref": "df35bbab-2e75-479b-941f-fbdd45de6c82",
       "rows": [
        [
         "0",
         "80.92",
         "20.15",
         "4.92",
         "6.92",
         "4.23",
         "1.15",
         "9.92",
         "1.92",
         "0.38",
         "1.31",
         "0.38",
         "0.0"
        ],
        [
         "1",
         "36.88",
         "6.25",
         "4.25",
         "1.75",
         "1.38",
         "0.62",
         "4.06",
         "0.62",
         "0.56",
         "0.12",
         "0.0",
         "0.12"
        ],
        [
         "2",
         "92.17",
         "7.83",
         "16.17",
         "10.0",
         "6.83",
         "2.33",
         "11.83",
         "0.0",
         "3.0",
         "0.83",
         "1.0",
         "1.0"
        ]
       ],
       "shape": {
        "columns": 12,
        "rows": 3
       }
      },
      "text/html": [
       "<div>\n",
       "<style scoped>\n",
       "    .dataframe tbody tr th:only-of-type {\n",
       "        vertical-align: middle;\n",
       "    }\n",
       "\n",
       "    .dataframe tbody tr th {\n",
       "        vertical-align: top;\n",
       "    }\n",
       "\n",
       "    .dataframe thead th {\n",
       "        text-align: right;\n",
       "    }\n",
       "</style>\n",
       "<table border=\"1\" class=\"dataframe\">\n",
       "  <thead>\n",
       "    <tr style=\"text-align: right;\">\n",
       "      <th></th>\n",
       "      <th>PassLive</th>\n",
       "      <th>PassDead</th>\n",
       "      <th>TO</th>\n",
       "      <th>Sh</th>\n",
       "      <th>Fld</th>\n",
       "      <th>Def</th>\n",
       "      <th>PassLive.1</th>\n",
       "      <th>PassDead.1</th>\n",
       "      <th>TO.1</th>\n",
       "      <th>Sh.1</th>\n",
       "      <th>Fld.1</th>\n",
       "      <th>Def.1</th>\n",
       "    </tr>\n",
       "    <tr>\n",
       "      <th>cluster</th>\n",
       "      <th></th>\n",
       "      <th></th>\n",
       "      <th></th>\n",
       "      <th></th>\n",
       "      <th></th>\n",
       "      <th></th>\n",
       "      <th></th>\n",
       "      <th></th>\n",
       "      <th></th>\n",
       "      <th></th>\n",
       "      <th></th>\n",
       "      <th></th>\n",
       "    </tr>\n",
       "  </thead>\n",
       "  <tbody>\n",
       "    <tr>\n",
       "      <th>0</th>\n",
       "      <td>80.92</td>\n",
       "      <td>20.15</td>\n",
       "      <td>4.92</td>\n",
       "      <td>6.92</td>\n",
       "      <td>4.23</td>\n",
       "      <td>1.15</td>\n",
       "      <td>9.92</td>\n",
       "      <td>1.92</td>\n",
       "      <td>0.38</td>\n",
       "      <td>1.31</td>\n",
       "      <td>0.38</td>\n",
       "      <td>0.00</td>\n",
       "    </tr>\n",
       "    <tr>\n",
       "      <th>1</th>\n",
       "      <td>36.88</td>\n",
       "      <td>6.25</td>\n",
       "      <td>4.25</td>\n",
       "      <td>1.75</td>\n",
       "      <td>1.38</td>\n",
       "      <td>0.62</td>\n",
       "      <td>4.06</td>\n",
       "      <td>0.62</td>\n",
       "      <td>0.56</td>\n",
       "      <td>0.12</td>\n",
       "      <td>0.00</td>\n",
       "      <td>0.12</td>\n",
       "    </tr>\n",
       "    <tr>\n",
       "      <th>2</th>\n",
       "      <td>92.17</td>\n",
       "      <td>7.83</td>\n",
       "      <td>16.17</td>\n",
       "      <td>10.00</td>\n",
       "      <td>6.83</td>\n",
       "      <td>2.33</td>\n",
       "      <td>11.83</td>\n",
       "      <td>0.00</td>\n",
       "      <td>3.00</td>\n",
       "      <td>0.83</td>\n",
       "      <td>1.00</td>\n",
       "      <td>1.00</td>\n",
       "    </tr>\n",
       "  </tbody>\n",
       "</table>\n",
       "</div>"
      ],
      "text/plain": [
       "         PassLive  PassDead     TO     Sh   Fld   Def  PassLive.1  PassDead.1  \\\n",
       "cluster                                                                         \n",
       "0           80.92     20.15   4.92   6.92  4.23  1.15        9.92        1.92   \n",
       "1           36.88      6.25   4.25   1.75  1.38  0.62        4.06        0.62   \n",
       "2           92.17      7.83  16.17  10.00  6.83  2.33       11.83        0.00   \n",
       "\n",
       "         TO.1  Sh.1  Fld.1  Def.1  \n",
       "cluster                            \n",
       "0        0.38  1.31   0.38   0.00  \n",
       "1        0.56  0.12   0.00   0.12  \n",
       "2        3.00  0.83   1.00   1.00  "
      ]
     },
     "metadata": {},
     "output_type": "display_data"
    }
   ],
   "source": [
    "# --- Cluster Profiling Table ---\n",
    "cluster_profiles = creativity_df.groupby('cluster')[sca_cols + gca_cols].mean().round(2)\n",
    "display(cluster_profiles)"
   ]
  },
  {
   "cell_type": "markdown",
   "id": "04c94da8",
   "metadata": {},
   "source": [
    "## Assigning Unique Archetype Names to Clusters\n",
    "\n",
    "We assign each cluster a unique archetype label (Set-piece Specialists, Take-on Creators, Hybrid Creators) based on which cluster has the highest mean for each method."
   ]
  },
  {
   "cell_type": "code",
   "execution_count": 452,
   "id": "e2b11dad",
   "metadata": {},
   "outputs": [
    {
     "data": {
      "application/vnd.microsoft.datawrangler.viewer.v0+json": {
       "columns": [
        {
         "name": "cluster",
         "rawType": "int32",
         "type": "integer"
        },
        {
         "name": "Archetype",
         "rawType": "object",
         "type": "string"
        },
        {
         "name": "PassLive",
         "rawType": "float64",
         "type": "float"
        },
        {
         "name": "PassDead",
         "rawType": "float64",
         "type": "float"
        },
        {
         "name": "TO",
         "rawType": "float64",
         "type": "float"
        },
        {
         "name": "Sh",
         "rawType": "float64",
         "type": "float"
        },
        {
         "name": "Fld",
         "rawType": "float64",
         "type": "float"
        },
        {
         "name": "Def",
         "rawType": "float64",
         "type": "float"
        },
        {
         "name": "PassLive.1",
         "rawType": "float64",
         "type": "float"
        },
        {
         "name": "PassDead.1",
         "rawType": "float64",
         "type": "float"
        },
        {
         "name": "TO.1",
         "rawType": "float64",
         "type": "float"
        },
        {
         "name": "Sh.1",
         "rawType": "float64",
         "type": "float"
        },
        {
         "name": "Fld.1",
         "rawType": "float64",
         "type": "float"
        },
        {
         "name": "Def.1",
         "rawType": "float64",
         "type": "float"
        }
       ],
       "ref": "620e085f-30bb-427d-b35b-99301db42ca0",
       "rows": [
        [
         "0",
         "Set-piece Specialists",
         "80.92",
         "20.15",
         "4.92",
         "6.92",
         "4.23",
         "1.15",
         "9.92",
         "1.92",
         "0.38",
         "1.31",
         "0.38",
         "0.0"
        ],
        [
         "1",
         "Hybrid Creators",
         "36.88",
         "6.25",
         "4.25",
         "1.75",
         "1.38",
         "0.62",
         "4.06",
         "0.62",
         "0.56",
         "0.12",
         "0.0",
         "0.12"
        ],
        [
         "2",
         "Take-on Creators",
         "92.17",
         "7.83",
         "16.17",
         "10.0",
         "6.83",
         "2.33",
         "11.83",
         "0.0",
         "3.0",
         "0.83",
         "1.0",
         "1.0"
        ]
       ],
       "shape": {
        "columns": 13,
        "rows": 3
       }
      },
      "text/html": [
       "<div>\n",
       "<style scoped>\n",
       "    .dataframe tbody tr th:only-of-type {\n",
       "        vertical-align: middle;\n",
       "    }\n",
       "\n",
       "    .dataframe tbody tr th {\n",
       "        vertical-align: top;\n",
       "    }\n",
       "\n",
       "    .dataframe thead th {\n",
       "        text-align: right;\n",
       "    }\n",
       "</style>\n",
       "<table border=\"1\" class=\"dataframe\">\n",
       "  <thead>\n",
       "    <tr style=\"text-align: right;\">\n",
       "      <th></th>\n",
       "      <th>Archetype</th>\n",
       "      <th>PassLive</th>\n",
       "      <th>PassDead</th>\n",
       "      <th>TO</th>\n",
       "      <th>Sh</th>\n",
       "      <th>Fld</th>\n",
       "      <th>Def</th>\n",
       "      <th>PassLive.1</th>\n",
       "      <th>PassDead.1</th>\n",
       "      <th>TO.1</th>\n",
       "      <th>Sh.1</th>\n",
       "      <th>Fld.1</th>\n",
       "      <th>Def.1</th>\n",
       "    </tr>\n",
       "    <tr>\n",
       "      <th>cluster</th>\n",
       "      <th></th>\n",
       "      <th></th>\n",
       "      <th></th>\n",
       "      <th></th>\n",
       "      <th></th>\n",
       "      <th></th>\n",
       "      <th></th>\n",
       "      <th></th>\n",
       "      <th></th>\n",
       "      <th></th>\n",
       "      <th></th>\n",
       "      <th></th>\n",
       "      <th></th>\n",
       "    </tr>\n",
       "  </thead>\n",
       "  <tbody>\n",
       "    <tr>\n",
       "      <th>0</th>\n",
       "      <td>Set-piece Specialists</td>\n",
       "      <td>80.92</td>\n",
       "      <td>20.15</td>\n",
       "      <td>4.92</td>\n",
       "      <td>6.92</td>\n",
       "      <td>4.23</td>\n",
       "      <td>1.15</td>\n",
       "      <td>9.92</td>\n",
       "      <td>1.92</td>\n",
       "      <td>0.38</td>\n",
       "      <td>1.31</td>\n",
       "      <td>0.38</td>\n",
       "      <td>0.00</td>\n",
       "    </tr>\n",
       "    <tr>\n",
       "      <th>1</th>\n",
       "      <td>Hybrid Creators</td>\n",
       "      <td>36.88</td>\n",
       "      <td>6.25</td>\n",
       "      <td>4.25</td>\n",
       "      <td>1.75</td>\n",
       "      <td>1.38</td>\n",
       "      <td>0.62</td>\n",
       "      <td>4.06</td>\n",
       "      <td>0.62</td>\n",
       "      <td>0.56</td>\n",
       "      <td>0.12</td>\n",
       "      <td>0.00</td>\n",
       "      <td>0.12</td>\n",
       "    </tr>\n",
       "    <tr>\n",
       "      <th>2</th>\n",
       "      <td>Take-on Creators</td>\n",
       "      <td>92.17</td>\n",
       "      <td>7.83</td>\n",
       "      <td>16.17</td>\n",
       "      <td>10.00</td>\n",
       "      <td>6.83</td>\n",
       "      <td>2.33</td>\n",
       "      <td>11.83</td>\n",
       "      <td>0.00</td>\n",
       "      <td>3.00</td>\n",
       "      <td>0.83</td>\n",
       "      <td>1.00</td>\n",
       "      <td>1.00</td>\n",
       "    </tr>\n",
       "  </tbody>\n",
       "</table>\n",
       "</div>"
      ],
      "text/plain": [
       "                     Archetype  PassLive  PassDead     TO     Sh   Fld   Def  \\\n",
       "cluster                                                                        \n",
       "0        Set-piece Specialists     80.92     20.15   4.92   6.92  4.23  1.15   \n",
       "1              Hybrid Creators     36.88      6.25   4.25   1.75  1.38  0.62   \n",
       "2             Take-on Creators     92.17      7.83  16.17  10.00  6.83  2.33   \n",
       "\n",
       "         PassLive.1  PassDead.1  TO.1  Sh.1  Fld.1  Def.1  \n",
       "cluster                                                    \n",
       "0              9.92        1.92  0.38  1.31   0.38   0.00  \n",
       "1              4.06        0.62  0.56  0.12   0.00   0.12  \n",
       "2             11.83        0.00  3.00  0.83   1.00   1.00  "
      ]
     },
     "metadata": {},
     "output_type": "display_data"
    }
   ],
   "source": [
    "# --- Assign Unique Archetype Names to Clusters ---\n",
    "# For 3 clusters, assign each a unique archetype based on dominant mean method\n",
    "archetype_labels = ['Set-piece Specialists', 'Take-on Creators', 'Hybrid Creators']\n",
    "\n",
    "# Calculate mean PassDead and TO for each cluster\n",
    "means = cluster_profiles[['PassDead', 'PassDead.1', 'TO', 'TO.1']].copy()\n",
    "means['PassDead_total'] = means['PassDead'] + means['PassDead.1']\n",
    "means['TO_total'] = means['TO'] + means['TO.1']\n",
    "\n",
    "# Assign archetypes: highest PassDead_total -> Set-piece, highest TO_total -> Take-on, remaining -> Hybrid\n",
    "set_piece_idx = means['PassDead_total'].idxmax()\n",
    "takeon_idx = means['TO_total'].idxmax()\n",
    "# Hybrid is the remaining cluster\n",
    "hybrid_idx = list(set(range(optimal_k)) - {set_piece_idx, takeon_idx})[0]\n",
    "\n",
    "cluster_archetype_map = {\n",
    "    set_piece_idx: 'Set-piece Specialists',\n",
    "    takeon_idx: 'Take-on Creators',\n",
    "    hybrid_idx: 'Hybrid Creators'\n",
    "}\n",
    "\n",
    "cluster_profiles['Archetype'] = cluster_profiles.index.map(cluster_archetype_map)\n",
    "creativity_df['Archetype'] = creativity_df['cluster'].map(cluster_archetype_map)\n",
    "display(cluster_profiles[['Archetype'] + sca_cols + gca_cols])"
   ]
  },
  {
   "cell_type": "code",
   "execution_count": 453,
   "id": "b41b73cf",
   "metadata": {},
   "outputs": [
    {
     "name": "stderr",
     "output_type": "stream",
     "text": [
      "C:\\Users\\omara\\AppData\\Local\\Temp\\ipykernel_12300\\3397042616.py:7: SettingWithCopyWarning:\n",
      "\n",
      "\n",
      "A value is trying to be set on a copy of a slice from a DataFrame.\n",
      "Try using .loc[row_indexer,col_indexer] = value instead\n",
      "\n",
      "See the caveats in the documentation: https://pandas.pydata.org/pandas-docs/stable/user_guide/indexing.html#returning-a-view-versus-a-copy\n",
      "\n"
     ]
    },
    {
     "data": {
      "application/vnd.microsoft.datawrangler.viewer.v0+json": {
       "columns": [
        {
         "name": "cluster",
         "rawType": "int32",
         "type": "integer"
        },
        {
         "name": "SCA_total",
         "rawType": "int64",
         "type": "integer"
        },
        {
         "name": "GCA_total",
         "rawType": "int64",
         "type": "integer"
        },
        {
         "name": "conversion_efficiency",
         "rawType": "float64",
         "type": "float"
        },
        {
         "name": "Archetype",
         "rawType": "object",
         "type": "string"
        }
       ],
       "ref": "a30690ec-e7c2-4294-a3d3-776abb9bd1f1",
       "rows": [
        [
         "0",
         "1538",
         "181",
         "0.1176853055916775",
         "Set-piece Specialists"
        ],
        [
         "1",
         "818",
         "88",
         "0.10757946210268948",
         "Hybrid Creators"
        ],
        [
         "2",
         "812",
         "106",
         "0.13054187192118227",
         "Take-on Creators"
        ]
       ],
       "shape": {
        "columns": 4,
        "rows": 3
       }
      },
      "text/html": [
       "<div>\n",
       "<style scoped>\n",
       "    .dataframe tbody tr th:only-of-type {\n",
       "        vertical-align: middle;\n",
       "    }\n",
       "\n",
       "    .dataframe tbody tr th {\n",
       "        vertical-align: top;\n",
       "    }\n",
       "\n",
       "    .dataframe thead th {\n",
       "        text-align: right;\n",
       "    }\n",
       "</style>\n",
       "<table border=\"1\" class=\"dataframe\">\n",
       "  <thead>\n",
       "    <tr style=\"text-align: right;\">\n",
       "      <th></th>\n",
       "      <th>SCA_total</th>\n",
       "      <th>GCA_total</th>\n",
       "      <th>conversion_efficiency</th>\n",
       "      <th>Archetype</th>\n",
       "    </tr>\n",
       "    <tr>\n",
       "      <th>cluster</th>\n",
       "      <th></th>\n",
       "      <th></th>\n",
       "      <th></th>\n",
       "      <th></th>\n",
       "    </tr>\n",
       "  </thead>\n",
       "  <tbody>\n",
       "    <tr>\n",
       "      <th>0</th>\n",
       "      <td>1538</td>\n",
       "      <td>181</td>\n",
       "      <td>0.117685</td>\n",
       "      <td>Set-piece Specialists</td>\n",
       "    </tr>\n",
       "    <tr>\n",
       "      <th>1</th>\n",
       "      <td>818</td>\n",
       "      <td>88</td>\n",
       "      <td>0.107579</td>\n",
       "      <td>Hybrid Creators</td>\n",
       "    </tr>\n",
       "    <tr>\n",
       "      <th>2</th>\n",
       "      <td>812</td>\n",
       "      <td>106</td>\n",
       "      <td>0.130542</td>\n",
       "      <td>Take-on Creators</td>\n",
       "    </tr>\n",
       "  </tbody>\n",
       "</table>\n",
       "</div>"
      ],
      "text/plain": [
       "         SCA_total  GCA_total  conversion_efficiency              Archetype\n",
       "cluster                                                                    \n",
       "0             1538        181               0.117685  Set-piece Specialists\n",
       "1              818         88               0.107579        Hybrid Creators\n",
       "2              812        106               0.130542       Take-on Creators"
      ]
     },
     "metadata": {},
     "output_type": "display_data"
    }
   ],
   "source": [
    "# --- SCA→GCA Conversion Efficiency by Cluster ---\n",
    "cluster_totals = creativity_df.groupby('cluster')[[*sca_cols, *gca_cols]].sum()\n",
    "cluster_totals['SCA_total'] = cluster_totals[sca_cols].sum(axis=1)\n",
    "cluster_totals['GCA_total'] = cluster_totals[gca_cols].sum(axis=1)\n",
    "cluster_totals['conversion_efficiency'] = cluster_totals['GCA_total'] / cluster_totals['SCA_total']\n",
    "conversion_table = cluster_totals[['SCA_total', 'GCA_total', 'conversion_efficiency']]\n",
    "conversion_table['Archetype'] = cluster_profiles['Archetype']\n",
    "display(conversion_table)"
   ]
  },
  {
   "cell_type": "code",
   "execution_count": 454,
   "id": "5f2e1fc3",
   "metadata": {},
   "outputs": [
    {
     "data": {
      "application/vnd.microsoft.datawrangler.viewer.v0+json": {
       "columns": [
        {
         "name": "index",
         "rawType": "int64",
         "type": "integer"
        },
        {
         "name": "Player",
         "rawType": "object",
         "type": "string"
        },
        {
         "name": "Pos",
         "rawType": "object",
         "type": "string"
        },
        {
         "name": "Age",
         "rawType": "float64",
         "type": "float"
        },
        {
         "name": "PassLive",
         "rawType": "int64",
         "type": "integer"
        },
        {
         "name": "PassDead",
         "rawType": "int64",
         "type": "integer"
        },
        {
         "name": "TO",
         "rawType": "int64",
         "type": "integer"
        },
        {
         "name": "Sh",
         "rawType": "int64",
         "type": "integer"
        },
        {
         "name": "Fld",
         "rawType": "int64",
         "type": "integer"
        },
        {
         "name": "Def",
         "rawType": "int64",
         "type": "integer"
        },
        {
         "name": "PassLive.1",
         "rawType": "int64",
         "type": "integer"
        },
        {
         "name": "PassDead.1",
         "rawType": "int64",
         "type": "integer"
        },
        {
         "name": "TO.1",
         "rawType": "int64",
         "type": "integer"
        },
        {
         "name": "Sh.1",
         "rawType": "int64",
         "type": "integer"
        },
        {
         "name": "Fld.1",
         "rawType": "int64",
         "type": "integer"
        },
        {
         "name": "Def.1",
         "rawType": "int64",
         "type": "integer"
        },
        {
         "name": "Archetype",
         "rawType": "object",
         "type": "string"
        }
       ],
       "ref": "9b036420-71d3-403f-a537-4044196250ae",
       "rows": [
        [
         "0",
         "Alexis Mac Allister",
         "MF",
         "26.0",
         "83",
         "24",
         "2",
         "6",
         "2",
         "3",
         "10",
         "3",
         "0",
         "2",
         "0",
         "0",
         "Set-piece Specialists"
        ],
        [
         "1",
         "Dominik Szoboszlai",
         "MF",
         "24.0",
         "88",
         "7",
         "5",
         "13",
         "3",
         "1",
         "12",
         "1",
         "0",
         "3",
         "0",
         "0",
         "Set-piece Specialists"
        ],
        [
         "2",
         "Martin Ødegaard",
         "MF",
         "26.0",
         "101",
         "13",
         "2",
         "5",
         "2",
         "0",
         "14",
         "2",
         "0",
         "1",
         "0",
         "0",
         "Set-piece Specialists"
        ],
        [
         "3",
         "Harvey Elliott",
         "MF,FW",
         "22.0",
         "17",
         "3",
         "1",
         "0",
         "0",
         "0",
         "3",
         "0",
         "0",
         "0",
         "0",
         "0",
         "Hybrid Creators"
        ],
        [
         "4",
         "Jeremy Doku",
         "FW,MF",
         "22.0",
         "56",
         "1",
         "13",
         "1",
         "2",
         "1",
         "10",
         "0",
         "3",
         "0",
         "0",
         "0",
         "Hybrid Creators"
        ],
        [
         "5",
         "Jack Grealish",
         "FW,MF",
         "29.0",
         "41",
         "1",
         "3",
         "0",
         "1",
         "1",
         "1",
         "0",
         "0",
         "0",
         "0",
         "1",
         "Hybrid Creators"
        ],
        [
         "6",
         "Mohamed Salah",
         "FW",
         "32.0",
         "119",
         "2",
         "22",
         "14",
         "5",
         "2",
         "20",
         "0",
         "5",
         "2",
         "0",
         "0",
         "Take-on Creators"
        ],
        [
         "7",
         "Luis Díaz",
         "FW",
         "28.0",
         "88",
         "0",
         "16",
         "9",
         "4",
         "0",
         "13",
         "0",
         "1",
         "0",
         "2",
         "0",
         "Take-on Creators"
        ],
        [
         "8",
         "Sávio",
         "FW,MF",
         "21.0",
         "80",
         "2",
         "15",
         "4",
         "7",
         "3",
         "10",
         "0",
         "2",
         "1",
         "1",
         "1",
         "Take-on Creators"
        ]
       ],
       "shape": {
        "columns": 16,
        "rows": 9
       }
      },
      "text/html": [
       "<div>\n",
       "<style scoped>\n",
       "    .dataframe tbody tr th:only-of-type {\n",
       "        vertical-align: middle;\n",
       "    }\n",
       "\n",
       "    .dataframe tbody tr th {\n",
       "        vertical-align: top;\n",
       "    }\n",
       "\n",
       "    .dataframe thead th {\n",
       "        text-align: right;\n",
       "    }\n",
       "</style>\n",
       "<table border=\"1\" class=\"dataframe\">\n",
       "  <thead>\n",
       "    <tr style=\"text-align: right;\">\n",
       "      <th></th>\n",
       "      <th>Player</th>\n",
       "      <th>Pos</th>\n",
       "      <th>Age</th>\n",
       "      <th>PassLive</th>\n",
       "      <th>PassDead</th>\n",
       "      <th>TO</th>\n",
       "      <th>Sh</th>\n",
       "      <th>Fld</th>\n",
       "      <th>Def</th>\n",
       "      <th>PassLive.1</th>\n",
       "      <th>PassDead.1</th>\n",
       "      <th>TO.1</th>\n",
       "      <th>Sh.1</th>\n",
       "      <th>Fld.1</th>\n",
       "      <th>Def.1</th>\n",
       "      <th>Archetype</th>\n",
       "    </tr>\n",
       "  </thead>\n",
       "  <tbody>\n",
       "    <tr>\n",
       "      <th>0</th>\n",
       "      <td>Alexis Mac Allister</td>\n",
       "      <td>MF</td>\n",
       "      <td>26.0</td>\n",
       "      <td>83</td>\n",
       "      <td>24</td>\n",
       "      <td>2</td>\n",
       "      <td>6</td>\n",
       "      <td>2</td>\n",
       "      <td>3</td>\n",
       "      <td>10</td>\n",
       "      <td>3</td>\n",
       "      <td>0</td>\n",
       "      <td>2</td>\n",
       "      <td>0</td>\n",
       "      <td>0</td>\n",
       "      <td>Set-piece Specialists</td>\n",
       "    </tr>\n",
       "    <tr>\n",
       "      <th>1</th>\n",
       "      <td>Dominik Szoboszlai</td>\n",
       "      <td>MF</td>\n",
       "      <td>24.0</td>\n",
       "      <td>88</td>\n",
       "      <td>7</td>\n",
       "      <td>5</td>\n",
       "      <td>13</td>\n",
       "      <td>3</td>\n",
       "      <td>1</td>\n",
       "      <td>12</td>\n",
       "      <td>1</td>\n",
       "      <td>0</td>\n",
       "      <td>3</td>\n",
       "      <td>0</td>\n",
       "      <td>0</td>\n",
       "      <td>Set-piece Specialists</td>\n",
       "    </tr>\n",
       "    <tr>\n",
       "      <th>2</th>\n",
       "      <td>Martin Ødegaard</td>\n",
       "      <td>MF</td>\n",
       "      <td>26.0</td>\n",
       "      <td>101</td>\n",
       "      <td>13</td>\n",
       "      <td>2</td>\n",
       "      <td>5</td>\n",
       "      <td>2</td>\n",
       "      <td>0</td>\n",
       "      <td>14</td>\n",
       "      <td>2</td>\n",
       "      <td>0</td>\n",
       "      <td>1</td>\n",
       "      <td>0</td>\n",
       "      <td>0</td>\n",
       "      <td>Set-piece Specialists</td>\n",
       "    </tr>\n",
       "    <tr>\n",
       "      <th>3</th>\n",
       "      <td>Harvey Elliott</td>\n",
       "      <td>MF,FW</td>\n",
       "      <td>22.0</td>\n",
       "      <td>17</td>\n",
       "      <td>3</td>\n",
       "      <td>1</td>\n",
       "      <td>0</td>\n",
       "      <td>0</td>\n",
       "      <td>0</td>\n",
       "      <td>3</td>\n",
       "      <td>0</td>\n",
       "      <td>0</td>\n",
       "      <td>0</td>\n",
       "      <td>0</td>\n",
       "      <td>0</td>\n",
       "      <td>Hybrid Creators</td>\n",
       "    </tr>\n",
       "    <tr>\n",
       "      <th>4</th>\n",
       "      <td>Jeremy Doku</td>\n",
       "      <td>FW,MF</td>\n",
       "      <td>22.0</td>\n",
       "      <td>56</td>\n",
       "      <td>1</td>\n",
       "      <td>13</td>\n",
       "      <td>1</td>\n",
       "      <td>2</td>\n",
       "      <td>1</td>\n",
       "      <td>10</td>\n",
       "      <td>0</td>\n",
       "      <td>3</td>\n",
       "      <td>0</td>\n",
       "      <td>0</td>\n",
       "      <td>0</td>\n",
       "      <td>Hybrid Creators</td>\n",
       "    </tr>\n",
       "    <tr>\n",
       "      <th>5</th>\n",
       "      <td>Jack Grealish</td>\n",
       "      <td>FW,MF</td>\n",
       "      <td>29.0</td>\n",
       "      <td>41</td>\n",
       "      <td>1</td>\n",
       "      <td>3</td>\n",
       "      <td>0</td>\n",
       "      <td>1</td>\n",
       "      <td>1</td>\n",
       "      <td>1</td>\n",
       "      <td>0</td>\n",
       "      <td>0</td>\n",
       "      <td>0</td>\n",
       "      <td>0</td>\n",
       "      <td>1</td>\n",
       "      <td>Hybrid Creators</td>\n",
       "    </tr>\n",
       "    <tr>\n",
       "      <th>6</th>\n",
       "      <td>Mohamed Salah</td>\n",
       "      <td>FW</td>\n",
       "      <td>32.0</td>\n",
       "      <td>119</td>\n",
       "      <td>2</td>\n",
       "      <td>22</td>\n",
       "      <td>14</td>\n",
       "      <td>5</td>\n",
       "      <td>2</td>\n",
       "      <td>20</td>\n",
       "      <td>0</td>\n",
       "      <td>5</td>\n",
       "      <td>2</td>\n",
       "      <td>0</td>\n",
       "      <td>0</td>\n",
       "      <td>Take-on Creators</td>\n",
       "    </tr>\n",
       "    <tr>\n",
       "      <th>7</th>\n",
       "      <td>Luis Díaz</td>\n",
       "      <td>FW</td>\n",
       "      <td>28.0</td>\n",
       "      <td>88</td>\n",
       "      <td>0</td>\n",
       "      <td>16</td>\n",
       "      <td>9</td>\n",
       "      <td>4</td>\n",
       "      <td>0</td>\n",
       "      <td>13</td>\n",
       "      <td>0</td>\n",
       "      <td>1</td>\n",
       "      <td>0</td>\n",
       "      <td>2</td>\n",
       "      <td>0</td>\n",
       "      <td>Take-on Creators</td>\n",
       "    </tr>\n",
       "    <tr>\n",
       "      <th>8</th>\n",
       "      <td>Sávio</td>\n",
       "      <td>FW,MF</td>\n",
       "      <td>21.0</td>\n",
       "      <td>80</td>\n",
       "      <td>2</td>\n",
       "      <td>15</td>\n",
       "      <td>4</td>\n",
       "      <td>7</td>\n",
       "      <td>3</td>\n",
       "      <td>10</td>\n",
       "      <td>0</td>\n",
       "      <td>2</td>\n",
       "      <td>1</td>\n",
       "      <td>1</td>\n",
       "      <td>1</td>\n",
       "      <td>Take-on Creators</td>\n",
       "    </tr>\n",
       "  </tbody>\n",
       "</table>\n",
       "</div>"
      ],
      "text/plain": [
       "                Player    Pos   Age  PassLive  PassDead  TO  Sh  Fld  Def  \\\n",
       "0  Alexis Mac Allister     MF  26.0        83        24   2   6    2    3   \n",
       "1   Dominik Szoboszlai     MF  24.0        88         7   5  13    3    1   \n",
       "2      Martin Ødegaard     MF  26.0       101        13   2   5    2    0   \n",
       "3       Harvey Elliott  MF,FW  22.0        17         3   1   0    0    0   \n",
       "4          Jeremy Doku  FW,MF  22.0        56         1  13   1    2    1   \n",
       "5        Jack Grealish  FW,MF  29.0        41         1   3   0    1    1   \n",
       "6        Mohamed Salah     FW  32.0       119         2  22  14    5    2   \n",
       "7            Luis Díaz     FW  28.0        88         0  16   9    4    0   \n",
       "8                Sávio  FW,MF  21.0        80         2  15   4    7    3   \n",
       "\n",
       "   PassLive.1  PassDead.1  TO.1  Sh.1  Fld.1  Def.1              Archetype  \n",
       "0          10           3     0     2      0      0  Set-piece Specialists  \n",
       "1          12           1     0     3      0      0  Set-piece Specialists  \n",
       "2          14           2     0     1      0      0  Set-piece Specialists  \n",
       "3           3           0     0     0      0      0        Hybrid Creators  \n",
       "4          10           0     3     0      0      0        Hybrid Creators  \n",
       "5           1           0     0     0      0      1        Hybrid Creators  \n",
       "6          20           0     5     2      0      0       Take-on Creators  \n",
       "7          13           0     1     0      2      0       Take-on Creators  \n",
       "8          10           0     2     1      1      1       Take-on Creators  "
      ]
     },
     "metadata": {},
     "output_type": "display_data"
    }
   ],
   "source": [
    "# --- Player Examples by Cluster ---\n",
    "example_cols = ['Player', 'Pos', 'Age'] + sca_cols + gca_cols\n",
    "examples = []\n",
    "for i in range(optimal_k):\n",
    "    cluster_players = creativity_df[creativity_df['cluster']==i]\n",
    "    sample = cluster_players[example_cols].head(3)\n",
    "    sample['Archetype'] = cluster_profiles.loc[i, 'Archetype']\n",
    "    examples.append(sample)\n",
    "example_df = pd.concat(examples, ignore_index=True)\n",
    "display(example_df)"
   ]
  }
 ],
 "metadata": {
  "kernelspec": {
   "display_name": "Python 3",
   "language": "python",
   "name": "python3"
  },
  "language_info": {
   "codemirror_mode": {
    "name": "ipython",
    "version": 3
   },
   "file_extension": ".py",
   "mimetype": "text/x-python",
   "name": "python",
   "nbconvert_exporter": "python",
   "pygments_lexer": "ipython3",
   "version": "3.9.0"
  }
 },
 "nbformat": 4,
 "nbformat_minor": 5
}
